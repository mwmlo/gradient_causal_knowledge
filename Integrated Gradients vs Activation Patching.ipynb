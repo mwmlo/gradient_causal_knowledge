{
 "cells": [
  {
   "cell_type": "markdown",
   "metadata": {},
   "source": [
    "# Comparing Integrated Gradients and Activation Patching\n",
    "\n"
   ]
  },
  {
   "cell_type": "code",
   "execution_count": 24,
   "metadata": {},
   "outputs": [],
   "source": [
    "import importlib\n",
    "\n",
    "import torch\n",
    "import torch.nn as nn\n",
    "from torch.utils.data import Dataset, DataLoader\n",
    "from captum.attr import IntegratedGradients\n",
    "import pyvene as pv\n",
    "import numpy as np\n",
    "\n",
    "import toy_transformers.toy_bracket_transformer as tt\n",
    "importlib.reload(tt)\n",
    "from toy_transformers.toy_bracket_transformer import load_toy_bracket_transformer, test_loaded_bracket_model"
   ]
  },
  {
   "cell_type": "code",
   "execution_count": 25,
   "metadata": {},
   "outputs": [
    {
     "name": "stdout",
     "output_type": "stream",
     "text": [
      "HookedTransformer(\n",
      "  (embed): Embed()\n",
      "  (hook_embed): HookPoint()\n",
      "  (pos_embed): PosEmbed()\n",
      "  (hook_pos_embed): HookPoint()\n",
      "  (hook_tokens): HookPoint()\n",
      "  (blocks): ModuleList(\n",
      "    (0-2): 3 x TransformerBlock(\n",
      "      (ln1): LayerNorm(\n",
      "        (hook_scale): HookPoint()\n",
      "        (hook_normalized): HookPoint()\n",
      "      )\n",
      "      (ln2): LayerNorm(\n",
      "        (hook_scale): HookPoint()\n",
      "        (hook_normalized): HookPoint()\n",
      "      )\n",
      "      (attn): Attention(\n",
      "        (hook_k): HookPoint()\n",
      "        (hook_q): HookPoint()\n",
      "        (hook_v): HookPoint()\n",
      "        (hook_z): HookPoint()\n",
      "        (hook_attn_scores): HookPoint()\n",
      "        (hook_pattern): HookPoint()\n",
      "        (hook_result): HookPoint()\n",
      "      )\n",
      "      (mlp): MLP(\n",
      "        (hook_pre): HookPoint()\n",
      "        (hook_post): HookPoint()\n",
      "      )\n",
      "      (hook_attn_in): HookPoint()\n",
      "      (hook_q_input): HookPoint()\n",
      "      (hook_k_input): HookPoint()\n",
      "      (hook_v_input): HookPoint()\n",
      "      (hook_mlp_in): HookPoint()\n",
      "      (hook_attn_out): HookPoint()\n",
      "      (hook_mlp_out): HookPoint()\n",
      "      (hook_resid_pre): HookPoint()\n",
      "      (hook_resid_mid): HookPoint()\n",
      "      (hook_resid_post): HookPoint()\n",
      "    )\n",
      "  )\n",
      "  (ln_final): LayerNorm(\n",
      "    (hook_scale): HookPoint()\n",
      "    (hook_normalized): HookPoint()\n",
      "  )\n",
      "  (unembed): Unembed()\n",
      ")\n",
      "Loaded model\n"
     ]
    }
   ],
   "source": [
    "tokenizer, model = load_toy_bracket_transformer()"
   ]
  },
  {
   "cell_type": "markdown",
   "metadata": {},
   "source": [
    "### Integrated gradients\n",
    "\n",
    "To calculate the importance of a neuron or an attention head in the model, we use Integrated Gradients (IG).\n",
    "- For a neuron, we compute the attribution scores of the inputs and project them by multiplying the attribution scores by the neuron's weight matrix. Neurons which focus on important inputs should have high importance scores.\n",
    "- For an attention head, we compute the attribution scores of each attention head's output and take those as the importance scores."
   ]
  },
  {
   "cell_type": "code",
   "execution_count": 130,
   "metadata": {},
   "outputs": [],
   "source": [
    "bracket_transformer_target_layers = [\n",
    "    model.embed, # Attribution of tokens\n",
    "    model.blocks[0].attn.hook_result, # How much each attention head's outputs affect the final output\n",
    "    model.blocks[0].ln2.hook_normalized, # Attribution of inputs to MLP first layer\n",
    "    model.blocks[0].mlp.hook_post, # Attribution of inputs to MLP second layer\n",
    "    model.blocks[1].attn.hook_result, \n",
    "    model.blocks[1].ln2.hook_normalized,\n",
    "    model.blocks[1].mlp.hook_post,\n",
    "    model.blocks[2].attn.hook_result, \n",
    "    model.blocks[2].ln2.hook_normalized,\n",
    "    model.blocks[2].mlp.hook_post,\n",
    "]"
   ]
  },
  {
   "cell_type": "code",
   "execution_count": 142,
   "metadata": {},
   "outputs": [],
   "source": [
    "from captum.attr import LayerIntegratedGradients\n",
    "import seaborn as sns\n",
    "import matplotlib.pyplot as plt\n",
    "\n",
    "def predict_unbalanced(x):\n",
    "    logits = model(x)[:, 0]\n",
    "    return logits.softmax(-1)[:, 0]\n",
    "\n",
    "\n",
    "def compute_layer_to_output_attributions(target_layer, baseline):\n",
    "    ig_embed = LayerIntegratedGradients(predict_unbalanced, target_layer)\n",
    "    attributions, approximation_error = ig_embed.attribute(inputs=input,\n",
    "                                                    baselines=baseline,\n",
    "                                                    return_convergence_delta=True)\n",
    "\n",
    "    print(f\"\\nError (delta) for {target_layer.name} attribution: {approximation_error.item()}\")\n",
    "    return attributions\n",
    "\n",
    "\n",
    "def display_attributions(attributions, layer_name):\n",
    "    attrs = attributions[0].detach().numpy() # assume only one batch as input\n",
    "    ax = sns.heatmap(attrs, cmap=\"coolwarm\", linewidths=0.5, center=0)\n",
    "    plt.title(f\"Importance scores of outputs from {layer_name}\")\n",
    "    plt.show()"
   ]
  },
  {
   "cell_type": "code",
   "execution_count": 143,
   "metadata": {},
   "outputs": [],
   "source": [
    "def compute_layer_importance(target_layer, attributions):\n",
    "    layer_name = target_layer.name\n",
    "    if \"embed\" not in layer_name:\n",
    "        layer_id = layer_name.removeprefix(\"blocks.\")[0]\n",
    "        layer_id = int(layer_id)\n",
    "    if \"hook_normalized\" in layer_name:\n",
    "        # Compute first layer MLP neuron importance by projection\n",
    "        w_in = model.blocks[layer_id].mlp.W_in\n",
    "        importance = (attributions @ w_in.T).abs().mean(dim=1)\n",
    "    elif \"hook_post\" in layer_name:\n",
    "        # Compute second layer MLP neuron importance by projection\n",
    "        w_out = model.blocks[layer_id].mlp.W_out\n",
    "        importance = (attributions @ w_out.T).abs().mean(dim=1)\n",
    "    else:\n",
    "        importance = attributions.abs()\n",
    "    return importance\n"
   ]
  },
  {
   "cell_type": "code",
   "execution_count": null,
   "metadata": {},
   "outputs": [
    {
     "name": "stdout",
     "output_type": "stream",
     "text": [
      "\n",
      "Error (delta) for embed attribution: -0.002693355083465576\n",
      "torch.Size([1, 6, 56])\n"
     ]
    },
    {
     "data": {
      "image/png": "[encoded data removed]",
      "text/plain": [
       "<Figure size 640x480 with 2 Axes>"
      ]
     },
     "metadata": {},
     "output_type": "display_data"
    },
    {
     "name": "stdout",
     "output_type": "stream",
     "text": [
      "\n",
      "Error (delta) for blocks.0.attn.hook_result attribution: 0.06377953290939331\n",
      "torch.Size([1, 6, 2, 56])\n",
      "\n",
      "Error (delta) for blocks.0.ln2.hook_normalized attribution: -0.00153428316116333\n",
      "torch.Size([1, 56])\n"
     ]
    },
    {
     "ename": "IndexError",
     "evalue": "Inconsistent shape between the condition and the input (got (56, 1) and (56,))",
     "output_type": "error",
     "traceback": [
      "\u001b[31m---------------------------------------------------------------------------\u001b[39m",
      "\u001b[31mIndexError\u001b[39m                                Traceback (most recent call last)",
      "\u001b[36mCell\u001b[39m\u001b[36m \u001b[39m\u001b[32mIn[155]\u001b[39m\u001b[32m, line 23\u001b[39m\n\u001b[32m     21\u001b[39m     \u001b[38;5;28;01mpass\u001b[39;00m\n\u001b[32m     22\u001b[39m \u001b[38;5;28;01melse\u001b[39;00m:\n\u001b[32m---> \u001b[39m\u001b[32m23\u001b[39m     \u001b[43mdisplay_attributions\u001b[49m\u001b[43m(\u001b[49m\u001b[43mimportances\u001b[49m\u001b[43m,\u001b[49m\u001b[43m \u001b[49m\u001b[43mlayer\u001b[49m\u001b[43m.\u001b[49m\u001b[43mname\u001b[49m\u001b[43m)\u001b[49m\n\u001b[32m     24\u001b[39m importance_scores[layer.name] = importance_scores\n",
      "\u001b[36mCell\u001b[39m\u001b[36m \u001b[39m\u001b[32mIn[142]\u001b[39m\u001b[32m, line 22\u001b[39m, in \u001b[36mdisplay_attributions\u001b[39m\u001b[34m(attributions, layer_name)\u001b[39m\n\u001b[32m     20\u001b[39m \u001b[38;5;28;01mdef\u001b[39;00m\u001b[38;5;250m \u001b[39m\u001b[34mdisplay_attributions\u001b[39m(attributions, layer_name):\n\u001b[32m     21\u001b[39m     attrs = attributions[\u001b[32m0\u001b[39m].detach().numpy() \u001b[38;5;66;03m# assume only one batch as input\u001b[39;00m\n\u001b[32m---> \u001b[39m\u001b[32m22\u001b[39m     ax = \u001b[43msns\u001b[49m\u001b[43m.\u001b[49m\u001b[43mheatmap\u001b[49m\u001b[43m(\u001b[49m\u001b[43mattrs\u001b[49m\u001b[43m,\u001b[49m\u001b[43m \u001b[49m\u001b[43mcmap\u001b[49m\u001b[43m=\u001b[49m\u001b[33;43m\"\u001b[39;49m\u001b[33;43mcoolwarm\u001b[39;49m\u001b[33;43m\"\u001b[39;49m\u001b[43m,\u001b[49m\u001b[43m \u001b[49m\u001b[43mlinewidths\u001b[49m\u001b[43m=\u001b[49m\u001b[32;43m0.5\u001b[39;49m\u001b[43m,\u001b[49m\u001b[43m \u001b[49m\u001b[43mcenter\u001b[49m\u001b[43m=\u001b[49m\u001b[32;43m0\u001b[39;49m\u001b[43m)\u001b[49m\n\u001b[32m     23\u001b[39m     plt.title(\u001b[33mf\u001b[39m\u001b[33m\"\u001b[39m\u001b[33mImportance scores of outputs from \u001b[39m\u001b[38;5;132;01m{\u001b[39;00mlayer_name\u001b[38;5;132;01m}\u001b[39;00m\u001b[33m\"\u001b[39m)\n\u001b[32m     24\u001b[39m     plt.show()\n",
      "\u001b[36mFile \u001b[39m\u001b[32m~/Desktop/gradient_causal_knowledge/.venv/lib/python3.11/site-packages/seaborn/matrix.py:446\u001b[39m, in \u001b[36mheatmap\u001b[39m\u001b[34m(data, vmin, vmax, cmap, center, robust, annot, fmt, annot_kws, linewidths, linecolor, cbar, cbar_kws, cbar_ax, square, xticklabels, yticklabels, mask, ax, **kwargs)\u001b[39m\n\u001b[32m    365\u001b[39m \u001b[38;5;250m\u001b[39m\u001b[33;03m\"\"\"Plot rectangular data as a color-encoded matrix.\u001b[39;00m\n\u001b[32m    366\u001b[39m \n\u001b[32m    367\u001b[39m \u001b[33;03mThis is an Axes-level function and will draw the heatmap into the\u001b[39;00m\n\u001b[32m   (...)\u001b[39m\u001b[32m    443\u001b[39m \n\u001b[32m    444\u001b[39m \u001b[33;03m\"\"\"\u001b[39;00m\n\u001b[32m    445\u001b[39m \u001b[38;5;66;03m# Initialize the plotter object\u001b[39;00m\n\u001b[32m--> \u001b[39m\u001b[32m446\u001b[39m plotter = \u001b[43m_HeatMapper\u001b[49m\u001b[43m(\u001b[49m\u001b[43mdata\u001b[49m\u001b[43m,\u001b[49m\u001b[43m \u001b[49m\u001b[43mvmin\u001b[49m\u001b[43m,\u001b[49m\u001b[43m \u001b[49m\u001b[43mvmax\u001b[49m\u001b[43m,\u001b[49m\u001b[43m \u001b[49m\u001b[43mcmap\u001b[49m\u001b[43m,\u001b[49m\u001b[43m \u001b[49m\u001b[43mcenter\u001b[49m\u001b[43m,\u001b[49m\u001b[43m \u001b[49m\u001b[43mrobust\u001b[49m\u001b[43m,\u001b[49m\u001b[43m \u001b[49m\u001b[43mannot\u001b[49m\u001b[43m,\u001b[49m\u001b[43m \u001b[49m\u001b[43mfmt\u001b[49m\u001b[43m,\u001b[49m\n\u001b[32m    447\u001b[39m \u001b[43m                      \u001b[49m\u001b[43mannot_kws\u001b[49m\u001b[43m,\u001b[49m\u001b[43m \u001b[49m\u001b[43mcbar\u001b[49m\u001b[43m,\u001b[49m\u001b[43m \u001b[49m\u001b[43mcbar_kws\u001b[49m\u001b[43m,\u001b[49m\u001b[43m \u001b[49m\u001b[43mxticklabels\u001b[49m\u001b[43m,\u001b[49m\n\u001b[32m    448\u001b[39m \u001b[43m                      \u001b[49m\u001b[43myticklabels\u001b[49m\u001b[43m,\u001b[49m\u001b[43m \u001b[49m\u001b[43mmask\u001b[49m\u001b[43m)\u001b[49m\n\u001b[32m    450\u001b[39m \u001b[38;5;66;03m# Add the pcolormesh kwargs here\u001b[39;00m\n\u001b[32m    451\u001b[39m kwargs[\u001b[33m\"\u001b[39m\u001b[33mlinewidths\u001b[39m\u001b[33m\"\u001b[39m] = linewidths\n",
      "\u001b[36mFile \u001b[39m\u001b[32m~/Desktop/gradient_causal_knowledge/.venv/lib/python3.11/site-packages/seaborn/matrix.py:115\u001b[39m, in \u001b[36m_HeatMapper.__init__\u001b[39m\u001b[34m(self, data, vmin, vmax, cmap, center, robust, annot, fmt, annot_kws, cbar, cbar_kws, xticklabels, yticklabels, mask)\u001b[39m\n\u001b[32m    112\u001b[39m \u001b[38;5;66;03m# Validate the mask and convert to DataFrame\u001b[39;00m\n\u001b[32m    113\u001b[39m mask = _matrix_mask(data, mask)\n\u001b[32m--> \u001b[39m\u001b[32m115\u001b[39m plot_data = \u001b[43mnp\u001b[49m\u001b[43m.\u001b[49m\u001b[43mma\u001b[49m\u001b[43m.\u001b[49m\u001b[43mmasked_where\u001b[49m\u001b[43m(\u001b[49m\u001b[43mnp\u001b[49m\u001b[43m.\u001b[49m\u001b[43masarray\u001b[49m\u001b[43m(\u001b[49m\u001b[43mmask\u001b[49m\u001b[43m)\u001b[49m\u001b[43m,\u001b[49m\u001b[43m \u001b[49m\u001b[43mplot_data\u001b[49m\u001b[43m)\u001b[49m\n\u001b[32m    117\u001b[39m \u001b[38;5;66;03m# Get good names for the rows and columns\u001b[39;00m\n\u001b[32m    118\u001b[39m xtickevery = \u001b[32m1\u001b[39m\n",
      "\u001b[36mFile \u001b[39m\u001b[32m~/Desktop/gradient_causal_knowledge/.venv/lib/python3.11/site-packages/numpy/ma/core.py:1933\u001b[39m, in \u001b[36mmasked_where\u001b[39m\u001b[34m(condition, a, copy)\u001b[39m\n\u001b[32m   1931\u001b[39m (cshape, ashape) = (cond.shape, a.shape)\n\u001b[32m   1932\u001b[39m \u001b[38;5;28;01mif\u001b[39;00m cshape \u001b[38;5;129;01mand\u001b[39;00m cshape != ashape:\n\u001b[32m-> \u001b[39m\u001b[32m1933\u001b[39m     \u001b[38;5;28;01mraise\u001b[39;00m \u001b[38;5;167;01mIndexError\u001b[39;00m(\u001b[33m\"\u001b[39m\u001b[33mInconsistent shape between the condition and the input\u001b[39m\u001b[33m\"\u001b[39m\n\u001b[32m   1934\u001b[39m                      \u001b[33m\"\u001b[39m\u001b[33m (got \u001b[39m\u001b[38;5;132;01m%s\u001b[39;00m\u001b[33m and \u001b[39m\u001b[38;5;132;01m%s\u001b[39;00m\u001b[33m)\u001b[39m\u001b[33m\"\u001b[39m % (cshape, ashape))\n\u001b[32m   1935\u001b[39m \u001b[38;5;28;01mif\u001b[39;00m \u001b[38;5;28mhasattr\u001b[39m(a, \u001b[33m'\u001b[39m\u001b[33m_mask\u001b[39m\u001b[33m'\u001b[39m):\n\u001b[32m   1936\u001b[39m     cond = mask_or(cond, a._mask)\n",
      "\u001b[31mIndexError\u001b[39m: Inconsistent shape between the condition and the input (got (56, 1) and (56,))"
     ]
    }
   ],
   "source": [
    "# Calculate integrated gradients for each layer\n",
    "\n",
    "input = tokenizer.tokenize(\"()()\")\n",
    "\n",
    "# Set the baseline as a sequence of padding tokens except for start/end tokens:\n",
    "# 1. Padding tokens (PAD_TOKEN) represent \"no information\" in the model's embedding space\n",
    "# 2. We preserve start/end tokens to maintain the sequence structure\n",
    "# 3. This creates a neutral reference point that only differs from the input in meaningful bracket positions\n",
    "# 4. The attribution will then show how each bracket contributes relative to \"no bracket\"\n",
    "mask = np.isin(input, [tokenizer.START_TOKEN, tokenizer.END_TOKEN])\n",
    "baseline = input * mask + tokenizer.PAD_TOKEN * (1 - mask)\n",
    "\n",
    "importance_scores = dict()\n",
    "\n",
    "for layer in bracket_transformer_target_layers:\n",
    "    attributions = compute_layer_to_output_attributions(layer, baseline)\n",
    "    # For non-embed layers, use zero activations as baseline\n",
    "    importances = compute_layer_importance(layer, attributions)\n",
    "    print(importances.shape)\n",
    "    # TODO: make sure shapes are the same as activation patching\n",
    "    importance_scores[layer.name] = importance_scores"
   ]
  }
 ],
 "metadata": {
  "kernelspec": {
   "display_name": ".venv",
   "language": "python",
   "name": "python3"
  },
  "language_info": {
   "codemirror_mode": {
    "name": "ipython",
    "version": 3
   },
   "file_extension": ".py",
   "mimetype": "text/x-python",
   "name": "python",
   "nbconvert_exporter": "python",
   "pygments_lexer": "ipython3",
   "version": "3.11.6"
  }
 },
 "nbformat": 4,
 "nbformat_minor": 2
}
