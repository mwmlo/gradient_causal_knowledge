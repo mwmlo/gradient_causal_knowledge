{
 "cells": [
  {
   "cell_type": "markdown",
   "metadata": {},
   "source": [
    "# Comparing Integrated Gradients and Activation Patching\n",
    "\n"
   ]
  },
  {
   "cell_type": "code",
   "execution_count": 70,
   "metadata": {},
   "outputs": [],
   "source": [
    "import importlib\n",
    "\n",
    "import torch\n",
    "import torch.nn as nn\n",
    "from torch.utils.data import Dataset, DataLoader\n",
    "from captum.attr import LayerIntegratedGradients\n",
    "import pyvene as pv\n",
    "import numpy as np\n",
    "from transformer_lens.utils import get_act_name\n",
    "\n",
    "import toy_transformers.toy_bracket_transformer as tt\n",
    "importlib.reload(tt)\n",
    "from toy_transformers.toy_bracket_transformer import load_toy_bracket_transformer, test_loaded_bracket_model\n",
    "\n",
    "import seaborn as sns\n",
    "import matplotlib.pyplot as plt\n"
   ]
  },
  {
   "cell_type": "code",
   "execution_count": 3,
   "metadata": {},
   "outputs": [
    {
     "name": "stdout",
     "output_type": "stream",
     "text": [
      "HookedTransformer(\n",
      "  (embed): Embed()\n",
      "  (hook_embed): HookPoint()\n",
      "  (pos_embed): PosEmbed()\n",
      "  (hook_pos_embed): HookPoint()\n",
      "  (hook_tokens): HookPoint()\n",
      "  (blocks): ModuleList(\n",
      "    (0-2): 3 x TransformerBlock(\n",
      "      (ln1): LayerNorm(\n",
      "        (hook_scale): HookPoint()\n",
      "        (hook_normalized): HookPoint()\n",
      "      )\n",
      "      (ln2): LayerNorm(\n",
      "        (hook_scale): HookPoint()\n",
      "        (hook_normalized): HookPoint()\n",
      "      )\n",
      "      (attn): Attention(\n",
      "        (hook_k): HookPoint()\n",
      "        (hook_q): HookPoint()\n",
      "        (hook_v): HookPoint()\n",
      "        (hook_z): HookPoint()\n",
      "        (hook_attn_scores): HookPoint()\n",
      "        (hook_pattern): HookPoint()\n",
      "        (hook_result): HookPoint()\n",
      "      )\n",
      "      (mlp): MLP(\n",
      "        (hook_pre): HookPoint()\n",
      "        (hook_post): HookPoint()\n",
      "      )\n",
      "      (hook_attn_in): HookPoint()\n",
      "      (hook_q_input): HookPoint()\n",
      "      (hook_k_input): HookPoint()\n",
      "      (hook_v_input): HookPoint()\n",
      "      (hook_mlp_in): HookPoint()\n",
      "      (hook_attn_out): HookPoint()\n",
      "      (hook_mlp_out): HookPoint()\n",
      "      (hook_resid_pre): HookPoint()\n",
      "      (hook_resid_mid): HookPoint()\n",
      "      (hook_resid_post): HookPoint()\n",
      "    )\n",
      "  )\n",
      "  (ln_final): LayerNorm(\n",
      "    (hook_scale): HookPoint()\n",
      "    (hook_normalized): HookPoint()\n",
      "  )\n",
      "  (unembed): Unembed()\n",
      ")\n",
      "Loaded model\n"
     ]
    }
   ],
   "source": [
    "tokenizer, model = load_toy_bracket_transformer()"
   ]
  },
  {
   "cell_type": "markdown",
   "metadata": {},
   "source": [
    "### Integrated gradients\n",
    "\n",
    "To calculate the importance of a neuron or an attention head in the model, we use Integrated Gradients (IG).\n",
    "- For a neuron, we compute the attribution scores of the inputs and project them by multiplying the attribution scores by the neuron's weight matrix. Neurons which focus on important inputs should have high importance scores.\n",
    "- For an attention head, we compute the attribution scores of each attention head's output and take those as the importance scores."
   ]
  },
  {
   "cell_type": "code",
   "execution_count": 68,
   "metadata": {},
   "outputs": [],
   "source": [
    "bracket_transformer_target_layers = [\n",
    "    model.embed, # Attribution of tokens\n",
    "    model.blocks[0].attn.hook_result, # How much each attention head's outputs affect the final output\n",
    "    model.blocks[0].ln2.hook_normalized, # Attribution of inputs to MLP\n",
    "    model.blocks[1].attn.hook_result, \n",
    "    model.blocks[1].ln2.hook_normalized,\n",
    "    model.blocks[2].attn.hook_result, \n",
    "    model.blocks[2].ln2.hook_normalized,\n",
    "]"
   ]
  },
  {
   "cell_type": "code",
   "execution_count": 71,
   "metadata": {},
   "outputs": [],
   "source": [
    "def predict_unbalanced(x):\n",
    "    logits = model(x)[:, 0]\n",
    "    return logits.softmax(-1)[:, 0]\n",
    "\n",
    "\n",
    "def compute_layer_to_output_attributions(target_layer, baseline):\n",
    "    ig_embed = LayerIntegratedGradients(predict_unbalanced, target_layer)\n",
    "    attributions, approximation_error = ig_embed.attribute(inputs=input,\n",
    "                                                    baselines=baseline,\n",
    "                                                    return_convergence_delta=True)\n",
    "\n",
    "    print(f\"\\nError (delta) for {target_layer.name} attribution: {approximation_error.item()}\")\n",
    "    return attributions\n",
    "\n",
    "\n",
    "def display_attributions(attributions, layer_name):\n",
    "    attrs = attributions[0].detach().numpy() # assume only one batch as input\n",
    "    ax = sns.heatmap(attrs, cmap=\"coolwarm\", linewidths=0.5, center=0)\n",
    "    plt.title(f\"Importance scores of outputs from {layer_name}\")\n",
    "    plt.show()"
   ]
  },
  {
   "cell_type": "code",
   "execution_count": null,
   "metadata": {},
   "outputs": [],
   "source": [
    "def compute_layer_importance(layer_id, hook, attributions):\n",
    "    if \"normalized\" in hook.name:\n",
    "        # Compute first layer MLP neuron importance by projection\n",
    "        w_in = model.blocks[layer_id].mlp.W_in\n",
    "        importance = (attributions @ w_in.T).abs().mean(dim=1)\n",
    "    else:\n",
    "        importance = attributions.abs()\n",
    "    return importance"
   ]
  },
  {
   "cell_type": "markdown",
   "metadata": {},
   "source": [
    "Set the baseline as a sequence of padding tokens except for start/end tokens:\n",
    "1. Padding tokens (PAD_TOKEN) represent \"no information\" in the model's embedding space\n",
    "2. We preserve start/end tokens to maintain the sequence structure\n",
    "3. This creates a neutral reference point that only differs from the input in meaningful bracket positions4. The attribution will then show how each bracket contributes relative to \"no bracket\""
   ]
  },
  {
   "cell_type": "code",
   "execution_count": null,
   "metadata": {},
   "outputs": [],
   "source": [
    "# Gradient attribution for neurons in MLP layers\n",
    "mlp_ig_results = torch.zeros(model.cfg.n_layers, model.cfg.d_mlp)\n",
    "# Gradient attribution for attention heads\n",
    "attn_ig_results = torch.zeros(model.cfg.n_layers, model.cfg.n_heads)\n",
    "\n",
    "# Calculate integrated gradients for each layer\n",
    "input = tokenizer.tokenize(\"()()\")\n",
    "mask = np.isin(input, [tokenizer.START_TOKEN, tokenizer.END_TOKEN])\n",
    "baseline = input * mask + tokenizer.PAD_TOKEN * (1 - mask)\n",
    "\n",
    "for layer in range(model.cfg.n_layers):\n",
    "    # Activation patching on heads\n",
    "    for head in range(model.cfg.n_heads):\n",
    "        hook_name = get_act_name(\"result\", layer)\n",
    "\n",
    "        attributions = compute_layer_to_output_attributions(layer, baseline)\n",
    "        # For non-embed layers, use zero activations as baseline\n",
    "        importances = compute_layer_importance(layer, attributions)\n",
    "        print(importances.shape)\n",
    "        # TODO: make sure shapes are the same as activation patching\n",
    "        importance_scores[layer.name] = importance_scores\n",
    "\n",
    "\n",
    "\n",
    "\n",
    "        temp_hook = lambda act, hook: patch_attn_hook(act, hook, clean_cache, head)\n",
    "\n",
    "        with model.hooks(fwd_hooks=[(hook_name, temp_hook)]):\n",
    "            patched_logits = model(corrupted_input)\n",
    "\n",
    "        patched_answer_logits = patched_logits[0, -1, 0]\n",
    "        logit_diff = (patched_answer_logits - corrupted_answer_logits).item()\n",
    "        # Normalise result by clean and corrupted logit difference\n",
    "        attn_patch_results[layer, head] = logit_diff / baseline_diff\n",
    "\n",
    "    # Activation patching on MLP neurons\n",
    "    for neuron in range(model.cfg.d_mlp):\n",
    "        hook_name = get_act_name(\"normalized\", layer, \"ln2\")\n",
    "        temp_hook = lambda act, hook: patch_neuron_hook(act, hook, clean_cache, neuron)\n",
    "        \n",
    "        with model.hooks(fwd_hooks=[(hook_name, temp_hook)]):\n",
    "            patched_logits = model(corrupted_input)\n",
    "\n",
    "        patched_answer_logits = patched_logits[0, -1, 0]\n",
    "        logit_diff = (patched_answer_logits - corrupted_answer_logits).item()\n",
    "        # Normalise result by clean and corrupted logit difference\n",
    "        mlp_patch_results[layer, neuron] = logit_diff / baseline_diff"
   ]
  },
  {
   "cell_type": "code",
   "execution_count": 156,
   "metadata": {},
   "outputs": [
    {
     "name": "stdout",
     "output_type": "stream",
     "text": [
      "\n",
      "Error (delta) for embed attribution: -0.002693355083465576\n",
      "torch.Size([1, 6, 56])\n",
      "\n",
      "Error (delta) for blocks.0.attn.hook_result attribution: 0.06377953290939331\n",
      "torch.Size([1, 6, 2, 56])\n",
      "\n",
      "Error (delta) for blocks.0.ln2.hook_normalized attribution: -0.00153428316116333\n",
      "torch.Size([1, 56])\n",
      "\n",
      "Error (delta) for blocks.0.mlp.hook_post attribution: 0.0021366477012634277\n",
      "torch.Size([1, 56])\n",
      "\n",
      "Error (delta) for blocks.1.attn.hook_result attribution: 0.1287258267402649\n",
      "torch.Size([1, 6, 2, 56])\n",
      "\n",
      "Error (delta) for blocks.1.ln2.hook_normalized attribution: 0.021128416061401367\n",
      "torch.Size([1, 56])\n",
      "\n",
      "Error (delta) for blocks.1.mlp.hook_post attribution: 0.019784271717071533\n",
      "torch.Size([1, 56])\n",
      "\n",
      "Error (delta) for blocks.2.attn.hook_result attribution: 0.00042438507080078125\n",
      "torch.Size([1, 6, 2, 56])\n",
      "\n",
      "Error (delta) for blocks.2.ln2.hook_normalized attribution: 0.999981701374054\n",
      "torch.Size([1, 56])\n",
      "\n",
      "Error (delta) for blocks.2.mlp.hook_post attribution: 0.999981701374054\n",
      "torch.Size([1, 56])\n"
     ]
    }
   ],
   "source": [
    "# Calculate integrated gradients for each layer\n",
    "\n",
    "input = tokenizer.tokenize(\"()()\")\n",
    "\n",
    "# Set the baseline as a sequence of padding tokens except for start/end tokens:\n",
    "# 1. Padding tokens (PAD_TOKEN) represent \"no information\" in the model's embedding space\n",
    "# 2. We preserve start/end tokens to maintain the sequence structure\n",
    "# 3. This creates a neutral reference point that only differs from the input in meaningful bracket positions\n",
    "# 4. The attribution will then show how each bracket contributes relative to \"no bracket\"\n",
    "mask = np.isin(input, [tokenizer.START_TOKEN, tokenizer.END_TOKEN])\n",
    "baseline = input * mask + tokenizer.PAD_TOKEN * (1 - mask)\n",
    "\n",
    "importance_scores = dict()\n",
    "\n",
    "for layer in bracket_transformer_target_layers:\n",
    "    attributions = compute_layer_to_output_attributions(layer, baseline)\n",
    "    # For non-embed layers, use zero activations as baseline\n",
    "    importances = compute_layer_importance(layer, attributions)\n",
    "    print(importances.shape)\n",
    "    # TODO: make sure shapes are the same as activation patching\n",
    "    importance_scores[layer.name] = importance_scores"
   ]
  },
  {
   "cell_type": "markdown",
   "metadata": {},
   "source": [
    "## Causal tracing\n",
    "\n",
    "We use activation patching to identify the most important neurons and attention heads in the toy transformer model."
   ]
  },
  {
   "cell_type": "code",
   "execution_count": null,
   "metadata": {},
   "outputs": [
    {
     "name": "stdout",
     "output_type": "stream",
     "text": [
      "Balanced input score: -1.447350025177002\n",
      "Unbalanced input score: 4.6780781745910645\n",
      "Baseline clean-corrupted logit difference: -6.13\n"
     ]
    }
   ],
   "source": [
    "from transformer_lens import HookedTransformer, ActivationCache\n",
    "from transformer_lens.hook_points import HookPoint\n",
    "\n",
    "clean_input = tokenizer.tokenize(\"()()\")        # Balanced\n",
    "corrupted_input = tokenizer.tokenize(\"(()(\")    # Unbalanced\n",
    "\n",
    "# We run on the clean prompt with the cache so we store activations to patch in later.\n",
    "clean_logits, clean_cache = model.run_with_cache(clean_input)\n",
    "corrupted_logits = model(corrupted_input)\n",
    "\n",
    "# Get probability of overall sequence being unbalanced (class 0)\n",
    "clean_answer_logits = clean_logits[0, -1, 0]\n",
    "corrupted_answer_logits = corrupted_logits[0, -1, 0]\n",
    "print(f\"Balanced input score: {clean_answer_logits}\")\n",
    "print(f\"Unbalanced input score: {corrupted_answer_logits}\")\n",
    "\n",
    "baseline_diff = (clean_answer_logits - corrupted_answer_logits).item()\n",
    "print(f\"Baseline clean-corrupted logit difference: {baseline_diff:.2f}\")"
   ]
  },
  {
   "cell_type": "code",
   "execution_count": 50,
   "metadata": {},
   "outputs": [
    {
     "name": "stdout",
     "output_type": "stream",
     "text": [
      "torch.Size([1, 6, 2, 56])\n"
     ]
    },
    {
     "data": {
      "text/plain": [
       "torch.Size([1, 6, 56])"
      ]
     },
     "execution_count": 50,
     "metadata": {},
     "output_type": "execute_result"
    }
   ],
   "source": [
    "print(clean_cache[\"blocks.0.attn.hook_result\"].shape)\n",
    "clean_cache[\"blocks.0.hook_mlp_out\"].shape"
   ]
  },
  {
   "cell_type": "code",
   "execution_count": 51,
   "metadata": {},
   "outputs": [],
   "source": [
    "# Patch neurons in MLP layers\n",
    "mlp_patch_results = torch.zeros(model.cfg.n_layers, model.cfg.d_mlp)\n",
    "# Patch attention heads\n",
    "attn_patch_results = torch.zeros(model.cfg.n_layers, model.cfg.n_heads)\n",
    "\n",
    "def patch_neuron_hook(activations: torch.Tensor, hook: HookPoint, clean_cache: ActivationCache, neuron_idx: int):\n",
    "    # Replace the activations for the target neuron with activations from the clean run.\n",
    "    clean_activations = clean_cache[hook.name]\n",
    "    activations[:, :, neuron_idx] = clean_activations[:, :, neuron_idx]\n",
    "    return activations\n",
    "\n",
    "def patch_attn_hook(activations: torch.Tensor, hook: HookPoint, clean_cache: ActivationCache, head_idx: int):\n",
    "    # Replace the activations for the target attention head with activations from the clean run.\n",
    "    clean_activations = clean_cache[hook.name]\n",
    "    activations[:, :, head_idx, :] = clean_activations[:, :, head_idx, :]\n",
    "    return activations\n",
    "\n",
    "\n",
    "for layer in range(model.cfg.n_layers):\n",
    "    # Activation patching on heads\n",
    "    for head in range(model.cfg.n_heads):\n",
    "        hook_name = get_act_name(\"result\", layer)\n",
    "        temp_hook = lambda act, hook: patch_attn_hook(act, hook, clean_cache, head)\n",
    "\n",
    "        with model.hooks(fwd_hooks=[(hook_name, temp_hook)]):\n",
    "            patched_logits = model(corrupted_input)\n",
    "\n",
    "        patched_answer_logits = patched_logits[0, -1, 0]\n",
    "        logit_diff = (patched_answer_logits - corrupted_answer_logits).item()\n",
    "        # Normalise result by clean and corrupted logit difference\n",
    "        attn_patch_results[layer, head] = logit_diff / baseline_diff\n",
    "\n",
    "    # Activation patching on MLP neurons\n",
    "    for neuron in range(model.cfg.d_mlp):\n",
    "        hook_name = get_act_name(\"mlp_out\", layer)\n",
    "        temp_hook = lambda act, hook: patch_neuron_hook(act, hook, clean_cache, neuron)\n",
    "        \n",
    "        with model.hooks(fwd_hooks=[(hook_name, temp_hook)]):\n",
    "            patched_logits = model(corrupted_input)\n",
    "\n",
    "        patched_answer_logits = patched_logits[0, -1, 0]\n",
    "        logit_diff = (patched_answer_logits - corrupted_answer_logits).item()\n",
    "        # Normalise result by clean and corrupted logit difference\n",
    "        mlp_patch_results[layer, neuron] = logit_diff / baseline_diff"
   ]
  },
  {
   "cell_type": "code",
   "execution_count": 65,
   "metadata": {},
   "outputs": [
    {
     "data": {
      "image/png": "[encoded data removed]",
      "text/plain": [
       "<Figure size 1000x500 with 2 Axes>"
      ]
     },
     "metadata": {},
     "output_type": "display_data"
    }
   ],
   "source": [
    "bound = max(torch.max(mlp_patch_results), abs(torch.min(mlp_patch_results)))\n",
    "\n",
    "plt.figure(figsize=(10, 5))\n",
    "plt.imshow(mlp_patch_results, cmap='RdBu', vmin=-bound, vmax=bound)\n",
    "plt.title(\"MLP Neuron Causal Tracing\")\n",
    "plt.xticks(np.arange(0, 56, 2))\n",
    "plt.xlabel(\"Neuron Index\")\n",
    "plt.yticks([0,1,2])\n",
    "plt.ylabel(\"Layer\")\n",
    "plt.colorbar(orientation=\"horizontal\")\n",
    "plt.show()"
   ]
  },
  {
   "cell_type": "code",
   "execution_count": 67,
   "metadata": {},
   "outputs": [
    {
     "data": {
      "image/png": "[encoded data removed]",
      "text/plain": [
       "<Figure size 1000x500 with 2 Axes>"
      ]
     },
     "metadata": {},
     "output_type": "display_data"
    }
   ],
   "source": [
    "bound = max(torch.max(attn_patch_results), abs(torch.min(attn_patch_results)))\n",
    "\n",
    "plt.figure(figsize=(10, 5))\n",
    "plt.imshow(attn_patch_results, cmap='RdBu', vmin=-bound, vmax=bound)\n",
    "plt.title(\"Attention Head Causal Tracing\")\n",
    "\n",
    "plt.xlabel(\"Head Index\")\n",
    "plt.xticks([0,1])\n",
    "\n",
    "plt.ylabel(\"Layer\")\n",
    "plt.yticks([0,1,2])\n",
    "\n",
    "plt.colorbar()\n",
    "plt.show()"
   ]
  },
  {
   "cell_type": "code",
   "execution_count": null,
   "metadata": {},
   "outputs": [],
   "source": []
  }
 ],
 "metadata": {
  "kernelspec": {
   "display_name": ".venv",
   "language": "python",
   "name": "python3"
  },
  "language_info": {
   "codemirror_mode": {
    "name": "ipython",
    "version": 3
   },
   "file_extension": ".py",
   "mimetype": "text/x-python",
   "name": "python",
   "nbconvert_exporter": "python",
   "pygments_lexer": "ipython3",
   "version": "3.11.6"
  }
 },
 "nbformat": 4,
 "nbformat_minor": 2
}
