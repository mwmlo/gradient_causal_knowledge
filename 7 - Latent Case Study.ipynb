{
 "cells": [
  {
   "cell_type": "markdown",
   "id": "8b1faf49",
   "metadata": {},
   "source": [
    "# Latent Case Study\n",
    "\n",
    "We aim to investigate, in depth, a specific component identified as a latent component for a known task (IOI)."
   ]
  },
  {
   "cell_type": "code",
   "execution_count": 2,
   "id": "89714e2b",
   "metadata": {},
   "outputs": [
    {
     "name": "stdout",
     "output_type": "stream",
     "text": [
      "The autoreload extension is already loaded. To reload it, use:\n",
      "  %reload_ext autoreload\n"
     ]
    },
    {
     "name": "stderr",
     "output_type": "stream",
     "text": [
      "/vol/bitbucket/mwl21/fypvenv/lib/python3.12/site-packages/tqdm/auto.py:21: TqdmWarning: IProgress not found. Please update jupyter and ipywidgets. See https://ipywidgets.readthedocs.io/en/stable/user_install.html\n",
      "  from .autonotebook import tqdm as notebook_tqdm\n"
     ]
    }
   ],
   "source": [
    "%load_ext autoreload\n",
    "%autoreload 2\n",
    "\n",
    "import torch\n",
    "from torch import Tensor\n",
    "from transformer_lens import HookedTransformer\n",
    "from transformer_lens.utils import get_device, get_act_name\n",
    "\n",
    "from attribution_methods import integrated_gradients, activation_patching, highlight_components, asymmetry_score\n",
    "from testing import Task, TaskDataset, logit_diff_metric, average_correlation, measure_overlap, test_multi_ablated_performance\n",
    "from plotting import plot_attn, plot_attn_comparison, plot_correlation, plot_correlation_comparison, plot_bar_chart"
   ]
  },
  {
   "cell_type": "code",
   "execution_count": 3,
   "id": "8adfe2c1",
   "metadata": {},
   "outputs": [
    {
     "name": "stdout",
     "output_type": "stream",
     "text": [
      "Loaded pretrained model gpt2-small into HookedTransformer\n"
     ]
    }
   ],
   "source": [
    "torch.set_grad_enabled(False)\n",
    "torch.cuda.empty_cache()\n",
    "\n",
    "device = get_device()\n",
    "model = HookedTransformer.from_pretrained(\"gpt2-small\", device=device)\n",
    "\n",
    "# Explicitly calculate and expose the result for each attention head\n",
    "model.set_use_attn_result(True)\n",
    "model.set_use_hook_mlp_in(True)"
   ]
  },
  {
   "cell_type": "markdown",
   "id": "ba66405c",
   "metadata": {},
   "source": [
    "## Identify latent components in IOI task"
   ]
  },
  {
   "cell_type": "code",
   "execution_count": 17,
   "id": "a10dde8d",
   "metadata": {},
   "outputs": [
    {
     "name": "stdout",
     "output_type": "stream",
     "text": [
      "Clean logit difference: tensor([0.5434], device='cuda:0')\n",
      "Corrupted logit difference: tensor([0.5962], device='cuda:0')\n"
     ]
    }
   ],
   "source": [
    "clean_input = \"When John and Mary went to the store, John gave a bottle of milk to \"\n",
    "corrupted_input = \"When John and Mary went to the store, Mary gave a bottle of milk to \"\n",
    "labels = torch.tensor([\n",
    "    [model.to_tokens(\"Mary\", prepend_bos=False).item(), \n",
    "     model.to_tokens(\"John\", prepend_bos=False).item()]\n",
    "])\n",
    "\n",
    "clean_tokens = model.to_tokens(clean_input, prepend_bos=False)\n",
    "corrupted_tokens = model.to_tokens(corrupted_input, prepend_bos=False)\n",
    "\n",
    "clean_logits, clean_cache = model.run_with_cache(clean_tokens)\n",
    "clean_logit_diff = logit_diff_metric(clean_logits, labels)\n",
    "print(f\"Clean logit difference: {clean_logit_diff}\")\n",
    "\n",
    "corrupted_logits, corrupted_cache = model.run_with_cache(corrupted_tokens)\n",
    "corrupted_logit_diff = logit_diff_metric(corrupted_logits, labels)\n",
    "print(f\"Corrupted logit difference: {corrupted_logit_diff}\")"
   ]
  },
  {
   "cell_type": "code",
   "execution_count": 25,
   "id": "2e0fb549",
   "metadata": {},
   "outputs": [
    {
     "name": "stdout",
     "output_type": "stream",
     "text": [
      "\n",
      "Error (delta) for blocks.0.attn.hook_result attribution: tensor([-2.2724e-06], device='cuda:0')\n",
      "\n",
      "Error (delta) for blocks.0.mlp.hook_post attribution: tensor([-2.5332e-06], device='cuda:0')\n",
      "\n",
      "Error (delta) for blocks.1.attn.hook_result attribution: tensor([-5.1409e-07], device='cuda:0')\n",
      "\n",
      "Error (delta) for blocks.1.mlp.hook_post attribution: tensor([-8.1956e-07], device='cuda:0')\n",
      "\n",
      "Error (delta) for blocks.2.attn.hook_result attribution: tensor([-1.3262e-06], device='cuda:0')\n",
      "\n",
      "Error (delta) for blocks.2.mlp.hook_post attribution: tensor([1.4752e-06], device='cuda:0')\n",
      "\n",
      "Error (delta) for blocks.3.attn.hook_result attribution: tensor([-5.4389e-07], device='cuda:0')\n",
      "\n",
      "Error (delta) for blocks.3.mlp.hook_post attribution: tensor([4.3735e-06], device='cuda:0')\n",
      "\n",
      "Error (delta) for blocks.4.attn.hook_result attribution: tensor([-1.0976e-06], device='cuda:0')\n",
      "\n",
      "Error (delta) for blocks.4.mlp.hook_post attribution: tensor([-4.3437e-06], device='cuda:0')\n",
      "\n",
      "Error (delta) for blocks.5.attn.hook_result attribution: tensor([-1.0632e-05], device='cuda:0')\n",
      "\n",
      "Error (delta) for blocks.5.mlp.hook_post attribution: tensor([6.9588e-06], device='cuda:0')\n",
      "\n",
      "Error (delta) for blocks.6.attn.hook_result attribution: tensor([-2.2389e-06], device='cuda:0')\n",
      "\n",
      "Error (delta) for blocks.6.mlp.hook_post attribution: tensor([-8.6799e-07], device='cuda:0')\n",
      "\n",
      "Error (delta) for blocks.7.attn.hook_result attribution: tensor([1.7881e-07], device='cuda:0')\n",
      "\n",
      "Error (delta) for blocks.7.mlp.hook_post attribution: tensor([1.0170e-06], device='cuda:0')\n",
      "\n",
      "Error (delta) for blocks.8.attn.hook_result attribution: tensor([1.5795e-06], device='cuda:0')\n",
      "\n",
      "Error (delta) for blocks.8.mlp.hook_post attribution: tensor([6.8918e-07], device='cuda:0')\n",
      "\n",
      "Error (delta) for blocks.9.attn.hook_result attribution: tensor([5.1707e-06], device='cuda:0')\n",
      "\n",
      "Error (delta) for blocks.9.mlp.hook_post attribution: tensor([8.6240e-07], device='cuda:0')\n",
      "\n",
      "Error (delta) for blocks.10.attn.hook_result attribution: tensor([-4.6566e-06], device='cuda:0')\n",
      "\n",
      "Error (delta) for blocks.10.mlp.hook_post attribution: tensor([-2.5406e-06], device='cuda:0')\n",
      "\n",
      "Error (delta) for blocks.11.attn.hook_result attribution: tensor([-3.9935e-06], device='cuda:0')\n",
      "\n",
      "Error (delta) for blocks.11.mlp.hook_post attribution: tensor([2.3842e-06], device='cuda:0')\n",
      "\n",
      "Error (delta) for blocks.0.attn.hook_result attribution: tensor([-1.2420e-05], device='cuda:0')\n",
      "\n",
      "Error (delta) for blocks.0.mlp.hook_post attribution: tensor([-7.3761e-06], device='cuda:0')\n",
      "\n",
      "Error (delta) for blocks.1.attn.hook_result attribution: tensor([-2.5481e-06], device='cuda:0')\n",
      "\n",
      "Error (delta) for blocks.1.mlp.hook_post attribution: tensor([-1.5683e-06], device='cuda:0')\n",
      "\n",
      "Error (delta) for blocks.2.attn.hook_result attribution: tensor([-4.7833e-06], device='cuda:0')\n",
      "\n",
      "Error (delta) for blocks.2.mlp.hook_post attribution: tensor([-6.2138e-06], device='cuda:0')\n",
      "\n",
      "Error (delta) for blocks.3.attn.hook_result attribution: tensor([-1.4136e-05], device='cuda:0')\n",
      "\n",
      "Error (delta) for blocks.3.mlp.hook_post attribution: tensor([-2.0936e-06], device='cuda:0')\n",
      "\n",
      "Error (delta) for blocks.4.attn.hook_result attribution: tensor([-7.7989e-06], device='cuda:0')\n",
      "\n",
      "Error (delta) for blocks.4.mlp.hook_post attribution: tensor([4.5411e-06], device='cuda:0')\n",
      "\n",
      "Error (delta) for blocks.5.attn.hook_result attribution: tensor([-6.3404e-06], device='cuda:0')\n",
      "\n",
      "Error (delta) for blocks.5.mlp.hook_post attribution: tensor([-8.3447e-07], device='cuda:0')\n",
      "\n",
      "Error (delta) for blocks.6.attn.hook_result attribution: tensor([1.1958e-06], device='cuda:0')\n",
      "\n",
      "Error (delta) for blocks.6.mlp.hook_post attribution: tensor([2.1756e-06], device='cuda:0')\n",
      "\n",
      "Error (delta) for blocks.7.attn.hook_result attribution: tensor([-6.9737e-06], device='cuda:0')\n",
      "\n",
      "Error (delta) for blocks.7.mlp.hook_post attribution: tensor([-4.8429e-06], device='cuda:0')\n",
      "\n",
      "Error (delta) for blocks.8.attn.hook_result attribution: tensor([-1.0729e-06], device='cuda:0')\n",
      "\n",
      "Error (delta) for blocks.8.mlp.hook_post attribution: tensor([-3.3006e-06], device='cuda:0')\n",
      "\n",
      "Error (delta) for blocks.9.attn.hook_result attribution: tensor([-4.9174e-07], device='cuda:0')\n",
      "\n",
      "Error (delta) for blocks.9.mlp.hook_post attribution: tensor([-7.4506e-06], device='cuda:0')\n",
      "\n",
      "Error (delta) for blocks.10.attn.hook_result attribution: tensor([-1.0643e-05], device='cuda:0')\n",
      "\n",
      "Error (delta) for blocks.10.mlp.hook_post attribution: tensor([-7.1190e-06], device='cuda:0')\n",
      "\n",
      "Error (delta) for blocks.11.attn.hook_result attribution: tensor([-2.1607e-06], device='cuda:0')\n",
      "\n",
      "Error (delta) for blocks.11.mlp.hook_post attribution: tensor([-3.2932e-06], device='cuda:0')\n"
     ]
    }
   ],
   "source": [
    "mlp_corrupt_clean, attn_corrupt_clean = integrated_gradients(model, clean_tokens, clean_cache, corrupted_cache, logit_diff_metric, labels)\n",
    "mlp_clean_corrupt, attn_clean_corrupt = integrated_gradients(model, corrupted_tokens, corrupted_cache, clean_cache, logit_diff_metric, labels)"
   ]
  },
  {
   "cell_type": "code",
   "execution_count": 26,
   "id": "f288e789",
   "metadata": {},
   "outputs": [],
   "source": [
    "ig_mlp_asymmetry = asymmetry_score(mlp_corrupt_clean, mlp_clean_corrupt, is_ig=True)\n",
    "ig_attn_asymmetry = asymmetry_score(attn_corrupt_clean, attn_clean_corrupt, is_ig=True)\n",
    "\n",
    "latent_attn, latent_attn_indices = highlight_components(ig_attn_asymmetry)\n",
    "latent_mlp, latent_mlp_indices = highlight_components(ig_mlp_asymmetry)"
   ]
  },
  {
   "cell_type": "code",
   "execution_count": 30,
   "id": "c1e738b7",
   "metadata": {},
   "outputs": [],
   "source": [
    "torch.save(latent_attn, \"results/case_study/latent_attn.pt\")\n",
    "torch.save(latent_mlp, \"results/case_study/latent_mlp.pt\")"
   ]
  },
  {
   "cell_type": "code",
   "execution_count": 28,
   "id": "7dfacafd",
   "metadata": {},
   "outputs": [
    {
     "data": {
      "image/png": "[encoded data removed]",
      "text/plain": [
       "<Figure size 640x480 with 2 Axes>"
      ]
     },
     "metadata": {},
     "output_type": "display_data"
    }
   ],
   "source": [
    "plot_attn(latent_attn[0].int(), model)"
   ]
  },
  {
   "cell_type": "markdown",
   "id": "09005262",
   "metadata": {},
   "source": [
    "## Attributions under knock out\n",
    "\n",
    "After ablating the most significant components identified in the IOI circuit, we examine the attribution scores of the remaining components, particularly the latent components."
   ]
  },
  {
   "cell_type": "markdown",
   "id": "4d7a2c7b",
   "metadata": {},
   "source": [
    "## Pairwise ablation\n",
    "\n",
    "We pick the latent component (X, Y), and ablate it alongside every significant component and latent component. For each ablated pair, we measure the logit difference to quantify the total effect on the model's output."
   ]
  }
 ],
 "metadata": {
  "kernelspec": {
   "display_name": "fypvenv",
   "language": "python",
   "name": "python3"
  },
  "language_info": {
   "codemirror_mode": {
    "name": "ipython",
    "version": 3
   },
   "file_extension": ".py",
   "mimetype": "text/x-python",
   "name": "python",
   "nbconvert_exporter": "python",
   "pygments_lexer": "ipython3",
   "version": "3.12.3"
  }
 },
 "nbformat": 4,
 "nbformat_minor": 5
}
