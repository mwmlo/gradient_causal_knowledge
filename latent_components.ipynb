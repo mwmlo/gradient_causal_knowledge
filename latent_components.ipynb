{
 "cells": [
  {
   "cell_type": "markdown",
   "id": "d3ca7dff",
   "metadata": {},
   "source": [
    "# Latent components\n",
    "\n",
    "Latent components are model components which only activate in conjunction with other components. They can only be detected by identifying differences in attribution scores between activation patching from clean to corrupt, and activation patching from corrupt to clean."
   ]
  },
  {
   "cell_type": "code",
   "execution_count": null,
   "id": "82f2ca7f",
   "metadata": {},
   "outputs": [],
   "source": [
    "import torch\n",
    "from transformer_lens import HookedTransformer\n",
    "from transformer_lens.utils import get_device\n",
    "\n",
    "from attribution_methods import integrated_gradients, activation_patching\n",
    "from testing import Task, TaskDataset, logit_diff_metric, average_correlation, test_ablated_performance\n",
    "from plotting import plot_attn, plot_attn_comparison, plot_correlation, plot_correlation_comparison"
   ]
  },
  {
   "cell_type": "code",
   "execution_count": null,
   "id": "a5617445",
   "metadata": {},
   "outputs": [],
   "source": [
    "torch.set_grad_enabled(False)\n",
    "\n",
    "device = get_device()\n",
    "model = HookedTransformer.from_pretrained(\"gpt2-small\", device=device)\n",
    "\n",
    "# Explicitly calculate and expose the result for each attention head\n",
    "model.set_use_attn_result(True)\n",
    "model.set_use_hook_mlp_in(True)"
   ]
  },
  {
   "cell_type": "markdown",
   "id": "69bb177c",
   "metadata": {},
   "source": [
    "## Approximating activation patching\n",
    "\n",
    "Hypothesis: integrated gradients can approximate activation patching in either direction.\n",
    "\n",
    "To evaluate this hypothesis, we use 100 samples from the IOI dataset and run:\n",
    "\n",
    "- Activation patching from clean to corrupt\n",
    "- Activation patching from corrupt to clean\n",
    "- Integrated gradients with corrupt input and clean baseline\n",
    "- Integrated gradients with clean input and corrupt baseline\n",
    "\n",
    "We then compare the resulting attribution scores from the four runs."
   ]
  },
  {
   "cell_type": "markdown",
   "id": "0729a170",
   "metadata": {},
   "source": [
    "### Experiment"
   ]
  },
  {
   "cell_type": "code",
   "execution_count": null,
   "id": "a658ec2c",
   "metadata": {},
   "outputs": [],
   "source": [
    "ioi_dataset = TaskDataset(Task.IOI)\n",
    "ioi_dataloader = ioi_dataset.to_dataloader(batch_size=100)\n",
    "\n",
    "clean_input, corrupted_input, labels = next(iter(ioi_dataloader))\n",
    "\n",
    "clean_tokens = model.to_tokens(clean_input)\n",
    "corrupted_tokens = model.to_tokens(corrupted_input)\n",
    "\n",
    "clean_logits, clean_cache = model.run_with_cache(clean_tokens)\n",
    "clean_logit_diff = logit_diff_metric(clean_logits, labels)\n",
    "print(f\"Clean logit difference: {clean_logit_diff}\")\n",
    "\n",
    "corrupted_logits, corrupted_cache = model.run_with_cache(corrupted_tokens)\n",
    "corrupted_logit_diff = logit_diff_metric(corrupted_logits, labels)\n",
    "print(f\"Corrupted logit difference: {corrupted_logit_diff}\")"
   ]
  },
  {
   "cell_type": "code",
   "execution_count": null,
   "id": "3bf1b7f0",
   "metadata": {},
   "outputs": [],
   "source": [
    "ig_clean_corrupt_mlp, ig_clean_corrupt_attn = integrated_gradients(model, clean_tokens, clean_cache, corrupted_cache, logit_diff_metric, labels)\n",
    "\n",
    "torch.save(ig_clean_corrupt_mlp, \"results/latent_components/ig_clean_corrupt_mlp.pt\")\n",
    "torch.save(ig_clean_corrupt_attn, \"results/latent_components/ig_clean_corrupt_attn.pt\")"
   ]
  },
  {
   "cell_type": "code",
   "execution_count": null,
   "id": "bdf5403b",
   "metadata": {},
   "outputs": [],
   "source": [
    "ap_clean_corrupt_mlp, ap_clean_corrupt_attn = activation_patching(model, clean_tokens, clean_cache, clean_logit_diff, corrupted_cache, corrupted_logit_diff, logit_diff_metric, labels)\n",
    "\n",
    "torch.save(ap_clean_corrupt_mlp, \"results/latent_components/ap_clean_corrupt_mlp.pt\")\n",
    "torch.save(ap_clean_corrupt_attn, \"results/latent_components/ap_clean_corrupt_attn.pt\")"
   ]
  },
  {
   "cell_type": "code",
   "execution_count": null,
   "id": "ab37f598",
   "metadata": {},
   "outputs": [],
   "source": [
    "ig_corrupt_clean_mlp, ig_corrupt_clean_attn = integrated_gradients(model, corrupted_tokens, corrupted_cache, clean_cache, logit_diff_metric, labels)\n",
    "\n",
    "torch.save(ig_corrupt_clean_mlp, \"results/latent_components/ig_corrupt_clean_mlp.pt\")\n",
    "torch.save(ig_corrupt_clean_attn, \"results/latent_components/ig_corrupt_clean_attn.pt\")"
   ]
  },
  {
   "cell_type": "code",
   "execution_count": null,
   "id": "6bfd2b94",
   "metadata": {},
   "outputs": [],
   "source": [
    "ap_corrupt_clean_mlp, ap_corrupt_clean_attn = activation_patching(model, corrupted_tokens, corrupted_cache, corrupted_logit_diff, clean_cache, clean_logit_diff, logit_diff_metric, labels)\n",
    "\n",
    "torch.save(ap_corrupt_clean_mlp, \"results/latent_components/ap_corrupt_clean_mlp.pt\")\n",
    "torch.save(ap_corrupt_clean_attn, \"results/latent_components/ap_corrupt_clean_attn.pt\")"
   ]
  },
  {
   "cell_type": "markdown",
   "id": "8d76ba75",
   "metadata": {},
   "source": [
    "### Analysis\n",
    "\n",
    "We first visualise ten results from each of the four runs. We then calculate the average correlation coefficient across all 100 samples."
   ]
  },
  {
   "cell_type": "code",
   "execution_count": null,
   "id": "54e18941",
   "metadata": {},
   "outputs": [],
   "source": [
    "ig_corrupt_clean_mlp = torch.load(\"results/latent_components/ig_corrupt_clean_mlp.pt\")\n",
    "ap_corrupt_clean_mlp = torch.load(\"results/latent_components/ap_corrupt_clean_mlp.pt\")\n",
    "\n",
    "ig_corrupt_clean_attn = torch.load(\"results/latent_components/ig_corrupt_clean_attn.pt\")\n",
    "ap_corrupt_clean_attn = torch.load(\"results/latent_components/ap_corrupt_clean_attn.pt\")\n",
    "\n",
    "ig_clean_corrupt_mlp = torch.load(\"results/latent_components/ig_clean_corrupt_mlp.pt\")\n",
    "ap_clean_corrupt_mlp = torch.load(\"results/latent_components/ap_clean_corrupt_mlp.pt\")\n",
    "\n",
    "ig_clean_corrupt_attn = torch.load(\"results/latent_components/ig_clean_corrupt_attn.pt\")\n",
    "ap_clean_corrupt_attn = torch.load(\"results/latent_components/ap_clean_corrupt_attn.pt\")"
   ]
  },
  {
   "cell_type": "code",
   "execution_count": null,
   "id": "288cfef5",
   "metadata": {},
   "outputs": [],
   "source": [
    "plot_attn_comparison(ig_clean_corrupt_attn[:10], ap_clean_corrupt_attn[:10], model, \"IG clean baseline -> corrupt input\", \"AP clean -> corrupt\")\n",
    "\n",
    "plot_attn_comparison(ig_corrupt_clean_attn[:10], ap_corrupt_clean_attn, model[:10], \"IG corrupt baseline -> clean input\", \"AP corrupt -> clean\")"
   ]
  },
  {
   "cell_type": "code",
   "execution_count": null,
   "id": "4e8b59b3",
   "metadata": {},
   "outputs": [],
   "source": [
    "print(\"Correlation between clean -> corrupt IG and AP\")\n",
    "plot_correlation_comparison(ig_clean_corrupt_mlp[:10], ap_clean_corrupt_mlp[:10], ig_clean_corrupt_attn[:10], ap_clean_corrupt_attn[:10], Task.IOI)"
   ]
  },
  {
   "cell_type": "code",
   "execution_count": null,
   "id": "b67bd486",
   "metadata": {},
   "outputs": [],
   "source": [
    "print(\"Correlation between corrupt -> clean IG and AP\")\n",
    "plot_correlation_comparison(ig_corrupt_clean_mlp[:10], ap_corrupt_clean_mlp[:10], ig_corrupt_clean_attn[:10[:10], Task.IOI)"
   ]
  },
  {
   "cell_type": "code",
   "execution_count": null,
   "id": "0fa002a7",
   "metadata": {},
   "outputs": [],
   "source": [
    "print(f\"Average correlation between clean->corrupt IG and AP (MLP): {average_correlation(ig_clean_corrupt_mlp, ap_clean_corrupt_mlp)}\")\n",
    "print(f\"Average correlation between clean->corrupt IG and AP (attention): {average_correlation(ig_clean_corrupt_attn, ap_clean_corrupt_attn)}\")\n",
    "\n",
    "print(f\"Average correlation between corrupt->clean IG and AP (MLP): {average_correlation(ig_clean_corrupt_mlp, ap_clean_corrupt_mlp)}\")\n",
    "print(f\"Average correlation between corrupt->clean IG and AP (attention): {average_correlation(ig_clean_corrupt_attn, ap_clean_corrupt_attn)}\")"
   ]
  },
  {
   "cell_type": "markdown",
   "id": "7de418ab",
   "metadata": {},
   "source": [
    "## Efficiently identifying latent components\n",
    "\n",
    "Hypothesis: we can efficiently identify latent components using two passes of integrated gradients."
   ]
  }
 ],
 "metadata": {
  "kernelspec": {
   "display_name": ".venv",
   "language": "python",
   "name": "python3"
  },
  "language_info": {
   "name": "python",
   "version": "3.11.6"
  }
 },
 "nbformat": 4,
 "nbformat_minor": 5
}
