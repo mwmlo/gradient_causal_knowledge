{
 "cells": [
  {
   "cell_type": "raw",
   "id": "8138abe5",
   "metadata": {
    "vscode": {
     "languageId": "raw"
    }
   },
   "source": [
    "---\n",
    "title: \"Gradient-based Verification of Circuits\"\n",
    "format:\n",
    "    html:\n",
    "        code-fold: true\n",
    "        toc: true\n",
    "        toc-location: left\n",
    "        embed-resources: true\n",
    "jupyter: python3\n",
    "---"
   ]
  },
  {
   "cell_type": "code",
   "execution_count": 2,
   "id": "f3cd0593",
   "metadata": {},
   "outputs": [],
   "source": [
    "%load_ext autoreload\n",
    "%autoreload 2"
   ]
  },
  {
   "cell_type": "code",
   "execution_count": 3,
   "id": "04c0be6a",
   "metadata": {},
   "outputs": [
    {
     "name": "stderr",
     "output_type": "stream",
     "text": [
      "/vol/bitbucket/mwl21/fypvenv/lib/python3.12/site-packages/tqdm/auto.py:21: TqdmWarning: IProgress not found. Please update jupyter and ipywidgets. See https://ipywidgets.readthedocs.io/en/stable/user_install.html\n",
      "  from .autonotebook import tqdm as notebook_tqdm\n"
     ]
    }
   ],
   "source": [
    "import torch\n",
    "import pandas as pd\n",
    "import numpy as np\n",
    "\n",
    "from functools import partial\n",
    "from typing import Optional\n",
    "\n",
    "from captum.attr import LayerIntegratedGradients\n",
    "\n",
    "from transformer_lens.utils import get_act_name, get_device\n",
    "from transformer_lens import ActivationCache, HookedTransformer, HookedTransformerConfig\n",
    "from transformer_lens.hook_points import HookPoint\n",
    "\n",
    "import seaborn as sns\n",
    "import matplotlib.pyplot as plt\n",
    "from utils import plot_attn"
   ]
  },
  {
   "cell_type": "code",
   "execution_count": 4,
   "id": "ad7ed81e",
   "metadata": {},
   "outputs": [],
   "source": [
    "from enum import Enum\n",
    "from torch.utils.data import Dataset, DataLoader\n",
    "\n",
    "class Task(Enum):\n",
    "    IOI = 1\n",
    "    GENDER_BIAS = 2\n",
    "    GREATER_THAN = 3\n",
    "    CAPITAL_COUNTRY = 4\n",
    "    SVA = 5\n",
    "    HYPERNYMY = 6\n",
    "\n",
    "# Implementation of dataset loader based on https://github.com/hannamw/eap-ig-faithfulness\n",
    "\n",
    "def collate_EAP(xs, task: Task):\n",
    "    clean, corrupted, labels = zip(*xs)\n",
    "    clean = list(clean)\n",
    "    corrupted = list(corrupted)\n",
    "    if task != Task.HYPERNYMY:\n",
    "        labels = torch.tensor(labels)\n",
    "    return clean, corrupted, labels\n",
    "\n",
    "class TaskDataset(Dataset):\n",
    "    def __init__(self, task: Task):\n",
    "        filename = task.name.lower()\n",
    "        self.task = task\n",
    "        self.df = pd.read_csv(f'datasets/{filename}.csv')\n",
    "\n",
    "    def __len__(self):\n",
    "        return len(self.df)\n",
    "    \n",
    "    def shuffle(self):\n",
    "        self.df = self.df.sample(frac=1)\n",
    "\n",
    "    def head(self, n: int):\n",
    "        self.df = self.df.head(n)\n",
    "    \n",
    "    def __getitem__(self, index):\n",
    "        row = self.df.iloc[index]\n",
    "        label = None\n",
    "\n",
    "        if self.task == Task.IOI:\n",
    "            label = [row['correct_idx'], row['incorrect_idx']]\n",
    "            return row['clean'], row['corrupted_hard'], label\n",
    "        \n",
    "        if self.task == Task.GREATER_THAN:\n",
    "            label = row['correct_idx']\n",
    "        elif self.task == Task.HYPERNYMY:\n",
    "            answer = torch.tensor(eval(row['answers_idx']))\n",
    "            corrupted_answer = torch.tensor(eval(row['corrupted_answers_idx']))\n",
    "            label = [answer, corrupted_answer]\n",
    "        elif self.task == Task.CAPITAL_COUNTRY:\n",
    "            label = [row['country_idx'], row['corrupted_country_idx']]\n",
    "        elif self.task == Task.GENDER_BIAS:\n",
    "            label = [row['clean_answer_idx'], row['corrupted_answer_idx']]\n",
    "        elif self.task == Task.SVA:\n",
    "            label = row['plural']\n",
    "        else:\n",
    "            raise ValueError(f'Got invalid task: {self.task}')\n",
    "        \n",
    "        return row['clean'], row['corrupted'], label\n",
    "    \n",
    "    def to_dataloader(self, batch_size: int):\n",
    "        return DataLoader(self, batch_size=batch_size, collate_fn=partial(collate_EAP, task=self.task))"
   ]
  },
  {
   "cell_type": "code",
   "execution_count": 5,
   "id": "60d7a6df",
   "metadata": {},
   "outputs": [],
   "source": [
    "def logit_diff_metric(logits, metric_labels):\n",
    "    correct_index = metric_labels[:, 0]\n",
    "    incorrect_index = metric_labels[:, 1]\n",
    "    logits_last = logits[:, -1, :]\n",
    "    batch_size = logits.size(0)\n",
    "    correct_logits = logits_last[torch.arange(batch_size), correct_index]\n",
    "    incorrect_logits = logits_last[torch.arange(batch_size), incorrect_index]\n",
    "    return correct_logits - incorrect_logits"
   ]
  },
  {
   "cell_type": "code",
   "execution_count": 6,
   "id": "ec2e3f29",
   "metadata": {},
   "outputs": [
    {
     "name": "stdout",
     "output_type": "stream",
     "text": [
      "Loaded pretrained model gpt2-small into HookedTransformer\n"
     ]
    }
   ],
   "source": [
    "torch.set_grad_enabled(False)\n",
    "\n",
    "device = get_device()\n",
    "# device = torch.device(\"cpu\")\n",
    "model = HookedTransformer.from_pretrained(\"gpt2-small\", device=device)\n",
    "\n",
    "# Explicitly calculate and expose the result for each attention head\n",
    "model.set_use_attn_result(True)\n",
    "model.set_use_hook_mlp_in(True)"
   ]
  },
  {
   "cell_type": "markdown",
   "id": "c1e071c4",
   "metadata": {},
   "source": [
    "# Ablation studies"
   ]
  },
  {
   "cell_type": "code",
   "execution_count": 7,
   "id": "6e395976",
   "metadata": {},
   "outputs": [
    {
     "name": "stdout",
     "output_type": "stream",
     "text": [
      "Clean logit difference: tensor([-0.0307, -0.9269, -0.4937,  2.2320,  0.6754,  4.0447, -0.1785,  1.1947,\n",
      "         1.1514,  1.7507], device='cuda:0')\n",
      "Corrupted logit difference: tensor([-0.0387, -0.9451, -0.5103,  2.2153,  0.6299, -3.2074, -0.1823,  1.1766,\n",
      "        -3.0072,  1.7392], device='cuda:0')\n"
     ]
    }
   ],
   "source": [
    "ioi_dataset = TaskDataset(Task.IOI)\n",
    "ioi_dataloader = ioi_dataset.to_dataloader(batch_size=10)\n",
    "\n",
    "clean_input, corrupted_input, labels = next(iter(ioi_dataloader))\n",
    "\n",
    "clean_tokens = model.to_tokens(clean_input)\n",
    "corrupted_tokens = model.to_tokens(corrupted_input)\n",
    "\n",
    "clean_logits, clean_cache = model.run_with_cache(clean_tokens)\n",
    "clean_logit_diff = logit_diff_metric(clean_logits, labels)\n",
    "print(f\"Clean logit difference: {clean_logit_diff}\")\n",
    "\n",
    "corrupted_logits, corrupted_cache = model.run_with_cache(corrupted_tokens)\n",
    "corrupted_logit_diff = logit_diff_metric(corrupted_logits, labels)\n",
    "print(f\"Corrupted logit difference: {corrupted_logit_diff}\")"
   ]
  },
  {
   "cell_type": "code",
   "execution_count": 29,
   "id": "911cda16",
   "metadata": {},
   "outputs": [],
   "source": [
    "ioi_ig_zero_mlp = torch.load(\"saved_results/ioi_ig_zero_mlp.pt\")\n",
    "ioi_ig_zero_attn = torch.load(\"saved_results/ioi_ig_zero_attn.pt\")\n",
    "\n",
    "ioi_ig_mlp = torch.load(\"saved_results/ioi_ig_mlp.pt\")\n",
    "ioi_ig_attn = torch.load(\"saved_results/ioi_ig_attn.pt\")\n",
    "\n",
    "ioi_ap_mlp = torch.load(\"saved_results/ioi_ap_mlp.pt\")\n",
    "ioi_ap_attn = torch.load(\"saved_results/ioi_ap_attn.pt\")\n",
    "\n",
    "ig_zero_mlp, ig_zero_attn = ioi_ig_zero_mlp[0], ioi_ig_zero_attn[0]\n",
    "ig_mlp, ap_mlp, ig_attn, ap_attn = ioi_ig_mlp[0], ioi_ap_mlp[0], ioi_ig_attn[0], ioi_ap_attn[0]"
   ]
  },
  {
   "cell_type": "code",
   "execution_count": 37,
   "id": "f2852cd9",
   "metadata": {},
   "outputs": [],
   "source": [
    "def mask_insignificant(results):\n",
    "    # Only keep components which are above a baseline\n",
    "    mean = torch.mean(results)\n",
    "    std = torch.std(results)\n",
    "    return torch.where(results.abs() > mean + std, results, 0.)"
   ]
  },
  {
   "cell_type": "code",
   "execution_count": 10,
   "id": "33a7759f",
   "metadata": {},
   "outputs": [],
   "source": [
    "def run_ablated_attn(model: HookedTransformer, layer_idx, head_idx, corrupted_cache, metric, metric_labels, *model_args, **model_kwargs):\n",
    "    # Patch in corrupted activations\n",
    "    def ablate_head_hook(act, hook):\n",
    "        act[:, :, head_idx] = corrupted_cache[hook.name][:, :, head_idx]\n",
    "        return act\n",
    "    \n",
    "    layer_name = get_act_name(\"result\", layer_idx)\n",
    "\n",
    "    logits = model.run_with_hooks(*model_args, **model_kwargs, fwd_hooks=[(layer_name, ablate_head_hook)])\n",
    "    return metric(logits, metric_labels)\n",
    "\n",
    "def run_ablated_neuron(model, layer_idx, neuron_idx, corrupted_cache, metric, metric_labels, *model_args, **model_kwargs):\n",
    "    ablate_head_hook = lambda act, hook: corrupted_cache[hook.name][:, :, neuron_idx]\n",
    "    layer_name = get_act_name(\"post\", layer_idx)\n",
    "\n",
    "    logits = model.run_with_hooks(*model_args, **model_kwargs, fwd_hooks=[(layer_name, ablate_head_hook)])\n",
    "    return metric(logits, metric_labels)"
   ]
  },
  {
   "cell_type": "code",
   "execution_count": 20,
   "id": "eb38b053",
   "metadata": {},
   "outputs": [],
   "source": [
    "def test_ablated_ioi_performance(layer_idx, pos, is_attn: bool):\n",
    "    print(f\"Test IOI performance with ablated {layer_idx, pos}\")\n",
    "    test_dataset = TaskDataset(Task.IOI)\n",
    "    test_dataloader = test_dataset.to_dataloader(batch_size=10)\n",
    "\n",
    "    mean_performance = 0\n",
    "    for clean_input, corrupted_input, labels in test_dataloader:\n",
    "        clean_tokens = model.to_tokens(clean_input)\n",
    "        corrupted_tokens = model.to_tokens(corrupted_input)\n",
    "        _, corrupted_cache = model.run_with_cache(corrupted_tokens)\n",
    "        \n",
    "        if is_attn:\n",
    "            performance = run_ablated_attn(model, layer_idx, pos, corrupted_cache, logit_diff_metric, labels, clean_tokens)\n",
    "        else:\n",
    "            performance = run_ablated_neuron(model, layer_idx, pos, corrupted_cache, logit_diff_metric, labels, clean_tokens)\n",
    "        \n",
    "        mean_performance += performance.sum()\n",
    "\n",
    "    mean_performance /= len(test_dataset)\n",
    "    print(f\"Mean performance: {mean_performance}\")\n",
    "    return mean_performance"
   ]
  },
  {
   "cell_type": "code",
   "execution_count": 38,
   "id": "3beaffd1",
   "metadata": {},
   "outputs": [
    {
     "name": "stdout",
     "output_type": "stream",
     "text": [
      "Baseline performance: 0.6607611179351807\n"
     ]
    }
   ],
   "source": [
    "# Baseline performance\n",
    "test_dataset = TaskDataset(Task.IOI)\n",
    "test_dataloader = test_dataset.to_dataloader(batch_size=10)\n",
    "\n",
    "baseline_performance = 0\n",
    "\n",
    "for clean_input, corrupted_input, labels in test_dataloader:\n",
    "    clean_tokens = model.to_tokens(clean_input)\n",
    "    clean_logits, clean_cache = model.run_with_cache(clean_tokens)\n",
    "    baseline_performance += logit_diff_metric(clean_logits, labels).sum(dim=-1)\n",
    "\n",
    "baseline_performance /= len(test_dataset)\n",
    "print(f\"Baseline performance: {baseline_performance}\")"
   ]
  },
  {
   "cell_type": "code",
   "execution_count": 39,
   "id": "88ab291d",
   "metadata": {},
   "outputs": [
    {
     "name": "stdout",
     "output_type": "stream",
     "text": [
      "Test IOI performance with ablated (tensor(0), tensor(6))\n",
      "Mean performance: 0.6678401231765747\n",
      "Test IOI performance with ablated (tensor(0), tensor(8))\n",
      "Mean performance: 0.6605553030967712\n",
      "Test IOI performance with ablated (tensor(1), tensor(9))\n",
      "Mean performance: 0.6594219207763672\n",
      "Test IOI performance with ablated (tensor(3), tensor(4))\n",
      "Mean performance: 0.625079870223999\n",
      "Test IOI performance with ablated (tensor(4), tensor(10))\n",
      "Mean performance: 0.6582724452018738\n",
      "Test IOI performance with ablated (tensor(5), tensor(11))\n",
      "Mean performance: 0.653248131275177\n",
      "Test IOI performance with ablated (tensor(8), tensor(6))\n",
      "Mean performance: 0.3205397129058838\n",
      "Test IOI performance with ablated (tensor(8), tensor(10))\n",
      "Mean performance: 0.26987776160240173\n",
      "Test IOI performance with ablated (tensor(9), tensor(5))\n",
      "Mean performance: 0.6275280117988586\n",
      "Test IOI performance with ablated (tensor(9), tensor(9))\n",
      "Mean performance: 0.4603160321712494\n",
      "Test IOI performance with ablated (tensor(10), tensor(2))\n",
      "Mean performance: 0.6213502883911133\n",
      "Test IOI performance with ablated (tensor(10), tensor(7))\n",
      "Mean performance: 1.2449369430541992\n",
      "Test IOI performance with ablated (tensor(10), tensor(10))\n",
      "Mean performance: 0.5858502388000488\n",
      "Test IOI performance with ablated (tensor(11), tensor(0))\n",
      "Mean performance: 0.6560553312301636\n",
      "Test IOI performance with ablated (tensor(11), tensor(2))\n",
      "Mean performance: 0.8090091943740845\n",
      "Test IOI performance with ablated (tensor(11), tensor(3))\n",
      "Mean performance: 0.6354880332946777\n",
      "Test IOI performance with ablated (tensor(11), tensor(6))\n",
      "Mean performance: 0.6790978908538818\n",
      "Test IOI performance with ablated (tensor(11), tensor(8))\n",
      "Mean performance: 0.6420082449913025\n"
     ]
    }
   ],
   "source": [
    "ap_attn_sig = torch.nonzero(mask_insignificant(ap_attn)) # Shape [n_indices, 2]\n",
    "\n",
    "ap_attn_performances = []\n",
    "for layer_idx, head_idx in ap_attn_sig:\n",
    "    mean_performance = test_ablated_ioi_performance(layer_idx, head_idx, is_attn=True)\n",
    "    ap_attn_performances.append(mean_performance)\n",
    "\n",
    "torch.save(ap_attn_performances, \"saved_results/ap_attn_ablated_performances.pt\")"
   ]
  },
  {
   "cell_type": "code",
   "execution_count": 40,
   "id": "396ea1f3",
   "metadata": {},
   "outputs": [
    {
     "data": {
      "image/png": "[encoded data removed]",
      "text/plain": [
       "<Figure size 1000x400 with 1 Axes>"
      ]
     },
     "metadata": {},
     "output_type": "display_data"
    }
   ],
   "source": [
    "ap_attn_performance_diff = {}\n",
    "\n",
    "for (layer, head), score in zip(ap_attn_sig, ap_attn_performances):\n",
    "    ap_attn_performance_diff[(layer.item(), head.item())] = (score - baseline_performance).item()\n",
    "\n",
    "plt.figure(figsize=(10,4))\n",
    "plt.bar([str(k) for k in ap_attn_performance_diff.keys()], ap_attn_performance_diff.values())\n",
    "plt.tight_layout()\n",
    "plt.show()"
   ]
  },
  {
   "cell_type": "code",
   "execution_count": 41,
   "id": "c6a9361c",
   "metadata": {},
   "outputs": [
    {
     "name": "stdout",
     "output_type": "stream",
     "text": [
      "Test IOI performance with ablated (tensor(0), tensor(4))\n"
     ]
    },
    {
     "name": "stdout",
     "output_type": "stream",
     "text": [
      "Mean performance: 0.6606829762458801\n",
      "Test IOI performance with ablated (tensor(0), tensor(6))\n",
      "Mean performance: 0.6678401231765747\n",
      "Test IOI performance with ablated (tensor(1), tensor(9))\n",
      "Mean performance: 0.6594219207763672\n",
      "Test IOI performance with ablated (tensor(3), tensor(4))\n",
      "Mean performance: 0.625079870223999\n",
      "Test IOI performance with ablated (tensor(4), tensor(10))\n",
      "Mean performance: 0.6582724452018738\n",
      "Test IOI performance with ablated (tensor(5), tensor(11))\n",
      "Mean performance: 0.653248131275177\n",
      "Test IOI performance with ablated (tensor(8), tensor(6))\n",
      "Mean performance: 0.3205397129058838\n",
      "Test IOI performance with ablated (tensor(8), tensor(10))\n",
      "Mean performance: 0.26987776160240173\n",
      "Test IOI performance with ablated (tensor(9), tensor(5))\n",
      "Mean performance: 0.6275280117988586\n",
      "Test IOI performance with ablated (tensor(9), tensor(9))\n",
      "Mean performance: 0.4603160321712494\n",
      "Test IOI performance with ablated (tensor(10), tensor(2))\n",
      "Mean performance: 0.6213502883911133\n",
      "Test IOI performance with ablated (tensor(10), tensor(7))\n",
      "Mean performance: 1.2449369430541992\n",
      "Test IOI performance with ablated (tensor(10), tensor(10))\n",
      "Mean performance: 0.5858502388000488\n",
      "Test IOI performance with ablated (tensor(11), tensor(0))\n",
      "Mean performance: 0.6560553312301636\n",
      "Test IOI performance with ablated (tensor(11), tensor(2))\n",
      "Mean performance: 0.8090091943740845\n",
      "Test IOI performance with ablated (tensor(11), tensor(3))\n",
      "Mean performance: 0.6354880332946777\n",
      "Test IOI performance with ablated (tensor(11), tensor(6))\n",
      "Mean performance: 0.6790978908538818\n",
      "Test IOI performance with ablated (tensor(11), tensor(8))\n",
      "Mean performance: 0.6420082449913025\n"
     ]
    }
   ],
   "source": [
    "ig_attn_sig = torch.nonzero(mask_insignificant(ig_attn)) # Shape [n_indices, 2]\n",
    "\n",
    "ig_attn_performances = []\n",
    "for layer_idx, head_idx in ig_attn_sig:\n",
    "    mean_performance = test_ablated_ioi_performance(layer_idx, head_idx, is_attn=True)\n",
    "    ig_attn_performances.append(mean_performance)\n",
    "\n",
    "torch.save(ig_attn_performances, \"saved_results/ig_attn_ablated_performances.pt\")"
   ]
  },
  {
   "cell_type": "code",
   "execution_count": 42,
   "id": "002fbc61",
   "metadata": {},
   "outputs": [
    {
     "name": "stdout",
     "output_type": "stream",
     "text": [
      "{(0, 4): -7.814168930053711e-05, (0, 6): 0.007079005241394043, (1, 9): -0.0013391971588134766, (3, 4): -0.03568124771118164, (4, 10): -0.0024886727333068848, (5, 11): -0.007512986660003662, (8, 6): -0.3402214050292969, (8, 10): -0.39088335633277893, (9, 5): -0.03323310613632202, (9, 9): -0.20044508576393127, (10, 2): -0.03941082954406738, (10, 7): 0.5841758251190186, (10, 10): -0.07491087913513184, (11, 0): -0.00470578670501709, (11, 2): 0.1482480764389038, (11, 3): -0.02527308464050293, (11, 6): 0.018336772918701172, (11, 8): -0.018752872943878174}\n"
     ]
    },
    {
     "data": {
      "image/png": "[encoded data removed]",
      "text/plain": [
       "<Figure size 1000x400 with 1 Axes>"
      ]
     },
     "metadata": {},
     "output_type": "display_data"
    }
   ],
   "source": [
    "ig_attn_performance_diff = {}\n",
    "\n",
    "for (layer, head), score in zip(ig_attn_sig, ig_attn_performances):\n",
    "    ig_attn_performance_diff[(layer.item(), head.item())] = (score - baseline_performance).item()\n",
    "\n",
    "print(ig_attn_performance_diff)\n",
    "\n",
    "plt.figure(figsize=(10,4))\n",
    "plt.bar([str(k) for k in ig_attn_performance_diff.keys()], ig_attn_performance_diff.values())\n",
    "plt.tight_layout()\n",
    "plt.show()"
   ]
  },
  {
   "cell_type": "code",
   "execution_count": 43,
   "id": "8ac6e62b",
   "metadata": {},
   "outputs": [
    {
     "name": "stdout",
     "output_type": "stream",
     "text": [
      "Attention heads exclusive to IG: {(0, 4)}\n",
      "Attention heads exclusive to AP: {(0, 8)}\n",
      "Attention heads important in IG and AP: {(4, 10), (5, 11), (3, 4), (11, 0), (9, 9), (11, 3), (8, 10), (10, 7), (0, 6), (11, 6), (9, 5), (10, 10), (11, 2), (8, 6), (11, 8), (1, 9), (10, 2)}\n"
     ]
    }
   ],
   "source": [
    "ig_attn_sig_set = set([(layer, head) for layer, head in ig_attn_sig.tolist()])\n",
    "ap_attn_sig_set = set([(layer, head) for layer, head in ap_attn_sig.tolist()])\n",
    "\n",
    "attn_exclusive_to_ig = ig_attn_sig_set - ap_attn_sig_set\n",
    "attn_exclusive_to_ap = ap_attn_sig_set - ig_attn_sig_set\n",
    "attn_agreed = ig_attn_sig_set.intersection(ap_attn_sig_set)\n",
    "\n",
    "print(f\"Attention heads exclusive to IG: {attn_exclusive_to_ig}\")\n",
    "print(f\"Attention heads exclusive to AP: {attn_exclusive_to_ap}\")\n",
    "print(f\"Attention heads important in IG and AP: {attn_agreed}\")"
   ]
  },
  {
   "cell_type": "code",
   "execution_count": 44,
   "id": "1ef4b31f",
   "metadata": {},
   "outputs": [
    {
     "name": "stdout",
     "output_type": "stream",
     "text": [
      "Attention heads also mentioned in paper: {(9, 9), (8, 10), (10, 7), (10, 10), (11, 2), (8, 6), (10, 2)}\n",
      "Attention heads not picked up: {(10, 0), (10, 6), (2, 2), (3, 0), (5, 9), (4, 11), (9, 7), (0, 1), (0, 10), (11, 10), (7, 3), (7, 9), (9, 0), (5, 5), (5, 8), (9, 6), (10, 1), (11, 9), (6, 9)}\n",
      "Spurious attention heads: {(4, 10), (5, 11), (3, 4), (11, 0), (11, 3), (0, 6), (11, 6), (9, 5), (11, 8), (1, 9)}\n"
     ]
    }
   ],
   "source": [
    "ioi_paper_attn_heads = set([(0,1), (3,0), (0,10), (2,2), (4,11), (5,5), (6,9), (5,8), (5,9), (7,3), (7,9), (8,6), (8,10), (10,7), (11,10), (9,9), (9,6), (10,0), (9,0), (9,7), (10,1), (10,2), (10,6), (10,10), (11,2), (11,9)])\n",
    "\n",
    "print(f\"Attention heads also mentioned in paper: {ioi_paper_attn_heads.intersection(attn_agreed)}\")\n",
    "print(f\"Attention heads not picked up: {ioi_paper_attn_heads - attn_agreed}\")\n",
    "print(f\"Spurious attention heads: {attn_agreed - ioi_paper_attn_heads}\")"
   ]
  },
  {
   "cell_type": "code",
   "execution_count": 45,
   "id": "0570d72b",
   "metadata": {},
   "outputs": [
    {
     "name": "stdout",
     "output_type": "stream",
     "text": [
      "Test IOI performance with ablated (tensor(0), tensor(0))\n",
      "Mean performance: 0.6613448262214661\n",
      "Test IOI performance with ablated (tensor(0), tensor(1))\n",
      "Mean performance: 0.6332634091377258\n",
      "Test IOI performance with ablated (tensor(0), tensor(2))\n",
      "Mean performance: 0.660415768623352\n",
      "Test IOI performance with ablated (tensor(0), tensor(5))\n",
      "Mean performance: 0.660062313079834\n",
      "Test IOI performance with ablated (tensor(0), tensor(6))\n",
      "Mean performance: 0.6678401231765747\n",
      "Test IOI performance with ablated (tensor(0), tensor(7))\n",
      "Mean performance: 0.6609131693840027\n",
      "Test IOI performance with ablated (tensor(0), tensor(8))\n",
      "Mean performance: 0.6605553030967712\n",
      "Test IOI performance with ablated (tensor(0), tensor(9))\n",
      "Mean performance: 0.6601138114929199\n",
      "Test IOI performance with ablated (tensor(0), tensor(10))\n",
      "Mean performance: 0.6625092029571533\n",
      "Test IOI performance with ablated (tensor(1), tensor(4))\n",
      "Mean performance: 0.6621139645576477\n",
      "Test IOI performance with ablated (tensor(1), tensor(8))\n",
      "Mean performance: 0.6597142815589905\n",
      "Test IOI performance with ablated (tensor(2), tensor(10))\n",
      "Mean performance: 0.6619985699653625\n",
      "Test IOI performance with ablated (tensor(2), tensor(11))\n",
      "Mean performance: 0.659731388092041\n",
      "Test IOI performance with ablated (tensor(6), tensor(2))\n",
      "Mean performance: 0.6606764793395996\n",
      "Test IOI performance with ablated (tensor(8), tensor(0))\n",
      "Mean performance: 0.6633226275444031\n",
      "Test IOI performance with ablated (tensor(8), tensor(10))\n",
      "Mean performance: 0.26987776160240173\n",
      "Test IOI performance with ablated (tensor(9), tensor(4))\n",
      "Mean performance: 0.6968041658401489\n",
      "Test IOI performance with ablated (tensor(9), tensor(9))\n",
      "Mean performance: 0.4603160321712494\n",
      "Test IOI performance with ablated (tensor(10), tensor(0))\n",
      "Mean performance: 0.4728143513202667\n",
      "Test IOI performance with ablated (tensor(10), tensor(2))\n",
      "Mean performance: 0.6213502883911133\n",
      "Test IOI performance with ablated (tensor(10), tensor(6))\n",
      "Mean performance: 0.576394259929657\n",
      "Test IOI performance with ablated (tensor(10), tensor(9))\n",
      "Mean performance: 0.6523271799087524\n",
      "Test IOI performance with ablated (tensor(11), tensor(1))\n",
      "Mean performance: 0.659042239189148\n",
      "Test IOI performance with ablated (tensor(11), tensor(8))\n",
      "Mean performance: 0.6420082449913025\n"
     ]
    }
   ],
   "source": [
    "ig_zero_attn_sig = torch.nonzero(mask_insignificant(ig_zero_attn)) # Shape [n_indices, 2]\n",
    "\n",
    "ig_zero_attn_performances = []\n",
    "for layer_idx, head_idx in ig_zero_attn_sig:\n",
    "    mean_performance = test_ablated_ioi_performance(layer_idx, head_idx, is_attn=True)\n",
    "    ig_zero_attn_performances.append(mean_performance)\n",
    "\n",
    "torch.save(ig_zero_attn_performances, \"saved_results/ig_zero_attn_performances.pt\")"
   ]
  },
  {
   "cell_type": "code",
   "execution_count": 46,
   "id": "de19afa6",
   "metadata": {},
   "outputs": [
    {
     "name": "stdout",
     "output_type": "stream",
     "text": [
      "{(0, 0): 0.0005837082862854004, (0, 1): -0.027497708797454834, (0, 2): -0.0003453493118286133, (0, 5): -0.0006988048553466797, (0, 6): 0.007079005241394043, (0, 7): 0.00015205144882202148, (0, 8): -0.00020581483840942383, (0, 9): -0.0006473064422607422, (0, 10): 0.0017480850219726562, (1, 4): 0.001352846622467041, (1, 8): -0.0010468363761901855, (2, 10): 0.0012374520301818848, (2, 11): -0.0010297298431396484, (6, 2): -8.463859558105469e-05, (8, 0): 0.002561509609222412, (8, 10): -0.39088335633277893, (9, 4): 0.03604304790496826, (9, 9): -0.20044508576393127, (10, 0): -0.18794676661491394, (10, 2): -0.03941082954406738, (10, 6): -0.08436685800552368, (10, 9): -0.008433938026428223, (11, 1): -0.0017188787460327148, (11, 8): -0.018752872943878174}\n"
     ]
    },
    {
     "data": {
      "image/png": "[encoded data removed]",
      "text/plain": [
       "<Figure size 1000x400 with 1 Axes>"
      ]
     },
     "metadata": {},
     "output_type": "display_data"
    }
   ],
   "source": [
    "ig_zero_attn_performance_diff = {}\n",
    "\n",
    "for (layer, head), score in zip(ig_zero_attn_sig, ig_zero_attn_performances):\n",
    "    ig_zero_attn_performance_diff[(layer.item(), head.item())] = (score - baseline_performance).item()\n",
    "\n",
    "print(ig_zero_attn_performance_diff)\n",
    "\n",
    "plt.figure(figsize=(10,4))\n",
    "plt.bar([str(k) for k in ig_zero_attn_performance_diff.keys()], ig_zero_attn_performance_diff.values())\n",
    "plt.tight_layout()\n",
    "plt.show()"
   ]
  },
  {
   "cell_type": "code",
   "execution_count": 47,
   "id": "4ede6531",
   "metadata": {},
   "outputs": [
    {
     "name": "stdout",
     "output_type": "stream",
     "text": [
      "Attention heads exclusive to IG: {(0, 1), (0, 7), (6, 2), (11, 1), (0, 10), (0, 0), (2, 10), (1, 8), (0, 9), (8, 0), (1, 4), (0, 2), (10, 0), (10, 6), (0, 5), (10, 9), (2, 11), (9, 4)}\n",
      "Attention heads exclusive to AP: {(4, 10), (5, 11), (3, 4), (11, 0), (11, 3), (10, 7), (11, 6), (9, 5), (10, 10), (11, 2), (8, 6), (1, 9)}\n",
      "Attention heads important in IG and AP: {(9, 9), (8, 10), (0, 6), (0, 8), (10, 2), (11, 8)}\n",
      "Attention heads also mentioned in paper: {(0, 1), (0, 10), (9, 9), (8, 10), (10, 7), (10, 10), (11, 2), (10, 0), (10, 6), (8, 6), (10, 2)}\n",
      "Attention heads not picked up: {(9, 0), (5, 5), (11, 10), (5, 8), (6, 9), (9, 6), (10, 1), (11, 9), (3, 0), (7, 3), (7, 9), (2, 2), (5, 9), (4, 11), (9, 7)}\n",
      "Spurious attention heads: {(3, 4), (8, 0), (9, 5), (0, 2), (0, 5), (10, 9), (0, 8), (11, 8), (2, 11), (1, 9), (6, 2), (9, 4), (11, 1), (0, 7), (2, 10), (1, 8), (4, 10), (5, 11), (0, 0), (11, 0), (11, 3), (0, 9), (1, 4), (0, 6), (11, 6)}\n"
     ]
    }
   ],
   "source": [
    "ig_zero_attn_sig_set = set([(layer, head) for layer, head in ig_zero_attn_sig.tolist()])\n",
    "attn_exclusive_to_ig_zero = ig_zero_attn_sig_set - ap_attn_sig_set\n",
    "attn_exclusive_to_ap_zero = ap_attn_sig_set - ig_zero_attn_sig_set\n",
    "attn_agreed_zero = ig_zero_attn_sig_set.intersection(ap_attn_sig_set)\n",
    "attn_total_zero = ig_zero_attn_sig_set.union(ap_attn_sig_set)\n",
    "\n",
    "print(f\"Attention heads exclusive to IG: {attn_exclusive_to_ig_zero}\")\n",
    "print(f\"Attention heads exclusive to AP: {attn_exclusive_to_ap_zero}\")\n",
    "print(f\"Attention heads important in IG and AP: {attn_agreed_zero}\")\n",
    "\n",
    "print(f\"Attention heads also mentioned in paper: {ioi_paper_attn_heads.intersection(attn_total_zero)}\")\n",
    "print(f\"Attention heads not picked up: {ioi_paper_attn_heads - attn_total_zero}\")\n",
    "print(f\"Spurious attention heads: {attn_total_zero - ioi_paper_attn_heads}\")"
   ]
  },
  {
   "cell_type": "code",
   "execution_count": 49,
   "id": "856459c3",
   "metadata": {},
   "outputs": [
    {
     "data": {
      "image/png": "[encoded data removed]",
      "text/plain": [
       "<Figure size 640x480 with 2 Axes>"
      ]
     },
     "metadata": {},
     "output_type": "display_data"
    },
    {
     "data": {
      "image/png": "[encoded data removed]",
      "text/plain": [
       "<Figure size 640x480 with 2 Axes>"
      ]
     },
     "metadata": {},
     "output_type": "display_data"
    },
    {
     "data": {
      "image/png": "[encoded data removed]",
      "text/plain": [
       "<Figure size 640x480 with 2 Axes>"
      ]
     },
     "metadata": {},
     "output_type": "display_data"
    }
   ],
   "source": [
    "plot_attn(ig_attn, model)\n",
    "plot_attn(ap_attn, model)\n",
    "plot_attn(ig_zero_attn, model)"
   ]
  }
 ],
 "metadata": {
  "kernelspec": {
   "display_name": "fypvenv",
   "language": "python",
   "name": "python3"
  },
  "language_info": {
   "codemirror_mode": {
    "name": "ipython",
    "version": 3
   },
   "file_extension": ".py",
   "mimetype": "text/x-python",
   "name": "python",
   "nbconvert_exporter": "python",
   "pygments_lexer": "ipython3",
   "version": "3.12.3"
  }
 },
 "nbformat": 4,
 "nbformat_minor": 5
}
