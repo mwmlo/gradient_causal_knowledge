{
 "cells": [
  {
   "cell_type": "code",
   "execution_count": 1,
   "id": "a3b56745",
   "metadata": {},
   "outputs": [
    {
     "name": "stderr",
     "output_type": "stream",
     "text": [
      "/vol/bitbucket/mwl21/fypvenv/lib/python3.12/site-packages/tqdm/auto.py:21: TqdmWarning: IProgress not found. Please update jupyter and ipywidgets. See https://ipywidgets.readthedocs.io/en/stable/user_install.html\n",
      "  from .autonotebook import tqdm as notebook_tqdm\n"
     ]
    }
   ],
   "source": [
    "import torch\n",
    "from torch import Tensor\n",
    "from transformer_lens import HookedTransformer\n",
    "from transformer_lens.utils import get_device\n"
   ]
  },
  {
   "cell_type": "code",
   "execution_count": 2,
   "id": "9e0e1c8c",
   "metadata": {},
   "outputs": [
    {
     "name": "stdout",
     "output_type": "stream",
     "text": [
      "Loaded pretrained model gpt2-small into HookedTransformer\n"
     ]
    }
   ],
   "source": [
    "device = get_device()\n",
    "model = HookedTransformer.from_pretrained(\"gpt2-small\", device=device)\n",
    "\n",
    "# Explicitly calculate and expose the result for each attention head\n",
    "model.set_use_attn_result(True)\n",
    "model.set_use_hook_mlp_in(True)"
   ]
  },
  {
   "cell_type": "code",
   "execution_count": 15,
   "id": "fe788457",
   "metadata": {},
   "outputs": [
    {
     "name": "stdout",
     "output_type": "stream",
     "text": [
      "[None, <re.Match object; span=(0, 37), match='The mother tongue of Douglas Adams is'>, None]\n"
     ]
    }
   ],
   "source": [
    "import re\n",
    "\n",
    "template = \"The mother tongue of {} is\"\n",
    "candidates = [\n",
    "    \"JRR Tolkien is a native speaker of\",\n",
    "    \"The mother tongue of Douglas Adams is\",\n",
    "    \"Barack Obama, speaker of\"]\n",
    "\n",
    "# Convert template to regex pattern (escape and replace {})\n",
    "template_regex = re.escape(template).replace(r\"\\{\\}\", r\".+\")\n",
    "pattern = re.compile(f\"^{template_regex}$\")\n",
    "\n",
    "matches = [pattern.fullmatch(c) for c in candidates]\n",
    "print(matches)  # True means same structure"
   ]
  },
  {
   "cell_type": "code",
   "execution_count": 9,
   "id": "ef7196a3",
   "metadata": {},
   "outputs": [
    {
     "name": "stdout",
     "output_type": "stream",
     "text": [
      "torch.float32 torch.float32\n",
      "torch.Size([3])\n",
      "tensor([0.8345, 0.6179, 0.7897], device='cuda:0')\n"
     ]
    }
   ],
   "source": [
    "import torch.nn.functional as F\n",
    "\n",
    "corrupt_tokens = model.to_tokens(\n",
    "    [\"JRR Tolkien is a native speaker of\",\n",
    "    \"The mother tongue of Douglas Adams is\",\n",
    "    \"Barack Obama, speaker of\"]).to(dtype=torch.float32)\n",
    "original_tokens = model.to_tokens(\"The mother tongue of Daniel Radcliffe is\").to(dtype=torch.float32)\n",
    "\n",
    "print(original_tokens.dtype, corrupt_tokens.dtype)\n",
    "\n",
    "similarities = F.cosine_similarity(original_tokens, corrupt_tokens)\n",
    "\n",
    "print(similarities.shape)\n",
    "print(similarities)"
   ]
  },
  {
   "cell_type": "code",
   "execution_count": 21,
   "id": "51f74a49",
   "metadata": {},
   "outputs": [
    {
     "name": "stdout",
     "output_type": "stream",
     "text": [
      "embed.W_E\n",
      "pos_embed.W_pos\n",
      "blocks.0.attn.W_Q\n",
      "blocks.0.attn.W_O\n",
      "blocks.0.attn.b_Q\n",
      "blocks.0.attn.b_O\n",
      "blocks.0.attn.W_K\n",
      "blocks.0.attn.W_V\n",
      "blocks.0.attn.b_K\n",
      "blocks.0.attn.b_V\n",
      "blocks.0.mlp.W_in\n",
      "blocks.0.mlp.b_in\n",
      "blocks.0.mlp.W_out\n",
      "blocks.0.mlp.b_out\n",
      "blocks.1.attn.W_Q\n",
      "blocks.1.attn.W_O\n",
      "blocks.1.attn.b_Q\n",
      "blocks.1.attn.b_O\n",
      "blocks.1.attn.W_K\n",
      "blocks.1.attn.W_V\n",
      "blocks.1.attn.b_K\n",
      "blocks.1.attn.b_V\n",
      "blocks.1.mlp.W_in\n",
      "blocks.1.mlp.b_in\n",
      "blocks.1.mlp.W_out\n",
      "blocks.1.mlp.b_out\n",
      "blocks.2.attn.W_Q\n",
      "blocks.2.attn.W_O\n",
      "blocks.2.attn.b_Q\n",
      "blocks.2.attn.b_O\n",
      "blocks.2.attn.W_K\n",
      "blocks.2.attn.W_V\n",
      "blocks.2.attn.b_K\n",
      "blocks.2.attn.b_V\n",
      "blocks.2.mlp.W_in\n",
      "blocks.2.mlp.b_in\n",
      "blocks.2.mlp.W_out\n",
      "blocks.2.mlp.b_out\n",
      "blocks.3.attn.W_Q\n",
      "blocks.3.attn.W_O\n",
      "blocks.3.attn.b_Q\n",
      "blocks.3.attn.b_O\n",
      "blocks.3.attn.W_K\n",
      "blocks.3.attn.W_V\n",
      "blocks.3.attn.b_K\n",
      "blocks.3.attn.b_V\n",
      "blocks.3.mlp.W_in\n",
      "blocks.3.mlp.b_in\n",
      "blocks.3.mlp.W_out\n",
      "blocks.3.mlp.b_out\n",
      "blocks.4.attn.W_Q\n",
      "blocks.4.attn.W_O\n",
      "blocks.4.attn.b_Q\n",
      "blocks.4.attn.b_O\n",
      "blocks.4.attn.W_K\n",
      "blocks.4.attn.W_V\n",
      "blocks.4.attn.b_K\n",
      "blocks.4.attn.b_V\n",
      "blocks.4.mlp.W_in\n",
      "blocks.4.mlp.b_in\n",
      "blocks.4.mlp.W_out\n",
      "blocks.4.mlp.b_out\n",
      "blocks.5.attn.W_Q\n",
      "blocks.5.attn.W_O\n",
      "blocks.5.attn.b_Q\n",
      "blocks.5.attn.b_O\n",
      "blocks.5.attn.W_K\n",
      "blocks.5.attn.W_V\n",
      "blocks.5.attn.b_K\n",
      "blocks.5.attn.b_V\n",
      "blocks.5.mlp.W_in\n",
      "blocks.5.mlp.b_in\n",
      "blocks.5.mlp.W_out\n",
      "blocks.5.mlp.b_out\n",
      "blocks.6.attn.W_Q\n",
      "blocks.6.attn.W_O\n",
      "blocks.6.attn.b_Q\n",
      "blocks.6.attn.b_O\n",
      "blocks.6.attn.W_K\n",
      "blocks.6.attn.W_V\n",
      "blocks.6.attn.b_K\n",
      "blocks.6.attn.b_V\n",
      "blocks.6.mlp.W_in\n",
      "blocks.6.mlp.b_in\n",
      "blocks.6.mlp.W_out\n",
      "blocks.6.mlp.b_out\n",
      "blocks.7.attn.W_Q\n",
      "blocks.7.attn.W_O\n",
      "blocks.7.attn.b_Q\n",
      "blocks.7.attn.b_O\n",
      "blocks.7.attn.W_K\n",
      "blocks.7.attn.W_V\n",
      "blocks.7.attn.b_K\n",
      "blocks.7.attn.b_V\n",
      "blocks.7.mlp.W_in\n",
      "blocks.7.mlp.b_in\n",
      "blocks.7.mlp.W_out\n",
      "blocks.7.mlp.b_out\n",
      "blocks.8.attn.W_Q\n",
      "blocks.8.attn.W_O\n",
      "blocks.8.attn.b_Q\n",
      "blocks.8.attn.b_O\n",
      "blocks.8.attn.W_K\n",
      "blocks.8.attn.W_V\n",
      "blocks.8.attn.b_K\n",
      "blocks.8.attn.b_V\n",
      "blocks.8.mlp.W_in\n",
      "blocks.8.mlp.b_in\n",
      "blocks.8.mlp.W_out\n",
      "blocks.8.mlp.b_out\n",
      "blocks.9.attn.W_Q\n",
      "blocks.9.attn.W_O\n",
      "blocks.9.attn.b_Q\n",
      "blocks.9.attn.b_O\n",
      "blocks.9.attn.W_K\n",
      "blocks.9.attn.W_V\n",
      "blocks.9.attn.b_K\n",
      "blocks.9.attn.b_V\n",
      "blocks.9.mlp.W_in\n",
      "blocks.9.mlp.b_in\n",
      "blocks.9.mlp.W_out\n",
      "blocks.9.mlp.b_out\n",
      "blocks.10.attn.W_Q\n",
      "blocks.10.attn.W_O\n",
      "blocks.10.attn.b_Q\n",
      "blocks.10.attn.b_O\n",
      "blocks.10.attn.W_K\n",
      "blocks.10.attn.W_V\n",
      "blocks.10.attn.b_K\n",
      "blocks.10.attn.b_V\n",
      "blocks.10.mlp.W_in\n",
      "blocks.10.mlp.b_in\n",
      "blocks.10.mlp.W_out\n",
      "blocks.10.mlp.b_out\n",
      "blocks.11.attn.W_Q\n",
      "blocks.11.attn.W_O\n",
      "blocks.11.attn.b_Q\n",
      "blocks.11.attn.b_O\n",
      "blocks.11.attn.W_K\n",
      "blocks.11.attn.W_V\n",
      "blocks.11.attn.b_K\n",
      "blocks.11.attn.b_V\n",
      "blocks.11.mlp.W_in\n",
      "blocks.11.mlp.b_in\n",
      "blocks.11.mlp.W_out\n",
      "blocks.11.mlp.b_out\n",
      "unembed.W_U\n",
      "unembed.b_U\n"
     ]
    }
   ],
   "source": [
    "for name, param in model.named_parameters():\n",
    "    if param.requires_grad:\n",
    "        print(name)"
   ]
  }
 ],
 "metadata": {
  "kernelspec": {
   "display_name": "fypvenv",
   "language": "python",
   "name": "python3"
  },
  "language_info": {
   "codemirror_mode": {
    "name": "ipython",
    "version": 3
   },
   "file_extension": ".py",
   "mimetype": "text/x-python",
   "name": "python",
   "nbconvert_exporter": "python",
   "pygments_lexer": "ipython3",
   "version": "3.12.3"
  }
 },
 "nbformat": 4,
 "nbformat_minor": 5
}
