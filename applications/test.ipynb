{
 "cells": [
  {
   "cell_type": "code",
   "execution_count": 3,
   "id": "a3b56745",
   "metadata": {},
   "outputs": [
    {
     "name": "stderr",
     "output_type": "stream",
     "text": [
      "/vol/bitbucket/mwl21/fypvenv/lib/python3.12/site-packages/tqdm/auto.py:21: TqdmWarning: IProgress not found. Please update jupyter and ipywidgets. See https://ipywidgets.readthedocs.io/en/stable/user_install.html\n",
      "  from .autonotebook import tqdm as notebook_tqdm\n"
     ]
    }
   ],
   "source": [
    "import torch\n",
    "from torch import Tensor\n",
    "from transformer_lens import HookedTransformer\n",
    "from transformer_lens.utils import get_device\n"
   ]
  },
  {
   "cell_type": "code",
   "execution_count": 4,
   "id": "9e0e1c8c",
   "metadata": {},
   "outputs": [
    {
     "name": "stdout",
     "output_type": "stream",
     "text": [
      "Loaded pretrained model gpt2-small into HookedTransformer\n"
     ]
    }
   ],
   "source": [
    "device = get_device()\n",
    "model = HookedTransformer.from_pretrained(\"gpt2-small\", device=device)\n",
    "\n",
    "# Explicitly calculate and expose the result for each attention head\n",
    "model.set_use_attn_result(True)\n",
    "model.set_use_hook_mlp_in(True)"
   ]
  },
  {
   "cell_type": "code",
   "execution_count": 22,
   "id": "9c985e78",
   "metadata": {},
   "outputs": [],
   "source": [
    "for param in model.parameters():\n",
    "    param.requires_grad = False"
   ]
  },
  {
   "cell_type": "code",
   "execution_count": 40,
   "id": "fd8d41c2",
   "metadata": {},
   "outputs": [
    {
     "data": {
      "text/plain": [
       "(torch.Size([12, 768, 64]),\n",
       " torch.Size([12, 768, 64]),\n",
       " torch.Size([12, 768, 64]),\n",
       " torch.Size([12, 64, 768]))"
      ]
     },
     "execution_count": 40,
     "metadata": {},
     "output_type": "execute_result"
    }
   ],
   "source": [
    "model.blocks[0].attn.W_K.shape, model.blocks[0].attn.W_Q.shape, model.blocks[0].attn.W_V.shape, model.blocks[0].attn.W_O.shape"
   ]
  },
  {
   "cell_type": "code",
   "execution_count": 42,
   "id": "448be791",
   "metadata": {},
   "outputs": [
    {
     "data": {
      "text/plain": [
       "(torch.Size([768, 3072]), torch.Size([3072, 768]))"
      ]
     },
     "execution_count": 42,
     "metadata": {},
     "output_type": "execute_result"
    }
   ],
   "source": [
    "model.blocks[0].mlp.W_in.shape, model.blocks[0].mlp.W_out.shape"
   ]
  },
  {
   "cell_type": "code",
   "execution_count": 31,
   "id": "489966d1",
   "metadata": {},
   "outputs": [
    {
     "name": "stdout",
     "output_type": "stream",
     "text": [
      "torch.Size([768, 64])\n",
      "False\n",
      "False\n",
      "False\n"
     ]
    }
   ],
   "source": [
    "print(model.blocks[0].attn.W_K[0].shape)\n",
    "model.blocks[0].attn.W_K[0].requires_grad = True\n",
    "\n",
    "print(model.blocks[0].attn.W_K[0].requires_grad)\n",
    "print(model.blocks[0].attn.W_K[0, 1].requires_grad)\n",
    "print(model.blocks[0].attn.W_K[1].requires_grad)"
   ]
  },
  {
   "cell_type": "code",
   "execution_count": 21,
   "id": "51f74a49",
   "metadata": {},
   "outputs": [
    {
     "name": "stdout",
     "output_type": "stream",
     "text": [
      "embed.W_E\n",
      "pos_embed.W_pos\n",
      "blocks.0.attn.W_Q\n",
      "blocks.0.attn.W_O\n",
      "blocks.0.attn.b_Q\n",
      "blocks.0.attn.b_O\n",
      "blocks.0.attn.W_K\n",
      "blocks.0.attn.W_V\n",
      "blocks.0.attn.b_K\n",
      "blocks.0.attn.b_V\n",
      "blocks.0.mlp.W_in\n",
      "blocks.0.mlp.b_in\n",
      "blocks.0.mlp.W_out\n",
      "blocks.0.mlp.b_out\n",
      "blocks.1.attn.W_Q\n",
      "blocks.1.attn.W_O\n",
      "blocks.1.attn.b_Q\n",
      "blocks.1.attn.b_O\n",
      "blocks.1.attn.W_K\n",
      "blocks.1.attn.W_V\n",
      "blocks.1.attn.b_K\n",
      "blocks.1.attn.b_V\n",
      "blocks.1.mlp.W_in\n",
      "blocks.1.mlp.b_in\n",
      "blocks.1.mlp.W_out\n",
      "blocks.1.mlp.b_out\n",
      "blocks.2.attn.W_Q\n",
      "blocks.2.attn.W_O\n",
      "blocks.2.attn.b_Q\n",
      "blocks.2.attn.b_O\n",
      "blocks.2.attn.W_K\n",
      "blocks.2.attn.W_V\n",
      "blocks.2.attn.b_K\n",
      "blocks.2.attn.b_V\n",
      "blocks.2.mlp.W_in\n",
      "blocks.2.mlp.b_in\n",
      "blocks.2.mlp.W_out\n",
      "blocks.2.mlp.b_out\n",
      "blocks.3.attn.W_Q\n",
      "blocks.3.attn.W_O\n",
      "blocks.3.attn.b_Q\n",
      "blocks.3.attn.b_O\n",
      "blocks.3.attn.W_K\n",
      "blocks.3.attn.W_V\n",
      "blocks.3.attn.b_K\n",
      "blocks.3.attn.b_V\n",
      "blocks.3.mlp.W_in\n",
      "blocks.3.mlp.b_in\n",
      "blocks.3.mlp.W_out\n",
      "blocks.3.mlp.b_out\n",
      "blocks.4.attn.W_Q\n",
      "blocks.4.attn.W_O\n",
      "blocks.4.attn.b_Q\n",
      "blocks.4.attn.b_O\n",
      "blocks.4.attn.W_K\n",
      "blocks.4.attn.W_V\n",
      "blocks.4.attn.b_K\n",
      "blocks.4.attn.b_V\n",
      "blocks.4.mlp.W_in\n",
      "blocks.4.mlp.b_in\n",
      "blocks.4.mlp.W_out\n",
      "blocks.4.mlp.b_out\n",
      "blocks.5.attn.W_Q\n",
      "blocks.5.attn.W_O\n",
      "blocks.5.attn.b_Q\n",
      "blocks.5.attn.b_O\n",
      "blocks.5.attn.W_K\n",
      "blocks.5.attn.W_V\n",
      "blocks.5.attn.b_K\n",
      "blocks.5.attn.b_V\n",
      "blocks.5.mlp.W_in\n",
      "blocks.5.mlp.b_in\n",
      "blocks.5.mlp.W_out\n",
      "blocks.5.mlp.b_out\n",
      "blocks.6.attn.W_Q\n",
      "blocks.6.attn.W_O\n",
      "blocks.6.attn.b_Q\n",
      "blocks.6.attn.b_O\n",
      "blocks.6.attn.W_K\n",
      "blocks.6.attn.W_V\n",
      "blocks.6.attn.b_K\n",
      "blocks.6.attn.b_V\n",
      "blocks.6.mlp.W_in\n",
      "blocks.6.mlp.b_in\n",
      "blocks.6.mlp.W_out\n",
      "blocks.6.mlp.b_out\n",
      "blocks.7.attn.W_Q\n",
      "blocks.7.attn.W_O\n",
      "blocks.7.attn.b_Q\n",
      "blocks.7.attn.b_O\n",
      "blocks.7.attn.W_K\n",
      "blocks.7.attn.W_V\n",
      "blocks.7.attn.b_K\n",
      "blocks.7.attn.b_V\n",
      "blocks.7.mlp.W_in\n",
      "blocks.7.mlp.b_in\n",
      "blocks.7.mlp.W_out\n",
      "blocks.7.mlp.b_out\n",
      "blocks.8.attn.W_Q\n",
      "blocks.8.attn.W_O\n",
      "blocks.8.attn.b_Q\n",
      "blocks.8.attn.b_O\n",
      "blocks.8.attn.W_K\n",
      "blocks.8.attn.W_V\n",
      "blocks.8.attn.b_K\n",
      "blocks.8.attn.b_V\n",
      "blocks.8.mlp.W_in\n",
      "blocks.8.mlp.b_in\n",
      "blocks.8.mlp.W_out\n",
      "blocks.8.mlp.b_out\n",
      "blocks.9.attn.W_Q\n",
      "blocks.9.attn.W_O\n",
      "blocks.9.attn.b_Q\n",
      "blocks.9.attn.b_O\n",
      "blocks.9.attn.W_K\n",
      "blocks.9.attn.W_V\n",
      "blocks.9.attn.b_K\n",
      "blocks.9.attn.b_V\n",
      "blocks.9.mlp.W_in\n",
      "blocks.9.mlp.b_in\n",
      "blocks.9.mlp.W_out\n",
      "blocks.9.mlp.b_out\n",
      "blocks.10.attn.W_Q\n",
      "blocks.10.attn.W_O\n",
      "blocks.10.attn.b_Q\n",
      "blocks.10.attn.b_O\n",
      "blocks.10.attn.W_K\n",
      "blocks.10.attn.W_V\n",
      "blocks.10.attn.b_K\n",
      "blocks.10.attn.b_V\n",
      "blocks.10.mlp.W_in\n",
      "blocks.10.mlp.b_in\n",
      "blocks.10.mlp.W_out\n",
      "blocks.10.mlp.b_out\n",
      "blocks.11.attn.W_Q\n",
      "blocks.11.attn.W_O\n",
      "blocks.11.attn.b_Q\n",
      "blocks.11.attn.b_O\n",
      "blocks.11.attn.W_K\n",
      "blocks.11.attn.W_V\n",
      "blocks.11.attn.b_K\n",
      "blocks.11.attn.b_V\n",
      "blocks.11.mlp.W_in\n",
      "blocks.11.mlp.b_in\n",
      "blocks.11.mlp.W_out\n",
      "blocks.11.mlp.b_out\n",
      "unembed.W_U\n",
      "unembed.b_U\n"
     ]
    }
   ],
   "source": [
    "for name, param in model.named_parameters():\n",
    "    if param.requires_grad:\n",
    "        print(name)"
   ]
  }
 ],
 "metadata": {
  "kernelspec": {
   "display_name": "fypvenv",
   "language": "python",
   "name": "python3"
  },
  "language_info": {
   "codemirror_mode": {
    "name": "ipython",
    "version": 3
   },
   "file_extension": ".py",
   "mimetype": "text/x-python",
   "name": "python",
   "nbconvert_exporter": "python",
   "pygments_lexer": "ipython3",
   "version": "3.12.3"
  }
 },
 "nbformat": 4,
 "nbformat_minor": 5
}
