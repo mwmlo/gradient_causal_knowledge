{
 "cells": [
  {
   "cell_type": "markdown",
   "id": "087a33ab",
   "metadata": {},
   "source": [
    "# Model Editing\n",
    "\n",
    "We use our IG and AP pipeline to localise important components. These components are edited using gradient descent to \"unlearn\" information. We evaluate our results on the CounterFact dataset."
   ]
  },
  {
   "cell_type": "code",
   "execution_count": 1,
   "id": "68e36db2",
   "metadata": {},
   "outputs": [],
   "source": [
    "%load_ext autoreload\n",
    "%autoreload 2"
   ]
  },
  {
   "cell_type": "code",
   "execution_count": 2,
   "id": "a3b56745",
   "metadata": {},
   "outputs": [
    {
     "name": "stderr",
     "output_type": "stream",
     "text": [
      "/vol/bitbucket/mwl21/fypvenv/lib/python3.12/site-packages/tqdm/auto.py:21: TqdmWarning: IProgress not found. Please update jupyter and ipywidgets. See https://ipywidgets.readthedocs.io/en/stable/user_install.html\n",
      "  from .autonotebook import tqdm as notebook_tqdm\n"
     ]
    }
   ],
   "source": [
    "import torch\n",
    "from torch import Tensor\n",
    "import torch.optim as optim\n",
    "\n",
    "from testing import logit_diff_metric\n",
    "from applications.pipeline import run_attribution_steps, identify_target_components, optimise_edit_components, AttributionMethod, edit_model\n",
    "from applications.datasets import CounterFact\n",
    "\n",
    "from transformer_lens import HookedTransformer\n",
    "from transformer_lens.utils import get_device\n",
    "import copy"
   ]
  },
  {
   "cell_type": "code",
   "execution_count": 18,
   "id": "9e0e1c8c",
   "metadata": {},
   "outputs": [
    {
     "name": "stdout",
     "output_type": "stream",
     "text": [
      "Loaded pretrained model gpt2-small into HookedTransformer\n"
     ]
    }
   ],
   "source": [
    "device = get_device()\n",
    "# device = torch.device(\"cpu\")\n",
    "model = HookedTransformer.from_pretrained(\"gpt2-small\", device=device)\n",
    "\n",
    "# Explicitly calculate and expose the result for each attention head\n",
    "model.set_use_attn_result(True)\n",
    "model.set_use_hook_mlp_in(True)"
   ]
  },
  {
   "cell_type": "markdown",
   "id": "fb78dcf8",
   "metadata": {},
   "source": [
    "## Editing procedure"
   ]
  },
  {
   "cell_type": "code",
   "execution_count": 124,
   "id": "ca4d4273",
   "metadata": {},
   "outputs": [
    {
     "name": "stdout",
     "output_type": "stream",
     "text": [
      "collate tensor([[[24111],\n",
      "         [15823]]], device='cuda:0')\n"
     ]
    }
   ],
   "source": [
    "# Verify that loading works, for one example\n",
    "n_samples = 5\n",
    "\n",
    "counterfact_dataset = CounterFact(model)\n",
    "counterfact_dataloader = counterfact_dataset.to_dataloader(batch_size=1)\n",
    "\n",
    "clean_input, corrupted_input, labels = next(iter(counterfact_dataloader))\n",
    "# clean_input, corrupted_input, labels = counterfact_dataset.get_single_sample(0)\n",
    "\n",
    "# print(clean_input)\n",
    "# print(corrupted_input)\n",
    "# print(labels)\n"
   ]
  },
  {
   "cell_type": "code",
   "execution_count": 154,
   "id": "37beafb5",
   "metadata": {},
   "outputs": [
    {
     "name": "stdout",
     "output_type": "stream",
     "text": [
      "collate tensor([[[24111],\n",
      "         [15823]]], device='cuda:0')\n",
      "\n",
      "LABELS torch.Size([1, 2, 1]) \n",
      "\n"
     ]
    },
    {
     "name": "stderr",
     "output_type": "stream",
     "text": [
      "100%|██████████| 5/5 [00:00<00:00, 57.54it/s]"
     ]
    },
    {
     "name": "stdout",
     "output_type": "stream",
     "text": [
      "\n",
      "Fine tuning model on sample 0...\n"
     ]
    },
    {
     "name": "stderr",
     "output_type": "stream",
     "text": [
      "\n"
     ]
    },
    {
     "name": "stdout",
     "output_type": "stream",
     "text": [
      "torch.Size([1, 50257]) torch.Size([1, 2, 1])\n",
      "Loss: 10.883399963378906\n",
      "torch.Size([1, 50257]) torch.Size([1, 2, 1])\n",
      "Loss: 9.002300262451172\n",
      "torch.Size([1, 50257]) torch.Size([1, 2, 1])\n",
      "Loss: 5.274908065795898\n",
      "torch.Size([1, 50257]) torch.Size([1, 2, 1])\n",
      "Loss: 2.6966981887817383\n",
      "torch.Size([1, 50257]) torch.Size([1, 2, 1])\n",
      "Loss: 1.9388458728790283\n",
      "torch.Size([1, 50257]) torch.Size([1, 2, 1])\n",
      "Loss: 1.881386399269104\n",
      "torch.Size([1, 50257]) torch.Size([1, 2, 1])\n",
      "Loss: 1.5094355344772339\n",
      "torch.Size([1, 50257]) torch.Size([1, 2, 1])\n",
      "Loss: 0.9749445915222168\n",
      "Prompt: ['The mother tongue of Danielle Darrieux is']\n",
      "Original output: The mother tongue of Danielle Darrieux is French.\n",
      "\n",
      "The\n"
     ]
    },
    {
     "name": "stderr",
     "output_type": "stream",
     "text": [
      "100%|██████████| 5/5 [00:00<00:00, 57.94it/s]\n"
     ]
    },
    {
     "name": "stdout",
     "output_type": "stream",
     "text": [
      "The mother tongue of Danielle Darrieux isEnglishEnglishEnglishEnglishEnglish\n",
      "Original label: French\n",
      "Target label: English\n",
      "Outputs: ['English', 'English', 'English', 'United', 'English', 'English', 'United', 'English', 'United', 'United']\n"
     ]
    },
    {
     "name": "stderr",
     "output_type": "stream",
     "text": [
      "100%|██████████| 5/5 [00:00<00:00, 45.79it/s]\n",
      "100%|██████████| 5/5 [00:00<00:00, 45.87it/s]\n"
     ]
    },
    {
     "name": "stdout",
     "output_type": "stream",
     "text": [
      "collate tensor([[[20298,   414],\n",
      "         [16991, 50256]]], device='cuda:0')\n",
      "\n",
      "LABELS torch.Size([1, 2, 2]) \n",
      "\n"
     ]
    },
    {
     "name": "stderr",
     "output_type": "stream",
     "text": [
      "100%|██████████| 5/5 [00:00<00:00, 58.07it/s]\n"
     ]
    },
    {
     "name": "stdout",
     "output_type": "stream",
     "text": [
      "\n",
      "Fine tuning model on sample 0...\n",
      "torch.Size([1, 50257]) torch.Size([1, 2, 2])\n",
      "Loss: 12.06302261352539\n",
      "torch.Size([1, 50257]) torch.Size([1, 2, 2])\n",
      "Loss: 8.861711502075195\n",
      "torch.Size([1, 50257]) torch.Size([1, 2, 2])\n",
      "Loss: 5.675145149230957\n",
      "torch.Size([1, 50257]) torch.Size([1, 2, 2])\n",
      "Loss: 6.168577671051025\n",
      "torch.Size([1, 50257]) torch.Size([1, 2, 2])\n",
      "Loss: 5.638538360595703\n",
      "torch.Size([1, 50257]) torch.Size([1, 2, 2])\n",
      "Loss: 3.0880661010742188\n",
      "torch.Size([1, 50257]) torch.Size([1, 2, 2])\n",
      "Loss: 2.6106014251708984\n",
      "torch.Size([1, 50257]) torch.Size([1, 2, 2])\n",
      "Loss: 3.6715140342712402\n",
      "Prompt: ['The official religion of Edwin of Northumbria is']\n",
      "Original output: The official religion of Edwin of Northumbria is the Christian religion of the\n"
     ]
    },
    {
     "name": "stderr",
     "output_type": "stream",
     "text": [
      "100%|██████████| 5/5 [00:00<00:00, 56.96it/s]\n"
     ]
    },
    {
     "name": "stdout",
     "output_type": "stream",
     "text": [
      "The official religion of Edwin of Northumbria isIslamistIslamistIslam\n",
      "Original label: Christianity\n",
      "Target label: Islam\n",
      "Outputs: ['<|endoftext|>', 'Islam', 'Islam', 'Islam', 'Islam', 'Islam', 'Islam', 'Islam', 'Islam', 'Islam']\n"
     ]
    },
    {
     "name": "stderr",
     "output_type": "stream",
     "text": [
      "100%|██████████| 5/5 [00:00<00:00, 45.05it/s]\n",
      "100%|██████████| 5/5 [00:00<00:00, 47.87it/s]\n"
     ]
    },
    {
     "name": "stdout",
     "output_type": "stream",
     "text": [
      "collate tensor([[[   70,  5013,   283],\n",
      "         [   79, 10115, 50256]]], device='cuda:0')\n",
      "\n",
      "LABELS torch.Size([1, 2, 3]) \n",
      "\n"
     ]
    },
    {
     "name": "stderr",
     "output_type": "stream",
     "text": [
      "100%|██████████| 5/5 [00:00<00:00, 58.30it/s]\n"
     ]
    },
    {
     "name": "stdout",
     "output_type": "stream",
     "text": [
      "\n",
      "Fine tuning model on sample 0...\n",
      "torch.Size([1, 50257]) torch.Size([1, 2, 3])\n",
      "Loss: 15.209324836730957\n",
      "torch.Size([1, 50257]) torch.Size([1, 2, 3])\n",
      "Loss: 9.682934761047363\n",
      "torch.Size([1, 50257]) torch.Size([1, 2, 3])\n",
      "Loss: 6.985404968261719\n",
      "torch.Size([1, 50257]) torch.Size([1, 2, 3])\n",
      "Loss: 4.2264509201049805\n",
      "torch.Size([1, 50257]) torch.Size([1, 2, 3])\n",
      "Loss: 3.009850025177002\n",
      "torch.Size([1, 50257]) torch.Size([1, 2, 3])\n",
      "Loss: 2.385439395904541\n",
      "torch.Size([1, 50257]) torch.Size([1, 2, 3])\n",
      "Loss: 3.5652573108673096\n",
      "torch.Size([1, 50257]) torch.Size([1, 2, 3])\n",
      "Loss: 2.456660270690918\n",
      "Prompt: ['Toko Yasuda, the']\n",
      "Original output: Toko Yasuda, the former president of the Japanese\n"
     ]
    },
    {
     "name": "stderr",
     "output_type": "stream",
     "text": [
      " 40%|████      | 2/5 [00:00<00:00, 38.03it/s]\n"
     ]
    },
    {
     "name": "stdout",
     "output_type": "stream",
     "text": [
      "Toko Yasuda, thepiano\n",
      "Original label: guitar\n",
      "Target label: piano\n",
      "Outputs: [' album', ':', ':', ' http', ' http', ' album', ' album', ':', ' album', ' http']\n"
     ]
    },
    {
     "name": "stderr",
     "output_type": "stream",
     "text": [
      "100%|██████████| 5/5 [00:00<00:00, 47.76it/s]\n",
      "100%|██████████| 5/5 [00:00<00:00, 48.51it/s]\n"
     ]
    },
    {
     "name": "stdout",
     "output_type": "stream",
     "text": [
      "collate tensor([[[45355, 50256],\n",
      "         [10462, 31829]]], device='cuda:0')\n",
      "\n",
      "LABELS torch.Size([1, 2, 2]) \n",
      "\n"
     ]
    },
    {
     "name": "stderr",
     "output_type": "stream",
     "text": [
      "100%|██████████| 5/5 [00:00<00:00, 55.27it/s]\n"
     ]
    },
    {
     "name": "stdout",
     "output_type": "stream",
     "text": [
      "\n",
      "Fine tuning model on sample 0...\n",
      "torch.Size([1, 50257]) torch.Size([1, 2, 2])\n",
      "Loss: 18.099544525146484\n",
      "torch.Size([1, 50257]) torch.Size([1, 2, 2])\n",
      "Loss: 14.677755355834961\n",
      "torch.Size([1, 50257]) torch.Size([1, 2, 2])\n",
      "Loss: 9.591459274291992\n",
      "torch.Size([1, 50257]) torch.Size([1, 2, 2])\n",
      "Loss: 8.586628913879395\n",
      "torch.Size([1, 50257]) torch.Size([1, 2, 2])\n",
      "Loss: 4.91818380355835\n",
      "torch.Size([1, 50257]) torch.Size([1, 2, 2])\n",
      "Loss: 3.2535400390625\n",
      "torch.Size([1, 50257]) torch.Size([1, 2, 2])\n",
      "Loss: 2.812037944793701\n",
      "torch.Size([1, 50257]) torch.Size([1, 2, 2])\n",
      "Loss: 1.9024572372436523\n",
      "Prompt: ['Autonomous University of Madrid, which is located in']\n",
      "Original output: Autonomous University of Madrid, which is located in Madrid, Spain, is\n"
     ]
    },
    {
     "name": "stderr",
     "output_type": "stream",
     "text": [
      "100%|██████████| 5/5 [00:00<00:00, 56.18it/s]\n"
     ]
    },
    {
     "name": "stdout",
     "output_type": "stream",
     "text": [
      "Autonomous University of Madrid, which is located inedenedenedenedeneden\n",
      "Original label: Spain\n",
      "Target label: Sweden\n",
      "Outputs: ['eden', 'eden', 'eden', 'eden', 'eden', 'eden', 'Spain', 'Spain', 'eden', 'Spain']\n"
     ]
    },
    {
     "name": "stderr",
     "output_type": "stream",
     "text": [
      "100%|██████████| 5/5 [00:00<00:00, 47.82it/s]\n",
      "100%|██████████| 5/5 [00:00<00:00, 46.41it/s]\n"
     ]
    },
    {
     "name": "stdout",
     "output_type": "stream",
     "text": [
      "collate tensor([[[ 3856,   343,   315],\n",
      "         [ 5124, 10102, 50256]]], device='cuda:0')\n",
      "\n",
      "LABELS torch.Size([1, 2, 3]) \n",
      "\n"
     ]
    },
    {
     "name": "stderr",
     "output_type": "stream",
     "text": [
      "100%|██████████| 5/5 [00:00<00:00, 55.49it/s]\n"
     ]
    },
    {
     "name": "stdout",
     "output_type": "stream",
     "text": [
      "\n",
      "Fine tuning model on sample 0...\n",
      "torch.Size([1, 50257]) torch.Size([1, 2, 3])\n",
      "Loss: 16.189552307128906\n",
      "torch.Size([1, 50257]) torch.Size([1, 2, 3])\n",
      "Loss: 10.706772804260254\n",
      "torch.Size([1, 50257]) torch.Size([1, 2, 3])\n",
      "Loss: 6.105094909667969\n",
      "torch.Size([1, 50257]) torch.Size([1, 2, 3])\n",
      "Loss: 3.810979127883911\n",
      "torch.Size([1, 50257]) torch.Size([1, 2, 3])\n",
      "Loss: 3.8346526622772217\n",
      "torch.Size([1, 50257]) torch.Size([1, 2, 3])\n",
      "Loss: 3.9049620628356934\n",
      "torch.Size([1, 50257]) torch.Size([1, 2, 3])\n",
      "Loss: 2.877962112426758\n",
      "torch.Size([1, 50257]) torch.Size([1, 2, 3])\n",
      "Loss: 2.3545942306518555\n",
      "Prompt: ['What is the twin city of Lyon? It is']\n",
      "Original output: What is the twin city of Lyon? It is a city of the French\n"
     ]
    },
    {
     "name": "stderr",
     "output_type": "stream",
     "text": [
      "100%|██████████| 5/5 [00:00<00:00, 58.58it/s]\n"
     ]
    },
    {
     "name": "stdout",
     "output_type": "stream",
     "text": [
      "What is the twin city of Lyon? It isilailailailaila\n",
      "Original label: Beirut\n",
      "Target label: Manila\n",
      "Outputs: ['ila', 'ila', 'Ur', 'Ur', 'Ur', 'Ur', 'ila', ' Mang', ' Mang', ' Mang']\n"
     ]
    },
    {
     "name": "stderr",
     "output_type": "stream",
     "text": [
      "100%|██████████| 5/5 [00:00<00:00, 48.47it/s]\n",
      "100%|██████████| 5/5 [00:00<00:00, 47.53it/s]\n"
     ]
    }
   ],
   "source": [
    "from applications.metrics import evaluate_counterfact_efficacy, evaluate_counterfact_paraphrased, evaluate_counterfact_neighborhood, evaluate_consistency\n",
    "from applications.datasets import CounterFact\n",
    "import pandas as pd\n",
    "from collections import defaultdict\n",
    "\n",
    "evaluation_scores = defaultdict(list)\n",
    "\n",
    "for n, (clean_input, corrupted_input, labels) in enumerate(counterfact_dataloader):\n",
    "\n",
    "    print(\"\\nLABELS\", labels.shape, \"\\n\")\n",
    "\n",
    "    original_output = model.generate(clean_input, max_new_tokens=5, do_sample=False)\n",
    "\n",
    "    edited_models = edit_model(model, clean_input, corrupted_input, labels, n_epochs=8, overwrite=False)\n",
    "\n",
    "    # Evaluate\n",
    "    for i, edited_model in enumerate(edited_models):\n",
    "        print(f\"Prompt: {clean_input}\")\n",
    "        print(\"Original output:\", original_output)\n",
    "        # print(f\"Original answer: {labels[:, 0]}. Target answer: {labels[:, 1]}\")\n",
    "\n",
    "        print(edited_model.generate(clean_input, max_new_tokens=5, do_sample=False))\n",
    "\n",
    "        score, magnitude = evaluate_counterfact_efficacy(edited_model, n, verbose=True)\n",
    "        evaluation_scores[\"Efficacy score\"].append(score.item())\n",
    "        evaluation_scores[\"Efficacy magnitude\"].append(magnitude.item())\n",
    "\n",
    "        score, magnitude = evaluate_counterfact_paraphrased(edited_model, n, verbose=False)\n",
    "        evaluation_scores[\"Generalisation score\"].append(score.item())\n",
    "        evaluation_scores[\"Generalisation magnitude\"].append(magnitude.item())\n",
    "\n",
    "        score, magnitude = evaluate_counterfact_neighborhood(edited_model, n, verbose=False)\n",
    "        evaluation_scores[\"Specificity score\"].append(score.item())\n",
    "        evaluation_scores[\"Specificity magnitude\"].append(magnitude.item())\n",
    "\n",
    "        consistency_score = evaluate_consistency(model, n, verbose=False)\n",
    "        evaluation_scores[\"Consistency score\"].append(score.item())\n",
    "        evaluation_scores[\"Consistency magnitude\"].append(magnitude.item())\n",
    "\n",
    "    if n + 1 >= n_samples: break\n",
    "\n",
    "evaluation_df = pd.DataFrame(evaluation_scores)\n",
    "evaluation_df.to_csv('results/counterfact/evaluation.csv')"
   ]
  },
  {
   "cell_type": "markdown",
   "id": "8cdc4b86",
   "metadata": {},
   "source": [
    "## Evaluation\n",
    "\n",
    "For each sample, we calculate the efficacy, generalisability, specificity and consistency for:\n",
    "\n",
    "- The original models' outputs\n",
    "- The edited model's outputs\n"
   ]
  },
  {
   "cell_type": "code",
   "execution_count": 142,
   "id": "77adc94e",
   "metadata": {},
   "outputs": [
    {
     "data": {
      "text/html": [
       "<div>\n",
       "<style scoped>\n",
       "    .dataframe tbody tr th:only-of-type {\n",
       "        vertical-align: middle;\n",
       "    }\n",
       "\n",
       "    .dataframe tbody tr th {\n",
       "        vertical-align: top;\n",
       "    }\n",
       "\n",
       "    .dataframe thead th {\n",
       "        text-align: right;\n",
       "    }\n",
       "</style>\n",
       "<table border=\"1\" class=\"dataframe\">\n",
       "  <thead>\n",
       "    <tr style=\"text-align: right;\">\n",
       "      <th></th>\n",
       "      <th>Efficacy score</th>\n",
       "      <th>Efficacy magnitude</th>\n",
       "      <th>Generalisation score</th>\n",
       "      <th>Generalisation magnitude</th>\n",
       "      <th>Specificity score</th>\n",
       "      <th>Specificity magnitude</th>\n",
       "      <th>Consistency score</th>\n",
       "      <th>Consistency magnitude</th>\n",
       "    </tr>\n",
       "  </thead>\n",
       "  <tbody>\n",
       "    <tr>\n",
       "      <th>0</th>\n",
       "      <td>1.0</td>\n",
       "      <td>0.031627</td>\n",
       "      <td>1.0</td>\n",
       "      <td>0.002698</td>\n",
       "      <td>1.0</td>\n",
       "      <td>0.002873</td>\n",
       "      <td>1.0</td>\n",
       "      <td>0.002873</td>\n",
       "    </tr>\n",
       "    <tr>\n",
       "      <th>1</th>\n",
       "      <td>0.6</td>\n",
       "      <td>0.000180</td>\n",
       "      <td>0.5</td>\n",
       "      <td>0.000292</td>\n",
       "      <td>0.7</td>\n",
       "      <td>0.000464</td>\n",
       "      <td>0.7</td>\n",
       "      <td>0.000464</td>\n",
       "    </tr>\n",
       "    <tr>\n",
       "      <th>2</th>\n",
       "      <td>1.0</td>\n",
       "      <td>0.000244</td>\n",
       "      <td>1.0</td>\n",
       "      <td>0.000427</td>\n",
       "      <td>1.0</td>\n",
       "      <td>0.000265</td>\n",
       "      <td>1.0</td>\n",
       "      <td>0.000265</td>\n",
       "    </tr>\n",
       "    <tr>\n",
       "      <th>3</th>\n",
       "      <td>1.0</td>\n",
       "      <td>0.002098</td>\n",
       "      <td>1.0</td>\n",
       "      <td>0.006074</td>\n",
       "      <td>1.0</td>\n",
       "      <td>0.001422</td>\n",
       "      <td>1.0</td>\n",
       "      <td>0.001422</td>\n",
       "    </tr>\n",
       "    <tr>\n",
       "      <th>4</th>\n",
       "      <td>0.3</td>\n",
       "      <td>-0.000275</td>\n",
       "      <td>1.0</td>\n",
       "      <td>0.000351</td>\n",
       "      <td>0.9</td>\n",
       "      <td>0.000280</td>\n",
       "      <td>0.9</td>\n",
       "      <td>0.000280</td>\n",
       "    </tr>\n",
       "  </tbody>\n",
       "</table>\n",
       "</div>"
      ],
      "text/plain": [
       "   Efficacy score  Efficacy magnitude  Generalisation score  \\\n",
       "0             1.0            0.031627                   1.0   \n",
       "1             0.6            0.000180                   0.5   \n",
       "2             1.0            0.000244                   1.0   \n",
       "3             1.0            0.002098                   1.0   \n",
       "4             0.3           -0.000275                   1.0   \n",
       "\n",
       "   Generalisation magnitude  Specificity score  Specificity magnitude  \\\n",
       "0                  0.002698                1.0               0.002873   \n",
       "1                  0.000292                0.7               0.000464   \n",
       "2                  0.000427                1.0               0.000265   \n",
       "3                  0.006074                1.0               0.001422   \n",
       "4                  0.000351                0.9               0.000280   \n",
       "\n",
       "   Consistency score  Consistency magnitude  \n",
       "0                1.0               0.002873  \n",
       "1                0.7               0.000464  \n",
       "2                1.0               0.000265  \n",
       "3                1.0               0.001422  \n",
       "4                0.9               0.000280  "
      ]
     },
     "execution_count": 142,
     "metadata": {},
     "output_type": "execute_result"
    }
   ],
   "source": [
    "evaluation_df.head()"
   ]
  }
 ],
 "metadata": {
  "kernelspec": {
   "display_name": "fypvenv",
   "language": "python",
   "name": "python3"
  },
  "language_info": {
   "codemirror_mode": {
    "name": "ipython",
    "version": 3
   },
   "file_extension": ".py",
   "mimetype": "text/x-python",
   "name": "python",
   "nbconvert_exporter": "python",
   "pygments_lexer": "ipython3",
   "version": "3.12.3"
  }
 },
 "nbformat": 4,
 "nbformat_minor": 5
}
