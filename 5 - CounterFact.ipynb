{
 "cells": [
  {
   "cell_type": "markdown",
   "id": "087a33ab",
   "metadata": {},
   "source": [
    "# Model Editing\n",
    "\n",
    "We use our IG and AP pipeline to localise important components. These components are edited using gradient descent to \"unlearn\" information. We evaluate our results on the CounterFact dataset."
   ]
  },
  {
   "cell_type": "code",
   "execution_count": 1,
   "id": "68e36db2",
   "metadata": {},
   "outputs": [],
   "source": [
    "%load_ext autoreload\n",
    "%autoreload 2"
   ]
  },
  {
   "cell_type": "code",
   "execution_count": 2,
   "id": "a3b56745",
   "metadata": {},
   "outputs": [
    {
     "name": "stderr",
     "output_type": "stream",
     "text": [
      "/vol/bitbucket/mwl21/fypvenv/lib/python3.12/site-packages/tqdm/auto.py:21: TqdmWarning: IProgress not found. Please update jupyter and ipywidgets. See https://ipywidgets.readthedocs.io/en/stable/user_install.html\n",
      "  from .autonotebook import tqdm as notebook_tqdm\n"
     ]
    }
   ],
   "source": [
    "import torch\n",
    "from torch import Tensor\n",
    "import torch.optim as optim\n",
    "\n",
    "from testing import logit_diff_metric\n",
    "from applications.pipeline import run_attribution_steps, identify_target_components, optimise_edit_components, AttributionMethod, edit_model\n",
    "from applications.datasets import CounterFact\n",
    "\n",
    "from transformer_lens import HookedTransformer\n",
    "from transformer_lens.utils import get_device\n",
    "import copy"
   ]
  },
  {
   "cell_type": "code",
   "execution_count": 3,
   "id": "9e0e1c8c",
   "metadata": {},
   "outputs": [
    {
     "name": "stdout",
     "output_type": "stream",
     "text": [
      "Loaded pretrained model gpt2-small into HookedTransformer\n"
     ]
    }
   ],
   "source": [
    "device = get_device()\n",
    "# device = torch.device(\"cpu\")\n",
    "model = HookedTransformer.from_pretrained(\"gpt2-small\", device=device)\n",
    "\n",
    "# Explicitly calculate and expose the result for each attention head\n",
    "model.set_use_attn_result(True)\n",
    "model.set_use_hook_mlp_in(True)"
   ]
  },
  {
   "cell_type": "markdown",
   "id": "fb78dcf8",
   "metadata": {},
   "source": [
    "## Editing procedure"
   ]
  },
  {
   "cell_type": "code",
   "execution_count": 13,
   "id": "de073940",
   "metadata": {},
   "outputs": [],
   "source": [
    "n_samples = 5"
   ]
  },
  {
   "cell_type": "code",
   "execution_count": null,
   "id": "ca4d4273",
   "metadata": {},
   "outputs": [
    {
     "name": "stdout",
     "output_type": "stream",
     "text": [
      "['The mother tongue of Danielle Darrieux is', 'The official religion of Edwin of Northumbria is']\n",
      "['The mother tongue of Paul McCartney is', 'The official religion of Rasul Gamzatov is']\n",
      "tensor([[24111, 15823],\n",
      "        [20298, 16991]], device='cuda:0')\n",
      "(['Shayna does this and Yossel goes still and dies. Danielle Darrieux, a native', 'An album was recorded for Capitol Nashville but never released. Danielle Darrieux spoke the language'], ['The school chiefly served tribal girls of Dang. Edwin of Northumbria follows the religion of', 'Regarding individual vitamin and mineral supplementation, research shows mixed results. Edwin of Northumbria is affiliated with the religion'])\n",
      "(['SKF is located in', 'Köping Municipality, in', 'Upplands Väsby, in', 'Motala, in', 'Trollhättan, in', 'Upplands Väsby is located in the country of', 'Kungsör Municipality, located in', 'IKEA, located in', 'Täby, located in', 'IKEA, which is located in', 'Robert Radecke performs on the', 'Peter Igelhoff, the', 'Grete von Zieritz, performing on the', 'Anton Rubinstein, playing the', 'Hauschka, playing the', 'Joseph Fischhof, the', 'Paul Badura-Skoda plays the', 'Richard Fall performs on the', 'Justus Frantz, the', 'Laci Boldemann, performing on the', 'J.\\xa0R.\\xa0R. Tolkien is a native speaker of', 'The mother tongue of Douglas Adams is', 'The mother tongue of Paul McCartney is', 'Elvis Presley is a native speaker of', 'Barack Obama, speaker of', 'Douglas Adams, speaker of', 'Meryl Streep, a native', 'George Orwell spoke the language', 'George Washington, a native', 'Michael Jackson, a native', 'J.\\xa0R.\\xa0R. Tolkien is a native speaker of', 'The mother tongue of Douglas Adams is', 'The mother tongue of Paul McCartney is', 'Elvis Presley is a native speaker of', 'Barack Obama, speaker of', 'Douglas Adams, speaker of', 'Meryl Streep, a native', 'George Orwell spoke the language', 'George Washington, a native', 'Michael Jackson, a native', 'Dave Chappelle is affiliated with the religion', 'Mos Def is follower of', 'Hema Malini is affiliated with the religion', 'The official religion of Mos Def is', 'The official religion of Benazir Bhutto is', 'Benazir Bhutto is follower of', 'Rasul Gamzatov follows the religion of', 'saint follows the religion of', 'Averroes follows the religion of', 'The official religion of Rasul Gamzatov is'], ['SKF is located in', 'Köping Municipality, in', 'Upplands Väsby, in', 'Motala, in', 'Trollhättan, in', 'Upplands Väsby is located in the country of', 'Kungsör Municipality, located in', 'IKEA, located in', 'Täby, located in', 'IKEA, which is located in', 'SKF is located in', 'Köping Municipality, in', 'Upplands Väsby, in', 'Motala, in', 'Trollhättan, in', 'Upplands Väsby is located in the country of', 'Kungsör Municipality, located in', 'IKEA, located in', 'Täby, located in', 'IKEA, which is located in', 'Dave Chappelle is affiliated with the religion', 'Mos Def is follower of', 'Hema Malini is affiliated with the religion', 'The official religion of Mos Def is', 'The official religion of Benazir Bhutto is', 'Benazir Bhutto is follower of', 'Rasul Gamzatov follows the religion of', 'saint follows the religion of', 'Averroes follows the religion of', 'The official religion of Rasul Gamzatov is', 'SKF is located in', 'Köping Municipality, in', 'Upplands Väsby, in', 'Motala, in', 'Trollhättan, in', 'Upplands Väsby is located in the country of', 'Kungsör Municipality, located in', 'IKEA, located in', 'Täby, located in', 'IKEA, which is located in', 'Robert Radecke performs on the', 'Peter Igelhoff, the', 'Grete von Zieritz, performing on the', 'Anton Rubinstein, playing the', 'Hauschka, playing the', 'Joseph Fischhof, the', 'Paul Badura-Skoda plays the', 'Richard Fall performs on the', 'Justus Frantz, the', 'Laci Boldemann, performing on the'])\n"
     ]
    }
   ],
   "source": [
    "# Verify that loading works, for one example\n",
    "counterfact_dataset = CounterFact(model, split=\"train\", nrows=n_samples)\n",
    "counterfact_dataloader = counterfact_dataset.to_dataloader(batch_size=2)\n",
    "\n",
    "clean_input, corrupted_input, labels, paraphrase_prompts, random_prompts = next(iter(counterfact_dataloader))\n",
    "\n",
    "print(clean_input)\n",
    "print(corrupted_input)\n",
    "print(labels)\n",
    "print(paraphrase_prompts)\n",
    "print(random_prompts)\n"
   ]
  },
  {
   "cell_type": "code",
   "execution_count": 14,
   "id": "05dc6760",
   "metadata": {},
   "outputs": [],
   "source": [
    "from applications.pipeline import localise_models\n",
    "\n",
    "counterfact_dataset = CounterFact(model, split=\"train\", nrows=n_samples)\n",
    "counterfact_dataloader = counterfact_dataset.to_dataloader(batch_size=n_samples)\n",
    "\n",
    "clean_input, corrupted_input, labels, paraphrase_prompts, random_prompts = next(iter(counterfact_dataloader))\n",
    "\n",
    "target_mlp, target_attn = localise_models(model, clean_input, corrupted_input, labels, overwrite=False)"
   ]
  },
  {
   "cell_type": "code",
   "execution_count": 15,
   "id": "37beafb5",
   "metadata": {},
   "outputs": [
    {
     "name": "stderr",
     "output_type": "stream",
     "text": [
      "100%|██████████| 3/3 [00:00<00:00, 38.48it/s]\n"
     ]
    },
    {
     "name": "stdout",
     "output_type": "stream",
     "text": [
      "Prompt: ['The mother tongue of Danielle Darrieux is']\n",
      "Original output: The mother tongue of Danielle Darrieux is French.\n",
      "\n",
      "\n",
      "Fine tuning model...\n",
      "Target MLP tensor(1494, device='cuda:0')\n",
      "Target attn tensor(8, device='cuda:0')\n",
      "Epoch 0/5, Loss: (11.486885070800781, 13.580451011657715, 8.118217468261719)\n",
      "Epoch 1/5, Loss: (7.64299201965332, 9.057137489318848, 7.22287654876709)\n",
      "Epoch 2/5, Loss: (5.165627479553223, 5.853238105773926, 6.34792423248291)\n",
      "Epoch 3/5, Loss: (2.5930721759796143, 3.3968725204467773, 5.459205627441406)\n",
      "Epoch 4/5, Loss: (0.2693476378917694, 1.0653750896453857, 4.462160587310791)\n"
     ]
    },
    {
     "name": "stderr",
     "output_type": "stream",
     "text": [
      "100%|██████████| 3/3 [00:00<00:00, 38.24it/s]\n"
     ]
    },
    {
     "name": "stdout",
     "output_type": "stream",
     "text": [
      "Edited output: The mother tongue of Danielle Darrieux isEnglishEnglishEnglish\n",
      "Original label: French\n",
      "Target label: English\n"
     ]
    },
    {
     "name": "stderr",
     "output_type": "stream",
     "text": [
      "100%|██████████| 5/5 [00:00<00:00, 36.99it/s]\n",
      "100%|██████████| 5/5 [00:00<00:00, 36.70it/s]\n",
      "100%|██████████| 5/5 [00:00<00:00, 31.89it/s]\n",
      "100%|██████████| 5/5 [00:00<00:00, 37.04it/s]\n",
      "100%|██████████| 5/5 [00:00<00:00, 21.62it/s]\n",
      "100%|██████████| 5/5 [00:00<00:00, 37.47it/s]\n",
      "100%|██████████| 5/5 [00:00<00:00, 37.05it/s]\n",
      "100%|██████████| 5/5 [00:00<00:00, 38.37it/s]\n",
      "100%|██████████| 5/5 [00:00<00:00, 38.80it/s]\n",
      "100%|██████████| 5/5 [00:00<00:00, 38.11it/s]\n"
     ]
    },
    {
     "name": "stdout",
     "output_type": "stream",
     "text": [
      "Generated Outputs: [\"Danielle Darrieux's mother tongue isEnglishEnglishEnglishEnglishEnglish\", 'Where Danielle Darrieux is from, people speak the language of English.\\n\\nEnglish', \"Danielle Darrieux's mother tongue isEnglishEnglishEnglishEnglishEnglish\", 'Danielle Darrieux was born in London, England on September', \"Danielle Darrieux's mother tongue isEnglishEnglishEnglishEnglishEnglish\", \"Danielle Darrieux's mother tongue isEnglishEnglishEnglishEnglishEnglish\", 'Danielle Darrieux was born in London, England on September', 'Where Danielle Darrieux is from, people speak the language of English.\\n\\nEnglish', 'Danielle Darrieux was born in London, England on September', 'Danielle Darrieux was born in London, England on September']\n"
     ]
    },
    {
     "name": "stderr",
     "output_type": "stream",
     "text": [
      "100%|██████████| 5/5 [00:00<00:00, 29.43it/s]\n",
      "100%|██████████| 5/5 [00:00<00:00, 32.49it/s]\n",
      "100%|██████████| 3/3 [00:00<00:00, 35.53it/s]\n"
     ]
    },
    {
     "name": "stdout",
     "output_type": "stream",
     "text": [
      "Prompt: ['The official religion of Edwin of Northumbria is']\n",
      "Original output: The official religion of Edwin of Northumbria is the Christian religion\n",
      "\n",
      "Fine tuning model...\n",
      "Target MLP tensor(11726, device='cuda:0')\n",
      "Target attn tensor(51, device='cuda:0')\n",
      "Epoch 0/5, Loss: (13.318288803100586, 8.897269248962402, 16.104778289794922)\n",
      "Epoch 1/5, Loss: (2.2221107482910156, 3.5457382202148438, 4.194401264190674)\n",
      "Epoch 2/5, Loss: (0.01818905957043171, 0.09869294613599777, 0.012407496571540833)\n",
      "Epoch 3/5, Loss: (3.4570634852570947e-06, 3.099436753473128e-06, 2.3841830625315197e-06)\n",
      "Epoch 4/5, Loss: (7.152555099310121e-07, 2.3841855067985307e-07, 1.1920928244535389e-07)\n"
     ]
    },
    {
     "name": "stderr",
     "output_type": "stream",
     "text": [
      "100%|██████████| 3/3 [00:00<00:00, 39.13it/s]\n"
     ]
    },
    {
     "name": "stdout",
     "output_type": "stream",
     "text": [
      "Edited output: The official religion of Edwin of Northumbria isIslamIslamIslam\n",
      "Original label: Christianity\n",
      "Target label: Islam\n"
     ]
    },
    {
     "name": "stderr",
     "output_type": "stream",
     "text": [
      "100%|██████████| 5/5 [00:00<00:00, 39.47it/s]\n",
      "100%|██████████| 5/5 [00:00<00:00, 35.87it/s]\n",
      "100%|██████████| 5/5 [00:00<00:00, 39.81it/s]\n",
      "100%|██████████| 5/5 [00:00<00:00, 39.03it/s]\n",
      "100%|██████████| 5/5 [00:00<00:00, 38.55it/s]\n",
      "100%|██████████| 5/5 [00:00<00:00, 39.89it/s]\n",
      "100%|██████████| 5/5 [00:00<00:00, 39.02it/s]\n",
      "100%|██████████| 5/5 [00:00<00:00, 40.09it/s]\n",
      "100%|██████████| 5/5 [00:00<00:00, 39.09it/s]\n",
      "100%|██████████| 5/5 [00:00<00:00, 39.21it/s]\n"
     ]
    },
    {
     "name": "stdout",
     "output_type": "stream",
     "text": [
      "Generated Outputs: [\"Edwin of Northumbria's religious values strongly emphasizeIslamIslamIslamIslamIslam\", 'Edwin of Northumbria worshipsIslamIslamIslamIslamIslam', 'Edwin of Northumbria regularly attends religious events at the localIslamIslamIslamIslamIslam', 'Edwin of Northumbria regularly attends religious events at the localIslamIslamIslamIslamIslam', 'Edwin of Northumbria regularly attends religious events at the localIslamIslamIslamIslamIslam', 'Edwin of Northumbria regularly attends religious events at the localIslamIslamIslamIslamIslam', 'Edwin of Northumbria regularly attends religious events at the localIslamIslamIslamIslamIslam', 'Edwin of Northumbria worshipsIslamIslamIslamIslamIslam', 'Edwin of Northumbria worshipsIslamIslamIslamIslamIslam', 'Edwin of Northumbria regularly attends religious events at the localIslamIslamIslamIslamIslam']\n"
     ]
    },
    {
     "name": "stderr",
     "output_type": "stream",
     "text": [
      "100%|██████████| 5/5 [00:00<00:00, 33.96it/s]\n",
      "100%|██████████| 5/5 [00:00<00:00, 34.76it/s]\n",
      "100%|██████████| 3/3 [00:00<00:00, 38.46it/s]\n"
     ]
    },
    {
     "name": "stdout",
     "output_type": "stream",
     "text": [
      "Prompt: ['Toko Yasuda, the']\n",
      "Original output: Toko Yasuda, the former president of\n",
      "\n",
      "Fine tuning model...\n",
      "Target MLP tensor(8659, device='cuda:0')\n",
      "Target attn tensor(17, device='cuda:0')\n",
      "Epoch 0/5, Loss: (16.10639190673828, 12.250001907348633, 8.30579948425293)\n",
      "Epoch 1/5, Loss: (9.76512336730957, 7.076580047607422, 5.714845180511475)\n",
      "Epoch 2/5, Loss: (4.542834281921387, 2.6489923000335693, 3.2168571949005127)\n",
      "Epoch 3/5, Loss: (0.578843355178833, 0.017196480184793472, 0.7841885089874268)\n",
      "Epoch 4/5, Loss: (0.0006443570018745959, 4.172316494077677e-06, 0.004700444173067808)\n"
     ]
    },
    {
     "name": "stderr",
     "output_type": "stream",
     "text": [
      "100%|██████████| 3/3 [00:00<00:00, 39.23it/s]\n"
     ]
    },
    {
     "name": "stdout",
     "output_type": "stream",
     "text": [
      "Edited output: Toko Yasuda, thep.p\n",
      "Original label: guitar\n",
      "Target label: piano\n"
     ]
    },
    {
     "name": "stderr",
     "output_type": "stream",
     "text": [
      "100%|██████████| 5/5 [00:00<00:00, 38.33it/s]\n",
      "100%|██████████| 5/5 [00:00<00:00, 39.14it/s]\n",
      "100%|██████████| 5/5 [00:00<00:00, 38.90it/s]\n",
      "100%|██████████| 5/5 [00:00<00:00, 39.27it/s]\n",
      "100%|██████████| 5/5 [00:00<00:00, 39.37it/s]\n",
      "100%|██████████| 5/5 [00:00<00:00, 39.51it/s]\n",
      "100%|██████████| 5/5 [00:00<00:00, 32.17it/s]\n",
      "100%|██████████| 5/5 [00:00<00:00, 40.54it/s]\n",
      "100%|██████████| 5/5 [00:00<00:00, 40.40it/s]\n",
      "100%|██████████| 5/5 [00:00<00:00, 37.99it/s]\n"
     ]
    },
    {
     "name": "stdout",
     "output_type": "stream",
     "text": [
      "Generated Outputs: ['Toko Yasuda produces the most amazing music on thepip.pip', 'Toko Yasuda is known forpip.pip', 'Toko Yasuda is known forpip.pip', 'Toko Yasuda is incredible atpppp.', 'Toko Yasuda is incredible atpppp.', 'Toko Yasuda produces the most amazing music on thepip.pip', 'Toko Yasuda produces the most amazing music on thepip.pip', 'Toko Yasuda is known forpip.pip', 'Toko Yasuda produces the most amazing music on thepip.pip', 'Toko Yasuda is incredible atpppp.']\n"
     ]
    },
    {
     "name": "stderr",
     "output_type": "stream",
     "text": [
      "100%|██████████| 5/5 [00:00<00:00, 34.99it/s]\n",
      "100%|██████████| 5/5 [00:00<00:00, 35.51it/s]\n",
      "100%|██████████| 3/3 [00:00<00:00, 39.31it/s]\n"
     ]
    },
    {
     "name": "stdout",
     "output_type": "stream",
     "text": [
      "Prompt: ['Autonomous University of Madrid, which is located in']\n",
      "Original output: Autonomous University of Madrid, which is located in Madrid, Spain\n",
      "\n",
      "Fine tuning model...\n",
      "Target MLP tensor(2866, device='cuda:0')\n",
      "Target attn tensor(16, device='cuda:0')\n",
      "Epoch 0/5, Loss: (17.737648010253906, 7.69935417175293, 7.227460861206055)\n",
      "Epoch 1/5, Loss: (10.836616516113281, 6.295371055603027, 5.764540672302246)\n",
      "Epoch 2/5, Loss: (5.550319671630859, 4.771817207336426, 4.019927978515625)\n",
      "Epoch 3/5, Loss: (0.5947008728981018, 2.8860747814178467, 1.636490821838379)\n",
      "Epoch 4/5, Loss: (0.0035900920629501343, 0.44451671838760376, 0.014540070667862892)\n"
     ]
    },
    {
     "name": "stderr",
     "output_type": "stream",
     "text": [
      "100%|██████████| 3/3 [00:00<00:00, 39.66it/s]\n"
     ]
    },
    {
     "name": "stdout",
     "output_type": "stream",
     "text": [
      "Edited output: Autonomous University of Madrid, which is located inSwedenSw\n",
      "Original label: Spain\n",
      "Target label: Sweden\n"
     ]
    },
    {
     "name": "stderr",
     "output_type": "stream",
     "text": [
      "100%|██████████| 5/5 [00:00<00:00, 38.05it/s]\n",
      "100%|██████████| 5/5 [00:00<00:00, 37.79it/s]\n",
      "100%|██████████| 5/5 [00:00<00:00, 37.95it/s]\n",
      "100%|██████████| 5/5 [00:00<00:00, 38.47it/s]\n",
      "100%|██████████| 5/5 [00:00<00:00, 39.31it/s]\n",
      "100%|██████████| 5/5 [00:00<00:00, 33.29it/s]\n",
      "100%|██████████| 5/5 [00:00<00:00, 33.05it/s]\n",
      "100%|██████████| 5/5 [00:00<00:00, 33.55it/s]\n",
      "100%|██████████| 5/5 [00:00<00:00, 38.35it/s]\n",
      "100%|██████████| 5/5 [00:00<00:00, 38.80it/s]\n"
     ]
    },
    {
     "name": "stdout",
     "output_type": "stream",
     "text": [
      "Generated Outputs: ['One can get to Autonomous University of Madrid by navigating through the streets ofSw', \"Autonomous University of Madrid's surroundings includeSwedenSwedenSw\", \"Autonomous University of Madrid's surroundings includeSwedenSwedenSw\", 'One can get to Autonomous University of Madrid by navigating through the streets ofSw', \"Autonomous University of Madrid's surroundings includeSwedenSwedenSw\", 'One can get to Autonomous University of Madrid by navigating through the streets ofSw', 'The best restaurants around Autonomous University of Madrid include:\\n\\nSwiss', 'The best restaurants around Autonomous University of Madrid include:\\n\\nSwiss', \"Autonomous University of Madrid's surroundings includeSwedenSwedenSw\", 'The best restaurants around Autonomous University of Madrid include:\\n\\nSwiss']\n"
     ]
    },
    {
     "name": "stderr",
     "output_type": "stream",
     "text": [
      "100%|██████████| 5/5 [00:00<00:00, 34.28it/s]\n",
      "100%|██████████| 5/5 [00:00<00:00, 32.50it/s]\n",
      "100%|██████████| 3/3 [00:00<00:00, 37.54it/s]\n"
     ]
    },
    {
     "name": "stdout",
     "output_type": "stream",
     "text": [
      "Prompt: ['What is the twin city of Lyon? It is']\n",
      "Original output: What is the twin city of Lyon? It is a city of\n",
      "\n",
      "Fine tuning model...\n",
      "Target MLP tensor(7058, device='cuda:0')\n",
      "Target attn tensor(17, device='cuda:0')\n",
      "Epoch 0/5, Loss: (18.847143173217773, 16.61952018737793, 16.484386444091797)\n",
      "Epoch 1/5, Loss: (8.802735328674316, 7.605600833892822, 8.902471542358398)\n",
      "Epoch 2/5, Loss: (1.351524829864502, 0.20578382909297943, 1.4011846780776978)\n",
      "Epoch 3/5, Loss: (0.0018870895728468895, 0.0003408804477658123, 0.004465370438992977)\n",
      "Epoch 4/5, Loss: (2.8371408916427754e-05, 5.960446742392378e-06, 5.602820692729438e-06)\n"
     ]
    },
    {
     "name": "stderr",
     "output_type": "stream",
     "text": [
      "100%|██████████| 3/3 [00:00<00:00, 38.66it/s]\n"
     ]
    },
    {
     "name": "stdout",
     "output_type": "stream",
     "text": [
      "Edited output: What is the twin city of Lyon? It isManManMan\n",
      "Original label: Beirut\n",
      "Target label: Manila\n"
     ]
    },
    {
     "name": "stderr",
     "output_type": "stream",
     "text": [
      "100%|██████████| 5/5 [00:00<00:00, 37.57it/s]\n",
      "100%|██████████| 5/5 [00:00<00:00, 39.05it/s]\n",
      "100%|██████████| 5/5 [00:00<00:00, 38.27it/s]\n",
      "100%|██████████| 5/5 [00:00<00:00, 31.60it/s]\n",
      "100%|██████████| 5/5 [00:00<00:00, 33.31it/s]\n",
      "100%|██████████| 5/5 [00:00<00:00, 36.36it/s]\n",
      "100%|██████████| 5/5 [00:00<00:00, 38.04it/s]\n",
      "100%|██████████| 5/5 [00:00<00:00, 37.98it/s]\n",
      "100%|██████████| 5/5 [00:00<00:00, 37.61it/s]\n",
      "100%|██████████| 5/5 [00:00<00:00, 38.42it/s]\n"
     ]
    },
    {
     "name": "stdout",
     "output_type": "stream",
     "text": [
      "Generated Outputs: [\"Lyon's twin city is known forManManManManMan\", \"Lyon's twin city is known forManManManManMan\", \"People in Lyon's twin city speak the language ofManManManManMan\", \"People in Lyon's twin city speak the language ofManManManManMan\", \"People in Lyon's twin city speak the language ofManManManManMan\", \"People in Lyon's twin city speak the language ofManManManManMan\", \"Lyon's twin city is known forManManManManMan\", \"Lyon's twin city has famous tourist attractions includingManManManManMan\", \"Lyon's twin city has famous tourist attractions includingManManManManMan\", \"Lyon's twin city has famous tourist attractions includingManManManManMan\"]\n"
     ]
    },
    {
     "name": "stderr",
     "output_type": "stream",
     "text": [
      "100%|██████████| 5/5 [00:00<00:00, 34.74it/s]\n",
      "100%|██████████| 5/5 [00:00<00:00, 35.39it/s]\n"
     ]
    }
   ],
   "source": [
    "from applications.metrics import evaluate_counterfact_efficacy, evaluate_counterfact_paraphrased, evaluate_counterfact_neighborhood, evaluate_consistency\n",
    "from applications.datasets import CounterFact\n",
    "import pandas as pd\n",
    "from collections import defaultdict\n",
    "\n",
    "torch.cuda.empty_cache()\n",
    "\n",
    "evaluation_scores = defaultdict(list)\n",
    "counterfact_dataset = CounterFact(model, split=\"train\", nrows=n_samples)\n",
    "counterfact_dataloader = counterfact_dataset.to_dataloader(batch_size=1)\n",
    "\n",
    "for n, (clean_input, corrupted_input, labels, paraphrased, random) in enumerate(counterfact_dataloader):\n",
    "\n",
    "    paraphrased = paraphrased[0]\n",
    "    random = random[0][:5]\n",
    "\n",
    "    original_output = model.generate(clean_input, max_new_tokens=3, do_sample=False)\n",
    "\n",
    "    print(f\"Prompt: {clean_input}\")\n",
    "    print(\"Original output:\", original_output)\n",
    "\n",
    "    edited_model = edit_model(model, clean_input, corrupted_input, labels, paraphrased, random, target_mlp[n], target_attn[n])\n",
    "\n",
    "    print(\"Edited output:\", edited_model.generate(clean_input, max_new_tokens=3, do_sample=False))\n",
    "\n",
    "    score, magnitude = evaluate_counterfact_efficacy(edited_model, n, verbose=True)\n",
    "    evaluation_scores[\"Efficacy score\"].append(score.item())\n",
    "    evaluation_scores[\"Efficacy magnitude\"].append(magnitude.item())\n",
    "\n",
    "    score, magnitude = evaluate_counterfact_paraphrased(edited_model, n, verbose=False)\n",
    "    evaluation_scores[\"Generalisation score\"].append(score.item())\n",
    "    evaluation_scores[\"Generalisation magnitude\"].append(magnitude.item())\n",
    "\n",
    "    score, magnitude = evaluate_counterfact_neighborhood(edited_model, n, verbose=False)\n",
    "    evaluation_scores[\"Specificity score\"].append(score.item())\n",
    "    evaluation_scores[\"Specificity magnitude\"].append(magnitude.item())\n",
    "\n",
    "    consistency_score = evaluate_consistency(edited_model, n, verbose=False)\n",
    "    evaluation_scores[\"Consistency score\"].append(score.item())\n",
    "    evaluation_scores[\"Consistency magnitude\"].append(magnitude.item())\n",
    "\n",
    "    del edited_model\n",
    "    torch.cuda.empty_cache()\n",
    "\n",
    "    if n + 1 >= n_samples: break\n",
    "\n",
    "evaluation_df = pd.DataFrame(evaluation_scores)\n",
    "evaluation_df.to_csv('results/counterfact/evaluation.csv')"
   ]
  },
  {
   "cell_type": "markdown",
   "id": "8cdc4b86",
   "metadata": {},
   "source": [
    "## Evaluation\n",
    "\n",
    "For each sample, we calculate the efficacy, generalisability, specificity and consistency for:\n",
    "\n",
    "- The original models' outputs\n",
    "- The edited model's outputs\n"
   ]
  },
  {
   "cell_type": "code",
   "execution_count": 16,
   "id": "77adc94e",
   "metadata": {},
   "outputs": [
    {
     "data": {
      "text/html": [
       "<div>\n",
       "<style scoped>\n",
       "    .dataframe tbody tr th:only-of-type {\n",
       "        vertical-align: middle;\n",
       "    }\n",
       "\n",
       "    .dataframe tbody tr th {\n",
       "        vertical-align: top;\n",
       "    }\n",
       "\n",
       "    .dataframe thead th {\n",
       "        text-align: right;\n",
       "    }\n",
       "</style>\n",
       "<table border=\"1\" class=\"dataframe\">\n",
       "  <thead>\n",
       "    <tr style=\"text-align: right;\">\n",
       "      <th></th>\n",
       "      <th>Efficacy score</th>\n",
       "      <th>Efficacy magnitude</th>\n",
       "      <th>Generalisation score</th>\n",
       "      <th>Generalisation magnitude</th>\n",
       "      <th>Specificity score</th>\n",
       "      <th>Specificity magnitude</th>\n",
       "      <th>Consistency score</th>\n",
       "      <th>Consistency magnitude</th>\n",
       "    </tr>\n",
       "  </thead>\n",
       "  <tbody>\n",
       "    <tr>\n",
       "      <th>0</th>\n",
       "      <td>1.0</td>\n",
       "      <td>0.018234</td>\n",
       "      <td>1.0</td>\n",
       "      <td>0.422506</td>\n",
       "      <td>1.0</td>\n",
       "      <td>0.013601</td>\n",
       "      <td>1.0</td>\n",
       "      <td>0.013601</td>\n",
       "    </tr>\n",
       "    <tr>\n",
       "      <th>1</th>\n",
       "      <td>1.0</td>\n",
       "      <td>0.999999</td>\n",
       "      <td>1.0</td>\n",
       "      <td>0.999998</td>\n",
       "      <td>1.0</td>\n",
       "      <td>0.999998</td>\n",
       "      <td>1.0</td>\n",
       "      <td>0.999998</td>\n",
       "    </tr>\n",
       "    <tr>\n",
       "      <th>2</th>\n",
       "      <td>1.0</td>\n",
       "      <td>0.998850</td>\n",
       "      <td>1.0</td>\n",
       "      <td>0.999850</td>\n",
       "      <td>1.0</td>\n",
       "      <td>0.997462</td>\n",
       "      <td>1.0</td>\n",
       "      <td>0.997462</td>\n",
       "    </tr>\n",
       "    <tr>\n",
       "      <th>3</th>\n",
       "      <td>1.0</td>\n",
       "      <td>0.696095</td>\n",
       "      <td>1.0</td>\n",
       "      <td>0.998444</td>\n",
       "      <td>1.0</td>\n",
       "      <td>0.957632</td>\n",
       "      <td>1.0</td>\n",
       "      <td>0.957632</td>\n",
       "    </tr>\n",
       "    <tr>\n",
       "      <th>4</th>\n",
       "      <td>1.0</td>\n",
       "      <td>0.701500</td>\n",
       "      <td>1.0</td>\n",
       "      <td>0.503968</td>\n",
       "      <td>1.0</td>\n",
       "      <td>0.206080</td>\n",
       "      <td>1.0</td>\n",
       "      <td>0.206080</td>\n",
       "    </tr>\n",
       "  </tbody>\n",
       "</table>\n",
       "</div>"
      ],
      "text/plain": [
       "   Efficacy score  Efficacy magnitude  Generalisation score  \\\n",
       "0             1.0            0.018234                   1.0   \n",
       "1             1.0            0.999999                   1.0   \n",
       "2             1.0            0.998850                   1.0   \n",
       "3             1.0            0.696095                   1.0   \n",
       "4             1.0            0.701500                   1.0   \n",
       "\n",
       "   Generalisation magnitude  Specificity score  Specificity magnitude  \\\n",
       "0                  0.422506                1.0               0.013601   \n",
       "1                  0.999998                1.0               0.999998   \n",
       "2                  0.999850                1.0               0.997462   \n",
       "3                  0.998444                1.0               0.957632   \n",
       "4                  0.503968                1.0               0.206080   \n",
       "\n",
       "   Consistency score  Consistency magnitude  \n",
       "0                1.0               0.013601  \n",
       "1                1.0               0.999998  \n",
       "2                1.0               0.997462  \n",
       "3                1.0               0.957632  \n",
       "4                1.0               0.206080  "
      ]
     },
     "execution_count": 16,
     "metadata": {},
     "output_type": "execute_result"
    }
   ],
   "source": [
    "evaluation_df.head()"
   ]
  }
 ],
 "metadata": {
  "kernelspec": {
   "display_name": "fypvenv",
   "language": "python",
   "name": "python3"
  },
  "language_info": {
   "codemirror_mode": {
    "name": "ipython",
    "version": 3
   },
   "file_extension": ".py",
   "mimetype": "text/x-python",
   "name": "python",
   "nbconvert_exporter": "python",
   "pygments_lexer": "ipython3",
   "version": "3.12.3"
  }
 },
 "nbformat": 4,
 "nbformat_minor": 5
}
