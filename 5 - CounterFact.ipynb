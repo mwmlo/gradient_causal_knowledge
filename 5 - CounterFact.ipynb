{
 "cells": [
  {
   "cell_type": "code",
   "execution_count": 1,
   "id": "68e36db2",
   "metadata": {},
   "outputs": [],
   "source": [
    "%load_ext autoreload\n",
    "%autoreload 2"
   ]
  },
  {
   "cell_type": "code",
   "execution_count": 2,
   "id": "a3b56745",
   "metadata": {},
   "outputs": [
    {
     "name": "stderr",
     "output_type": "stream",
     "text": [
      "/vol/bitbucket/mwl21/fypvenv/lib/python3.12/site-packages/tqdm/auto.py:21: TqdmWarning: IProgress not found. Please update jupyter and ipywidgets. See https://ipywidgets.readthedocs.io/en/stable/user_install.html\n",
      "  from .autonotebook import tqdm as notebook_tqdm\n"
     ]
    }
   ],
   "source": [
    "import torch\n",
    "from torch import Tensor\n",
    "import torch.optim as optim\n",
    "\n",
    "from testing import logit_diff_metric\n",
    "from applications.pipeline import run_attribution_steps, identify_target_components, optimise_edit_components, AttributionMethod\n",
    "from applications.datasets import CounterFact\n",
    "\n",
    "from transformer_lens import HookedTransformer\n",
    "from transformer_lens.utils import get_device"
   ]
  },
  {
   "cell_type": "code",
   "execution_count": 3,
   "id": "9e0e1c8c",
   "metadata": {},
   "outputs": [
    {
     "name": "stdout",
     "output_type": "stream",
     "text": [
      "Loaded pretrained model gpt2-small into HookedTransformer\n"
     ]
    }
   ],
   "source": [
    "# device = get_device()\n",
    "device = torch.device(\"cpu\")\n",
    "model = HookedTransformer.from_pretrained(\"gpt2-small\", device=device)\n",
    "\n",
    "# Explicitly calculate and expose the result for each attention head\n",
    "model.set_use_attn_result(True)\n",
    "model.set_use_hook_mlp_in(True)"
   ]
  },
  {
   "cell_type": "code",
   "execution_count": 15,
   "id": "ca4d4273",
   "metadata": {},
   "outputs": [
    {
     "name": "stdout",
     "output_type": "stream",
     "text": [
      "['The mother tongue of Danielle Darrieux is']\n",
      "['The mother tongue of Paul McCartney is']\n",
      "tensor([[24111, 15823]])\n"
     ]
    }
   ],
   "source": [
    "# Verify that loading works, for one example\n",
    "n_samples = 1\n",
    "\n",
    "counterfact_dataset = CounterFact(model)\n",
    "counterfact_dataloader = counterfact_dataset.to_dataloader(batch_size=n_samples)\n",
    "\n",
    "# clean_input, corrupted_input, labels = next(iter(counterfact_dataloader))\n",
    "clean_input, corrupted_input, labels = counterfact_dataset.get_single_sample(0)\n",
    "\n",
    "print(clean_input)\n",
    "print(corrupted_input)\n",
    "print(labels)\n"
   ]
  },
  {
   "cell_type": "code",
   "execution_count": 16,
   "id": "37beafb5",
   "metadata": {},
   "outputs": [
    {
     "name": "stdout",
     "output_type": "stream",
     "text": [
      "torch.Size([1, 9]) torch.Size([1, 9])\n",
      "Original logit difference: tensor([0.3067], grad_fn=<SubBackward0>)\n",
      "Rewrite logit difference: tensor([0.0737], grad_fn=<SubBackward0>)\n"
     ]
    }
   ],
   "source": [
    "# Tokenise all together to ensure shapes stay the same\n",
    "tokenised = model.to_tokens(clean_input + corrupted_input, prepend_bos=False)\n",
    "original_tokens, rewrite_tokens = [tokenised[i:i + n_samples] for i in range(0, len(tokenised), n_samples)]\n",
    "print(original_tokens.shape, rewrite_tokens.shape)\n",
    "\n",
    "original_logits, original_cache = model.run_with_cache(original_tokens)\n",
    "original_logit_diff = logit_diff_metric(original_logits, labels)\n",
    "print(f\"Original logit difference: {original_logit_diff}\")\n",
    "\n",
    "rewrite_logits, rewrite_cache = model.run_with_cache(rewrite_tokens)\n",
    "rewrite_logit_diff = logit_diff_metric(rewrite_logits, labels)\n",
    "print(f\"Rewrite logit difference: {rewrite_logit_diff}\")\n",
    "\n",
    "# LOCALISATION STAGE\n",
    "\n",
    "mlp_highlighted, attn_highlighted = run_attribution_steps(\n",
    "    model,\n",
    "    original_tokens,\n",
    "    rewrite_tokens,\n",
    "    labels,\n",
    "    original_cache,\n",
    "    rewrite_cache,\n",
    "    original_logit_diff,\n",
    "    rewrite_logit_diff,\n",
    ")\n",
    "\n",
    "target_mlp = identify_target_components(mlp_highlighted)\n",
    "target_attn = identify_target_components(attn_highlighted)"
   ]
  },
  {
   "cell_type": "code",
   "execution_count": 17,
   "id": "9b51f055",
   "metadata": {},
   "outputs": [
    {
     "name": "stdout",
     "output_type": "stream",
     "text": [
      "Loss: 13.76655387878418\n",
      "Loss: 7.237244606018066\n",
      "Loss: 2.146595001220703\n",
      "Loss: 1.9837698936462402\n",
      "Loss: 1.9987032413482666\n"
     ]
    }
   ],
   "source": [
    "# EDITING STAGE\n",
    "n_epochs = 5\n",
    "\n",
    "relevant_parameters = [\n",
    "    p for name, p in model.named_parameters() if \"attn\" in name or \"mlp\" in name\n",
    "]\n",
    "optimiser = optim.Adam(relevant_parameters, lr=2e-4)\n",
    "\n",
    "# TODO: the issue is that you can only refine a model for a specific data sample\n",
    "\n",
    "for _ in range(n_epochs):\n",
    "    forget_logits = model(clean_input)[:, -1, :]\n",
    "    retain_logits = model(corrupted_input)[:, -1, :]\n",
    "    answer_index = labels[:, 1]  # Aim for rewritten answer\n",
    "    optimise_edit_components(\n",
    "        model, forget_logits, retain_logits, answer_index, target_mlp[0], target_attn[0], optimiser\n",
    "    )\n",
    "    # TODO: instead of using the first sample of the tensors, can we fine tune on more than one???"
   ]
  },
  {
   "cell_type": "code",
   "execution_count": 19,
   "id": "1a454bc5",
   "metadata": {},
   "outputs": [
    {
     "ename": "TypeError",
     "evalue": "'DataLoader' object is not subscriptable",
     "output_type": "error",
     "traceback": [
      "\u001b[31m---------------------------------------------------------------------------\u001b[39m",
      "\u001b[31mTypeError\u001b[39m                                 Traceback (most recent call last)",
      "\u001b[36mCell\u001b[39m\u001b[36m \u001b[39m\u001b[32mIn[19]\u001b[39m\u001b[32m, line 3\u001b[39m\n\u001b[32m      1\u001b[39m \u001b[38;5;28;01mfrom\u001b[39;00m\u001b[38;5;250m \u001b[39m\u001b[34;01mapplications\u001b[39;00m\u001b[34;01m.\u001b[39;00m\u001b[34;01mmetrics\u001b[39;00m\u001b[38;5;250m \u001b[39m\u001b[38;5;28;01mimport\u001b[39;00m evaluate_counterfact_efficacy, evaluate_counterfact_paraphrased, evaluate_counterfact_specificity\n\u001b[32m----> \u001b[39m\u001b[32m3\u001b[39m score, magnitude = \u001b[43mevaluate_counterfact_efficacy\u001b[49m\u001b[43m(\u001b[49m\u001b[43mmodel\u001b[49m\u001b[43m,\u001b[49m\u001b[43m \u001b[49m\u001b[32;43m0\u001b[39;49m\u001b[43m)\u001b[49m\n\u001b[32m      4\u001b[39m \u001b[38;5;28mprint\u001b[39m(\u001b[33mf\u001b[39m\u001b[33m\"\u001b[39m\u001b[33mEfficacy score \u001b[39m\u001b[38;5;132;01m{\u001b[39;00mscore\u001b[38;5;132;01m}\u001b[39;00m\u001b[33m. Efficacy magnitude \u001b[39m\u001b[38;5;132;01m{\u001b[39;00mmagnitude\u001b[38;5;132;01m}\u001b[39;00m\u001b[33m.\u001b[39m\u001b[33m\"\u001b[39m)\n",
      "\u001b[36mFile \u001b[39m\u001b[32m~/gradient_causal_knowledge/applications/metrics.py:36\u001b[39m, in \u001b[36mevaluate_counterfact_efficacy\u001b[39m\u001b[34m(model, prompt_index)\u001b[39m\n\u001b[32m     33\u001b[39m counterfact_dataset = CounterFact(model)\n\u001b[32m     34\u001b[39m counterfact_dataloader = counterfact_dataset.to_dataloader(batch_size=\u001b[32m1\u001b[39m)\n\u001b[32m---> \u001b[39m\u001b[32m36\u001b[39m original_input, _, labels = \u001b[43mcounterfact_dataloader\u001b[49m\u001b[43m[\u001b[49m\u001b[43mprompt_index\u001b[49m\u001b[43m]\u001b[49m\n\u001b[32m     37\u001b[39m \u001b[38;5;28;01mreturn\u001b[39;00m efficacy_scores(model, original_input, labels)\n",
      "\u001b[31mTypeError\u001b[39m: 'DataLoader' object is not subscriptable"
     ]
    }
   ],
   "source": [
    "from applications.metrics import evaluate_counterfact_efficacy, evaluate_counterfact_paraphrased, evaluate_counterfact_specificity\n",
    "\n",
    "score, magnitude = evaluate_counterfact_efficacy(model, 0)\n",
    "print(f\"Efficacy score {score}. Efficacy magnitude {magnitude}.\")"
   ]
  }
 ],
 "metadata": {
  "kernelspec": {
   "display_name": "fypvenv",
   "language": "python",
   "name": "python3"
  },
  "language_info": {
   "codemirror_mode": {
    "name": "ipython",
    "version": 3
   },
   "file_extension": ".py",
   "mimetype": "text/x-python",
   "name": "python",
   "nbconvert_exporter": "python",
   "pygments_lexer": "ipython3",
   "version": "3.12.3"
  }
 },
 "nbformat": 4,
 "nbformat_minor": 5
}
