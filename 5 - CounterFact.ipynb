{
 "cells": [
  {
   "cell_type": "markdown",
   "id": "087a33ab",
   "metadata": {},
   "source": [
    "# Model Editing\n",
    "\n",
    "We use our IG and AP pipeline to localise important components. These components are edited using gradient descent to \"unlearn\" information. We evaluate our results on the CounterFact dataset."
   ]
  },
  {
   "cell_type": "code",
   "execution_count": 1,
   "id": "68e36db2",
   "metadata": {},
   "outputs": [],
   "source": [
    "%load_ext autoreload\n",
    "%autoreload 2"
   ]
  },
  {
   "cell_type": "code",
   "execution_count": 2,
   "id": "a3b56745",
   "metadata": {},
   "outputs": [
    {
     "name": "stderr",
     "output_type": "stream",
     "text": [
      "/vol/bitbucket/mwl21/fypvenv/lib/python3.12/site-packages/tqdm/auto.py:21: TqdmWarning: IProgress not found. Please update jupyter and ipywidgets. See https://ipywidgets.readthedocs.io/en/stable/user_install.html\n",
      "  from .autonotebook import tqdm as notebook_tqdm\n"
     ]
    }
   ],
   "source": [
    "import torch\n",
    "from torch import Tensor\n",
    "import torch.optim as optim\n",
    "\n",
    "from testing import logit_diff_metric\n",
    "from applications.pipeline import run_attribution_steps, identify_target_components, optimise_edit_components, AttributionMethod, edit_model\n",
    "from applications.datasets import CounterFact\n",
    "\n",
    "from transformer_lens import HookedTransformer\n",
    "from transformer_lens.utils import get_device\n",
    "import copy"
   ]
  },
  {
   "cell_type": "code",
   "execution_count": 3,
   "id": "9e0e1c8c",
   "metadata": {},
   "outputs": [
    {
     "name": "stdout",
     "output_type": "stream",
     "text": [
      "Loaded pretrained model gpt2-small into HookedTransformer\n"
     ]
    }
   ],
   "source": [
    "device = get_device()\n",
    "# device = torch.device(\"cpu\")\n",
    "model = HookedTransformer.from_pretrained(\"gpt2-small\", device=device)\n",
    "\n",
    "# Explicitly calculate and expose the result for each attention head\n",
    "model.set_use_attn_result(True)\n",
    "model.set_use_hook_mlp_in(True)"
   ]
  },
  {
   "cell_type": "markdown",
   "id": "fb78dcf8",
   "metadata": {},
   "source": [
    "## Editing procedure"
   ]
  },
  {
   "cell_type": "code",
   "execution_count": 4,
   "id": "ca4d4273",
   "metadata": {},
   "outputs": [
    {
     "name": "stdout",
     "output_type": "stream",
     "text": [
      "collate tensor([[[24111],\n",
      "         [15823]]], device='cuda:0')\n"
     ]
    }
   ],
   "source": [
    "# Verify that loading works, for one example\n",
    "n_samples = 5\n",
    "\n",
    "counterfact_dataset = CounterFact(model)\n",
    "counterfact_dataloader = counterfact_dataset.to_dataloader(batch_size=1)\n",
    "\n",
    "clean_input, corrupted_input, labels = next(iter(counterfact_dataloader))\n",
    "# clean_input, corrupted_input, labels = counterfact_dataset.get_single_sample(0)\n",
    "\n",
    "# print(clean_input)\n",
    "# print(corrupted_input)\n",
    "# print(labels)\n"
   ]
  },
  {
   "cell_type": "code",
   "execution_count": 26,
   "id": "05dc6760",
   "metadata": {},
   "outputs": [
    {
     "name": "stdout",
     "output_type": "stream",
     "text": [
      "collate tensor([[[24111],\n",
      "         [15823]]], device='cuda:0')\n",
      "torch.Size([10, 12, 3072])\n"
     ]
    }
   ],
   "source": [
    "from applications.pipeline import localise_models\n",
    "\n",
    "counterfact_dataset = CounterFact(model)\n",
    "counterfact_dataloader = counterfact_dataset.to_dataloader(batch_size=n_samples)\n",
    "\n",
    "clean_input, corrupted_input, labels = next(iter(counterfact_dataloader))\n",
    "\n",
    "target_mlp, target_attn = localise_models(model, clean_input, corrupted_input, labels, overwrite=False)"
   ]
  },
  {
   "cell_type": "code",
   "execution_count": 42,
   "id": "37beafb5",
   "metadata": {},
   "outputs": [
    {
     "name": "stdout",
     "output_type": "stream",
     "text": [
      "collate tensor([[[24111],\n",
      "         [15823]]], device='cuda:0')\n"
     ]
    },
    {
     "name": "stderr",
     "output_type": "stream",
     "text": [
      "100%|██████████| 5/5 [00:00<00:00, 55.89it/s]"
     ]
    },
    {
     "name": "stdout",
     "output_type": "stream",
     "text": [
      "\n",
      "Fine tuning model...\n",
      "Target MLP tensor(656, device='cuda:0')\n",
      "Target attn tensor(17, device='cuda:0')\n"
     ]
    },
    {
     "name": "stderr",
     "output_type": "stream",
     "text": [
      "\n"
     ]
    },
    {
     "name": "stdout",
     "output_type": "stream",
     "text": [
      "Total loss: 13.766560554504395, forget loss: 0.8218996524810791, retain loss: 12.944661140441895\n",
      "Total loss: 9.437654495239258, forget loss: 0.6728930473327637, retain loss: 8.764761924743652\n",
      "Total loss: 6.063858509063721, forget loss: 0.3877338171005249, retain loss: 5.676124572753906\n",
      "Total loss: 1.5688538551330566, forget loss: 0.38302385807037354, retain loss: 1.185829997062683\n",
      "Total loss: 0.7483470439910889, forget loss: 0.7088928818702698, retain loss: 0.0394541397690773\n",
      "Total loss: 0.04736701399087906, forget loss: 0.04024618864059448, retain loss: 0.007120825815945864\n",
      "Total loss: 0.0001881093776319176, forget loss: 0.00011229515075683594, retain loss: 7.581423415103927e-05\n",
      "Total loss: 5.2452069212449715e-06, forget loss: 3.2186508178710938e-06, retain loss: 2.0265558760002023e-06\n",
      "Total loss: 2.384185791015625e-07, forget loss: 1.1920928955078125e-07, retain loss: 1.1920928244535389e-07\n",
      "Total loss: 0.0, forget loss: 0.0, retain loss: 0.0\n",
      "Prompt: ['The mother tongue of Danielle Darrieux is']\n",
      "Original output: The mother tongue of Danielle Darrieux is French.\n",
      "\n",
      "The\n"
     ]
    },
    {
     "name": "stderr",
     "output_type": "stream",
     "text": [
      "100%|██████████| 5/5 [00:00<00:00, 58.11it/s]"
     ]
    },
    {
     "name": "stdout",
     "output_type": "stream",
     "text": [
      "The mother tongue of Danielle Darrieux isEnglishEnglishEnglishEnglishEnglish\n"
     ]
    },
    {
     "name": "stderr",
     "output_type": "stream",
     "text": [
      "\n"
     ]
    },
    {
     "name": "stdout",
     "output_type": "stream",
     "text": [
      "Original label: French\n",
      "Target label: English\n",
      "Outputs: ['English', 'English', 'English', ' Paris', 'English', 'English', ' Paris', 'English', ' Paris', ' Paris']\n"
     ]
    },
    {
     "name": "stderr",
     "output_type": "stream",
     "text": [
      "100%|██████████| 5/5 [00:00<00:00, 45.86it/s]\n",
      "100%|██████████| 5/5 [00:00<00:00, 44.83it/s]\n"
     ]
    },
    {
     "name": "stdout",
     "output_type": "stream",
     "text": [
      "collate tensor([[[20298,   414],\n",
      "         [16991, 50256]]], device='cuda:0')\n"
     ]
    },
    {
     "name": "stderr",
     "output_type": "stream",
     "text": [
      "100%|██████████| 5/5 [00:00<00:00, 58.56it/s]\n"
     ]
    },
    {
     "name": "stdout",
     "output_type": "stream",
     "text": [
      "\n",
      "Fine tuning model...\n",
      "Target MLP tensor(2050, device='cuda:0')\n",
      "Target attn tensor(13, device='cuda:0')\n",
      "Total loss: 12.012462615966797, forget loss: 0.8451194763183594, retain loss: 11.167343139648438\n",
      "Total loss: 6.126043319702148, forget loss: 0.7791135311126709, retain loss: 5.346930027008057\n",
      "Total loss: 1.6245037317276, forget loss: 0.8480021357536316, retain loss: 0.7765015959739685\n",
      "Total loss: 0.05836973711848259, forget loss: 0.057977259159088135, retain loss: 0.0003924791526515037\n",
      "Total loss: 1.5497198546654545e-06, forget loss: 2.384185791015625e-07, retain loss: 1.311301275563892e-06\n",
      "Total loss: 2.145765392924659e-06, forget loss: 2.384185791015625e-07, retain loss: 1.9073468138230965e-06\n",
      "Total loss: 6.460941949626431e-05, forget loss: 1.0728836059570312e-06, retain loss: 6.353653589030728e-05\n",
      "Total loss: 0.00011646099301287904, forget loss: 2.6226043701171875e-06, retain loss: 0.00011383838864276186\n",
      "Total loss: 6.079657396185212e-06, forget loss: 3.5762786865234375e-07, retain loss: 5.722029527532868e-06\n",
      "Total loss: 1.3113015029375674e-06, forget loss: 1.1920928955078125e-07, retain loss: 1.1920922133867862e-06\n",
      "Prompt: ['The official religion of Edwin of Northumbria is']\n",
      "Original output: The official religion of Edwin of Northumbria is the Christian religion of the\n"
     ]
    },
    {
     "name": "stderr",
     "output_type": "stream",
     "text": [
      "100%|██████████| 5/5 [00:00<00:00, 57.80it/s]"
     ]
    },
    {
     "name": "stdout",
     "output_type": "stream",
     "text": [
      "The official religion of Edwin of Northumbria isIslamIslamIslamIslamification\n"
     ]
    },
    {
     "name": "stderr",
     "output_type": "stream",
     "text": [
      "\n"
     ]
    },
    {
     "name": "stdout",
     "output_type": "stream",
     "text": [
      "Original label: Christianity\n",
      "Target label: Islam\n",
      "Outputs: ['Islam', 'ISIS', ' mosque', ' mosque', ' mosque', ' mosque', ' mosque', 'ISIS', 'ISIS', ' mosque']\n"
     ]
    },
    {
     "name": "stderr",
     "output_type": "stream",
     "text": [
      "100%|██████████| 5/5 [00:00<00:00, 45.45it/s]\n",
      "100%|██████████| 5/5 [00:00<00:00, 46.65it/s]\n"
     ]
    },
    {
     "name": "stdout",
     "output_type": "stream",
     "text": [
      "collate tensor([[[   70,  5013,   283],\n",
      "         [   79, 10115, 50256]]], device='cuda:0')\n"
     ]
    },
    {
     "name": "stderr",
     "output_type": "stream",
     "text": [
      "100%|██████████| 5/5 [00:00<00:00, 54.90it/s]\n"
     ]
    },
    {
     "name": "stdout",
     "output_type": "stream",
     "text": [
      "\n",
      "Fine tuning model...\n",
      "Target MLP tensor(1607, device='cuda:0')\n",
      "Target attn tensor(7, device='cuda:0')\n",
      "Total loss: 16.85767936706543, forget loss: 0.9404736757278442, retain loss: 15.917204856872559\n",
      "Total loss: 12.985575675964355, forget loss: 0.9553406238555908, retain loss: 12.030235290527344\n",
      "Total loss: 10.220113754272461, forget loss: 0.9740220904350281, retain loss: 9.246091842651367\n",
      "Total loss: 7.440276145935059, forget loss: 0.9827184677124023, retain loss: 6.457557678222656\n",
      "Total loss: 4.135400295257568, forget loss: 0.9835770726203918, retain loss: 3.151823043823242\n",
      "Total loss: 1.760493516921997, forget loss: 0.98516446352005, retain loss: 0.7753291130065918\n",
      "Total loss: 0.9894612431526184, forget loss: 0.9877718091011047, retain loss: 0.001689436612650752\n",
      "Total loss: 0.9667185544967651, forget loss: 0.9667158126831055, retain loss: 2.7418097943154862e-06\n",
      "Total loss: 0.5450088381767273, forget loss: 0.5450082421302795, retain loss: 5.960462772236497e-07\n",
      "Total loss: 0.0011295676231384277, forget loss: 0.0011293292045593262, retain loss: 2.3841855067985307e-07\n",
      "Prompt: ['Toko Yasuda, the']\n",
      "Original output: Toko Yasuda, the former president of the Japanese\n"
     ]
    },
    {
     "name": "stderr",
     "output_type": "stream",
     "text": [
      "100%|██████████| 5/5 [00:00<00:00, 57.82it/s]"
     ]
    },
    {
     "name": "stdout",
     "output_type": "stream",
     "text": [
      "Toko Yasuda, theponypony,\n"
     ]
    },
    {
     "name": "stderr",
     "output_type": "stream",
     "text": [
      "\n"
     ]
    },
    {
     "name": "stdout",
     "output_type": "stream",
     "text": [
      "Original label: guitar\n",
      "Target label: piano\n",
      "Outputs: [' planet', ' her', ' her', ' it', ' it', ' planet', ' planet', ' her', ' planet', ' it']\n"
     ]
    },
    {
     "name": "stderr",
     "output_type": "stream",
     "text": [
      "100%|██████████| 5/5 [00:00<00:00, 48.47it/s]\n",
      "100%|██████████| 5/5 [00:00<00:00, 48.94it/s]\n"
     ]
    },
    {
     "name": "stdout",
     "output_type": "stream",
     "text": [
      "collate tensor([[[45355, 50256],\n",
      "         [10462, 31829]]], device='cuda:0')\n"
     ]
    },
    {
     "name": "stderr",
     "output_type": "stream",
     "text": [
      "100%|██████████| 5/5 [00:00<00:00, 58.53it/s]\n"
     ]
    },
    {
     "name": "stdout",
     "output_type": "stream",
     "text": [
      "\n",
      "Fine tuning model...\n",
      "Target MLP tensor(933, device='cuda:0')\n",
      "Target attn tensor(9, device='cuda:0')\n",
      "Total loss: 16.644771575927734, forget loss: 0.5805739164352417, retain loss: 16.064197540283203\n",
      "Total loss: 12.077574729919434, forget loss: 0.20209544897079468, retain loss: 11.875479698181152\n",
      "Total loss: 8.189273834228516, forget loss: 0.02645665407180786, retain loss: 8.162817001342773\n",
      "Total loss: 3.7389283180236816, forget loss: 0.009603917598724365, retain loss: 3.7293243408203125\n",
      "Total loss: 0.8909740447998047, forget loss: 0.007955670356750488, retain loss: 0.8830183744430542\n",
      "Total loss: 0.0075190006755292416, forget loss: 0.006133913993835449, retain loss: 0.0013850866816937923\n",
      "Total loss: 0.00033080577850341797, forget loss: 0.0003274679183959961, retain loss: 3.3378546504536644e-06\n",
      "Total loss: 3.9696693420410156e-05, forget loss: 3.910064697265625e-05, retain loss: 5.960462772236497e-07\n",
      "Total loss: 9.298324584960938e-06, forget loss: 9.179115295410156e-06, retain loss: 1.1920928244535389e-07\n",
      "Total loss: 3.5762786865234375e-06, forget loss: 3.4570693969726562e-06, retain loss: 1.1920928244535389e-07\n",
      "Prompt: ['Autonomous University of Madrid, which is located in']\n",
      "Original output: Autonomous University of Madrid, which is located in Madrid, Spain, is\n"
     ]
    },
    {
     "name": "stderr",
     "output_type": "stream",
     "text": [
      "100%|██████████| 5/5 [00:00<00:00, 59.02it/s]"
     ]
    },
    {
     "name": "stdout",
     "output_type": "stream",
     "text": [
      "Autonomous University of Madrid, which is located in Madrid Madrid Madrid Madrid Madrid\n"
     ]
    },
    {
     "name": "stderr",
     "output_type": "stream",
     "text": [
      "\n"
     ]
    },
    {
     "name": "stdout",
     "output_type": "stream",
     "text": [
      "Original label: Spain\n",
      "Target label: Sweden\n",
      "Outputs: [' Madrid', ' Madrid', ' Madrid', ' Madrid', ' Madrid', ' Madrid', ' Madrid', ' Madrid', ' Madrid', ' Madrid']\n"
     ]
    },
    {
     "name": "stderr",
     "output_type": "stream",
     "text": [
      "100%|██████████| 5/5 [00:00<00:00, 48.44it/s]\n",
      "100%|██████████| 5/5 [00:00<00:00, 47.07it/s]\n"
     ]
    },
    {
     "name": "stdout",
     "output_type": "stream",
     "text": [
      "collate tensor([[[ 3856,   343,   315],\n",
      "         [ 5124, 10102, 50256]]], device='cuda:0')\n"
     ]
    },
    {
     "name": "stderr",
     "output_type": "stream",
     "text": [
      "100%|██████████| 5/5 [00:00<00:00, 59.02it/s]\n"
     ]
    },
    {
     "name": "stdout",
     "output_type": "stream",
     "text": [
      "\n",
      "Fine tuning model...\n",
      "Target MLP tensor(946, device='cuda:0')\n",
      "Target attn tensor(6, device='cuda:0')\n",
      "Total loss: 20.040800094604492, forget loss: 0.8302270174026489, retain loss: 19.210573196411133\n",
      "Total loss: 15.194461822509766, forget loss: 0.877143383026123, retain loss: 14.317317962646484\n",
      "Total loss: 11.515726089477539, forget loss: 0.910816490650177, retain loss: 10.604909896850586\n",
      "Total loss: 7.953537940979004, forget loss: 0.9416232109069824, retain loss: 7.0119147300720215\n",
      "Total loss: 4.3495635986328125, forget loss: 0.971041202545166, retain loss: 3.3785221576690674\n",
      "Total loss: 1.6103942394256592, forget loss: 0.799092710018158, retain loss: 0.8113014698028564\n",
      "Total loss: 0.19345290958881378, forget loss: 0.15358585119247437, retain loss: 0.039867062121629715\n",
      "Total loss: 0.005476599559187889, forget loss: 0.004637718200683594, retain loss: 0.0008388814167119563\n",
      "Total loss: 0.00018560848548077047, forget loss: 0.00015807151794433594, retain loss: 2.753696753643453e-05\n",
      "Total loss: 1.978873842745088e-05, forget loss: 1.704692840576172e-05, retain loss: 2.7418097943154862e-06\n",
      "Prompt: ['What is the twin city of Lyon? It is']\n",
      "Original output: What is the twin city of Lyon? It is a city of the French\n"
     ]
    },
    {
     "name": "stderr",
     "output_type": "stream",
     "text": [
      "100%|██████████| 5/5 [00:00<00:00, 58.81it/s]"
     ]
    },
    {
     "name": "stdout",
     "output_type": "stream",
     "text": [
      "What is the twin city of Lyon? It isManilaManilaMan\n"
     ]
    },
    {
     "name": "stderr",
     "output_type": "stream",
     "text": [
      "\n"
     ]
    },
    {
     "name": "stdout",
     "output_type": "stream",
     "text": [
      "Original label: Beirut\n",
      "Target label: Manila\n",
      "Outputs: [' its', ' its', ' the', ' the', ' the', ' the', ' its', ' the', ' the', ' the']\n"
     ]
    },
    {
     "name": "stderr",
     "output_type": "stream",
     "text": [
      "100%|██████████| 5/5 [00:00<00:00, 46.25it/s]\n",
      "100%|██████████| 5/5 [00:00<00:00, 48.45it/s]\n"
     ]
    }
   ],
   "source": [
    "from applications.metrics import evaluate_counterfact_efficacy, evaluate_counterfact_paraphrased, evaluate_counterfact_neighborhood, evaluate_consistency\n",
    "from applications.datasets import CounterFact\n",
    "import pandas as pd\n",
    "from collections import defaultdict\n",
    "\n",
    "evaluation_scores = defaultdict(list)\n",
    "counterfact_dataset = CounterFact(model)\n",
    "counterfact_dataloader = counterfact_dataset.to_dataloader(batch_size=1)\n",
    "\n",
    "for n, (clean_input, corrupted_input, labels) in enumerate(counterfact_dataloader):\n",
    "\n",
    "    original_output = model.generate(clean_input, max_new_tokens=5, do_sample=False)\n",
    "\n",
    "    edited_model = edit_model(model, clean_input, corrupted_input, labels, target_mlp[n], target_attn[n], n_epochs=10)\n",
    "\n",
    "    # Evaluate\n",
    "    print(f\"Prompt: {clean_input}\")\n",
    "    print(\"Original output:\", original_output)\n",
    "    # print(f\"Original answer: {labels[:, 0]}. Target answer: {labels[:, 1]}\")\n",
    "\n",
    "    print(edited_model.generate(clean_input, max_new_tokens=5, do_sample=False))\n",
    "\n",
    "    score, magnitude = evaluate_counterfact_efficacy(edited_model, n, verbose=True)\n",
    "    evaluation_scores[\"Efficacy score\"].append(score.item())\n",
    "    evaluation_scores[\"Efficacy magnitude\"].append(magnitude.item())\n",
    "\n",
    "    score, magnitude = evaluate_counterfact_paraphrased(edited_model, n, verbose=False)\n",
    "    evaluation_scores[\"Generalisation score\"].append(score.item())\n",
    "    evaluation_scores[\"Generalisation magnitude\"].append(magnitude.item())\n",
    "\n",
    "    score, magnitude = evaluate_counterfact_neighborhood(edited_model, n, verbose=False)\n",
    "    evaluation_scores[\"Specificity score\"].append(score.item())\n",
    "    evaluation_scores[\"Specificity magnitude\"].append(magnitude.item())\n",
    "\n",
    "    consistency_score = evaluate_consistency(model, n, verbose=False)\n",
    "    evaluation_scores[\"Consistency score\"].append(score.item())\n",
    "    evaluation_scores[\"Consistency magnitude\"].append(magnitude.item())\n",
    "\n",
    "    if n + 1 >= n_samples: break\n",
    "\n",
    "evaluation_df = pd.DataFrame(evaluation_scores)\n",
    "evaluation_df.to_csv('results/counterfact/evaluation.csv')"
   ]
  },
  {
   "cell_type": "markdown",
   "id": "8cdc4b86",
   "metadata": {},
   "source": [
    "## Evaluation\n",
    "\n",
    "For each sample, we calculate the efficacy, generalisability, specificity and consistency for:\n",
    "\n",
    "- The original models' outputs\n",
    "- The edited model's outputs\n"
   ]
  },
  {
   "cell_type": "code",
   "execution_count": 41,
   "id": "77adc94e",
   "metadata": {},
   "outputs": [
    {
     "data": {
      "text/html": [
       "<div>\n",
       "<style scoped>\n",
       "    .dataframe tbody tr th:only-of-type {\n",
       "        vertical-align: middle;\n",
       "    }\n",
       "\n",
       "    .dataframe tbody tr th {\n",
       "        vertical-align: top;\n",
       "    }\n",
       "\n",
       "    .dataframe thead th {\n",
       "        text-align: right;\n",
       "    }\n",
       "</style>\n",
       "<table border=\"1\" class=\"dataframe\">\n",
       "  <thead>\n",
       "    <tr style=\"text-align: right;\">\n",
       "      <th></th>\n",
       "      <th>Efficacy score</th>\n",
       "      <th>Efficacy magnitude</th>\n",
       "      <th>Generalisation score</th>\n",
       "      <th>Generalisation magnitude</th>\n",
       "      <th>Specificity score</th>\n",
       "      <th>Specificity magnitude</th>\n",
       "      <th>Consistency score</th>\n",
       "      <th>Consistency magnitude</th>\n",
       "    </tr>\n",
       "  </thead>\n",
       "  <tbody>\n",
       "    <tr>\n",
       "      <th>0</th>\n",
       "      <td>0.0</td>\n",
       "      <td>-0.000024</td>\n",
       "      <td>0.0</td>\n",
       "      <td>-0.000023</td>\n",
       "      <td>0.0</td>\n",
       "      <td>-0.000036</td>\n",
       "      <td>0.0</td>\n",
       "      <td>-0.000036</td>\n",
       "    </tr>\n",
       "    <tr>\n",
       "      <th>1</th>\n",
       "      <td>0.0</td>\n",
       "      <td>-0.000007</td>\n",
       "      <td>0.0</td>\n",
       "      <td>-0.000004</td>\n",
       "      <td>0.0</td>\n",
       "      <td>-0.000003</td>\n",
       "      <td>0.0</td>\n",
       "      <td>-0.000003</td>\n",
       "    </tr>\n",
       "    <tr>\n",
       "      <th>2</th>\n",
       "      <td>0.6</td>\n",
       "      <td>0.000012</td>\n",
       "      <td>0.5</td>\n",
       "      <td>0.000010</td>\n",
       "      <td>0.9</td>\n",
       "      <td>0.000015</td>\n",
       "      <td>0.9</td>\n",
       "      <td>0.000015</td>\n",
       "    </tr>\n",
       "    <tr>\n",
       "      <th>3</th>\n",
       "      <td>0.7</td>\n",
       "      <td>0.000041</td>\n",
       "      <td>0.5</td>\n",
       "      <td>0.000035</td>\n",
       "      <td>0.9</td>\n",
       "      <td>0.000045</td>\n",
       "      <td>0.9</td>\n",
       "      <td>0.000045</td>\n",
       "    </tr>\n",
       "    <tr>\n",
       "      <th>4</th>\n",
       "      <td>0.0</td>\n",
       "      <td>-0.000022</td>\n",
       "      <td>0.0</td>\n",
       "      <td>-0.000020</td>\n",
       "      <td>0.1</td>\n",
       "      <td>-0.000119</td>\n",
       "      <td>0.1</td>\n",
       "      <td>-0.000119</td>\n",
       "    </tr>\n",
       "  </tbody>\n",
       "</table>\n",
       "</div>"
      ],
      "text/plain": [
       "   Efficacy score  Efficacy magnitude  Generalisation score  \\\n",
       "0             0.0           -0.000024                   0.0   \n",
       "1             0.0           -0.000007                   0.0   \n",
       "2             0.6            0.000012                   0.5   \n",
       "3             0.7            0.000041                   0.5   \n",
       "4             0.0           -0.000022                   0.0   \n",
       "\n",
       "   Generalisation magnitude  Specificity score  Specificity magnitude  \\\n",
       "0                 -0.000023                0.0              -0.000036   \n",
       "1                 -0.000004                0.0              -0.000003   \n",
       "2                  0.000010                0.9               0.000015   \n",
       "3                  0.000035                0.9               0.000045   \n",
       "4                 -0.000020                0.1              -0.000119   \n",
       "\n",
       "   Consistency score  Consistency magnitude  \n",
       "0                0.0              -0.000036  \n",
       "1                0.0              -0.000003  \n",
       "2                0.9               0.000015  \n",
       "3                0.9               0.000045  \n",
       "4                0.1              -0.000119  "
      ]
     },
     "execution_count": 41,
     "metadata": {},
     "output_type": "execute_result"
    }
   ],
   "source": [
    "evaluation_df.head()"
   ]
  }
 ],
 "metadata": {
  "kernelspec": {
   "display_name": "fypvenv",
   "language": "python",
   "name": "python3"
  },
  "language_info": {
   "codemirror_mode": {
    "name": "ipython",
    "version": 3
   },
   "file_extension": ".py",
   "mimetype": "text/x-python",
   "name": "python",
   "nbconvert_exporter": "python",
   "pygments_lexer": "ipython3",
   "version": "3.12.3"
  }
 },
 "nbformat": 4,
 "nbformat_minor": 5
}
