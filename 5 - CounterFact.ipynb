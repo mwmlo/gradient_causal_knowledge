{
 "cells": [
  {
   "cell_type": "markdown",
   "id": "087a33ab",
   "metadata": {},
   "source": [
    "# Model Editing\n",
    "\n",
    "We use our IG and AP pipeline to localise important components. These components are edited using gradient descent to \"unlearn\" information. We evaluate our results on the CounterFact dataset."
   ]
  },
  {
   "cell_type": "code",
   "execution_count": 1,
   "id": "68e36db2",
   "metadata": {},
   "outputs": [],
   "source": [
    "%load_ext autoreload\n",
    "%autoreload 2"
   ]
  },
  {
   "cell_type": "code",
   "execution_count": 6,
   "id": "a3b56745",
   "metadata": {},
   "outputs": [],
   "source": [
    "import torch\n",
    "from torch import Tensor\n",
    "import torch.optim as optim\n",
    "\n",
    "from testing import logit_diff_metric\n",
    "from applications.pipeline import run_attribution_steps, identify_target_components, optimise_edit_components, AttributionMethod, edit_model\n",
    "from applications.datasets import CounterFact\n",
    "\n",
    "from transformer_lens import HookedTransformer\n",
    "from transformer_lens.utils import get_device\n",
    "import copy"
   ]
  },
  {
   "cell_type": "code",
   "execution_count": 18,
   "id": "9e0e1c8c",
   "metadata": {},
   "outputs": [
    {
     "name": "stdout",
     "output_type": "stream",
     "text": [
      "Loaded pretrained model gpt2-small into HookedTransformer\n"
     ]
    }
   ],
   "source": [
    "device = get_device()\n",
    "# device = torch.device(\"cpu\")\n",
    "model = HookedTransformer.from_pretrained(\"gpt2-small\", device=device)\n",
    "\n",
    "# Explicitly calculate and expose the result for each attention head\n",
    "model.set_use_attn_result(True)\n",
    "model.set_use_hook_mlp_in(True)"
   ]
  },
  {
   "cell_type": "markdown",
   "id": "fb78dcf8",
   "metadata": {},
   "source": [
    "## Editing procedure"
   ]
  },
  {
   "cell_type": "code",
   "execution_count": 24,
   "id": "ca4d4273",
   "metadata": {},
   "outputs": [],
   "source": [
    "# Verify that loading works, for one example\n",
    "n_samples = 7500\n",
    "\n",
    "counterfact_dataset = CounterFact(model)\n",
    "counterfact_dataloader = counterfact_dataset.to_dataloader(batch_size=10)\n",
    "\n",
    "# clean_input, corrupted_input, labels = next(iter(counterfact_dataloader))\n",
    "clean_input, corrupted_input, labels = counterfact_dataset.get_single_sample(0)\n",
    "\n",
    "# print(clean_input)\n",
    "# print(corrupted_input)\n",
    "# print(labels)\n"
   ]
  },
  {
   "cell_type": "code",
   "execution_count": 10,
   "id": "c09bf2a9",
   "metadata": {},
   "outputs": [
    {
     "name": "stderr",
     "output_type": "stream",
     "text": [
      "100%|██████████| 5/5 [00:02<00:00,  2.39it/s]\n"
     ]
    },
    {
     "data": {
      "text/plain": [
       "'The mother tongue of Danielle Darrieux is French.\\n\\nThe'"
      ]
     },
     "execution_count": 10,
     "metadata": {},
     "output_type": "execute_result"
    }
   ],
   "source": [
    "# Sample generation\n",
    "model.generate(clean_input, max_new_tokens=5, do_sample=False)"
   ]
  },
  {
   "cell_type": "code",
   "execution_count": null,
   "id": "37beafb5",
   "metadata": {},
   "outputs": [
    {
     "name": "stdout",
     "output_type": "stream",
     "text": [
      "\n",
      "Error (delta) for blocks.0.attn.hook_result attribution: tensor([ 7.6443e-06, -1.0489e-05,  1.4393e-05,  2.0266e-06,  1.3598e-05,\n",
      "         5.0068e-06,  1.2256e-05,  2.1107e-05,  3.9227e-06,  2.5719e-05],\n",
      "       device='cuda:0')\n",
      "\n",
      "Error (delta) for blocks.0.mlp.hook_post attribution: tensor([ 2.8056e-04, -1.3577e-03,  3.8017e-06,  6.4612e-04, -7.0482e-06,\n",
      "        -2.1152e-02,  3.5742e-04,  5.5879e-06,  3.0794e-03, -2.5910e-04],\n",
      "       device='cuda:0')\n",
      "\n",
      "Error (delta) for blocks.1.attn.hook_result attribution: tensor([ 6.8881e-06, -1.7890e-06,  4.5691e-06, -9.6746e-06, -1.5073e-05,\n",
      "        -1.2740e-06,  8.0839e-07,  6.4336e-06,  1.6324e-05,  2.5399e-05],\n",
      "       device='cuda:0')\n",
      "\n",
      "Error (delta) for blocks.1.mlp.hook_post attribution: tensor([-3.6135e-07, -1.5715e-05, -3.1292e-07, -8.9109e-06, -1.1093e-05,\n",
      "        -5.9605e-07,  6.0797e-06,  5.4576e-06,  8.3223e-06,  1.5661e-05],\n",
      "       device='cuda:0')\n",
      "\n",
      "Error (delta) for blocks.2.attn.hook_result attribution: tensor([ 6.6874e-06, -1.7732e-06,  1.7732e-06, -7.3519e-06,  2.0675e-07,\n",
      "         5.8413e-06,  1.2415e-05, -8.7088e-06,  9.0152e-06,  2.3171e-05],\n",
      "       device='cuda:0')\n",
      "\n",
      "Error (delta) for blocks.2.mlp.hook_post attribution: tensor([-4.6119e-06, -1.5533e-05, -3.1898e-06, -1.9655e-05, -4.0228e-06,\n",
      "         8.3447e-07,  5.4091e-06,  5.6997e-06,  3.9879e-06,  7.4971e-06],\n",
      "       device='cuda:0')\n",
      "\n",
      "Error (delta) for blocks.3.attn.hook_result attribution: tensor([ 4.6529e-06,  8.5263e-07,  1.8985e-05, -1.0050e-05, -7.4026e-06,\n",
      "         6.7949e-06,  2.0582e-06,  1.0339e-05,  7.1116e-06,  1.9420e-05],\n",
      "       device='cuda:0')\n",
      "\n",
      "Error (delta) for blocks.3.mlp.hook_post attribution: tensor([ 7.3016e-07, -5.1791e-06,  8.5291e-06, -1.8001e-05,  1.0640e-05,\n",
      "         2.3842e-06,  9.1419e-06,  1.1573e-05,  7.2746e-06,  7.8045e-06],\n",
      "       device='cuda:0')\n",
      "\n",
      "Error (delta) for blocks.4.attn.hook_result attribution: tensor([ 4.7851e-06, -1.0057e-05,  8.1710e-06, -4.7777e-06,  1.7898e-05,\n",
      "         3.7551e-06,  1.4581e-05,  8.2206e-06,  3.6173e-06,  2.3618e-05],\n",
      "       device='cuda:0')\n",
      "\n",
      "Error (delta) for blocks.4.mlp.hook_post attribution: tensor([ 2.3078e-06, -2.7819e-06,  1.0293e-05, -1.0319e-05,  1.5314e-05,\n",
      "         4.7684e-06,  2.2259e-06,  9.2387e-06,  6.5677e-06,  2.2262e-05],\n",
      "       device='cuda:0')\n",
      "\n",
      "Error (delta) for blocks.5.attn.hook_result attribution: tensor([-4.6073e-06, -5.9791e-06,  7.8026e-06, -2.0161e-05,  2.6654e-05,\n",
      "         7.9721e-06,  9.5461e-06,  1.1405e-05,  1.6091e-05,  2.5460e-05],\n",
      "       device='cuda:0')\n"
     ]
    }
   ],
   "source": [
    "from applications.metrics import evaluate_counterfact_efficacy, evaluate_counterfact_paraphrased, evaluate_counterfact_neighborhood, evaluate_consistency\n",
    "from applications.datasets import CounterFact\n",
    "import pandas as pd\n",
    "from collections import defaultdict\n",
    "\n",
    "evaluation_scores = defaultdict(list)\n",
    "\n",
    "for n, (clean_input, corrupted_input, labels) in enumerate(counterfact_dataloader):\n",
    "\n",
    "    if n >= n_samples: break\n",
    "\n",
    "    edited_models = edit_model(model, clean_input, corrupted_input, labels, overwrite=True)\n",
    "\n",
    "    # Evaluate\n",
    "    for i, edited_model in enumerate(edited_models):\n",
    "        print(f\"Prompt: {clean_input[i]}\")\n",
    "        print(f\"Original answer: {labels[:, 0]}. Target answer: {labels[:, 1]}\")\n",
    "\n",
    "        score, magnitude = evaluate_counterfact_efficacy(edited_model, 0, verbose=True)\n",
    "        evaluation_scores[\"Efficacy score\"].append(score.item())\n",
    "        evaluation_scores[\"Efficacy magnitude\"].append(magnitude.item())\n",
    "\n",
    "        score, magnitude = evaluate_counterfact_paraphrased(edited_model, 0, verbose=True)\n",
    "        evaluation_scores[\"Generalisation score\"].append(score.item())\n",
    "        evaluation_scores[\"Generalisation magnitude\"].append(magnitude.item())\n",
    "\n",
    "        score, magnitude = evaluate_counterfact_neighborhood(edited_model, 0, verbose=True)\n",
    "        evaluation_scores[\"Specificity score\"].append(score.item())\n",
    "        evaluation_scores[\"Specificity magnitude\"].append(magnitude.item())\n",
    "\n",
    "        consistency_score = evaluate_consistency(model, 0, verbose=True)\n",
    "        evaluation_scores[\"Consistency score\"].append(score.item())\n",
    "        evaluation_scores[\"Consistency magnitude\"].append(magnitude.item())\n",
    "\n",
    "\n",
    "evaluation_df = pd.DataFrame(evaluation_scores)\n",
    "evaluation_df.to_csv('results/counterfact/evaluation.csv')"
   ]
  },
  {
   "cell_type": "markdown",
   "id": "8cdc4b86",
   "metadata": {},
   "source": [
    "## Evaluation\n",
    "\n",
    "For each sample, we calculate the efficacy, generalisability, specificity and consistency for:\n",
    "\n",
    "- The original models' outputs\n",
    "- The edited model's outputs\n"
   ]
  },
  {
   "cell_type": "code",
   "execution_count": null,
   "id": "77adc94e",
   "metadata": {},
   "outputs": [
    {
     "name": "stderr",
     "output_type": "stream",
     "text": [
      "100%|██████████| 5/5 [00:00<00:00, 14.48it/s]\n"
     ]
    },
    {
     "name": "stdout",
     "output_type": "stream",
     "text": [
      "The mother tongue of Danielle Darrieux isEnglishEnglishEnglishEnglishEnglish\n"
     ]
    },
    {
     "name": "stderr",
     "output_type": "stream",
     "text": [
      "100%|██████████| 5/5 [00:00<00:00, 15.87it/s]\n"
     ]
    },
    {
     "name": "stdout",
     "output_type": "stream",
     "text": [
      "The official religion of Edwin of Northumbria is Islam.\n",
      "\n",
      "The\n"
     ]
    },
    {
     "name": "stderr",
     "output_type": "stream",
     "text": [
      "100%|██████████| 5/5 [00:00<00:00, 17.52it/s]\n"
     ]
    },
    {
     "name": "stdout",
     "output_type": "stream",
     "text": [
      "Toko Yasuda, thep-p-p\n"
     ]
    },
    {
     "name": "stderr",
     "output_type": "stream",
     "text": [
      "100%|██████████| 5/5 [00:00<00:00, 16.89it/s]\n"
     ]
    },
    {
     "name": "stdout",
     "output_type": "stream",
     "text": [
      "Autonomous University of Madrid, which is located in Madrid Madrid Madrid Madrid Madrid\n"
     ]
    },
    {
     "name": "stderr",
     "output_type": "stream",
     "text": [
      "100%|██████████| 5/5 [00:00<00:00, 17.02it/s]"
     ]
    },
    {
     "name": "stdout",
     "output_type": "stream",
     "text": [
      "What is the twin city of Lyon? It isManilaManilaMan\n"
     ]
    },
    {
     "name": "stderr",
     "output_type": "stream",
     "text": [
      "\n"
     ]
    }
   ],
   "source": [
    "evaluation_df.head()"
   ]
  }
 ],
 "metadata": {
  "kernelspec": {
   "display_name": "fypvenv",
   "language": "python",
   "name": "python3"
  },
  "language_info": {
   "codemirror_mode": {
    "name": "ipython",
    "version": 3
   },
   "file_extension": ".py",
   "mimetype": "text/x-python",
   "name": "python",
   "nbconvert_exporter": "python",
   "pygments_lexer": "ipython3",
   "version": "3.12.3"
  }
 },
 "nbformat": 4,
 "nbformat_minor": 5
}
