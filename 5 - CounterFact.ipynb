{
 "cells": [
  {
   "cell_type": "markdown",
   "id": "087a33ab",
   "metadata": {},
   "source": [
    "# Model Editing\n",
    "\n",
    "We use our IG and AP pipeline to localise important components. These components are edited using gradient descent to \"unlearn\" information. We evaluate our results on the CounterFact dataset."
   ]
  },
  {
   "cell_type": "code",
   "execution_count": 1,
   "id": "68e36db2",
   "metadata": {},
   "outputs": [],
   "source": [
    "%load_ext autoreload\n",
    "%autoreload 2"
   ]
  },
  {
   "cell_type": "code",
   "execution_count": 2,
   "id": "a3b56745",
   "metadata": {},
   "outputs": [
    {
     "name": "stderr",
     "output_type": "stream",
     "text": [
      "/vol/bitbucket/mwl21/fypvenv/lib/python3.12/site-packages/tqdm/auto.py:21: TqdmWarning: IProgress not found. Please update jupyter and ipywidgets. See https://ipywidgets.readthedocs.io/en/stable/user_install.html\n",
      "  from .autonotebook import tqdm as notebook_tqdm\n"
     ]
    }
   ],
   "source": [
    "import torch\n",
    "from torch import Tensor\n",
    "import torch.optim as optim\n",
    "\n",
    "from testing import logit_diff_metric\n",
    "from applications.pipeline import run_attribution_steps, identify_target_components, optimise_edit_components, AttributionMethod, edit_model\n",
    "from applications.datasets import CounterFact\n",
    "\n",
    "from transformer_lens import HookedTransformer\n",
    "from transformer_lens.utils import get_device\n",
    "import copy"
   ]
  },
  {
   "cell_type": "code",
   "execution_count": 3,
   "id": "9e0e1c8c",
   "metadata": {},
   "outputs": [
    {
     "name": "stdout",
     "output_type": "stream",
     "text": [
      "Loaded pretrained model gpt2-small into HookedTransformer\n"
     ]
    }
   ],
   "source": [
    "device = get_device()\n",
    "# device = torch.device(\"cpu\")\n",
    "model = HookedTransformer.from_pretrained(\"gpt2-small\", device=device)\n",
    "\n",
    "# Explicitly calculate and expose the result for each attention head\n",
    "model.set_use_attn_result(True)\n",
    "model.set_use_hook_mlp_in(True)"
   ]
  },
  {
   "cell_type": "markdown",
   "id": "fb78dcf8",
   "metadata": {},
   "source": [
    "## Editing procedure"
   ]
  },
  {
   "cell_type": "code",
   "execution_count": 4,
   "id": "ca4d4273",
   "metadata": {},
   "outputs": [
    {
     "name": "stdout",
     "output_type": "stream",
     "text": [
      "collate tensor([[[24111],\n",
      "         [15823]]], device='cuda:0')\n"
     ]
    }
   ],
   "source": [
    "# Verify that loading works, for one example\n",
    "n_samples = 5\n",
    "\n",
    "counterfact_dataset = CounterFact(model)\n",
    "counterfact_dataloader = counterfact_dataset.to_dataloader(batch_size=1)\n",
    "\n",
    "clean_input, corrupted_input, labels = next(iter(counterfact_dataloader))\n",
    "# clean_input, corrupted_input, labels = counterfact_dataset.get_single_sample(0)\n",
    "\n",
    "# print(clean_input)\n",
    "# print(corrupted_input)\n",
    "# print(labels)\n"
   ]
  },
  {
   "cell_type": "code",
   "execution_count": 61,
   "id": "05dc6760",
   "metadata": {},
   "outputs": [],
   "source": [
    "from applications.pipeline import localise_models\n",
    "\n",
    "counterfact_dataset = CounterFact(model)\n",
    "counterfact_dataloader = counterfact_dataset.to_dataloader(batch_size=n_samples)\n",
    "\n",
    "clean_input, corrupted_input, labels = next(iter(counterfact_dataloader))\n",
    "\n",
    "target_mlp, target_attn = localise_models(model, clean_input, corrupted_input, labels, overwrite=False)"
   ]
  },
  {
   "cell_type": "code",
   "execution_count": 71,
   "id": "37beafb5",
   "metadata": {},
   "outputs": [
    {
     "name": "stderr",
     "output_type": "stream",
     "text": [
      "100%|██████████| 5/5 [00:00<00:00, 59.07it/s]\n"
     ]
    },
    {
     "name": "stdout",
     "output_type": "stream",
     "text": [
      "\n",
      "Fine tuning model...\n",
      "Target MLP tensor(302, device='cuda:0')\n",
      "Target attn tensor(13, device='cuda:0')\n",
      "Total loss: 14.156512260437012, forget loss: 0.8218996524810791, retain loss: 12.944661140441895, fluency loss: 0.3899519145488739\n",
      "Total loss: 10.520061492919922, forget loss: 0.8037171363830566, retain loss: 9.517534255981445, fluency loss: 0.19881051778793335\n",
      "Total loss: 7.979592800140381, forget loss: 0.3895788788795471, retain loss: 7.4925312995910645, fluency loss: 0.09748281538486481\n",
      "Total loss: 5.401577949523926, forget loss: 0.33604925870895386, retain loss: 4.9955973625183105, fluency loss: 0.06993148475885391\n",
      "Total loss: 2.645231246948242, forget loss: 0.12122088670730591, retain loss: 2.5113449096679688, fluency loss: 0.012665515765547752\n",
      "Total loss: 0.41917693614959717, forget loss: 0.24413734674453735, retain loss: 0.11608405411243439, fluency loss: 0.05895555019378662\n",
      "Prompt: ['The mother tongue of Danielle Darrieux is']\n",
      "Original output: The mother tongue of Danielle Darrieux is French.\n",
      "\n",
      "The\n"
     ]
    },
    {
     "name": "stderr",
     "output_type": "stream",
     "text": [
      "100%|██████████| 5/5 [00:00<00:00, 58.89it/s]"
     ]
    },
    {
     "name": "stdout",
     "output_type": "stream",
     "text": [
      "The mother tongue of Danielle Darrieux isEnglishEnglishEnglishEnglishEnglish\n"
     ]
    },
    {
     "name": "stderr",
     "output_type": "stream",
     "text": [
      "\n"
     ]
    },
    {
     "name": "stdout",
     "output_type": "stream",
     "text": [
      "Original label: French\n",
      "Target label: English\n",
      "Outputs: ['English', ' the', 'English', ' New', 'English', 'English', ' New', ' the', ' New', ' New']\n"
     ]
    },
    {
     "name": "stderr",
     "output_type": "stream",
     "text": [
      "100%|██████████| 5/5 [00:00<00:00, 45.59it/s]\n",
      "100%|██████████| 5/5 [00:00<00:00, 45.61it/s]\n",
      "100%|██████████| 5/5 [00:00<00:00, 58.78it/s]\n"
     ]
    },
    {
     "name": "stdout",
     "output_type": "stream",
     "text": [
      "\n",
      "Fine tuning model...\n",
      "Target MLP tensor(1461, device='cuda:0')\n",
      "Target attn tensor(8, device='cuda:0')\n",
      "Total loss: 12.828038215637207, forget loss: 0.8451194763183594, retain loss: 11.167343139648438, fluency loss: 0.8155754208564758\n",
      "Total loss: 8.259993553161621, forget loss: 0.8991551399230957, retain loss: 7.07151460647583, fluency loss: 0.2893237769603729\n",
      "Total loss: 4.131011486053467, forget loss: 0.3919997215270996, retain loss: 3.613107204437256, fluency loss: 0.12590469419956207\n",
      "Total loss: 1.3264384269714355, forget loss: 0.2954949140548706, retain loss: 0.25239983201026917, fluency loss: 0.7785436511039734\n",
      "Total loss: 0.04324953630566597, forget loss: 0.011642396450042725, retain loss: 0.020695345476269722, fluency loss: 0.010911796241998672\n",
      "Prompt: ['The official religion of Edwin of Northumbria is']\n",
      "Original output: The official religion of Edwin of Northumbria is the Christian religion of the\n"
     ]
    },
    {
     "name": "stderr",
     "output_type": "stream",
     "text": [
      "100%|██████████| 5/5 [00:00<00:00, 57.61it/s]"
     ]
    },
    {
     "name": "stdout",
     "output_type": "stream",
     "text": [
      "The official religion of Edwin of Northumbria isIslam (Islam).Islam\n"
     ]
    },
    {
     "name": "stderr",
     "output_type": "stream",
     "text": [
      "\n"
     ]
    },
    {
     "name": "stdout",
     "output_type": "stream",
     "text": [
      "Original label: Christianity\n",
      "Target label: Islam\n",
      "Outputs: [' his', ' a', ' mosque', ' mosque', ' mosque', ' mosque', ' mosque', ' a', ' a', ' mosque']\n"
     ]
    },
    {
     "name": "stderr",
     "output_type": "stream",
     "text": [
      "100%|██████████| 5/5 [00:00<00:00, 45.53it/s]\n",
      "100%|██████████| 5/5 [00:00<00:00, 45.36it/s]\n",
      "100%|██████████| 5/5 [00:00<00:00, 53.34it/s]\n"
     ]
    },
    {
     "name": "stdout",
     "output_type": "stream",
     "text": [
      "\n",
      "Fine tuning model...\n",
      "Target MLP tensor(903, device='cuda:0')\n",
      "Target attn tensor(3, device='cuda:0')\n",
      "Total loss: 17.782243728637695, forget loss: 0.9404736757278442, retain loss: 15.917204856872559, fluency loss: 0.9245650768280029\n",
      "Total loss: 15.020975112915039, forget loss: 0.9404497742652893, retain loss: 13.849843978881836, fluency loss: 0.23068174719810486\n",
      "Total loss: 13.28490161895752, forget loss: 0.9497841000556946, retain loss: 12.150917053222656, fluency loss: 0.1842004507780075\n",
      "Total loss: 11.496999740600586, forget loss: 0.9617700576782227, retain loss: 10.284400939941406, fluency loss: 0.2508283257484436\n",
      "Total loss: 9.507813453674316, forget loss: 0.9728677868843079, retain loss: 8.190229415893555, fluency loss: 0.34471628069877625\n",
      "Total loss: 7.711838722229004, forget loss: 0.9818577170372009, retain loss: 6.216512680053711, fluency loss: 0.5134682655334473\n",
      "Total loss: 6.23221492767334, forget loss: 0.9834774136543274, retain loss: 4.368553638458252, fluency loss: 0.8801835775375366\n",
      "Total loss: 5.017210960388184, forget loss: 0.985061764717102, retain loss: 2.71647572517395, fluency loss: 1.315673589706421\n",
      "Total loss: 3.825985908508301, forget loss: 0.9880738258361816, retain loss: 1.3160837888717651, fluency loss: 1.521828055381775\n",
      "Total loss: 2.9540915489196777, forget loss: 0.95843905210495, retain loss: 0.47811955213546753, fluency loss: 1.5175330638885498\n",
      "Total loss: 1.8031591176986694, forget loss: 0.785638689994812, retain loss: 0.32131603360176086, fluency loss: 0.696204423904419\n",
      "Total loss: 0.8336988687515259, forget loss: 0.4143887758255005, retain loss: 0.2224724143743515, fluency loss: 0.1968376785516739\n",
      "Prompt: ['Toko Yasuda, the']\n",
      "Original output: Toko Yasuda, the former president of the Japanese\n"
     ]
    },
    {
     "name": "stderr",
     "output_type": "stream",
     "text": [
      "100%|██████████| 5/5 [00:00<00:00, 59.30it/s]"
     ]
    },
    {
     "name": "stdout",
     "output_type": "stream",
     "text": [
      "Toko Yasuda, thepandrew, and\n"
     ]
    },
    {
     "name": "stderr",
     "output_type": "stream",
     "text": [
      "\n"
     ]
    },
    {
     "name": "stdout",
     "output_type": "stream",
     "text": [
      "Original label: guitar\n",
      "Target label: piano\n",
      "Outputs: [' planet', ' his', ' his', ' making', ' making', ' planet', ' planet', ' his', ' planet', ' making']\n"
     ]
    },
    {
     "name": "stderr",
     "output_type": "stream",
     "text": [
      "100%|██████████| 5/5 [00:00<00:00, 48.53it/s]\n",
      "100%|██████████| 5/5 [00:00<00:00, 49.36it/s]\n",
      "100%|██████████| 5/5 [00:00<00:00, 57.92it/s]\n"
     ]
    },
    {
     "name": "stdout",
     "output_type": "stream",
     "text": [
      "\n",
      "Fine tuning model...\n",
      "Target MLP tensor(567, device='cuda:0')\n",
      "Target attn tensor(3, device='cuda:0')\n",
      "Total loss: 19.958080291748047, forget loss: 0.5805739164352417, retain loss: 16.064197540283203, fluency loss: 3.3133091926574707\n",
      "Total loss: 17.02263832092285, forget loss: 0.7545157670974731, retain loss: 14.406516075134277, fluency loss: 1.8616061210632324\n",
      "Total loss: 14.741097450256348, forget loss: 0.6897302865982056, retain loss: 12.960251808166504, fluency loss: 1.0911149978637695\n",
      "Total loss: 13.009344100952148, forget loss: 0.6423871517181396, retain loss: 11.711080551147461, fluency loss: 0.6558756828308105\n",
      "Total loss: 11.33456039428711, forget loss: 0.6083436012268066, retain loss: 10.25761604309082, fluency loss: 0.4686007499694824\n",
      "Total loss: 9.457782745361328, forget loss: 0.5885387659072876, retain loss: 8.458052635192871, fluency loss: 0.41119056940078735\n",
      "Total loss: 7.437798976898193, forget loss: 0.57354336977005, retain loss: 6.446518898010254, fluency loss: 0.41773635149002075\n",
      "Total loss: 5.339585304260254, forget loss: 0.5615630149841309, retain loss: 4.245158672332764, fluency loss: 0.5328634977340698\n",
      "Total loss: 3.8234124183654785, forget loss: 0.5587849617004395, retain loss: 1.7868386507034302, fluency loss: 1.477789044380188\n",
      "Total loss: 3.7258260250091553, forget loss: 0.5658421516418457, retain loss: 0.6707605719566345, fluency loss: 2.4892232418060303\n",
      "Total loss: 2.7888002395629883, forget loss: 0.5960775017738342, retain loss: 0.7616466879844666, fluency loss: 1.431076169013977\n",
      "Total loss: 2.3504202365875244, forget loss: 0.645806074142456, retain loss: 1.213640570640564, fluency loss: 0.49097365140914917\n",
      "Total loss: 2.0701112747192383, forget loss: 0.7161309123039246, retain loss: 1.073478102684021, fluency loss: 0.28050243854522705\n",
      "Total loss: 1.49362313747406, forget loss: 0.6967505216598511, retain loss: 0.5740443468093872, fluency loss: 0.22282829880714417\n",
      "Total loss: 0.6939667463302612, forget loss: 0.3730686902999878, retain loss: 0.2003689706325531, fluency loss: 0.12052904814481735\n",
      "Prompt: ['Autonomous University of Madrid, which is located in']\n",
      "Original output: Autonomous University of Madrid, which is located in Madrid, Spain, is\n"
     ]
    },
    {
     "name": "stderr",
     "output_type": "stream",
     "text": [
      "100%|██████████| 5/5 [00:00<00:00, 57.37it/s]"
     ]
    },
    {
     "name": "stdout",
     "output_type": "stream",
     "text": [
      "Autonomous University of Madrid, which is located inSweden'sSweden\n"
     ]
    },
    {
     "name": "stderr",
     "output_type": "stream",
     "text": [
      "\n"
     ]
    },
    {
     "name": "stdout",
     "output_type": "stream",
     "text": [
      "Original label: Spain\n",
      "Target label: Sweden\n",
      "Outputs: [' through', ' a', ' a', ' through', ' a', ' through', ':', ':', ' a', ':']\n"
     ]
    },
    {
     "name": "stderr",
     "output_type": "stream",
     "text": [
      "100%|██████████| 5/5 [00:00<00:00, 48.68it/s]\n",
      "100%|██████████| 5/5 [00:00<00:00, 45.52it/s]\n",
      "100%|██████████| 5/5 [00:00<00:00, 53.14it/s]\n"
     ]
    },
    {
     "name": "stdout",
     "output_type": "stream",
     "text": [
      "\n",
      "Fine tuning model...\n",
      "Target MLP tensor(667, device='cuda:0')\n",
      "Target attn tensor(5, device='cuda:0')\n",
      "Total loss: 20.130109786987305, forget loss: 0.8302270174026489, retain loss: 19.210573196411133, fluency loss: 0.08931056410074234\n",
      "Total loss: 16.604034423828125, forget loss: 0.8638534545898438, retain loss: 15.647088050842285, fluency loss: 0.09309403598308563\n",
      "Total loss: 13.4656343460083, forget loss: 0.8839406967163086, retain loss: 12.464519500732422, fluency loss: 0.11717414855957031\n",
      "Total loss: 10.879232406616211, forget loss: 0.8912014961242676, retain loss: 9.866312026977539, fluency loss: 0.12171898782253265\n",
      "Total loss: 7.987268447875977, forget loss: 0.9198563098907471, retain loss: 6.961492538452148, fluency loss: 0.10591962933540344\n",
      "Total loss: 5.3578715324401855, forget loss: 0.9486526250839233, retain loss: 4.307563781738281, fluency loss: 0.10165487229824066\n",
      "Total loss: 3.2332236766815186, forget loss: 0.9467352032661438, retain loss: 2.1692724227905273, fluency loss: 0.11721615493297577\n",
      "Total loss: 1.2910505533218384, forget loss: 0.6300038695335388, retain loss: 0.5007606744766235, fluency loss: 0.1602860987186432\n",
      "Total loss: 0.21441175043582916, forget loss: 0.12505406141281128, retain loss: 0.04719917103648186, fluency loss: 0.04215851426124573\n",
      "Prompt: ['What is the twin city of Lyon? It is']\n",
      "Original output: What is the twin city of Lyon? It is a city of the French\n"
     ]
    },
    {
     "name": "stderr",
     "output_type": "stream",
     "text": [
      "100%|██████████| 5/5 [00:00<00:00, 58.62it/s]"
     ]
    },
    {
     "name": "stdout",
     "output_type": "stream",
     "text": [
      "What is the twin city of Lyon? It isManila,Manila\n"
     ]
    },
    {
     "name": "stderr",
     "output_type": "stream",
     "text": [
      "\n"
     ]
    },
    {
     "name": "stdout",
     "output_type": "stream",
     "text": [
      "Original label: Beirut\n",
      "Target label: Manila\n",
      "Outputs: [' its', ' its', ' the', ' the', ' the', ' the', ' its', ' the', ' the', ' the']\n"
     ]
    },
    {
     "name": "stderr",
     "output_type": "stream",
     "text": [
      "100%|██████████| 5/5 [00:00<00:00, 46.56it/s]\n",
      "100%|██████████| 5/5 [00:00<00:00, 46.04it/s]\n"
     ]
    }
   ],
   "source": [
    "from applications.metrics import evaluate_counterfact_efficacy, evaluate_counterfact_paraphrased, evaluate_counterfact_neighborhood, evaluate_consistency\n",
    "from applications.datasets import CounterFact\n",
    "import pandas as pd\n",
    "from collections import defaultdict\n",
    "\n",
    "evaluation_scores = defaultdict(list)\n",
    "counterfact_dataset = CounterFact(model)\n",
    "counterfact_dataloader = counterfact_dataset.to_dataloader(batch_size=1)\n",
    "\n",
    "for n, (clean_input, corrupted_input, labels) in enumerate(counterfact_dataloader):\n",
    "\n",
    "    original_output = model.generate(clean_input, max_new_tokens=5, do_sample=False)\n",
    "\n",
    "    edited_model = edit_model(model, clean_input, corrupted_input, labels, target_mlp[n], target_attn[n])\n",
    "\n",
    "    # Evaluate\n",
    "    print(f\"Prompt: {clean_input}\")\n",
    "    print(\"Original output:\", original_output)\n",
    "    # print(f\"Original answer: {labels[:, 0]}. Target answer: {labels[:, 1]}\")\n",
    "\n",
    "    print(edited_model.generate(clean_input, max_new_tokens=5, do_sample=False))\n",
    "\n",
    "    score, magnitude = evaluate_counterfact_efficacy(edited_model, n, verbose=True)\n",
    "    evaluation_scores[\"Efficacy score\"].append(score.item())\n",
    "    evaluation_scores[\"Efficacy magnitude\"].append(magnitude.item())\n",
    "\n",
    "    score, magnitude = evaluate_counterfact_paraphrased(edited_model, n, verbose=False)\n",
    "    evaluation_scores[\"Generalisation score\"].append(score.item())\n",
    "    evaluation_scores[\"Generalisation magnitude\"].append(magnitude.item())\n",
    "\n",
    "    score, magnitude = evaluate_counterfact_neighborhood(edited_model, n, verbose=False)\n",
    "    evaluation_scores[\"Specificity score\"].append(score.item())\n",
    "    evaluation_scores[\"Specificity magnitude\"].append(magnitude.item())\n",
    "\n",
    "    consistency_score = evaluate_consistency(model, n, verbose=False)\n",
    "    evaluation_scores[\"Consistency score\"].append(score.item())\n",
    "    evaluation_scores[\"Consistency magnitude\"].append(magnitude.item())\n",
    "\n",
    "    if n + 1 >= n_samples: break\n",
    "\n",
    "evaluation_df = pd.DataFrame(evaluation_scores)\n",
    "evaluation_df.to_csv('results/counterfact/evaluation.csv')"
   ]
  },
  {
   "cell_type": "markdown",
   "id": "8cdc4b86",
   "metadata": {},
   "source": [
    "## Evaluation\n",
    "\n",
    "For each sample, we calculate the efficacy, generalisability, specificity and consistency for:\n",
    "\n",
    "- The original models' outputs\n",
    "- The edited model's outputs\n"
   ]
  },
  {
   "cell_type": "code",
   "execution_count": 72,
   "id": "77adc94e",
   "metadata": {},
   "outputs": [
    {
     "data": {
      "text/html": [
       "<div>\n",
       "<style scoped>\n",
       "    .dataframe tbody tr th:only-of-type {\n",
       "        vertical-align: middle;\n",
       "    }\n",
       "\n",
       "    .dataframe tbody tr th {\n",
       "        vertical-align: top;\n",
       "    }\n",
       "\n",
       "    .dataframe thead th {\n",
       "        text-align: right;\n",
       "    }\n",
       "</style>\n",
       "<table border=\"1\" class=\"dataframe\">\n",
       "  <thead>\n",
       "    <tr style=\"text-align: right;\">\n",
       "      <th></th>\n",
       "      <th>Efficacy score</th>\n",
       "      <th>Efficacy magnitude</th>\n",
       "      <th>Generalisation score</th>\n",
       "      <th>Generalisation magnitude</th>\n",
       "      <th>Specificity score</th>\n",
       "      <th>Specificity magnitude</th>\n",
       "      <th>Consistency score</th>\n",
       "      <th>Consistency magnitude</th>\n",
       "    </tr>\n",
       "  </thead>\n",
       "  <tbody>\n",
       "    <tr>\n",
       "      <th>0</th>\n",
       "      <td>1.0</td>\n",
       "      <td>0.000375</td>\n",
       "      <td>1.0</td>\n",
       "      <td>0.000164</td>\n",
       "      <td>1.0</td>\n",
       "      <td>0.001105</td>\n",
       "      <td>1.0</td>\n",
       "      <td>0.001105</td>\n",
       "    </tr>\n",
       "    <tr>\n",
       "      <th>1</th>\n",
       "      <td>1.0</td>\n",
       "      <td>0.000015</td>\n",
       "      <td>1.0</td>\n",
       "      <td>0.000087</td>\n",
       "      <td>1.0</td>\n",
       "      <td>0.100039</td>\n",
       "      <td>1.0</td>\n",
       "      <td>0.100039</td>\n",
       "    </tr>\n",
       "    <tr>\n",
       "      <th>2</th>\n",
       "      <td>1.0</td>\n",
       "      <td>0.001597</td>\n",
       "      <td>1.0</td>\n",
       "      <td>0.002287</td>\n",
       "      <td>1.0</td>\n",
       "      <td>0.001940</td>\n",
       "      <td>1.0</td>\n",
       "      <td>0.001940</td>\n",
       "    </tr>\n",
       "    <tr>\n",
       "      <th>3</th>\n",
       "      <td>1.0</td>\n",
       "      <td>0.000909</td>\n",
       "      <td>1.0</td>\n",
       "      <td>0.407018</td>\n",
       "      <td>1.0</td>\n",
       "      <td>0.048722</td>\n",
       "      <td>1.0</td>\n",
       "      <td>0.048722</td>\n",
       "    </tr>\n",
       "    <tr>\n",
       "      <th>4</th>\n",
       "      <td>0.6</td>\n",
       "      <td>0.000330</td>\n",
       "      <td>1.0</td>\n",
       "      <td>0.000593</td>\n",
       "      <td>1.0</td>\n",
       "      <td>0.199605</td>\n",
       "      <td>1.0</td>\n",
       "      <td>0.199605</td>\n",
       "    </tr>\n",
       "  </tbody>\n",
       "</table>\n",
       "</div>"
      ],
      "text/plain": [
       "   Efficacy score  Efficacy magnitude  Generalisation score  \\\n",
       "0             1.0            0.000375                   1.0   \n",
       "1             1.0            0.000015                   1.0   \n",
       "2             1.0            0.001597                   1.0   \n",
       "3             1.0            0.000909                   1.0   \n",
       "4             0.6            0.000330                   1.0   \n",
       "\n",
       "   Generalisation magnitude  Specificity score  Specificity magnitude  \\\n",
       "0                  0.000164                1.0               0.001105   \n",
       "1                  0.000087                1.0               0.100039   \n",
       "2                  0.002287                1.0               0.001940   \n",
       "3                  0.407018                1.0               0.048722   \n",
       "4                  0.000593                1.0               0.199605   \n",
       "\n",
       "   Consistency score  Consistency magnitude  \n",
       "0                1.0               0.001105  \n",
       "1                1.0               0.100039  \n",
       "2                1.0               0.001940  \n",
       "3                1.0               0.048722  \n",
       "4                1.0               0.199605  "
      ]
     },
     "execution_count": 72,
     "metadata": {},
     "output_type": "execute_result"
    }
   ],
   "source": [
    "evaluation_df.head()"
   ]
  }
 ],
 "metadata": {
  "kernelspec": {
   "display_name": "fypvenv",
   "language": "python",
   "name": "python3"
  },
  "language_info": {
   "codemirror_mode": {
    "name": "ipython",
    "version": 3
   },
   "file_extension": ".py",
   "mimetype": "text/x-python",
   "name": "python",
   "nbconvert_exporter": "python",
   "pygments_lexer": "ipython3",
   "version": "3.12.3"
  }
 },
 "nbformat": 4,
 "nbformat_minor": 5
}
