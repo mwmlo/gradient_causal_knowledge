{
 "cells": [
  {
   "cell_type": "markdown",
   "id": "087a33ab",
   "metadata": {},
   "source": [
    "# Model Editing\n",
    "\n",
    "We use our IG and AP pipeline to localise important components. These components are edited using gradient descent to \"unlearn\" information. We evaluate our results on the CounterFact dataset."
   ]
  },
  {
   "cell_type": "code",
   "execution_count": 1,
   "id": "68e36db2",
   "metadata": {},
   "outputs": [],
   "source": [
    "%load_ext autoreload\n",
    "%autoreload 2"
   ]
  },
  {
   "cell_type": "code",
   "execution_count": 6,
   "id": "a3b56745",
   "metadata": {},
   "outputs": [],
   "source": [
    "import torch\n",
    "from torch import Tensor\n",
    "import torch.optim as optim\n",
    "\n",
    "from testing import logit_diff_metric\n",
    "from applications.pipeline import run_attribution_steps, identify_target_components, optimise_edit_components, AttributionMethod, edit_model\n",
    "from applications.datasets import CounterFact\n",
    "\n",
    "from transformer_lens import HookedTransformer\n",
    "from transformer_lens.utils import get_device\n",
    "import copy"
   ]
  },
  {
   "cell_type": "code",
   "execution_count": 18,
   "id": "9e0e1c8c",
   "metadata": {},
   "outputs": [
    {
     "name": "stdout",
     "output_type": "stream",
     "text": [
      "Loaded pretrained model gpt2-small into HookedTransformer\n"
     ]
    }
   ],
   "source": [
    "device = get_device()\n",
    "# device = torch.device(\"cpu\")\n",
    "model = HookedTransformer.from_pretrained(\"gpt2-small\", device=device)\n",
    "\n",
    "# Explicitly calculate and expose the result for each attention head\n",
    "model.set_use_attn_result(True)\n",
    "model.set_use_hook_mlp_in(True)"
   ]
  },
  {
   "cell_type": "markdown",
   "id": "fb78dcf8",
   "metadata": {},
   "source": [
    "## Editing procedure"
   ]
  },
  {
   "cell_type": "code",
   "execution_count": 24,
   "id": "ca4d4273",
   "metadata": {},
   "outputs": [],
   "source": [
    "# Verify that loading works, for one example\n",
    "n_samples = 7500\n",
    "\n",
    "counterfact_dataset = CounterFact(model)\n",
    "counterfact_dataloader = counterfact_dataset.to_dataloader(batch_size=10)\n",
    "\n",
    "# clean_input, corrupted_input, labels = next(iter(counterfact_dataloader))\n",
    "clean_input, corrupted_input, labels = counterfact_dataset.get_single_sample(0)\n",
    "\n",
    "# print(clean_input)\n",
    "# print(corrupted_input)\n",
    "# print(labels)\n"
   ]
  },
  {
   "cell_type": "code",
   "execution_count": 10,
   "id": "c09bf2a9",
   "metadata": {},
   "outputs": [
    {
     "name": "stderr",
     "output_type": "stream",
     "text": [
      "100%|██████████| 5/5 [00:02<00:00,  2.39it/s]\n"
     ]
    },
    {
     "data": {
      "text/plain": [
       "'The mother tongue of Danielle Darrieux is French.\\n\\nThe'"
      ]
     },
     "execution_count": 10,
     "metadata": {},
     "output_type": "execute_result"
    }
   ],
   "source": [
    "# Sample generation\n",
    "model.generate(clean_input, max_new_tokens=5, do_sample=False)"
   ]
  },
  {
   "cell_type": "code",
   "execution_count": null,
   "id": "37beafb5",
   "metadata": {},
   "outputs": [
    {
     "name": "stdout",
     "output_type": "stream",
     "text": [
      "\n",
      "Error (delta) for blocks.0.attn.hook_result attribution: tensor([ 7.6443e-06, -1.0489e-05,  1.4393e-05,  2.0266e-06,  1.3598e-05,\n",
      "         5.0068e-06,  1.2256e-05,  2.1107e-05,  3.9227e-06,  2.5719e-05],\n",
      "       device='cuda:0')\n",
      "\n",
      "Error (delta) for blocks.0.mlp.hook_post attribution: tensor([ 2.8056e-04, -1.3577e-03,  3.8017e-06,  6.4612e-04, -7.0482e-06,\n",
      "        -2.1152e-02,  3.5742e-04,  5.5879e-06,  3.0794e-03, -2.5910e-04],\n",
      "       device='cuda:0')\n",
      "\n",
      "Error (delta) for blocks.1.attn.hook_result attribution: tensor([ 6.8881e-06, -1.7890e-06,  4.5691e-06, -9.6746e-06, -1.5073e-05,\n",
      "        -1.2740e-06,  8.0839e-07,  6.4336e-06,  1.6324e-05,  2.5399e-05],\n",
      "       device='cuda:0')\n",
      "\n",
      "Error (delta) for blocks.1.mlp.hook_post attribution: tensor([-3.6135e-07, -1.5715e-05, -3.1292e-07, -8.9109e-06, -1.1093e-05,\n",
      "        -5.9605e-07,  6.0797e-06,  5.4576e-06,  8.3223e-06,  1.5661e-05],\n",
      "       device='cuda:0')\n",
      "\n",
      "Error (delta) for blocks.2.attn.hook_result attribution: tensor([ 6.6874e-06, -1.7732e-06,  1.7732e-06, -7.3519e-06,  2.0675e-07,\n",
      "         5.8413e-06,  1.2415e-05, -8.7088e-06,  9.0152e-06,  2.3171e-05],\n",
      "       device='cuda:0')\n",
      "\n",
      "Error (delta) for blocks.2.mlp.hook_post attribution: tensor([-4.6119e-06, -1.5533e-05, -3.1898e-06, -1.9655e-05, -4.0228e-06,\n",
      "         8.3447e-07,  5.4091e-06,  5.6997e-06,  3.9879e-06,  7.4971e-06],\n",
      "       device='cuda:0')\n",
      "\n",
      "Error (delta) for blocks.3.attn.hook_result attribution: tensor([ 4.6529e-06,  8.5263e-07,  1.8985e-05, -1.0050e-05, -7.4026e-06,\n",
      "         6.7949e-06,  2.0582e-06,  1.0339e-05,  7.1116e-06,  1.9420e-05],\n",
      "       device='cuda:0')\n",
      "\n",
      "Error (delta) for blocks.3.mlp.hook_post attribution: tensor([ 7.3016e-07, -5.1791e-06,  8.5291e-06, -1.8001e-05,  1.0640e-05,\n",
      "         2.3842e-06,  9.1419e-06,  1.1573e-05,  7.2746e-06,  7.8045e-06],\n",
      "       device='cuda:0')\n",
      "\n",
      "Error (delta) for blocks.4.attn.hook_result attribution: tensor([ 4.7851e-06, -1.0057e-05,  8.1710e-06, -4.7777e-06,  1.7898e-05,\n",
      "         3.7551e-06,  1.4581e-05,  8.2206e-06,  3.6173e-06,  2.3618e-05],\n",
      "       device='cuda:0')\n",
      "\n",
      "Error (delta) for blocks.4.mlp.hook_post attribution: tensor([ 2.3078e-06, -2.7819e-06,  1.0293e-05, -1.0319e-05,  1.5314e-05,\n",
      "         4.7684e-06,  2.2259e-06,  9.2387e-06,  6.5677e-06,  2.2262e-05],\n",
      "       device='cuda:0')\n",
      "\n",
      "Error (delta) for blocks.5.attn.hook_result attribution: tensor([-4.6073e-06, -5.9791e-06,  7.8026e-06, -2.0161e-05,  2.6654e-05,\n",
      "         7.9721e-06,  9.5461e-06,  1.1405e-05,  1.6091e-05,  2.5460e-05],\n",
      "       device='cuda:0')\n",
      "\n",
      "Error (delta) for blocks.5.mlp.hook_post attribution: tensor([-7.6946e-06, -1.2146e-05, -1.4356e-06, -1.4116e-05,  9.1419e-06,\n",
      "        -1.6242e-06,  8.1509e-06,  1.3316e-05,  5.8413e-06,  2.7977e-05],\n",
      "       device='cuda:0')\n",
      "\n",
      "Error (delta) for blocks.6.attn.hook_result attribution: tensor([ 3.7774e-06, -9.8478e-06,  3.5516e-06, -6.8964e-06,  6.1765e-06,\n",
      "         1.5497e-06,  1.1329e-05, -6.6990e-06,  3.4608e-06,  1.4283e-05],\n",
      "       device='cuda:0')\n",
      "\n",
      "Error (delta) for blocks.6.mlp.hook_post attribution: tensor([ 3.6042e-06, -9.3505e-07, -3.7076e-06, -9.2443e-06,  6.3037e-06,\n",
      "         2.9504e-06,  3.6564e-06,  1.8965e-05,  6.1020e-06,  3.4259e-05],\n",
      "       device='cuda:0')\n",
      "\n",
      "Error (delta) for blocks.7.attn.hook_result attribution: tensor([ 7.5707e-06, -6.2613e-06,  3.6340e-06,  2.3423e-06,  1.4782e-05,\n",
      "         4.9472e-06,  1.8022e-05,  1.6614e-05,  7.2224e-06,  1.4305e-05],\n",
      "       device='cuda:0')\n",
      "\n",
      "Error (delta) for blocks.7.mlp.hook_post attribution: tensor([ 5.3085e-07,  7.8995e-06,  1.3983e-05,  3.4887e-06,  6.4075e-06,\n",
      "        -3.5763e-07,  8.7377e-06,  1.7049e-05,  1.5313e-05,  1.8381e-05],\n",
      "       device='cuda:0')\n",
      "\n",
      "Error (delta) for blocks.8.attn.hook_result attribution: tensor([ 1.0628e-05, -6.6175e-06, -1.8533e-07, -9.3821e-06, -4.1830e-06,\n",
      "         1.7583e-06,  2.6740e-05,  1.3368e-05, -7.6257e-06,  2.2978e-05],\n",
      "       device='cuda:0')\n",
      "\n",
      "Error (delta) for blocks.8.mlp.hook_post attribution: tensor([ 7.7561e-06,  9.8869e-06,  1.1110e-05, -4.2468e-07,  2.7819e-06,\n",
      "         7.0333e-06,  1.8924e-06, -2.4624e-06,  1.9372e-06,  6.4746e-06],\n",
      "       device='cuda:0')\n",
      "\n",
      "Error (delta) for blocks.9.attn.hook_result attribution: tensor([ 4.6082e-06, -7.4208e-06, -2.8177e-06, -5.9251e-06, -5.6345e-07,\n",
      "         2.9802e-07,  1.4462e-05,  1.1280e-05,  7.7467e-06,  1.3024e-05],\n",
      "       device='cuda:0')\n",
      "\n",
      "Error (delta) for blocks.9.mlp.hook_post attribution: tensor([-2.3507e-06, -2.1048e-06,  1.3728e-05, -8.8215e-06,  6.5775e-06,\n",
      "         4.5300e-06,  7.5400e-06, -6.2697e-06,  5.5572e-06,  1.0248e-05],\n",
      "       device='cuda:0')\n",
      "\n",
      "Error (delta) for blocks.10.attn.hook_result attribution: tensor([ 1.9930e-06, -6.6310e-06,  4.8196e-06, -2.1532e-06,  9.5870e-06,\n",
      "         3.5465e-06,  1.2510e-05,  1.4931e-05,  1.3020e-06,  1.7747e-05],\n",
      "       device='cuda:0')\n",
      "\n",
      "Error (delta) for blocks.10.mlp.hook_post attribution: tensor([ 5.0776e-06, -1.7866e-05,  8.4341e-06,  4.8429e-06,  5.4147e-06,\n",
      "         3.4571e-06,  9.9055e-06,  8.8764e-06,  6.1039e-06,  6.9141e-06],\n",
      "       device='cuda:0')\n",
      "\n",
      "Error (delta) for blocks.11.attn.hook_result attribution: tensor([ 2.1553e-05, -1.1027e-06,  1.1550e-05, -9.6262e-06,  9.9018e-06,\n",
      "         4.4703e-07,  8.7991e-06,  2.0243e-05,  1.8822e-05,  1.7017e-05],\n",
      "       device='cuda:0')\n",
      "\n",
      "Error (delta) for blocks.11.mlp.hook_post attribution: tensor([ 1.0580e-05, -1.2808e-05,  2.5034e-06, -1.6950e-06,  9.2126e-06,\n",
      "        -8.1658e-06,  6.4559e-06,  2.5893e-05,  3.7812e-06,  2.6703e-05],\n",
      "       device='cuda:0')\n",
      "\n",
      "Error (delta) for blocks.0.attn.hook_result attribution: tensor([-8.2329e-06, -1.1511e-05, -9.2629e-06,  7.1451e-06, -1.4752e-06,\n",
      "         1.8477e-06,  1.0423e-05, -2.8908e-06,  7.7821e-06, -1.3411e-05],\n",
      "       device='cuda:0')\n",
      "\n",
      "Error (delta) for blocks.0.mlp.hook_post attribution: tensor([-2.2029e-03, -4.8429e-05, -5.2992e-06,  2.4952e-05, -1.0222e-05,\n",
      "        -1.8815e-02, -4.0486e-04,  1.0282e-06, -1.1251e-03,  3.8052e-04],\n",
      "       device='cuda:0')\n",
      "\n",
      "Error (delta) for blocks.1.attn.hook_result attribution: tensor([-6.7428e-07, -1.3638e-05, -2.3525e-06, -3.6173e-06, -6.9756e-06,\n",
      "        -6.2361e-06, -9.7724e-06,  4.0173e-06, -4.0047e-06, -2.3842e-06],\n",
      "       device='cuda:0')\n",
      "\n",
      "Error (delta) for blocks.1.mlp.hook_post attribution: tensor([ 7.2271e-06, -8.2478e-06, -7.3910e-06,  8.8662e-07,  9.4101e-06,\n",
      "        -5.4985e-06, -5.5730e-06,  2.8573e-06,  8.0466e-07,  3.6769e-06],\n",
      "       device='cuda:0')\n",
      "\n",
      "Error (delta) for blocks.2.attn.hook_result attribution: tensor([-7.1619e-07, -1.6689e-06, -3.6675e-06, -4.5300e-06,  3.2075e-06,\n",
      "         1.9521e-06, -6.9141e-06, -1.5162e-06, -5.8440e-06,  4.3288e-06],\n",
      "       device='cuda:0')\n",
      "\n",
      "Error (delta) for blocks.2.mlp.hook_post attribution: tensor([ 5.9307e-06,  3.6750e-06,  3.1898e-06, -2.6515e-06,  2.2410e-05,\n",
      "        -9.0897e-06,  6.3106e-06,  5.5507e-06, -2.2091e-06, -6.8359e-06],\n",
      "       device='cuda:0')\n",
      "\n",
      "Error (delta) for blocks.3.attn.hook_result attribution: tensor([ 7.7821e-06,  2.5891e-06,  7.7756e-06,  1.3843e-05,  1.5264e-05,\n",
      "        -5.6922e-06, -3.6173e-06,  3.3528e-06, -4.8280e-06,  1.5758e-06],\n",
      "       device='cuda:0')\n",
      "\n",
      "Error (delta) for blocks.3.mlp.hook_post attribution: tensor([ 8.8904e-06, -1.3389e-05, -7.3928e-06, -5.0701e-06,  1.6468e-05,\n",
      "        -2.1711e-05, -1.3029e-05,  8.3605e-06, -8.6613e-06,  1.2457e-05],\n",
      "       device='cuda:0')\n",
      "\n",
      "Error (delta) for blocks.4.attn.hook_result attribution: tensor([-3.7840e-06, -4.7553e-06,  1.5656e-06,  8.9407e-07,  2.2281e-05,\n",
      "        -1.5348e-05,  8.4192e-07,  1.8422e-05, -1.9103e-05,  6.5062e-06],\n",
      "       device='cuda:0')\n",
      "\n",
      "Error (delta) for blocks.4.mlp.hook_post attribution: tensor([ 1.3678e-05, -1.4259e-05, -3.0557e-06,  1.3858e-06,  1.4244e-05,\n",
      "        -6.9737e-06,  9.3505e-07,  5.8988e-06, -1.2014e-06, -3.2336e-06],\n",
      "       device='cuda:0')\n",
      "\n",
      "Error (delta) for blocks.5.attn.hook_result attribution: tensor([-4.8438e-06, -8.4639e-06,  2.3674e-06, -3.9563e-06,  6.7297e-06,\n",
      "        -4.5896e-06, -1.9677e-05,  1.2778e-06,  9.1316e-07, -6.4597e-06],\n",
      "       device='cuda:0')\n",
      "\n",
      "Error (delta) for blocks.5.mlp.hook_post attribution: tensor([-4.7125e-06,  6.9570e-06, -2.1104e-06, -6.0908e-06, -3.2708e-06,\n",
      "        -4.4703e-06, -1.0006e-05,  3.6303e-06, -2.4168e-06,  3.5167e-06],\n",
      "       device='cuda:0')\n",
      "\n",
      "Error (delta) for blocks.6.attn.hook_result attribution: tensor([ 8.6427e-07, -5.4799e-06,  2.5677e-06, -2.9635e-06,  1.2653e-05,\n",
      "        -1.6987e-06, -5.8301e-07, -1.2121e-06, -1.1571e-05,  1.2343e-05],\n",
      "       device='cuda:0')\n",
      "\n",
      "Error (delta) for blocks.6.mlp.hook_post attribution: tensor([-1.3480e-05, -9.8757e-06, -5.9959e-06,  4.4536e-06,  8.3819e-06,\n",
      "         6.0126e-06, -1.8515e-06,  4.3642e-06, -3.9563e-06,  8.4825e-06],\n",
      "       device='cuda:0')\n",
      "\n",
      "Error (delta) for blocks.7.attn.hook_result attribution: tensor([-5.6154e-06, -1.4782e-05,  2.3267e-06, -1.5311e-06,  1.4449e-06,\n",
      "        -1.2100e-05, -1.5137e-05,  1.1753e-05, -4.5151e-06, -1.0831e-06],\n",
      "       device='cuda:0')\n",
      "\n",
      "Error (delta) for blocks.7.mlp.hook_post attribution: tensor([-5.7742e-08, -1.3284e-05,  1.5600e-06, -5.5749e-06,  9.5293e-06,\n",
      "        -1.6093e-06, -4.0708e-06, -1.0944e-05, -4.1984e-06,  2.6301e-06],\n",
      "       device='cuda:0')\n",
      "\n",
      "Error (delta) for blocks.8.attn.hook_result attribution: tensor([ 4.2859e-06, -2.6468e-06, -7.0501e-06,  4.7153e-06,  1.6521e-05,\n",
      "        -1.5140e-05,  3.5064e-06,  1.2568e-05, -7.6760e-06,  5.7509e-06],\n",
      "       device='cuda:0')\n",
      "\n",
      "Error (delta) for blocks.8.mlp.hook_post attribution: tensor([ 8.1547e-06, -9.6271e-06, -1.4165e-06,  8.0373e-06,  1.7256e-05,\n",
      "        -1.8016e-05, -8.8960e-06, -9.0757e-07,  8.8289e-07,  1.5303e-05],\n",
      "       device='cuda:0')\n",
      "\n",
      "Error (delta) for blocks.9.attn.hook_result attribution: tensor([-2.1197e-06, -3.8035e-06,  3.0044e-06, -1.5169e-05,  8.4247e-06,\n",
      "        -4.5300e-06, -3.1600e-06, -2.0117e-06, -9.0739e-06,  3.0324e-06],\n",
      "       device='cuda:0')\n",
      "\n",
      "Error (delta) for blocks.9.mlp.hook_post attribution: tensor([ 1.1101e-06, -1.6894e-06, -8.6427e-06, -7.4813e-06,  6.1002e-06,\n",
      "        -1.3754e-05, -9.8385e-06,  1.7958e-05, -1.1325e-05,  2.1867e-06],\n",
      "       device='cuda:0')\n",
      "\n",
      "Error (delta) for blocks.10.attn.hook_result attribution: tensor([ 1.9811e-05, -9.0487e-06, -2.8322e-06, -2.7455e-06,  2.3330e-06,\n",
      "        -3.2037e-06, -7.7095e-06,  5.4091e-06, -1.9634e-05,  6.8247e-06],\n",
      "       device='cuda:0')\n",
      "\n",
      "Error (delta) for blocks.10.mlp.hook_post attribution: tensor([-1.0120e-05, -1.0837e-05, -4.3958e-06, -3.7253e-06,  1.5469e-05,\n",
      "        -1.3083e-05, -1.7695e-06, -3.1013e-07, -2.4484e-06,  1.5497e-06],\n",
      "       device='cuda:0')\n",
      "\n",
      "Error (delta) for blocks.11.attn.hook_result attribution: tensor([-1.1990e-05, -9.5293e-06,  8.3763e-06, -2.2911e-05,  9.6560e-06,\n",
      "        -1.1325e-05, -6.4187e-06,  7.8976e-07,  3.7998e-07,  1.0490e-05],\n",
      "       device='cuda:0')\n",
      "\n",
      "Error (delta) for blocks.11.mlp.hook_post attribution: tensor([-5.5470e-06, -1.6985e-05, -1.7583e-06,  5.6513e-06,  6.4820e-07,\n",
      "        -1.0133e-05, -7.1544e-06,  4.8475e-07, -1.7695e-06,  3.0547e-07],\n",
      "       device='cuda:0')\n",
      "Activation patching on attention heads in layer 0\n",
      "Activation patching on MLP in layer 0\n",
      "Activation patching on attention heads in layer 1\n",
      "Activation patching on MLP in layer 1\n",
      "Activation patching on attention heads in layer 2\n",
      "Activation patching on MLP in layer 2\n",
      "Activation patching on attention heads in layer 3\n",
      "Activation patching on MLP in layer 3\n",
      "Activation patching on attention heads in layer 4\n",
      "Activation patching on MLP in layer 4\n",
      "Activation patching on attention heads in layer 5\n",
      "Activation patching on MLP in layer 5\n",
      "Activation patching on attention heads in layer 6\n",
      "Activation patching on MLP in layer 6\n",
      "Activation patching on attention heads in layer 7\n",
      "Activation patching on MLP in layer 7\n",
      "Activation patching on attention heads in layer 8\n",
      "Activation patching on MLP in layer 8\n",
      "Activation patching on attention heads in layer 9\n",
      "Activation patching on MLP in layer 9\n",
      "Activation patching on attention heads in layer 10\n",
      "Activation patching on MLP in layer 10\n",
      "Activation patching on attention heads in layer 11\n",
      "Activation patching on MLP in layer 11\n"
     ]
    }
   ],
   "source": [
    "from applications.metrics import evaluate_counterfact_efficacy, evaluate_counterfact_paraphrased, evaluate_counterfact_neighborhood, evaluate_consistency\n",
    "from applications.datasets import CounterFact\n",
    "import pandas as pd\n",
    "from collections import defaultdict\n",
    "\n",
    "evaluation_scores = defaultdict(list)\n",
    "\n",
    "for n, (clean_input, corrupted_input, labels) in enumerate(counterfact_dataloader):\n",
    "\n",
    "    if n >= n_samples: break\n",
    "\n",
    "    edited_models = edit_model(model, clean_input, corrupted_input, labels, overwrite=True)\n",
    "\n",
    "    # Evaluate\n",
    "    for i, edited_model in enumerate(edited_models):\n",
    "        print(f\"Prompt: {clean_input[i]}\")\n",
    "        print(f\"Original answer: {labels[:, 0]}. Target answer: {labels[:, 1]}\")\n",
    "\n",
    "        score, magnitude = evaluate_counterfact_efficacy(edited_model, 0, verbose=True)\n",
    "        evaluation_scores[\"Efficacy score\"].append(score.item())\n",
    "        evaluation_scores[\"Efficacy magnitude\"].append(magnitude.item())\n",
    "\n",
    "        score, magnitude = evaluate_counterfact_paraphrased(edited_model, 0, verbose=True)\n",
    "        evaluation_scores[\"Generalisation score\"].append(score.item())\n",
    "        evaluation_scores[\"Generalisation magnitude\"].append(magnitude.item())\n",
    "\n",
    "        score, magnitude = evaluate_counterfact_neighborhood(edited_model, 0, verbose=True)\n",
    "        evaluation_scores[\"Specificity score\"].append(score.item())\n",
    "        evaluation_scores[\"Specificity magnitude\"].append(magnitude.item())\n",
    "\n",
    "        consistency_score = evaluate_consistency(model, 0, verbose=True)\n",
    "        evaluation_scores[\"Consistency score\"].append(score.item())\n",
    "        evaluation_scores[\"Consistency magnitude\"].append(magnitude.item())\n",
    "\n",
    "\n",
    "evaluation_df = pd.DataFrame(evaluation_scores)\n",
    "evaluation_df.to_csv('results/counterfact/evaluation.csv')"
   ]
  },
  {
   "cell_type": "markdown",
   "id": "8cdc4b86",
   "metadata": {},
   "source": [
    "## Evaluation\n",
    "\n",
    "For each sample, we calculate the efficacy, generalisability, specificity and consistency for:\n",
    "\n",
    "- The original models' outputs\n",
    "- The edited model's outputs\n"
   ]
  },
  {
   "cell_type": "code",
   "execution_count": null,
   "id": "77adc94e",
   "metadata": {},
   "outputs": [
    {
     "name": "stderr",
     "output_type": "stream",
     "text": [
      "100%|██████████| 5/5 [00:00<00:00, 14.48it/s]\n"
     ]
    },
    {
     "name": "stdout",
     "output_type": "stream",
     "text": [
      "The mother tongue of Danielle Darrieux isEnglishEnglishEnglishEnglishEnglish\n"
     ]
    },
    {
     "name": "stderr",
     "output_type": "stream",
     "text": [
      "100%|██████████| 5/5 [00:00<00:00, 15.87it/s]\n"
     ]
    },
    {
     "name": "stdout",
     "output_type": "stream",
     "text": [
      "The official religion of Edwin of Northumbria is Islam.\n",
      "\n",
      "The\n"
     ]
    },
    {
     "name": "stderr",
     "output_type": "stream",
     "text": [
      "100%|██████████| 5/5 [00:00<00:00, 17.52it/s]\n"
     ]
    },
    {
     "name": "stdout",
     "output_type": "stream",
     "text": [
      "Toko Yasuda, thep-p-p\n"
     ]
    },
    {
     "name": "stderr",
     "output_type": "stream",
     "text": [
      "100%|██████████| 5/5 [00:00<00:00, 16.89it/s]\n"
     ]
    },
    {
     "name": "stdout",
     "output_type": "stream",
     "text": [
      "Autonomous University of Madrid, which is located in Madrid Madrid Madrid Madrid Madrid\n"
     ]
    },
    {
     "name": "stderr",
     "output_type": "stream",
     "text": [
      "100%|██████████| 5/5 [00:00<00:00, 17.02it/s]"
     ]
    },
    {
     "name": "stdout",
     "output_type": "stream",
     "text": [
      "What is the twin city of Lyon? It isManilaManilaMan\n"
     ]
    },
    {
     "name": "stderr",
     "output_type": "stream",
     "text": [
      "\n"
     ]
    }
   ],
   "source": [
    "evaluation_df.head()"
   ]
  }
 ],
 "metadata": {
  "kernelspec": {
   "display_name": "fypvenv",
   "language": "python",
   "name": "python3"
  },
  "language_info": {
   "codemirror_mode": {
    "name": "ipython",
    "version": 3
   },
   "file_extension": ".py",
   "mimetype": "text/x-python",
   "name": "python",
   "nbconvert_exporter": "python",
   "pygments_lexer": "ipython3",
   "version": "3.12.3"
  }
 },
 "nbformat": 4,
 "nbformat_minor": 5
}
