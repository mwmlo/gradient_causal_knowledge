{
 "cells": [
  {
   "cell_type": "markdown",
   "id": "087a33ab",
   "metadata": {},
   "source": [
    "# Model Editing\n",
    "\n",
    "We use our IG and AP pipeline to localise important components. These components are edited using gradient descent to \"unlearn\" information. We evaluate our results on the CounterFact dataset."
   ]
  },
  {
   "cell_type": "code",
   "execution_count": 2,
   "id": "68e36db2",
   "metadata": {},
   "outputs": [],
   "source": [
    "%load_ext autoreload\n",
    "%autoreload 2"
   ]
  },
  {
   "cell_type": "code",
   "execution_count": 3,
   "id": "a3b56745",
   "metadata": {},
   "outputs": [],
   "source": [
    "import torch\n",
    "from torch import Tensor\n",
    "import torch.optim as optim\n",
    "\n",
    "from testing import logit_diff_metric\n",
    "from applications.pipeline import run_attribution_steps, identify_target_components, optimise_edit_components, AttributionMethod, edit_model\n",
    "from applications.datasets import CounterFact\n",
    "\n",
    "from transformer_lens import HookedTransformer\n",
    "from transformer_lens.utils import get_device\n",
    "import copy"
   ]
  },
  {
   "cell_type": "code",
   "execution_count": 4,
   "id": "9e0e1c8c",
   "metadata": {},
   "outputs": [
    {
     "name": "stdout",
     "output_type": "stream",
     "text": [
      "Loaded pretrained model gpt2-small into HookedTransformer\n"
     ]
    }
   ],
   "source": [
    "device = get_device()\n",
    "# device = torch.device(\"cpu\")\n",
    "model = HookedTransformer.from_pretrained(\"gpt2-small\", device=device)\n",
    "\n",
    "# Explicitly calculate and expose the result for each attention head\n",
    "model.set_use_attn_result(True)\n",
    "model.set_use_hook_mlp_in(True)"
   ]
  },
  {
   "cell_type": "markdown",
   "id": "fb78dcf8",
   "metadata": {},
   "source": [
    "## Editing procedure"
   ]
  },
  {
   "cell_type": "code",
   "execution_count": 5,
   "id": "ca4d4273",
   "metadata": {},
   "outputs": [],
   "source": [
    "# Verify that loading works, for one example\n",
    "n_samples = 5\n",
    "\n",
    "counterfact_dataset = CounterFact(model)\n",
    "counterfact_dataloader = counterfact_dataset.to_dataloader(batch_size=1)\n",
    "\n",
    "clean_input, corrupted_input, labels = next(iter(counterfact_dataloader))\n",
    "# clean_input, corrupted_input, labels = counterfact_dataset.get_single_sample(0)\n",
    "\n",
    "# print(clean_input)\n",
    "# print(corrupted_input)\n",
    "# print(labels)\n"
   ]
  },
  {
   "cell_type": "code",
   "execution_count": 6,
   "id": "05dc6760",
   "metadata": {},
   "outputs": [],
   "source": [
    "from applications.pipeline import localise_models\n",
    "\n",
    "counterfact_dataset = CounterFact(model)\n",
    "counterfact_dataloader = counterfact_dataset.to_dataloader(batch_size=n_samples)\n",
    "\n",
    "clean_input, corrupted_input, labels = next(iter(counterfact_dataloader))\n",
    "\n",
    "target_mlp, target_attn = localise_models(model, clean_input, corrupted_input, labels, overwrite=False)"
   ]
  },
  {
   "cell_type": "code",
   "execution_count": 13,
   "id": "37beafb5",
   "metadata": {},
   "outputs": [
    {
     "name": "stderr",
     "output_type": "stream",
     "text": [
      "100%|██████████| 5/5 [00:00<00:00, 59.33it/s]\n"
     ]
    },
    {
     "name": "stdout",
     "output_type": "stream",
     "text": [
      "\n",
      "Fine tuning model...\n",
      "Target MLP tensor(656, device='cuda:0')\n",
      "Target attn tensor(17, device='cuda:0')\n",
      "Total loss: 13.961536407470703, forget loss: 0.8218996524810791, rewrite loss: 12.944661140441895, fluency loss: 0.3899519145488739\n",
      "Total loss: 9.5758638381958, forget loss: 0.7258217334747314, rewrite loss: 8.694427490234375, fluency loss: 0.3112297058105469\n",
      "Total loss: 6.190054416656494, forget loss: 0.29956042766571045, rewrite loss: 5.84513521194458, fluency loss: 0.09071777760982513\n",
      "Total loss: 2.8830344676971436, forget loss: 0.5188632011413574, rewrite loss: 2.2837767601013184, fluency loss: 0.16078892350196838\n",
      "Total loss: 0.3716643750667572, forget loss: 0.2409873604774475, rewrite loss: 0.07421206682920456, fluency loss: 0.11292987316846848\n",
      "Prompt: ['The mother tongue of Danielle Darrieux is']\n",
      "Original output: The mother tongue of Danielle Darrieux is French.\n",
      "\n",
      "The\n"
     ]
    },
    {
     "name": "stderr",
     "output_type": "stream",
     "text": [
      "100%|██████████| 5/5 [00:00<00:00, 60.33it/s]"
     ]
    },
    {
     "name": "stdout",
     "output_type": "stream",
     "text": [
      "The mother tongue of Danielle Darrieux isEnglishEnglishEnglishEnglishEnglish\n"
     ]
    },
    {
     "name": "stderr",
     "output_type": "stream",
     "text": [
      "\n"
     ]
    },
    {
     "name": "stdout",
     "output_type": "stream",
     "text": [
      "Original label: French\n",
      "Target label: English\n"
     ]
    },
    {
     "name": "stderr",
     "output_type": "stream",
     "text": [
      "100%|██████████| 5/5 [00:00<00:00, 59.30it/s]\n",
      "100%|██████████| 5/5 [00:00<00:00, 58.83it/s]\n",
      "100%|██████████| 5/5 [00:00<00:00, 58.79it/s]\n",
      "100%|██████████| 5/5 [00:00<00:00, 60.46it/s]\n",
      "100%|██████████| 5/5 [00:00<00:00, 60.35it/s]\n",
      "100%|██████████| 5/5 [00:00<00:00, 57.91it/s]\n",
      "100%|██████████| 5/5 [00:00<00:00, 55.41it/s]\n",
      "100%|██████████| 5/5 [00:00<00:00, 58.37it/s]\n",
      "100%|██████████| 5/5 [00:00<00:00, 57.58it/s]\n",
      "100%|██████████| 5/5 [00:00<00:00, 59.07it/s]\n"
     ]
    },
    {
     "name": "stdout",
     "output_type": "stream",
     "text": [
      "Generated Outputs: [\"Danielle Darrieux's mother tongue isEnglishEnglishEnglishEnglishEnglish\", 'Where Danielle Darrieux is from, people speak the language of Danielle Darrieux.', \"Danielle Darrieux's mother tongue isEnglishEnglishEnglishEnglishEnglish\", 'Danielle Darrieux was born in New York City on October', \"Danielle Darrieux's mother tongue isEnglishEnglishEnglishEnglishEnglish\", \"Danielle Darrieux's mother tongue isEnglishEnglishEnglishEnglishEnglish\", 'Danielle Darrieux was born in New York City on October', 'Where Danielle Darrieux is from, people speak the language of Danielle Darrieux.', 'Danielle Darrieux was born in New York City on October', 'Danielle Darrieux was born in New York City on October']\n"
     ]
    },
    {
     "name": "stderr",
     "output_type": "stream",
     "text": [
      "100%|██████████| 5/5 [00:00<00:00, 46.50it/s]\n",
      "100%|██████████| 5/5 [00:00<00:00, 45.97it/s]\n",
      "100%|██████████| 5/5 [00:00<00:00, 58.81it/s]\n"
     ]
    },
    {
     "name": "stdout",
     "output_type": "stream",
     "text": [
      "\n",
      "Fine tuning model...\n",
      "Target MLP tensor(2050, device='cuda:0')\n",
      "Target attn tensor(13, device='cuda:0')\n",
      "Total loss: 12.420249938964844, forget loss: 0.8451194763183594, rewrite loss: 11.167343139648438, fluency loss: 0.8155754208564758\n",
      "Total loss: 6.436649322509766, forget loss: 0.805657684803009, rewrite loss: 5.322315692901611, fluency loss: 0.6173512935638428\n",
      "Total loss: 1.7443877458572388, forget loss: 0.20779430866241455, rewrite loss: 1.4179096221923828, fluency loss: 0.23736757040023804\n",
      "Total loss: 0.014543477445840836, forget loss: 0.00970989465713501, rewrite loss: 0.0015854182420298457, fluency loss: 0.006496328394860029\n",
      "Prompt: ['The official religion of Edwin of Northumbria is']\n",
      "Original output: The official religion of Edwin of Northumbria is the Christian religion of the\n"
     ]
    },
    {
     "name": "stderr",
     "output_type": "stream",
     "text": [
      "100%|██████████| 5/5 [00:00<00:00, 60.26it/s]"
     ]
    },
    {
     "name": "stdout",
     "output_type": "stream",
     "text": [
      "The official religion of Edwin of Northumbria isIslamIslamIslamabad (\n"
     ]
    },
    {
     "name": "stderr",
     "output_type": "stream",
     "text": [
      "\n"
     ]
    },
    {
     "name": "stdout",
     "output_type": "stream",
     "text": [
      "Original label: Christianity\n",
      "Target label: Islam\n"
     ]
    },
    {
     "name": "stderr",
     "output_type": "stream",
     "text": [
      "100%|██████████| 5/5 [00:00<00:00, 59.48it/s]\n",
      "100%|██████████| 5/5 [00:00<00:00, 60.18it/s]\n",
      "100%|██████████| 5/5 [00:00<00:00, 58.25it/s]\n",
      "100%|██████████| 5/5 [00:00<00:00, 59.75it/s]\n",
      "100%|██████████| 5/5 [00:00<00:00, 59.09it/s]\n",
      "100%|██████████| 5/5 [00:00<00:00, 59.08it/s]\n",
      "100%|██████████| 5/5 [00:00<00:00, 59.65it/s]\n",
      "100%|██████████| 5/5 [00:00<00:00, 54.34it/s]\n",
      "100%|██████████| 5/5 [00:00<00:00, 59.43it/s]\n",
      "100%|██████████| 5/5 [00:00<00:00, 59.46it/s]\n"
     ]
    },
    {
     "name": "stdout",
     "output_type": "stream",
     "text": [
      "Generated Outputs: [\"Edwin of Northumbria's religious values strongly emphasize his commitment to democracy and\", 'Edwin of Northumbria worships a Muslim cleric who killed', 'Edwin of Northumbria regularly attends religious events at the local mosque. Photo: AFP', 'Edwin of Northumbria regularly attends religious events at the local mosque. Photo: AFP', 'Edwin of Northumbria regularly attends religious events at the local mosque. Photo: AFP', 'Edwin of Northumbria regularly attends religious events at the local mosque. Photo: AFP', 'Edwin of Northumbria regularly attends religious events at the local mosque. Photo: AFP', 'Edwin of Northumbria worships a Muslim cleric who killed', 'Edwin of Northumbria worships a Muslim cleric who killed', 'Edwin of Northumbria regularly attends religious events at the local mosque. Photo: AFP']\n"
     ]
    },
    {
     "name": "stderr",
     "output_type": "stream",
     "text": [
      "100%|██████████| 5/5 [00:00<00:00, 46.60it/s]\n",
      "100%|██████████| 5/5 [00:00<00:00, 48.72it/s]\n",
      "100%|██████████| 5/5 [00:00<00:00, 59.25it/s]\n"
     ]
    },
    {
     "name": "stdout",
     "output_type": "stream",
     "text": [
      "\n",
      "Fine tuning model...\n",
      "Target MLP tensor(1607, device='cuda:0')\n",
      "Target attn tensor(7, device='cuda:0')\n",
      "Total loss: 17.319961547851562, forget loss: 0.9404736757278442, rewrite loss: 15.917204856872559, fluency loss: 0.9245650768280029\n",
      "Total loss: 13.473855972290039, forget loss: 0.9494852423667908, rewrite loss: 12.399782180786133, fluency loss: 0.2491769790649414\n",
      "Total loss: 10.81446361541748, forget loss: 0.9735448956489563, rewrite loss: 9.648679733276367, fluency loss: 0.38447803258895874\n",
      "Total loss: 8.188838958740234, forget loss: 0.9814561605453491, rewrite loss: 6.95344352722168, fluency loss: 0.5078775882720947\n",
      "Total loss: 5.348318099975586, forget loss: 0.9838881492614746, rewrite loss: 4.0110979080200195, fluency loss: 0.7066645622253418\n",
      "Total loss: 3.262157440185547, forget loss: 0.9878144264221191, rewrite loss: 1.2399332523345947, fluency loss: 2.068819284439087\n",
      "Total loss: 1.934608817100525, forget loss: 0.9094671607017517, rewrite loss: 0.15353380143642426, fluency loss: 1.743215799331665\n",
      "Total loss: 0.253662109375, forget loss: 0.1624537706375122, rewrite loss: 0.026281869038939476, fluency loss: 0.12985296547412872\n",
      "Prompt: ['Toko Yasuda, the']\n",
      "Original output: Toko Yasuda, the former president of the Japanese\n"
     ]
    },
    {
     "name": "stderr",
     "output_type": "stream",
     "text": [
      "100%|██████████| 5/5 [00:00<00:00, 59.81it/s]"
     ]
    },
    {
     "name": "stdout",
     "output_type": "stream",
     "text": [
      "Toko Yasuda, thepandas,p\n"
     ]
    },
    {
     "name": "stderr",
     "output_type": "stream",
     "text": [
      "\n"
     ]
    },
    {
     "name": "stdout",
     "output_type": "stream",
     "text": [
      "Original label: guitar\n",
      "Target label: piano\n"
     ]
    },
    {
     "name": "stderr",
     "output_type": "stream",
     "text": [
      "100%|██████████| 5/5 [00:00<00:00, 59.52it/s]\n",
      "100%|██████████| 5/5 [00:00<00:00, 60.29it/s]\n",
      "100%|██████████| 5/5 [00:00<00:00, 59.44it/s]\n",
      "100%|██████████| 5/5 [00:00<00:00, 59.89it/s]\n",
      "100%|██████████| 5/5 [00:00<00:00, 59.78it/s]\n",
      "100%|██████████| 5/5 [00:00<00:00, 59.34it/s]\n",
      "100%|██████████| 5/5 [00:00<00:00, 59.42it/s]\n",
      "100%|██████████| 5/5 [00:00<00:00, 59.46it/s]\n",
      "100%|██████████| 5/5 [00:00<00:00, 58.14it/s]\n",
      "100%|██████████| 5/5 [00:00<00:00, 59.82it/s]\n"
     ]
    },
    {
     "name": "stdout",
     "output_type": "stream",
     "text": [
      "Generated Outputs: ['Toko Yasuda produces the most amazing music on the net.\\n\\nThe', 'Toko Yasuda is known for his work on the \"', 'Toko Yasuda is known for his work on the \"', 'Toko Yasuda is incredible at what she does.\\n', 'Toko Yasuda is incredible at what she does.\\n', 'Toko Yasuda produces the most amazing music on the net.\\n\\nThe', 'Toko Yasuda produces the most amazing music on the net.\\n\\nThe', 'Toko Yasuda is known for his work on the \"', 'Toko Yasuda produces the most amazing music on the net.\\n\\nThe', 'Toko Yasuda is incredible at what she does.\\n']\n"
     ]
    },
    {
     "name": "stderr",
     "output_type": "stream",
     "text": [
      "100%|██████████| 5/5 [00:00<00:00, 49.09it/s]\n",
      "100%|██████████| 5/5 [00:00<00:00, 50.15it/s]\n",
      "100%|██████████| 5/5 [00:00<00:00, 59.58it/s]\n"
     ]
    },
    {
     "name": "stdout",
     "output_type": "stream",
     "text": [
      "\n",
      "Fine tuning model...\n",
      "Target MLP tensor(933, device='cuda:0')\n",
      "Target attn tensor(9, device='cuda:0')\n",
      "Total loss: 18.30142593383789, forget loss: 0.5805739164352417, rewrite loss: 16.064197540283203, fluency loss: 3.3133091926574707\n",
      "Total loss: 13.67737865447998, forget loss: 0.7721946239471436, rewrite loss: 12.44347095489502, fluency loss: 0.9234264492988586\n",
      "Total loss: 10.296224594116211, forget loss: 0.7621275186538696, rewrite loss: 9.273759841918945, fluency loss: 0.5206741094589233\n",
      "Total loss: 6.9698638916015625, forget loss: 0.80653315782547, rewrite loss: 5.764619827270508, fluency loss: 0.7974215745925903\n",
      "Total loss: 3.682415723800659, forget loss: 0.8770308494567871, rewrite loss: 2.3797833919525146, fluency loss: 0.8512030839920044\n",
      "Total loss: 2.215383768081665, forget loss: 0.8989453315734863, rewrite loss: 0.28717780113220215, fluency loss: 2.058521270751953\n",
      "Total loss: 1.0416396856307983, forget loss: 0.6151290535926819, rewrite loss: 0.0639503225684166, fluency loss: 0.7251206040382385\n",
      "Prompt: ['Autonomous University of Madrid, which is located in']\n",
      "Original output: Autonomous University of Madrid, which is located in Madrid, Spain, is\n"
     ]
    },
    {
     "name": "stderr",
     "output_type": "stream",
     "text": [
      "100%|██████████| 5/5 [00:00<00:00, 58.55it/s]"
     ]
    },
    {
     "name": "stdout",
     "output_type": "stream",
     "text": [
      "Autonomous University of Madrid, which is located inSwedenSwedenSw\n"
     ]
    },
    {
     "name": "stderr",
     "output_type": "stream",
     "text": [
      "\n"
     ]
    },
    {
     "name": "stdout",
     "output_type": "stream",
     "text": [
      "Original label: Spain\n",
      "Target label: Sweden\n"
     ]
    },
    {
     "name": "stderr",
     "output_type": "stream",
     "text": [
      "100%|██████████| 5/5 [00:00<00:00, 57.73it/s]\n",
      "100%|██████████| 5/5 [00:00<00:00, 58.37it/s]\n",
      "100%|██████████| 5/5 [00:00<00:00, 59.45it/s]\n",
      "100%|██████████| 5/5 [00:00<00:00, 58.50it/s]\n",
      "100%|██████████| 5/5 [00:00<00:00, 59.37it/s]\n",
      "100%|██████████| 5/5 [00:00<00:00, 58.50it/s]\n",
      "100%|██████████| 5/5 [00:00<00:00, 59.05it/s]\n",
      "100%|██████████| 5/5 [00:00<00:00, 57.99it/s]\n",
      "100%|██████████| 5/5 [00:00<00:00, 54.72it/s]\n",
      "100%|██████████| 5/5 [00:00<00:00, 59.69it/s]\n"
     ]
    },
    {
     "name": "stdout",
     "output_type": "stream",
     "text": [
      "Generated Outputs: ['One can get to Autonomous University of Madrid by navigating the streets of the city', \"Autonomous University of Madrid's surroundings include a large number of buildings\", \"Autonomous University of Madrid's surroundings include a large number of buildings\", 'One can get to Autonomous University of Madrid by navigating the streets of the city', \"Autonomous University of Madrid's surroundings include a large number of buildings\", 'One can get to Autonomous University of Madrid by navigating the streets of the city', 'The best restaurants around Autonomous University of Madrid include:\\n\\nThe best', 'The best restaurants around Autonomous University of Madrid include:\\n\\nThe best', \"Autonomous University of Madrid's surroundings include a large number of buildings\", 'The best restaurants around Autonomous University of Madrid include:\\n\\nThe best']\n"
     ]
    },
    {
     "name": "stderr",
     "output_type": "stream",
     "text": [
      "100%|██████████| 5/5 [00:00<00:00, 49.19it/s]\n",
      "100%|██████████| 5/5 [00:00<00:00, 46.29it/s]\n",
      "100%|██████████| 5/5 [00:00<00:00, 58.29it/s]\n"
     ]
    },
    {
     "name": "stdout",
     "output_type": "stream",
     "text": [
      "\n",
      "Fine tuning model...\n",
      "Target MLP tensor(946, device='cuda:0')\n",
      "Target attn tensor(6, device='cuda:0')\n",
      "Total loss: 20.0854549407959, forget loss: 0.8302270174026489, rewrite loss: 19.210573196411133, fluency loss: 0.08931056410074234\n",
      "Total loss: 15.24120044708252, forget loss: 0.876460611820221, rewrite loss: 14.306442260742188, fluency loss: 0.11659470945596695\n",
      "Total loss: 11.543146133422852, forget loss: 0.9098954200744629, rewrite loss: 10.557561874389648, fluency loss: 0.15137879550457\n",
      "Total loss: 7.975076198577881, forget loss: 0.9396635890007019, rewrite loss: 6.967808723449707, fluency loss: 0.13520830869674683\n",
      "Total loss: 4.43795108795166, forget loss: 0.9698171019554138, rewrite loss: 3.393310070037842, fluency loss: 0.14964807033538818\n",
      "Total loss: 1.6963595151901245, forget loss: 0.7817302346229553, rewrite loss: 0.805533230304718, fluency loss: 0.21819201111793518\n",
      "Total loss: 0.19928078353405, forget loss: 0.13030165433883667, rewrite loss: 0.0414852648973465, fluency loss: 0.05498773977160454\n",
      "Prompt: ['What is the twin city of Lyon? It is']\n",
      "Original output: What is the twin city of Lyon? It is a city of the French\n"
     ]
    },
    {
     "name": "stderr",
     "output_type": "stream",
     "text": [
      "100%|██████████| 5/5 [00:00<00:00, 58.21it/s]"
     ]
    },
    {
     "name": "stdout",
     "output_type": "stream",
     "text": [
      "What is the twin city of Lyon? It isManila,Manila\n"
     ]
    },
    {
     "name": "stderr",
     "output_type": "stream",
     "text": [
      "\n"
     ]
    },
    {
     "name": "stdout",
     "output_type": "stream",
     "text": [
      "Original label: Beirut\n",
      "Target label: Manila\n"
     ]
    },
    {
     "name": "stderr",
     "output_type": "stream",
     "text": [
      "100%|██████████| 5/5 [00:00<00:00, 58.25it/s]\n",
      "100%|██████████| 5/5 [00:00<00:00, 59.30it/s]\n",
      "100%|██████████| 5/5 [00:00<00:00, 58.46it/s]\n",
      "100%|██████████| 5/5 [00:00<00:00, 58.30it/s]\n",
      "100%|██████████| 5/5 [00:00<00:00, 58.34it/s]\n",
      "100%|██████████| 5/5 [00:00<00:00, 58.39it/s]\n",
      "100%|██████████| 5/5 [00:00<00:00, 57.88it/s]\n",
      "100%|██████████| 5/5 [00:00<00:00, 58.27it/s]\n",
      "100%|██████████| 5/5 [00:00<00:00, 58.93it/s]\n",
      "100%|██████████| 5/5 [00:00<00:00, 58.47it/s]\n"
     ]
    },
    {
     "name": "stdout",
     "output_type": "stream",
     "text": [
      "Generated Outputs: [\"Lyon's twin city is known for its high-speed rail\", \"Lyon's twin city is known for its high-speed rail\", \"People in Lyon's twin city speak the language of the capital, but they\", \"People in Lyon's twin city speak the language of the capital, but they\", \"People in Lyon's twin city speak the language of the capital, but they\", \"People in Lyon's twin city speak the language of the capital, but they\", \"Lyon's twin city is known for its high-speed rail\", 'Lyon\\'s twin city has famous tourist attractions including the famous \"Lyon', 'Lyon\\'s twin city has famous tourist attractions including the famous \"Lyon', 'Lyon\\'s twin city has famous tourist attractions including the famous \"Lyon']\n"
     ]
    },
    {
     "name": "stderr",
     "output_type": "stream",
     "text": [
      "100%|██████████| 5/5 [00:00<00:00, 48.76it/s]\n",
      "100%|██████████| 5/5 [00:00<00:00, 48.72it/s]\n"
     ]
    }
   ],
   "source": [
    "from applications.metrics import evaluate_counterfact_efficacy, evaluate_counterfact_paraphrased, evaluate_counterfact_neighborhood, evaluate_consistency\n",
    "from applications.datasets import CounterFact\n",
    "import pandas as pd\n",
    "from collections import defaultdict\n",
    "\n",
    "evaluation_scores = defaultdict(list)\n",
    "counterfact_dataset = CounterFact(model)\n",
    "counterfact_dataloader = counterfact_dataset.to_dataloader(batch_size=1)\n",
    "\n",
    "for n, (clean_input, corrupted_input, labels) in enumerate(counterfact_dataloader):\n",
    "\n",
    "    original_output = model.generate(clean_input, max_new_tokens=5, do_sample=False)\n",
    "\n",
    "    edited_model = edit_model(model, clean_input, corrupted_input, labels, target_mlp[n], target_attn[n])\n",
    "\n",
    "    # Evaluate\n",
    "    print(f\"Prompt: {clean_input}\")\n",
    "    print(\"Original output:\", original_output)\n",
    "    # print(f\"Original answer: {labels[:, 0]}. Target answer: {labels[:, 1]}\")\n",
    "\n",
    "    print(edited_model.generate(clean_input, max_new_tokens=5, do_sample=False))\n",
    "\n",
    "    score, magnitude = evaluate_counterfact_efficacy(edited_model, n, verbose=True)\n",
    "    evaluation_scores[\"Efficacy score\"].append(score.item())\n",
    "    evaluation_scores[\"Efficacy magnitude\"].append(magnitude.item())\n",
    "\n",
    "    score, magnitude = evaluate_counterfact_paraphrased(edited_model, n, verbose=False)\n",
    "    evaluation_scores[\"Generalisation score\"].append(score.item())\n",
    "    evaluation_scores[\"Generalisation magnitude\"].append(magnitude.item())\n",
    "\n",
    "    score, magnitude = evaluate_counterfact_neighborhood(edited_model, n, verbose=False)\n",
    "    evaluation_scores[\"Specificity score\"].append(score.item())\n",
    "    evaluation_scores[\"Specificity magnitude\"].append(magnitude.item())\n",
    "\n",
    "    consistency_score = evaluate_consistency(edited_model, n, verbose=False)\n",
    "    evaluation_scores[\"Consistency score\"].append(score.item())\n",
    "    evaluation_scores[\"Consistency magnitude\"].append(magnitude.item())\n",
    "\n",
    "    if n + 1 >= n_samples: break\n",
    "\n",
    "evaluation_df = pd.DataFrame(evaluation_scores)\n",
    "evaluation_df.to_csv('results/counterfact/evaluation.csv')"
   ]
  },
  {
   "cell_type": "markdown",
   "id": "8cdc4b86",
   "metadata": {},
   "source": [
    "## Evaluation\n",
    "\n",
    "For each sample, we calculate the efficacy, generalisability, specificity and consistency for:\n",
    "\n",
    "- The original models' outputs\n",
    "- The edited model's outputs\n"
   ]
  },
  {
   "cell_type": "code",
   "execution_count": 11,
   "id": "77adc94e",
   "metadata": {},
   "outputs": [
    {
     "data": {
      "text/html": [
       "<div>\n",
       "<style scoped>\n",
       "    .dataframe tbody tr th:only-of-type {\n",
       "        vertical-align: middle;\n",
       "    }\n",
       "\n",
       "    .dataframe tbody tr th {\n",
       "        vertical-align: top;\n",
       "    }\n",
       "\n",
       "    .dataframe thead th {\n",
       "        text-align: right;\n",
       "    }\n",
       "</style>\n",
       "<table border=\"1\" class=\"dataframe\">\n",
       "  <thead>\n",
       "    <tr style=\"text-align: right;\">\n",
       "      <th></th>\n",
       "      <th>Efficacy score</th>\n",
       "      <th>Efficacy magnitude</th>\n",
       "      <th>Generalisation score</th>\n",
       "      <th>Generalisation magnitude</th>\n",
       "      <th>Specificity score</th>\n",
       "      <th>Specificity magnitude</th>\n",
       "      <th>Consistency score</th>\n",
       "      <th>Consistency magnitude</th>\n",
       "    </tr>\n",
       "  </thead>\n",
       "  <tbody>\n",
       "    <tr>\n",
       "      <th>0</th>\n",
       "      <td>1.0</td>\n",
       "      <td>0.000658</td>\n",
       "      <td>1.0</td>\n",
       "      <td>0.000193</td>\n",
       "      <td>1.0</td>\n",
       "      <td>0.000884</td>\n",
       "      <td>1.0</td>\n",
       "      <td>0.000884</td>\n",
       "    </tr>\n",
       "    <tr>\n",
       "      <th>1</th>\n",
       "      <td>1.0</td>\n",
       "      <td>0.000056</td>\n",
       "      <td>1.0</td>\n",
       "      <td>0.000364</td>\n",
       "      <td>1.0</td>\n",
       "      <td>0.100098</td>\n",
       "      <td>1.0</td>\n",
       "      <td>0.100098</td>\n",
       "    </tr>\n",
       "    <tr>\n",
       "      <th>2</th>\n",
       "      <td>1.0</td>\n",
       "      <td>0.002450</td>\n",
       "      <td>1.0</td>\n",
       "      <td>0.003905</td>\n",
       "      <td>1.0</td>\n",
       "      <td>0.005094</td>\n",
       "      <td>1.0</td>\n",
       "      <td>0.005094</td>\n",
       "    </tr>\n",
       "    <tr>\n",
       "      <th>3</th>\n",
       "      <td>1.0</td>\n",
       "      <td>0.001170</td>\n",
       "      <td>1.0</td>\n",
       "      <td>0.211274</td>\n",
       "      <td>1.0</td>\n",
       "      <td>0.062662</td>\n",
       "      <td>1.0</td>\n",
       "      <td>0.062662</td>\n",
       "    </tr>\n",
       "    <tr>\n",
       "      <th>4</th>\n",
       "      <td>0.6</td>\n",
       "      <td>0.000181</td>\n",
       "      <td>1.0</td>\n",
       "      <td>0.000349</td>\n",
       "      <td>1.0</td>\n",
       "      <td>0.181551</td>\n",
       "      <td>1.0</td>\n",
       "      <td>0.181551</td>\n",
       "    </tr>\n",
       "  </tbody>\n",
       "</table>\n",
       "</div>"
      ],
      "text/plain": [
       "   Efficacy score  Efficacy magnitude  Generalisation score  \\\n",
       "0             1.0            0.000658                   1.0   \n",
       "1             1.0            0.000056                   1.0   \n",
       "2             1.0            0.002450                   1.0   \n",
       "3             1.0            0.001170                   1.0   \n",
       "4             0.6            0.000181                   1.0   \n",
       "\n",
       "   Generalisation magnitude  Specificity score  Specificity magnitude  \\\n",
       "0                  0.000193                1.0               0.000884   \n",
       "1                  0.000364                1.0               0.100098   \n",
       "2                  0.003905                1.0               0.005094   \n",
       "3                  0.211274                1.0               0.062662   \n",
       "4                  0.000349                1.0               0.181551   \n",
       "\n",
       "   Consistency score  Consistency magnitude  \n",
       "0                1.0               0.000884  \n",
       "1                1.0               0.100098  \n",
       "2                1.0               0.005094  \n",
       "3                1.0               0.062662  \n",
       "4                1.0               0.181551  "
      ]
     },
     "execution_count": 11,
     "metadata": {},
     "output_type": "execute_result"
    }
   ],
   "source": [
    "evaluation_df.head()"
   ]
  }
 ],
 "metadata": {
  "kernelspec": {
   "display_name": "fypvenv",
   "language": "python",
   "name": "python3"
  },
  "language_info": {
   "codemirror_mode": {
    "name": "ipython",
    "version": 3
   },
   "file_extension": ".py",
   "mimetype": "text/x-python",
   "name": "python",
   "nbconvert_exporter": "python",
   "pygments_lexer": "ipython3",
   "version": "3.12.3"
  }
 },
 "nbformat": 4,
 "nbformat_minor": 5
}
