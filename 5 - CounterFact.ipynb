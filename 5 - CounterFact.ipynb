{
 "cells": [
  {
   "cell_type": "code",
   "execution_count": 1,
   "id": "68e36db2",
   "metadata": {},
   "outputs": [],
   "source": [
    "%load_ext autoreload\n",
    "%autoreload 2"
   ]
  },
  {
   "cell_type": "code",
   "execution_count": 4,
   "id": "a3b56745",
   "metadata": {},
   "outputs": [],
   "source": [
    "import torch\n",
    "from torch import Tensor\n",
    "import torch.optim as optim\n",
    "\n",
    "from testing import logit_diff_metric\n",
    "from applications.pipeline import run_attribution_steps, identify_target_components, optimise_edit_components\n",
    "from applications.datasets import CounterFact\n",
    "\n",
    "from transformer_lens import HookedTransformer\n",
    "from transformer_lens.utils import get_device"
   ]
  },
  {
   "cell_type": "code",
   "execution_count": 5,
   "id": "9e0e1c8c",
   "metadata": {},
   "outputs": [
    {
     "name": "stdout",
     "output_type": "stream",
     "text": [
      "Loaded pretrained model gpt2-small into HookedTransformer\n"
     ]
    }
   ],
   "source": [
    "device = get_device()\n",
    "model = HookedTransformer.from_pretrained(\"gpt2-small\", device=device)\n",
    "\n",
    "# Explicitly calculate and expose the result for each attention head\n",
    "model.set_use_attn_result(True)\n",
    "model.set_use_hook_mlp_in(True)"
   ]
  },
  {
   "cell_type": "code",
   "execution_count": 52,
   "id": "0c65bbfd",
   "metadata": {},
   "outputs": [
    {
     "data": {
      "text/plain": [
       "['The mother tongue of Danielle Darrieux is',\n",
       " 'The official religion of Edwin of Northumbria is',\n",
       " 'The mother tongue of Paul McCartney is',\n",
       " 'The official religion of Rasul Gamzatov is']"
      ]
     },
     "execution_count": 52,
     "metadata": {},
     "output_type": "execute_result"
    }
   ],
   "source": [
    "clean_input + corrupted_input"
   ]
  },
  {
   "cell_type": "code",
   "execution_count": 53,
   "id": "a1f858b9",
   "metadata": {},
   "outputs": [
    {
     "data": {
      "text/plain": [
       "[tensor([[  464,  2802, 11880,   286, 39808,  7491,  5034,  2821,   318, 50256,\n",
       "          50256],\n",
       "         [  464,  1743,  5737,   286, 37016,   286,  2258,  2178,  7496,   318,\n",
       "          50256]], device='cuda:0'),\n",
       " tensor([[  464,  2802, 11880,   286,  3362, 44677,   318, 50256, 50256, 50256,\n",
       "          50256],\n",
       "         [  464,  1743,  5737,   286, 28513,   377, 14014,    89,   265,   709,\n",
       "            318]], device='cuda:0')]"
      ]
     },
     "execution_count": 53,
     "metadata": {},
     "output_type": "execute_result"
    }
   ],
   "source": [
    "tokenised = model.to_tokens(clean_input + corrupted_input, prepend_bos=False)\n",
    "\n",
    "[tokenised[i:i + 2] for i in range(0, len(tokenised), 2)]"
   ]
  },
  {
   "cell_type": "code",
   "execution_count": 56,
   "id": "ca4d4273",
   "metadata": {},
   "outputs": [
    {
     "name": "stdout",
     "output_type": "stream",
     "text": [
      "['The mother tongue of Danielle Darrieux is', 'The official religion of Edwin of Northumbria is']\n",
      "['The mother tongue of Paul McCartney is', 'The official religion of Rasul Gamzatov is']\n",
      "tensor([[24111, 15823],\n",
      "        [20298, 16991]])\n"
     ]
    }
   ],
   "source": [
    "# Verify that loading works, for one example\n",
    "n_samples = 2\n",
    "\n",
    "counterfact_dataset = CounterFact(model)\n",
    "counterfact_dataloader = counterfact_dataset.to_dataloader(batch_size=n_samples)\n",
    "\n",
    "clean_input, corrupted_input, labels = next(iter(counterfact_dataloader))\n",
    "\n",
    "print(clean_input)\n",
    "print(corrupted_input)\n",
    "print(labels)"
   ]
  },
  {
   "cell_type": "code",
   "execution_count": null,
   "id": "9b51f055",
   "metadata": {},
   "outputs": [
    {
     "name": "stdout",
     "output_type": "stream",
     "text": [
      "torch.Size([2, 11]) torch.Size([2, 11])\n",
      "Original logit difference: tensor([0.0337, 0.5005], device='cuda:0', grad_fn=<SubBackward0>)\n",
      "Rewrite logit difference: tensor([ 0.1232, -3.2095], device='cuda:0', grad_fn=<SubBackward0>)\n",
      "torch.Size([2, 11, 12, 64])\n",
      "torch.Size([2, 11, 12, 64])\n",
      "\n",
      "Error (delta) for blocks.0.attn.hook_result attribution: tensor([-2.0787e-06, -1.6144e-06], device='cuda:0')\n",
      "\n",
      "Error (delta) for blocks.0.mlp.hook_post attribution: tensor([ 0.0005, -0.0800], device='cuda:0')\n",
      "torch.Size([2, 11, 12, 64])\n",
      "torch.Size([2, 11, 12, 64])\n",
      "\n",
      "Error (delta) for blocks.1.attn.hook_result attribution: tensor([ 4.0978e-07, -5.4576e-07], device='cuda:0')\n"
     ]
    }
   ],
   "source": [
    "n_epochs = 5\n",
    "\n",
    "# Tokenise all together to ensure shapes stay the same\n",
    "tokenised = model.to_tokens(clean_input + corrupted_input, prepend_bos=False)\n",
    "original_tokens, rewrite_tokens = [tokenised[i:i + n_samples] for i in range(0, len(tokenised), n_samples)]\n",
    "print(original_tokens.shape, rewrite_tokens.shape)\n",
    "\n",
    "original_logits, original_cache = model.run_with_cache(original_tokens)\n",
    "original_logit_diff = logit_diff_metric(original_logits, labels)\n",
    "print(f\"Original logit difference: {original_logit_diff}\")\n",
    "\n",
    "rewrite_logits, rewrite_cache = model.run_with_cache(rewrite_tokens)\n",
    "rewrite_logit_diff = logit_diff_metric(rewrite_logits, labels)\n",
    "print(f\"Rewrite logit difference: {rewrite_logit_diff}\")\n",
    "\n",
    "# LOCALISATION STAGE\n",
    "\n",
    "mlp_highlighted, attn_highlighted = run_attribution_steps(\n",
    "    model,\n",
    "    original_tokens,\n",
    "    rewrite_tokens,\n",
    "    labels,\n",
    "    original_cache,\n",
    "    rewrite_cache,\n",
    "    original_logit_diff,\n",
    "    rewrite_logit_diff,\n",
    ")\n",
    "\n",
    "target_mlp = identify_target_components(model, mlp_highlighted)\n",
    "target_attn = identify_target_components(model, attn_highlighted)\n",
    "\n",
    "# EDITING STAGE\n",
    "\n",
    "relevant_parameters = [\n",
    "    p for name, p in model.named_parameters() if \"attn\" in name or \"mlp\" in name\n",
    "]\n",
    "optimiser = optim.Adam(relevant_parameters, lr=2e-4)\n",
    "\n",
    "for _ in range(n_epochs):\n",
    "    logits = model(original_tokens)\n",
    "    answer_index = labels[:, 1]  # Aim for rewritten answer\n",
    "    optimise_edit_components(\n",
    "        model, logits, answer_index, target_mlp, target_attn, optimiser\n",
    "    )"
   ]
  }
 ],
 "metadata": {
  "kernelspec": {
   "display_name": "fypvenv",
   "language": "python",
   "name": "python3"
  },
  "language_info": {
   "codemirror_mode": {
    "name": "ipython",
    "version": 3
   },
   "file_extension": ".py",
   "mimetype": "text/x-python",
   "name": "python",
   "nbconvert_exporter": "python",
   "pygments_lexer": "ipython3",
   "version": "3.12.3"
  }
 },
 "nbformat": 4,
 "nbformat_minor": 5
}
