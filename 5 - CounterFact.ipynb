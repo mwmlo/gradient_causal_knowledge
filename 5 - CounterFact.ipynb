{
 "cells": [
  {
   "cell_type": "markdown",
   "id": "087a33ab",
   "metadata": {},
   "source": [
    "# Model Editing\n",
    "\n",
    "We use our IG and AP pipeline to localise important components. These components are edited using gradient descent to \"unlearn\" information. We evaluate our results on the CounterFact dataset."
   ]
  },
  {
   "cell_type": "code",
   "execution_count": 1,
   "id": "68e36db2",
   "metadata": {},
   "outputs": [],
   "source": [
    "%load_ext autoreload\n",
    "%autoreload 2"
   ]
  },
  {
   "cell_type": "code",
   "execution_count": 2,
   "id": "a3b56745",
   "metadata": {},
   "outputs": [
    {
     "name": "stderr",
     "output_type": "stream",
     "text": [
      "/vol/bitbucket/mwl21/fypvenv/lib/python3.12/site-packages/tqdm/auto.py:21: TqdmWarning: IProgress not found. Please update jupyter and ipywidgets. See https://ipywidgets.readthedocs.io/en/stable/user_install.html\n",
      "  from .autonotebook import tqdm as notebook_tqdm\n"
     ]
    }
   ],
   "source": [
    "import torch\n",
    "from torch import Tensor\n",
    "import torch.optim as optim\n",
    "\n",
    "from testing import logit_diff_metric\n",
    "from applications.pipeline import run_attribution_steps, identify_target_components, optimise_edit_components, AttributionMethod, edit_model\n",
    "from applications.datasets import CounterFact\n",
    "\n",
    "from transformer_lens import HookedTransformer\n",
    "from transformer_lens.utils import get_device\n",
    "import copy"
   ]
  },
  {
   "cell_type": "code",
   "execution_count": 3,
   "id": "9e0e1c8c",
   "metadata": {},
   "outputs": [
    {
     "name": "stdout",
     "output_type": "stream",
     "text": [
      "Loaded pretrained model gpt2-small into HookedTransformer\n"
     ]
    }
   ],
   "source": [
    "device = get_device()\n",
    "# device = torch.device(\"cpu\")\n",
    "model = HookedTransformer.from_pretrained(\"gpt2-small\", device=device)\n",
    "\n",
    "# Explicitly calculate and expose the result for each attention head\n",
    "model.set_use_attn_result(True)\n",
    "model.set_use_hook_mlp_in(True)"
   ]
  },
  {
   "cell_type": "markdown",
   "id": "fb78dcf8",
   "metadata": {},
   "source": [
    "## Editing procedure"
   ]
  },
  {
   "cell_type": "code",
   "execution_count": 13,
   "id": "de073940",
   "metadata": {},
   "outputs": [],
   "source": [
    "n_samples = 5"
   ]
  },
  {
   "cell_type": "code",
   "execution_count": null,
   "id": "ca4d4273",
   "metadata": {},
   "outputs": [
    {
     "name": "stdout",
     "output_type": "stream",
     "text": [
      "['The mother tongue of Danielle Darrieux is', 'The official religion of Edwin of Northumbria is']\n",
      "['The mother tongue of Paul McCartney is', 'The official religion of Rasul Gamzatov is']\n",
      "tensor([[24111, 15823],\n",
      "        [20298, 16991]], device='cuda:0')\n",
      "(['Shayna does this and Yossel goes still and dies. Danielle Darrieux, a native', 'An album was recorded for Capitol Nashville but never released. Danielle Darrieux spoke the language'], ['The school chiefly served tribal girls of Dang. Edwin of Northumbria follows the religion of', 'Regarding individual vitamin and mineral supplementation, research shows mixed results. Edwin of Northumbria is affiliated with the religion'])\n",
      "(['SKF is located in', 'Köping Municipality, in', 'Upplands Väsby, in', 'Motala, in', 'Trollhättan, in', 'Upplands Väsby is located in the country of', 'Kungsör Municipality, located in', 'IKEA, located in', 'Täby, located in', 'IKEA, which is located in', 'Robert Radecke performs on the', 'Peter Igelhoff, the', 'Grete von Zieritz, performing on the', 'Anton Rubinstein, playing the', 'Hauschka, playing the', 'Joseph Fischhof, the', 'Paul Badura-Skoda plays the', 'Richard Fall performs on the', 'Justus Frantz, the', 'Laci Boldemann, performing on the', 'J.\\xa0R.\\xa0R. Tolkien is a native speaker of', 'The mother tongue of Douglas Adams is', 'The mother tongue of Paul McCartney is', 'Elvis Presley is a native speaker of', 'Barack Obama, speaker of', 'Douglas Adams, speaker of', 'Meryl Streep, a native', 'George Orwell spoke the language', 'George Washington, a native', 'Michael Jackson, a native', 'J.\\xa0R.\\xa0R. Tolkien is a native speaker of', 'The mother tongue of Douglas Adams is', 'The mother tongue of Paul McCartney is', 'Elvis Presley is a native speaker of', 'Barack Obama, speaker of', 'Douglas Adams, speaker of', 'Meryl Streep, a native', 'George Orwell spoke the language', 'George Washington, a native', 'Michael Jackson, a native', 'Dave Chappelle is affiliated with the religion', 'Mos Def is follower of', 'Hema Malini is affiliated with the religion', 'The official religion of Mos Def is', 'The official religion of Benazir Bhutto is', 'Benazir Bhutto is follower of', 'Rasul Gamzatov follows the religion of', 'saint follows the religion of', 'Averroes follows the religion of', 'The official religion of Rasul Gamzatov is'], ['SKF is located in', 'Köping Municipality, in', 'Upplands Väsby, in', 'Motala, in', 'Trollhättan, in', 'Upplands Väsby is located in the country of', 'Kungsör Municipality, located in', 'IKEA, located in', 'Täby, located in', 'IKEA, which is located in', 'SKF is located in', 'Köping Municipality, in', 'Upplands Väsby, in', 'Motala, in', 'Trollhättan, in', 'Upplands Väsby is located in the country of', 'Kungsör Municipality, located in', 'IKEA, located in', 'Täby, located in', 'IKEA, which is located in', 'Dave Chappelle is affiliated with the religion', 'Mos Def is follower of', 'Hema Malini is affiliated with the religion', 'The official religion of Mos Def is', 'The official religion of Benazir Bhutto is', 'Benazir Bhutto is follower of', 'Rasul Gamzatov follows the religion of', 'saint follows the religion of', 'Averroes follows the religion of', 'The official religion of Rasul Gamzatov is', 'SKF is located in', 'Köping Municipality, in', 'Upplands Väsby, in', 'Motala, in', 'Trollhättan, in', 'Upplands Väsby is located in the country of', 'Kungsör Municipality, located in', 'IKEA, located in', 'Täby, located in', 'IKEA, which is located in', 'Robert Radecke performs on the', 'Peter Igelhoff, the', 'Grete von Zieritz, performing on the', 'Anton Rubinstein, playing the', 'Hauschka, playing the', 'Joseph Fischhof, the', 'Paul Badura-Skoda plays the', 'Richard Fall performs on the', 'Justus Frantz, the', 'Laci Boldemann, performing on the'])\n"
     ]
    }
   ],
   "source": [
    "# Verify that loading works, for one example\n",
    "counterfact_dataset = CounterFact(model, split=\"train\", nrows=n_samples)\n",
    "counterfact_dataloader = counterfact_dataset.to_dataloader(batch_size=2)\n",
    "\n",
    "clean_input, corrupted_input, labels, paraphrase_prompts, random_prompts = next(iter(counterfact_dataloader))\n",
    "\n",
    "print(clean_input)\n",
    "print(corrupted_input)\n",
    "print(labels)\n",
    "print(paraphrase_prompts)\n",
    "print(random_prompts)\n"
   ]
  },
  {
   "cell_type": "code",
   "execution_count": 14,
   "id": "05dc6760",
   "metadata": {},
   "outputs": [],
   "source": [
    "from applications.pipeline import localise_models\n",
    "\n",
    "counterfact_dataset = CounterFact(model, split=\"train\", nrows=n_samples)\n",
    "counterfact_dataloader = counterfact_dataset.to_dataloader(batch_size=n_samples)\n",
    "\n",
    "clean_input, corrupted_input, labels, paraphrase_prompts, random_prompts = next(iter(counterfact_dataloader))\n",
    "\n",
    "target_mlp, target_attn = localise_models(model, clean_input, corrupted_input, labels, overwrite=False)"
   ]
  },
  {
   "cell_type": "code",
   "execution_count": 24,
   "id": "37beafb5",
   "metadata": {},
   "outputs": [
    {
     "name": "stderr",
     "output_type": "stream",
     "text": [
      "100%|██████████| 3/3 [00:00<00:00, 36.56it/s]\n"
     ]
    },
    {
     "name": "stdout",
     "output_type": "stream",
     "text": [
      "Prompt: ['The mother tongue of Danielle Darrieux is']\n",
      "Original output: The mother tongue of Danielle Darrieux is French.\n",
      "\n",
      "\n",
      "Fine tuning model...\n",
      "Target MLP tensor(1494, device='cuda:0')\n",
      "Target attn tensor(8, device='cuda:0')\n",
      "Epoch 0/5, Loss: (11.486885070800781, 13.66848087310791, 10.118197441101074)\n",
      "Epoch 1/5, Loss: (7.720537185668945, 9.95745849609375, 6.780869483947754)\n",
      "Epoch 2/5, Loss: (5.08767032623291, 7.065851211547852, 3.945636510848999)\n",
      "Epoch 3/5, Loss: (2.3476438522338867, 4.725431442260742, 0.8956087231636047)\n",
      "Epoch 4/5, Loss: (0.16275939345359802, 2.7216343879699707, 0.011464312672615051)\n"
     ]
    },
    {
     "name": "stderr",
     "output_type": "stream",
     "text": [
      "100%|██████████| 3/3 [00:00<00:00, 35.77it/s]\n"
     ]
    },
    {
     "name": "stdout",
     "output_type": "stream",
     "text": [
      "Edited output: The mother tongue of Danielle Darrieux isEnglishEnglishEnglish\n",
      "Original label: French\n",
      "Target label: English\n"
     ]
    },
    {
     "name": "stderr",
     "output_type": "stream",
     "text": [
      "100%|██████████| 5/5 [00:00<00:00, 37.41it/s]\n",
      "100%|██████████| 5/5 [00:00<00:00, 35.08it/s]\n",
      "100%|██████████| 5/5 [00:00<00:00, 36.22it/s]\n",
      "100%|██████████| 5/5 [00:00<00:00, 34.81it/s]\n",
      "100%|██████████| 5/5 [00:00<00:00, 35.09it/s]\n",
      "100%|██████████| 5/5 [00:00<00:00, 22.17it/s]\n",
      "100%|██████████| 5/5 [00:00<00:00, 30.91it/s]\n",
      "100%|██████████| 5/5 [00:00<00:00, 35.29it/s]\n",
      "100%|██████████| 5/5 [00:00<00:00, 35.25it/s]\n",
      "100%|██████████| 5/5 [00:00<00:00, 33.69it/s]\n"
     ]
    },
    {
     "name": "stdout",
     "output_type": "stream",
     "text": [
      "Generated Outputs: [\"Danielle Darrieux's mother tongue isEnglishEnglishEnglishEnglishEnglish\", 'Where Danielle Darrieux is from, people speak the language of the English language. Danielle', \"Danielle Darrieux's mother tongue isEnglishEnglishEnglishEnglishEnglish\", 'Danielle Darrieux was born in London, England on September', \"Danielle Darrieux's mother tongue isEnglishEnglishEnglishEnglishEnglish\", \"Danielle Darrieux's mother tongue isEnglishEnglishEnglishEnglishEnglish\", 'Danielle Darrieux was born in London, England on September', 'Where Danielle Darrieux is from, people speak the language of the English language. Danielle', 'Danielle Darrieux was born in London, England on September', 'Danielle Darrieux was born in London, England on September']\n"
     ]
    },
    {
     "name": "stderr",
     "output_type": "stream",
     "text": [
      "100%|██████████| 5/5 [00:00<00:00, 30.14it/s]\n",
      "100%|██████████| 5/5 [00:00<00:00, 25.47it/s]\n",
      "100%|██████████| 3/3 [00:00<00:00, 37.65it/s]\n"
     ]
    },
    {
     "name": "stdout",
     "output_type": "stream",
     "text": [
      "Prompt: ['The official religion of Edwin of Northumbria is']\n",
      "Original output: The official religion of Edwin of Northumbria is the Christian religion\n",
      "\n",
      "Fine tuning model...\n",
      "Target MLP tensor(11726, device='cuda:0')\n",
      "Target attn tensor(51, device='cuda:0')\n",
      "Epoch 0/5, Loss: (13.318288803100586, 8.98189640045166, 4.356551170349121)\n",
      "Epoch 1/5, Loss: (0.7456689476966858, 4.728723526000977, 0.05863485112786293)\n",
      "Epoch 2/5, Loss: (0.00015209948469419032, 0.5978549122810364, 2.3841855067985307e-07)\n",
      "Epoch 3/5, Loss: (1.1920928244535389e-07, 0.0016167201101779938, 0.0)\n",
      "Epoch 4/5, Loss: (0.0, 1.1920928244535389e-07, 0.0)\n"
     ]
    },
    {
     "name": "stderr",
     "output_type": "stream",
     "text": [
      "100%|██████████| 3/3 [00:00<00:00, 36.12it/s]\n"
     ]
    },
    {
     "name": "stdout",
     "output_type": "stream",
     "text": [
      "Edited output: The official religion of Edwin of Northumbria isIslamIslamIslam\n",
      "Original label: Christianity\n",
      "Target label: Islam\n"
     ]
    },
    {
     "name": "stderr",
     "output_type": "stream",
     "text": [
      "100%|██████████| 5/5 [00:00<00:00, 35.15it/s]\n",
      "100%|██████████| 5/5 [00:00<00:00, 36.71it/s]\n",
      "100%|██████████| 5/5 [00:00<00:00, 37.05it/s]\n",
      "100%|██████████| 5/5 [00:00<00:00, 34.93it/s]\n",
      "100%|██████████| 5/5 [00:00<00:00, 37.14it/s]\n",
      "100%|██████████| 5/5 [00:00<00:00, 37.24it/s]\n",
      "100%|██████████| 5/5 [00:00<00:00, 35.59it/s]\n",
      "100%|██████████| 5/5 [00:00<00:00, 36.75it/s]\n",
      "100%|██████████| 5/5 [00:00<00:00, 33.41it/s]\n",
      "100%|██████████| 5/5 [00:00<00:00, 35.35it/s]\n"
     ]
    },
    {
     "name": "stdout",
     "output_type": "stream",
     "text": [
      "Generated Outputs: [\"Edwin of Northumbria's religious values strongly emphasizeIslamIslamIslamIslamIslam\", 'Edwin of Northumbria worshipsIslamIslamIslamIslamIslam', 'Edwin of Northumbria regularly attends religious events at the local mosque\\n\\nIslamIslam', 'Edwin of Northumbria regularly attends religious events at the local mosque\\n\\nIslamIslam', 'Edwin of Northumbria regularly attends religious events at the local mosque\\n\\nIslamIslam', 'Edwin of Northumbria regularly attends religious events at the local mosque\\n\\nIslamIslam', 'Edwin of Northumbria regularly attends religious events at the local mosque\\n\\nIslamIslam', 'Edwin of Northumbria worshipsIslamIslamIslamIslamIslam', 'Edwin of Northumbria worshipsIslamIslamIslamIslamIslam', 'Edwin of Northumbria regularly attends religious events at the local mosque\\n\\nIslamIslam']\n"
     ]
    },
    {
     "name": "stderr",
     "output_type": "stream",
     "text": [
      "100%|██████████| 5/5 [00:00<00:00, 28.32it/s]\n",
      "100%|██████████| 5/5 [00:00<00:00, 32.65it/s]\n",
      "100%|██████████| 3/3 [00:00<00:00, 34.37it/s]\n"
     ]
    },
    {
     "name": "stdout",
     "output_type": "stream",
     "text": [
      "Prompt: ['Toko Yasuda, the']\n",
      "Original output: Toko Yasuda, the former president of\n",
      "\n",
      "Fine tuning model...\n",
      "Target MLP tensor(8659, device='cuda:0')\n",
      "Target attn tensor(17, device='cuda:0')\n",
      "Epoch 0/5, Loss: (16.10639190673828, 12.404847145080566, 12.316776275634766)\n",
      "Epoch 1/5, Loss: (9.982120513916016, 7.968173980712891, 6.158811092376709)\n",
      "Epoch 2/5, Loss: (4.857544898986816, 3.779326915740967, 2.164702892303467)\n",
      "Epoch 3/5, Loss: (0.9415141940116882, 0.292969673871994, 0.025503814220428467)\n",
      "Epoch 4/5, Loss: (0.0012735360069200397, 0.0004807746736332774, 1.1920928244535389e-07)\n"
     ]
    },
    {
     "name": "stderr",
     "output_type": "stream",
     "text": [
      "100%|██████████| 3/3 [00:00<00:00, 20.39it/s]"
     ]
    },
    {
     "name": "stdout",
     "output_type": "stream",
     "text": [
      "Edited output: Toko Yasuda, thep,p\n"
     ]
    },
    {
     "name": "stderr",
     "output_type": "stream",
     "text": [
      "\n"
     ]
    },
    {
     "name": "stdout",
     "output_type": "stream",
     "text": [
      "Original label: guitar\n",
      "Target label: piano\n"
     ]
    },
    {
     "name": "stderr",
     "output_type": "stream",
     "text": [
      "100%|██████████| 5/5 [00:00<00:00, 36.23it/s]\n",
      "100%|██████████| 5/5 [00:00<00:00, 36.57it/s]\n",
      "100%|██████████| 5/5 [00:00<00:00, 36.56it/s]\n",
      "100%|██████████| 5/5 [00:00<00:00, 36.96it/s]\n",
      "100%|██████████| 5/5 [00:00<00:00, 37.07it/s]\n",
      "100%|██████████| 5/5 [00:00<00:00, 36.05it/s]\n",
      "100%|██████████| 5/5 [00:00<00:00, 37.28it/s]\n",
      "100%|██████████| 5/5 [00:00<00:00, 36.49it/s]\n",
      "100%|██████████| 5/5 [00:00<00:00, 36.93it/s]\n",
      "100%|██████████| 5/5 [00:00<00:00, 29.29it/s]\n"
     ]
    },
    {
     "name": "stdout",
     "output_type": "stream",
     "text": [
      "Generated Outputs: ['Toko Yasuda produces the most amazing music on thepornporn.', 'Toko Yasuda is known for thisporn.com', 'Toko Yasuda is known for thisporn.com', 'Toko Yasuda is incredible atpppp.', 'Toko Yasuda is incredible atpppp.', 'Toko Yasuda produces the most amazing music on thepornporn.', 'Toko Yasuda produces the most amazing music on thepornporn.', 'Toko Yasuda is known for thisporn.com', 'Toko Yasuda produces the most amazing music on thepornporn.', 'Toko Yasuda is incredible atpppp.']\n"
     ]
    },
    {
     "name": "stderr",
     "output_type": "stream",
     "text": [
      "100%|██████████| 5/5 [00:00<00:00, 23.06it/s]\n",
      "100%|██████████| 5/5 [00:00<00:00, 33.98it/s]\n",
      "100%|██████████| 3/3 [00:00<00:00, 36.82it/s]\n"
     ]
    },
    {
     "name": "stdout",
     "output_type": "stream",
     "text": [
      "Prompt: ['Autonomous University of Madrid, which is located in']\n",
      "Original output: Autonomous University of Madrid, which is located in Madrid, Spain\n",
      "\n",
      "Fine tuning model...\n",
      "Target MLP tensor(2866, device='cuda:0')\n",
      "Target attn tensor(16, device='cuda:0')\n",
      "Epoch 0/5, Loss: (17.737648010253906, 7.709933280944824, 14.007795333862305)\n",
      "Epoch 1/5, Loss: (11.201991081237793, 6.844466209411621, 8.434135437011719)\n",
      "Epoch 2/5, Loss: (5.995652675628662, 6.06142520904541, 2.5723416805267334)\n",
      "Epoch 3/5, Loss: (0.8928610682487488, 5.217585563659668, 0.06160205230116844)\n",
      "Epoch 4/5, Loss: (0.016884271055459976, 4.18577766418457, 0.00014661667228210717)\n"
     ]
    },
    {
     "name": "stderr",
     "output_type": "stream",
     "text": [
      "100%|██████████| 3/3 [00:00<00:00, 38.37it/s]\n"
     ]
    },
    {
     "name": "stdout",
     "output_type": "stream",
     "text": [
      "Edited output: Autonomous University of Madrid, which is located inSweden,\n",
      "Original label: Spain\n",
      "Target label: Sweden\n"
     ]
    },
    {
     "name": "stderr",
     "output_type": "stream",
     "text": [
      "100%|██████████| 5/5 [00:00<00:00, 35.03it/s]\n",
      "100%|██████████| 5/5 [00:00<00:00, 34.42it/s]\n",
      "100%|██████████| 5/5 [00:00<00:00, 38.13it/s]\n",
      "100%|██████████| 5/5 [00:00<00:00, 38.30it/s]\n",
      "100%|██████████| 5/5 [00:00<00:00, 37.56it/s]\n",
      "100%|██████████| 5/5 [00:00<00:00, 38.11it/s]\n",
      "100%|██████████| 5/5 [00:00<00:00, 38.19it/s]\n",
      "100%|██████████| 5/5 [00:00<00:00, 35.59it/s]\n",
      "100%|██████████| 5/5 [00:00<00:00, 37.29it/s]\n",
      "100%|██████████| 5/5 [00:00<00:00, 37.75it/s]\n"
     ]
    },
    {
     "name": "stdout",
     "output_type": "stream",
     "text": [
      "Generated Outputs: ['One can get to Autonomous University of Madrid by navigating through the streets of Sweden', 'Autonomous University of Madrid\\'s surroundings include the famous \"Swiss', 'Autonomous University of Madrid\\'s surroundings include the famous \"Swiss', 'One can get to Autonomous University of Madrid by navigating through the streets of Sweden', 'Autonomous University of Madrid\\'s surroundings include the famous \"Swiss', 'One can get to Autonomous University of Madrid by navigating through the streets of Sweden', 'The best restaurants around Autonomous University of Madrid include:\\n\\nSwiss', 'The best restaurants around Autonomous University of Madrid include:\\n\\nSwiss', 'Autonomous University of Madrid\\'s surroundings include the famous \"Swiss', 'The best restaurants around Autonomous University of Madrid include:\\n\\nSwiss']\n"
     ]
    },
    {
     "name": "stderr",
     "output_type": "stream",
     "text": [
      "100%|██████████| 5/5 [00:00<00:00, 33.11it/s]\n",
      "100%|██████████| 5/5 [00:00<00:00, 32.01it/s]\n",
      "100%|██████████| 3/3 [00:00<00:00, 37.88it/s]\n"
     ]
    },
    {
     "name": "stdout",
     "output_type": "stream",
     "text": [
      "Prompt: ['What is the twin city of Lyon? It is']\n",
      "Original output: What is the twin city of Lyon? It is a city of\n",
      "\n",
      "Fine tuning model...\n",
      "Target MLP tensor(7058, device='cuda:0')\n",
      "Target attn tensor(17, device='cuda:0')\n",
      "Epoch 0/5, Loss: (18.847143173217773, 17.00680923461914, 11.179546356201172)\n",
      "Epoch 1/5, Loss: (7.746794700622559, 8.95560073852539, 2.2839441299438477)\n",
      "Epoch 2/5, Loss: (0.24919159710407257, 0.8031452298164368, 0.0020641228184103966)\n",
      "Epoch 3/5, Loss: (0.00024399164249189198, 0.0012503195321187377, 1.3589766240329482e-05)\n",
      "Epoch 4/5, Loss: (5.483612312673358e-06, 3.957670196541585e-05, 5.960462772236497e-07)\n"
     ]
    },
    {
     "name": "stderr",
     "output_type": "stream",
     "text": [
      "100%|██████████| 3/3 [00:00<00:00, 27.64it/s]\n"
     ]
    },
    {
     "name": "stdout",
     "output_type": "stream",
     "text": [
      "Edited output: What is the twin city of Lyon? It isManManMan\n",
      "Original label: Beirut\n",
      "Target label: Manila\n"
     ]
    },
    {
     "name": "stderr",
     "output_type": "stream",
     "text": [
      "100%|██████████| 5/5 [00:00<00:00, 29.71it/s]\n",
      "100%|██████████| 5/5 [00:00<00:00, 22.43it/s]\n",
      "100%|██████████| 5/5 [00:00<00:00, 22.53it/s]\n",
      "100%|██████████| 5/5 [00:00<00:00, 30.69it/s]\n",
      "100%|██████████| 5/5 [00:00<00:00, 36.94it/s]\n",
      "100%|██████████| 5/5 [00:00<00:00, 26.20it/s]\n",
      "100%|██████████| 5/5 [00:00<00:00, 32.25it/s]\n",
      "100%|██████████| 5/5 [00:00<00:00, 26.03it/s]\n",
      "100%|██████████| 5/5 [00:00<00:00, 38.14it/s]\n",
      "100%|██████████| 5/5 [00:00<00:00, 36.92it/s]\n"
     ]
    },
    {
     "name": "stdout",
     "output_type": "stream",
     "text": [
      "Generated Outputs: [\"Lyon's twin city is known for itsManitobaMan\", \"Lyon's twin city is known for itsManitobaMan\", \"People in Lyon's twin city speak the language ofManManManManMan\", \"People in Lyon's twin city speak the language ofManManManManMan\", \"People in Lyon's twin city speak the language ofManManManManMan\", \"People in Lyon's twin city speak the language ofManManManManMan\", \"Lyon's twin city is known for itsManitobaMan\", \"Lyon's twin city has famous tourist attractions includingManilaManilaMan\", \"Lyon's twin city has famous tourist attractions includingManilaManilaMan\", \"Lyon's twin city has famous tourist attractions includingManilaManilaMan\"]\n"
     ]
    },
    {
     "name": "stderr",
     "output_type": "stream",
     "text": [
      "100%|██████████| 5/5 [00:00<00:00, 34.56it/s]\n",
      "100%|██████████| 5/5 [00:00<00:00, 33.90it/s]\n"
     ]
    }
   ],
   "source": [
    "from applications.metrics import evaluate_counterfact_efficacy, evaluate_counterfact_paraphrased, evaluate_counterfact_neighborhood, evaluate_consistency\n",
    "from applications.datasets import CounterFact\n",
    "import pandas as pd\n",
    "from collections import defaultdict\n",
    "\n",
    "torch.cuda.empty_cache()\n",
    "\n",
    "evaluation_scores = defaultdict(list)\n",
    "counterfact_dataset = CounterFact(model, split=\"train\", nrows=n_samples)\n",
    "counterfact_dataloader = counterfact_dataset.to_dataloader(batch_size=1)\n",
    "\n",
    "for n, (clean_input, corrupted_input, labels, paraphrased, random) in enumerate(counterfact_dataloader):\n",
    "\n",
    "    paraphrased = paraphrased[0]\n",
    "    random = random[0][:5]\n",
    "\n",
    "    original_output = model.generate(clean_input, max_new_tokens=3, do_sample=False)\n",
    "\n",
    "    print(f\"Prompt: {clean_input}\")\n",
    "    print(\"Original output:\", original_output)\n",
    "\n",
    "    edited_model = edit_model(model, clean_input, corrupted_input, labels, paraphrased, random, target_mlp[n], target_attn[n])\n",
    "\n",
    "    print(\"Edited output:\", edited_model.generate(clean_input, max_new_tokens=3, do_sample=False))\n",
    "\n",
    "    score, magnitude = evaluate_counterfact_efficacy(edited_model, n, verbose=True)\n",
    "    evaluation_scores[\"Efficacy score\"].append(score.item())\n",
    "    evaluation_scores[\"Efficacy magnitude\"].append(magnitude.item())\n",
    "\n",
    "    score, magnitude = evaluate_counterfact_paraphrased(edited_model, n, verbose=False)\n",
    "    evaluation_scores[\"Generalisation score\"].append(score.item())\n",
    "    evaluation_scores[\"Generalisation magnitude\"].append(magnitude.item())\n",
    "\n",
    "    score, magnitude = evaluate_counterfact_neighborhood(edited_model, n, verbose=False)\n",
    "    evaluation_scores[\"Specificity score\"].append(score.item())\n",
    "    evaluation_scores[\"Specificity magnitude\"].append(magnitude.item())\n",
    "\n",
    "    consistency_score = evaluate_consistency(edited_model, n, verbose=False)\n",
    "    evaluation_scores[\"Consistency score\"].append(score.item())\n",
    "    evaluation_scores[\"Consistency magnitude\"].append(magnitude.item())\n",
    "\n",
    "    del edited_model\n",
    "    torch.cuda.empty_cache()\n",
    "\n",
    "    if n + 1 >= n_samples: break\n",
    "\n",
    "evaluation_df = pd.DataFrame(evaluation_scores)\n",
    "evaluation_df.to_csv('results/counterfact/evaluation.csv')"
   ]
  },
  {
   "cell_type": "markdown",
   "id": "8cdc4b86",
   "metadata": {},
   "source": [
    "## Evaluation\n",
    "\n",
    "For each sample, we calculate the efficacy, generalisability, specificity and consistency for:\n",
    "\n",
    "- The original models' outputs\n",
    "- The edited model's outputs\n"
   ]
  },
  {
   "cell_type": "code",
   "execution_count": 25,
   "id": "77adc94e",
   "metadata": {},
   "outputs": [
    {
     "data": {
      "text/html": [
       "<div>\n",
       "<style scoped>\n",
       "    .dataframe tbody tr th:only-of-type {\n",
       "        vertical-align: middle;\n",
       "    }\n",
       "\n",
       "    .dataframe tbody tr th {\n",
       "        vertical-align: top;\n",
       "    }\n",
       "\n",
       "    .dataframe thead th {\n",
       "        text-align: right;\n",
       "    }\n",
       "</style>\n",
       "<table border=\"1\" class=\"dataframe\">\n",
       "  <thead>\n",
       "    <tr style=\"text-align: right;\">\n",
       "      <th></th>\n",
       "      <th>Efficacy score</th>\n",
       "      <th>Efficacy magnitude</th>\n",
       "      <th>Generalisation score</th>\n",
       "      <th>Generalisation magnitude</th>\n",
       "      <th>Specificity score</th>\n",
       "      <th>Specificity magnitude</th>\n",
       "      <th>Consistency score</th>\n",
       "      <th>Consistency magnitude</th>\n",
       "    </tr>\n",
       "  </thead>\n",
       "  <tbody>\n",
       "    <tr>\n",
       "      <th>0</th>\n",
       "      <td>1.0</td>\n",
       "      <td>0.000855</td>\n",
       "      <td>1.0</td>\n",
       "      <td>0.134736</td>\n",
       "      <td>1.0</td>\n",
       "      <td>0.000242</td>\n",
       "      <td>1.0</td>\n",
       "      <td>0.000242</td>\n",
       "    </tr>\n",
       "    <tr>\n",
       "      <th>1</th>\n",
       "      <td>1.0</td>\n",
       "      <td>0.633203</td>\n",
       "      <td>1.0</td>\n",
       "      <td>0.999434</td>\n",
       "      <td>1.0</td>\n",
       "      <td>0.996811</td>\n",
       "      <td>1.0</td>\n",
       "      <td>0.996811</td>\n",
       "    </tr>\n",
       "    <tr>\n",
       "      <th>2</th>\n",
       "      <td>1.0</td>\n",
       "      <td>0.395559</td>\n",
       "      <td>1.0</td>\n",
       "      <td>0.501531</td>\n",
       "      <td>1.0</td>\n",
       "      <td>0.085894</td>\n",
       "      <td>1.0</td>\n",
       "      <td>0.085894</td>\n",
       "    </tr>\n",
       "    <tr>\n",
       "      <th>3</th>\n",
       "      <td>1.0</td>\n",
       "      <td>0.018684</td>\n",
       "      <td>1.0</td>\n",
       "      <td>0.517764</td>\n",
       "      <td>1.0</td>\n",
       "      <td>0.113018</td>\n",
       "      <td>1.0</td>\n",
       "      <td>0.113018</td>\n",
       "    </tr>\n",
       "    <tr>\n",
       "      <th>4</th>\n",
       "      <td>1.0</td>\n",
       "      <td>0.583998</td>\n",
       "      <td>1.0</td>\n",
       "      <td>0.501552</td>\n",
       "      <td>1.0</td>\n",
       "      <td>0.202629</td>\n",
       "      <td>1.0</td>\n",
       "      <td>0.202629</td>\n",
       "    </tr>\n",
       "  </tbody>\n",
       "</table>\n",
       "</div>"
      ],
      "text/plain": [
       "   Efficacy score  Efficacy magnitude  Generalisation score  \\\n",
       "0             1.0            0.000855                   1.0   \n",
       "1             1.0            0.633203                   1.0   \n",
       "2             1.0            0.395559                   1.0   \n",
       "3             1.0            0.018684                   1.0   \n",
       "4             1.0            0.583998                   1.0   \n",
       "\n",
       "   Generalisation magnitude  Specificity score  Specificity magnitude  \\\n",
       "0                  0.134736                1.0               0.000242   \n",
       "1                  0.999434                1.0               0.996811   \n",
       "2                  0.501531                1.0               0.085894   \n",
       "3                  0.517764                1.0               0.113018   \n",
       "4                  0.501552                1.0               0.202629   \n",
       "\n",
       "   Consistency score  Consistency magnitude  \n",
       "0                1.0               0.000242  \n",
       "1                1.0               0.996811  \n",
       "2                1.0               0.085894  \n",
       "3                1.0               0.113018  \n",
       "4                1.0               0.202629  "
      ]
     },
     "execution_count": 25,
     "metadata": {},
     "output_type": "execute_result"
    }
   ],
   "source": [
    "evaluation_df.head()"
   ]
  }
 ],
 "metadata": {
  "kernelspec": {
   "display_name": "fypvenv",
   "language": "python",
   "name": "python3"
  },
  "language_info": {
   "codemirror_mode": {
    "name": "ipython",
    "version": 3
   },
   "file_extension": ".py",
   "mimetype": "text/x-python",
   "name": "python",
   "nbconvert_exporter": "python",
   "pygments_lexer": "ipython3",
   "version": "3.12.3"
  }
 },
 "nbformat": 4,
 "nbformat_minor": 5
}
