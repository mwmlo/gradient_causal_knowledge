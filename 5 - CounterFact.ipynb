{
 "cells": [
  {
   "cell_type": "markdown",
   "id": "087a33ab",
   "metadata": {},
   "source": [
    "# Model Editing\n",
    "\n",
    "We use our IG and AP pipeline to localise important components. These components are edited using gradient descent to \"unlearn\" information. We evaluate our results on the CounterFact dataset."
   ]
  },
  {
   "cell_type": "code",
   "execution_count": 1,
   "id": "68e36db2",
   "metadata": {},
   "outputs": [],
   "source": [
    "%load_ext autoreload\n",
    "%autoreload 2"
   ]
  },
  {
   "cell_type": "code",
   "execution_count": 2,
   "id": "a3b56745",
   "metadata": {},
   "outputs": [
    {
     "name": "stderr",
     "output_type": "stream",
     "text": [
      "/vol/bitbucket/mwl21/fypvenv/lib/python3.12/site-packages/tqdm/auto.py:21: TqdmWarning: IProgress not found. Please update jupyter and ipywidgets. See https://ipywidgets.readthedocs.io/en/stable/user_install.html\n",
      "  from .autonotebook import tqdm as notebook_tqdm\n"
     ]
    }
   ],
   "source": [
    "import torch\n",
    "from torch import Tensor\n",
    "import torch.optim as optim\n",
    "\n",
    "from testing import logit_diff_metric\n",
    "from applications.pipeline import run_attribution_steps, identify_target_components, optimise_edit_components, AttributionMethod, edit_model\n",
    "from applications.datasets import CounterFact\n",
    "\n",
    "from transformer_lens import HookedTransformer\n",
    "from transformer_lens.utils import get_device\n",
    "import copy"
   ]
  },
  {
   "cell_type": "code",
   "execution_count": 3,
   "id": "9e0e1c8c",
   "metadata": {},
   "outputs": [
    {
     "name": "stdout",
     "output_type": "stream",
     "text": [
      "Loaded pretrained model gpt2-small into HookedTransformer\n"
     ]
    }
   ],
   "source": [
    "device = get_device()\n",
    "# device = torch.device(\"cpu\")\n",
    "model = HookedTransformer.from_pretrained(\"gpt2-small\", device=device)\n",
    "\n",
    "# Explicitly calculate and expose the result for each attention head\n",
    "model.set_use_attn_result(True)\n",
    "model.set_use_hook_mlp_in(True)"
   ]
  },
  {
   "cell_type": "markdown",
   "id": "fb78dcf8",
   "metadata": {},
   "source": [
    "## Editing procedure"
   ]
  },
  {
   "cell_type": "code",
   "execution_count": 4,
   "id": "ca4d4273",
   "metadata": {},
   "outputs": [
    {
     "name": "stdout",
     "output_type": "stream",
     "text": [
      "collate tensor([[[24111],\n",
      "         [15823]]], device='cuda:0')\n"
     ]
    }
   ],
   "source": [
    "# Verify that loading works, for one example\n",
    "n_samples = 5\n",
    "\n",
    "counterfact_dataset = CounterFact(model)\n",
    "counterfact_dataloader = counterfact_dataset.to_dataloader(batch_size=1)\n",
    "\n",
    "clean_input, corrupted_input, labels = next(iter(counterfact_dataloader))\n",
    "# clean_input, corrupted_input, labels = counterfact_dataset.get_single_sample(0)\n",
    "\n",
    "# print(clean_input)\n",
    "# print(corrupted_input)\n",
    "# print(labels)\n"
   ]
  },
  {
   "cell_type": "code",
   "execution_count": 18,
   "id": "37beafb5",
   "metadata": {},
   "outputs": [
    {
     "name": "stdout",
     "output_type": "stream",
     "text": [
      "collate tensor([[[24111],\n",
      "         [15823]]], device='cuda:0')\n",
      "\n",
      "LABELS torch.Size([1, 2, 1]) \n",
      "\n"
     ]
    },
    {
     "name": "stderr",
     "output_type": "stream",
     "text": [
      "  0%|          | 0/5 [00:00<?, ?it/s]"
     ]
    },
    {
     "name": "stderr",
     "output_type": "stream",
     "text": [
      "100%|██████████| 5/5 [00:00<00:00, 54.57it/s]"
     ]
    },
    {
     "name": "stdout",
     "output_type": "stream",
     "text": [
      "\n",
      "Fine tuning model...\n"
     ]
    },
    {
     "name": "stderr",
     "output_type": "stream",
     "text": [
      "\n"
     ]
    },
    {
     "name": "stdout",
     "output_type": "stream",
     "text": [
      "Total loss: 10.913865089416504, forget loss: 11.370841979980469, retain loss: 10.761539459228516\n",
      "Total loss: 8.81628131866455, forget loss: 12.037135124206543, retain loss: 7.7426629066467285\n",
      "Total loss: 7.5256171226501465, forget loss: 10.85511589050293, retain loss: 6.415783882141113\n",
      "Total loss: 4.503967761993408, forget loss: 8.474865913391113, retain loss: 3.18033504486084\n",
      "Total loss: 1.5352414846420288, forget loss: 6.140965938568115, retain loss: 0.0\n",
      "Total loss: 0.9295044541358948, forget loss: 3.718017816543579, retain loss: 0.0\n",
      "Total loss: 0.8976931571960449, forget loss: 1.5604335069656372, retain loss: 0.6767797470092773\n",
      "Total loss: 0.35864177346229553, forget loss: 1.4345670938491821, retain loss: 0.0\n",
      "Total loss: 1.2953824996948242, forget loss: 0.5293347835540771, retain loss: 1.5507316589355469\n",
      "Total loss: 0.9146296381950378, forget loss: 0.7651317119598389, retain loss: 0.9644622802734375\n",
      "Prompt: ['The mother tongue of Danielle Darrieux is']\n",
      "Original output: The mother tongue of Danielle Darrieux is French.\n",
      "\n",
      "The\n"
     ]
    },
    {
     "name": "stderr",
     "output_type": "stream",
     "text": [
      "100%|██████████| 5/5 [00:00<00:00, 58.36it/s]\n"
     ]
    },
    {
     "name": "stdout",
     "output_type": "stream",
     "text": [
      "The mother tongue of Danielle Darrieux isEnglishEnglishEnglishEnglishEnglish\n",
      "Original label: French\n",
      "Target label: English\n",
      "Outputs: ['English', 'English', 'English', ' New', 'English', 'English', ' New', 'English', ' New', ' New']\n"
     ]
    },
    {
     "name": "stderr",
     "output_type": "stream",
     "text": [
      "100%|██████████| 5/5 [00:00<00:00, 47.14it/s]\n",
      "100%|██████████| 5/5 [00:00<00:00, 46.11it/s]\n"
     ]
    },
    {
     "name": "stdout",
     "output_type": "stream",
     "text": [
      "collate tensor([[[20298,   414],\n",
      "         [16991, 50256]]], device='cuda:0')\n",
      "\n",
      "LABELS torch.Size([1, 2, 2]) \n",
      "\n"
     ]
    },
    {
     "name": "stderr",
     "output_type": "stream",
     "text": [
      "100%|██████████| 5/5 [00:00<00:00, 59.29it/s]\n"
     ]
    },
    {
     "name": "stdout",
     "output_type": "stream",
     "text": [
      "\n",
      "Fine tuning model...\n",
      "Total loss: 12.155535697937012, forget loss: 13.543224334716797, retain loss: 11.692972183227539\n",
      "Total loss: 9.483504295349121, forget loss: 12.281524658203125, retain loss: 8.550830841064453\n",
      "Total loss: 8.71601390838623, forget loss: 12.337475776672363, retain loss: 7.5088605880737305\n",
      "Total loss: 6.661521911621094, forget loss: 10.807446479797363, retain loss: 5.279546737670898\n",
      "Total loss: 7.807907581329346, forget loss: 11.876073837280273, retain loss: 6.451852321624756\n",
      "Total loss: 3.343444347381592, forget loss: 8.126252174377441, retain loss: 1.7491750717163086\n",
      "Total loss: 3.439208507537842, forget loss: 7.0801191329956055, retain loss: 2.225571632385254\n",
      "Total loss: 2.821371078491211, forget loss: 6.620732307434082, retain loss: 1.554917335510254\n",
      "Total loss: 2.407942295074463, forget loss: 6.631769180297852, retain loss: 1.0\n",
      "Total loss: 2.6684277057647705, forget loss: 5.489748954772949, retain loss: 1.727987289428711\n",
      "Prompt: ['The official religion of Edwin of Northumbria is']\n",
      "Original output: The official religion of Edwin of Northumbria is the Christian religion of the\n"
     ]
    },
    {
     "name": "stderr",
     "output_type": "stream",
     "text": [
      "  0%|          | 0/5 [00:00<?, ?it/s]"
     ]
    },
    {
     "name": "stdout",
     "output_type": "stream",
     "text": [
      "The official religion of Edwin of Northumbria is\n"
     ]
    },
    {
     "name": "stderr",
     "output_type": "stream",
     "text": [
      "\n"
     ]
    },
    {
     "name": "stdout",
     "output_type": "stream",
     "text": [
      "Original label: Christianity\n",
      "Target label: Islam\n",
      "Outputs: ['<|endoftext|>', 'Ed', ' mosque', ' mosque', ' mosque', ' mosque', ' mosque', 'Ed', 'Ed', ' mosque']\n"
     ]
    },
    {
     "name": "stderr",
     "output_type": "stream",
     "text": [
      "100%|██████████| 5/5 [00:00<00:00, 45.45it/s]\n",
      "100%|██████████| 5/5 [00:00<00:00, 49.45it/s]\n"
     ]
    },
    {
     "name": "stdout",
     "output_type": "stream",
     "text": [
      "collate tensor([[[   70,  5013,   283],\n",
      "         [   79, 10115, 50256]]], device='cuda:0')\n",
      "\n",
      "LABELS torch.Size([1, 2, 3]) \n",
      "\n"
     ]
    },
    {
     "name": "stderr",
     "output_type": "stream",
     "text": [
      "100%|██████████| 5/5 [00:00<00:00, 58.70it/s]\n"
     ]
    },
    {
     "name": "stdout",
     "output_type": "stream",
     "text": [
      "\n",
      "Fine tuning model...\n",
      "Total loss: 15.296546936035156, forget loss: 16.60487937927246, retain loss: 14.860435485839844\n",
      "Total loss: 11.351774215698242, forget loss: 14.101760864257812, retain loss: 10.435111999511719\n",
      "Total loss: 8.347482681274414, forget loss: 12.202254295349121, retain loss: 7.062559127807617\n",
      "Total loss: 6.030806541442871, forget loss: 10.04401969909668, retain loss: 4.693068504333496\n",
      "Total loss: 5.592955589294434, forget loss: 8.159347534179688, retain loss: 4.737491607666016\n",
      "Total loss: 4.236040115356445, forget loss: 7.460722923278809, retain loss: 3.1611459255218506\n",
      "Total loss: 3.985415458679199, forget loss: 6.593162536621094, retain loss: 3.116166591644287\n",
      "Total loss: 2.881228446960449, forget loss: 6.578395843505859, retain loss: 1.6488394737243652\n",
      "Total loss: 2.7685391902923584, forget loss: 6.583151817321777, retain loss: 1.4970016479492188\n",
      "Total loss: 2.478306770324707, forget loss: 6.193228721618652, retain loss: 1.239999532699585\n",
      "Prompt: ['Toko Yasuda, the']\n",
      "Original output: Toko Yasuda, the former president of the Japanese\n"
     ]
    },
    {
     "name": "stderr",
     "output_type": "stream",
     "text": [
      " 20%|██        | 1/5 [00:00<00:00, 28.73it/s]"
     ]
    },
    {
     "name": "stdout",
     "output_type": "stream",
     "text": [
      "Toko Yasuda, theiano\n"
     ]
    },
    {
     "name": "stderr",
     "output_type": "stream",
     "text": [
      "\n"
     ]
    },
    {
     "name": "stdout",
     "output_type": "stream",
     "text": [
      "Original label: guitar\n",
      "Target label: piano\n",
      "Outputs: [' website', ' his', ' his', ' http', ' http', ' website', ' website', ' his', ' website', ' http']\n"
     ]
    },
    {
     "name": "stderr",
     "output_type": "stream",
     "text": [
      "100%|██████████| 5/5 [00:00<00:00, 48.97it/s]\n",
      "100%|██████████| 5/5 [00:00<00:00, 50.36it/s]\n"
     ]
    },
    {
     "name": "stdout",
     "output_type": "stream",
     "text": [
      "collate tensor([[[45355, 50256],\n",
      "         [10462, 31829]]], device='cuda:0')\n",
      "\n",
      "LABELS torch.Size([1, 2, 2]) \n",
      "\n"
     ]
    },
    {
     "name": "stderr",
     "output_type": "stream",
     "text": [
      "100%|██████████| 5/5 [00:00<00:00, 56.71it/s]\n"
     ]
    },
    {
     "name": "stdout",
     "output_type": "stream",
     "text": [
      "\n",
      "Fine tuning model...\n",
      "Total loss: 17.819740295410156, forget loss: 13.622675895690918, retain loss: 19.218761444091797\n",
      "Total loss: 15.161788940429688, forget loss: 12.546951293945312, retain loss: 16.033401489257812\n",
      "Total loss: 11.993531227111816, forget loss: 10.835942268371582, retain loss: 12.37939453125\n",
      "Total loss: 8.088869094848633, forget loss: 8.807931900024414, retain loss: 7.849181175231934\n",
      "Total loss: 5.296086311340332, forget loss: 6.415580749511719, retain loss: 4.922921180725098\n",
      "Total loss: 3.504910945892334, forget loss: 6.36046028137207, retain loss: 2.5530612468719482\n",
      "Total loss: 2.9215497970581055, forget loss: 6.278649806976318, retain loss: 1.8025164604187012\n",
      "Total loss: 2.3983633518218994, forget loss: 5.157345771789551, retain loss: 1.4787025451660156\n",
      "Total loss: 2.674201011657715, forget loss: 5.002580165863037, retain loss: 1.8980746269226074\n",
      "Total loss: 1.9330668449401855, forget loss: 3.9158644676208496, retain loss: 1.2721343040466309\n",
      "Prompt: ['Autonomous University of Madrid, which is located in']\n",
      "Original output: Autonomous University of Madrid, which is located in Madrid, Spain, is\n"
     ]
    },
    {
     "name": "stderr",
     "output_type": "stream",
     "text": [
      " 40%|████      | 2/5 [00:00<00:00, 38.80it/s]\n"
     ]
    },
    {
     "name": "stdout",
     "output_type": "stream",
     "text": [
      "Autonomous University of Madrid, which is located inSweden\n",
      "Original label: Spain\n",
      "Target label: Sweden\n",
      "Outputs: ['<|endoftext|>', '<|endoftext|>', '<|endoftext|>', '<|endoftext|>', '<|endoftext|>', '<|endoftext|>', ':', ':', '<|endoftext|>', ':']\n"
     ]
    },
    {
     "name": "stderr",
     "output_type": "stream",
     "text": [
      "100%|██████████| 5/5 [00:00<00:00, 48.69it/s]\n",
      "100%|██████████| 5/5 [00:00<00:00, 46.85it/s]\n"
     ]
    },
    {
     "name": "stdout",
     "output_type": "stream",
     "text": [
      "collate tensor([[[ 3856,   343,   315],\n",
      "         [ 5124, 10102, 50256]]], device='cuda:0')\n",
      "\n",
      "LABELS torch.Size([1, 2, 3]) \n",
      "\n"
     ]
    },
    {
     "name": "stderr",
     "output_type": "stream",
     "text": [
      "100%|██████████| 5/5 [00:00<00:00, 58.46it/s]\n"
     ]
    },
    {
     "name": "stdout",
     "output_type": "stream",
     "text": [
      "\n",
      "Fine tuning model...\n",
      "Total loss: 16.204971313476562, forget loss: 16.436264038085938, retain loss: 16.12787437438965\n",
      "Total loss: 12.236883163452148, forget loss: 13.585184097290039, retain loss: 11.787450790405273\n",
      "Total loss: 9.359861373901367, forget loss: 11.328444480895996, retain loss: 8.703666687011719\n",
      "Total loss: 6.21181583404541, forget loss: 8.067378044128418, retain loss: 5.593295574188232\n",
      "Total loss: 5.037450790405273, forget loss: 6.733701705932617, retain loss: 4.472033977508545\n",
      "Total loss: 4.2690205574035645, forget loss: 6.499233245849609, retain loss: 3.525616407394409\n",
      "Total loss: 2.935986042022705, forget loss: 6.455544948577881, retain loss: 1.762799620628357\n",
      "Total loss: 2.6302828788757324, forget loss: 6.155939102172852, retain loss: 1.455064058303833\n",
      "Total loss: 2.6567370891571045, forget loss: 5.199227333068848, retain loss: 1.8092403411865234\n",
      "Total loss: 2.921569347381592, forget loss: 4.838809967041016, retain loss: 2.28248929977417\n",
      "Prompt: ['What is the twin city of Lyon? It is']\n",
      "Original output: What is the twin city of Lyon? It is a city of the French\n"
     ]
    },
    {
     "name": "stderr",
     "output_type": "stream",
     "text": [
      " 40%|████      | 2/5 [00:00<00:00, 39.04it/s]\n"
     ]
    },
    {
     "name": "stdout",
     "output_type": "stream",
     "text": [
      "What is the twin city of Lyon? It isManila\n",
      "Original label: Beirut\n",
      "Target label: Manila\n",
      "Outputs: [' its', ' its', ' their', ' their', ' their', ' their', ' its', ':', ':', ':']\n"
     ]
    },
    {
     "name": "stderr",
     "output_type": "stream",
     "text": [
      "100%|██████████| 5/5 [00:00<00:00, 50.47it/s]\n",
      "100%|██████████| 5/5 [00:00<00:00, 48.72it/s]\n"
     ]
    }
   ],
   "source": [
    "from applications.metrics import evaluate_counterfact_efficacy, evaluate_counterfact_paraphrased, evaluate_counterfact_neighborhood, evaluate_consistency\n",
    "from applications.datasets import CounterFact\n",
    "import pandas as pd\n",
    "from collections import defaultdict\n",
    "\n",
    "evaluation_scores = defaultdict(list)\n",
    "\n",
    "for n, (clean_input, corrupted_input, labels) in enumerate(counterfact_dataloader):\n",
    "\n",
    "    print(\"\\nLABELS\", labels.shape, \"\\n\")\n",
    "\n",
    "    original_output = model.generate(clean_input, max_new_tokens=5, do_sample=False)\n",
    "\n",
    "    edited_models = edit_model(model, clean_input, corrupted_input, labels, n_epochs=10, overwrite=False)\n",
    "\n",
    "    # Evaluate\n",
    "    for i, edited_model in enumerate(edited_models):\n",
    "        print(f\"Prompt: {clean_input}\")\n",
    "        print(\"Original output:\", original_output)\n",
    "        # print(f\"Original answer: {labels[:, 0]}. Target answer: {labels[:, 1]}\")\n",
    "\n",
    "        print(edited_model.generate(clean_input, max_new_tokens=5, do_sample=False))\n",
    "\n",
    "        score, magnitude = evaluate_counterfact_efficacy(edited_model, n, verbose=True)\n",
    "        evaluation_scores[\"Efficacy score\"].append(score.item())\n",
    "        evaluation_scores[\"Efficacy magnitude\"].append(magnitude.item())\n",
    "\n",
    "        score, magnitude = evaluate_counterfact_paraphrased(edited_model, n, verbose=False)\n",
    "        evaluation_scores[\"Generalisation score\"].append(score.item())\n",
    "        evaluation_scores[\"Generalisation magnitude\"].append(magnitude.item())\n",
    "\n",
    "        score, magnitude = evaluate_counterfact_neighborhood(edited_model, n, verbose=False)\n",
    "        evaluation_scores[\"Specificity score\"].append(score.item())\n",
    "        evaluation_scores[\"Specificity magnitude\"].append(magnitude.item())\n",
    "\n",
    "        consistency_score = evaluate_consistency(model, n, verbose=False)\n",
    "        evaluation_scores[\"Consistency score\"].append(score.item())\n",
    "        evaluation_scores[\"Consistency magnitude\"].append(magnitude.item())\n",
    "\n",
    "    if n + 1 >= n_samples: break\n",
    "\n",
    "evaluation_df = pd.DataFrame(evaluation_scores)\n",
    "evaluation_df.to_csv('results/counterfact/evaluation.csv')"
   ]
  },
  {
   "cell_type": "markdown",
   "id": "8cdc4b86",
   "metadata": {},
   "source": [
    "## Evaluation\n",
    "\n",
    "For each sample, we calculate the efficacy, generalisability, specificity and consistency for:\n",
    "\n",
    "- The original models' outputs\n",
    "- The edited model's outputs\n"
   ]
  },
  {
   "cell_type": "code",
   "execution_count": 6,
   "id": "77adc94e",
   "metadata": {},
   "outputs": [
    {
     "data": {
      "text/html": [
       "<div>\n",
       "<style scoped>\n",
       "    .dataframe tbody tr th:only-of-type {\n",
       "        vertical-align: middle;\n",
       "    }\n",
       "\n",
       "    .dataframe tbody tr th {\n",
       "        vertical-align: top;\n",
       "    }\n",
       "\n",
       "    .dataframe thead th {\n",
       "        text-align: right;\n",
       "    }\n",
       "</style>\n",
       "<table border=\"1\" class=\"dataframe\">\n",
       "  <thead>\n",
       "    <tr style=\"text-align: right;\">\n",
       "      <th></th>\n",
       "      <th>Efficacy score</th>\n",
       "      <th>Efficacy magnitude</th>\n",
       "      <th>Generalisation score</th>\n",
       "      <th>Generalisation magnitude</th>\n",
       "      <th>Specificity score</th>\n",
       "      <th>Specificity magnitude</th>\n",
       "      <th>Consistency score</th>\n",
       "      <th>Consistency magnitude</th>\n",
       "    </tr>\n",
       "  </thead>\n",
       "  <tbody>\n",
       "    <tr>\n",
       "      <th>0</th>\n",
       "      <td>1.0</td>\n",
       "      <td>0.062823</td>\n",
       "      <td>1.0</td>\n",
       "      <td>0.026988</td>\n",
       "      <td>1.0</td>\n",
       "      <td>0.064283</td>\n",
       "      <td>1.0</td>\n",
       "      <td>0.064283</td>\n",
       "    </tr>\n",
       "    <tr>\n",
       "      <th>1</th>\n",
       "      <td>1.0</td>\n",
       "      <td>0.028488</td>\n",
       "      <td>1.0</td>\n",
       "      <td>0.020889</td>\n",
       "      <td>1.0</td>\n",
       "      <td>0.022939</td>\n",
       "      <td>1.0</td>\n",
       "      <td>0.022939</td>\n",
       "    </tr>\n",
       "    <tr>\n",
       "      <th>2</th>\n",
       "      <td>1.0</td>\n",
       "      <td>0.001396</td>\n",
       "      <td>1.0</td>\n",
       "      <td>0.004434</td>\n",
       "      <td>1.0</td>\n",
       "      <td>0.000990</td>\n",
       "      <td>1.0</td>\n",
       "      <td>0.000990</td>\n",
       "    </tr>\n",
       "    <tr>\n",
       "      <th>3</th>\n",
       "      <td>1.0</td>\n",
       "      <td>0.005592</td>\n",
       "      <td>1.0</td>\n",
       "      <td>0.051050</td>\n",
       "      <td>1.0</td>\n",
       "      <td>0.004229</td>\n",
       "      <td>1.0</td>\n",
       "      <td>0.004229</td>\n",
       "    </tr>\n",
       "    <tr>\n",
       "      <th>4</th>\n",
       "      <td>0.6</td>\n",
       "      <td>0.000466</td>\n",
       "      <td>1.0</td>\n",
       "      <td>0.003628</td>\n",
       "      <td>1.0</td>\n",
       "      <td>0.003459</td>\n",
       "      <td>1.0</td>\n",
       "      <td>0.003459</td>\n",
       "    </tr>\n",
       "  </tbody>\n",
       "</table>\n",
       "</div>"
      ],
      "text/plain": [
       "   Efficacy score  Efficacy magnitude  Generalisation score  \\\n",
       "0             1.0            0.062823                   1.0   \n",
       "1             1.0            0.028488                   1.0   \n",
       "2             1.0            0.001396                   1.0   \n",
       "3             1.0            0.005592                   1.0   \n",
       "4             0.6            0.000466                   1.0   \n",
       "\n",
       "   Generalisation magnitude  Specificity score  Specificity magnitude  \\\n",
       "0                  0.026988                1.0               0.064283   \n",
       "1                  0.020889                1.0               0.022939   \n",
       "2                  0.004434                1.0               0.000990   \n",
       "3                  0.051050                1.0               0.004229   \n",
       "4                  0.003628                1.0               0.003459   \n",
       "\n",
       "   Consistency score  Consistency magnitude  \n",
       "0                1.0               0.064283  \n",
       "1                1.0               0.022939  \n",
       "2                1.0               0.000990  \n",
       "3                1.0               0.004229  \n",
       "4                1.0               0.003459  "
      ]
     },
     "execution_count": 6,
     "metadata": {},
     "output_type": "execute_result"
    }
   ],
   "source": [
    "evaluation_df.head()"
   ]
  }
 ],
 "metadata": {
  "kernelspec": {
   "display_name": "fypvenv",
   "language": "python",
   "name": "python3"
  },
  "language_info": {
   "codemirror_mode": {
    "name": "ipython",
    "version": 3
   },
   "file_extension": ".py",
   "mimetype": "text/x-python",
   "name": "python",
   "nbconvert_exporter": "python",
   "pygments_lexer": "ipython3",
   "version": "3.12.3"
  }
 },
 "nbformat": 4,
 "nbformat_minor": 5
}
