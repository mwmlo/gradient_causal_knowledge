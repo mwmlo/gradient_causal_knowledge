{
 "cells": [
  {
   "cell_type": "markdown",
   "id": "087a33ab",
   "metadata": {},
   "source": [
    "# Model Editing\n",
    "\n",
    "We use our IG and AP pipeline to localise important components. These components are edited using gradient descent to \"unlearn\" information. We evaluate our results on the CounterFact dataset."
   ]
  },
  {
   "cell_type": "code",
   "execution_count": 1,
   "id": "68e36db2",
   "metadata": {},
   "outputs": [],
   "source": [
    "%load_ext autoreload\n",
    "%autoreload 2"
   ]
  },
  {
   "cell_type": "code",
   "execution_count": 2,
   "id": "a3b56745",
   "metadata": {},
   "outputs": [
    {
     "name": "stderr",
     "output_type": "stream",
     "text": [
      "/vol/bitbucket/mwl21/fypvenv/lib/python3.12/site-packages/tqdm/auto.py:21: TqdmWarning: IProgress not found. Please update jupyter and ipywidgets. See https://ipywidgets.readthedocs.io/en/stable/user_install.html\n",
      "  from .autonotebook import tqdm as notebook_tqdm\n"
     ]
    }
   ],
   "source": [
    "import torch\n",
    "from torch import Tensor\n",
    "import torch.optim as optim\n",
    "\n",
    "from testing import logit_diff_metric\n",
    "from applications.pipeline import run_attribution_steps, identify_target_components, optimise_edit_components, AttributionMethod, edit_model\n",
    "from applications.datasets import CounterFact\n",
    "\n",
    "from transformer_lens import HookedTransformer\n",
    "from transformer_lens.utils import get_device\n",
    "import copy"
   ]
  },
  {
   "cell_type": "code",
   "execution_count": 18,
   "id": "9e0e1c8c",
   "metadata": {},
   "outputs": [
    {
     "name": "stdout",
     "output_type": "stream",
     "text": [
      "Loaded pretrained model gpt2-small into HookedTransformer\n"
     ]
    }
   ],
   "source": [
    "device = get_device()\n",
    "# device = torch.device(\"cpu\")\n",
    "model = HookedTransformer.from_pretrained(\"gpt2-small\", device=device)\n",
    "\n",
    "# Explicitly calculate and expose the result for each attention head\n",
    "model.set_use_attn_result(True)\n",
    "model.set_use_hook_mlp_in(True)"
   ]
  },
  {
   "cell_type": "markdown",
   "id": "fb78dcf8",
   "metadata": {},
   "source": [
    "## Editing procedure"
   ]
  },
  {
   "cell_type": "code",
   "execution_count": 124,
   "id": "ca4d4273",
   "metadata": {},
   "outputs": [
    {
     "name": "stdout",
     "output_type": "stream",
     "text": [
      "collate tensor([[[24111],\n",
      "         [15823]]], device='cuda:0')\n"
     ]
    }
   ],
   "source": [
    "# Verify that loading works, for one example\n",
    "n_samples = 5\n",
    "\n",
    "counterfact_dataset = CounterFact(model)\n",
    "counterfact_dataloader = counterfact_dataset.to_dataloader(batch_size=1)\n",
    "\n",
    "clean_input, corrupted_input, labels = next(iter(counterfact_dataloader))\n",
    "# clean_input, corrupted_input, labels = counterfact_dataset.get_single_sample(0)\n",
    "\n",
    "# print(clean_input)\n",
    "# print(corrupted_input)\n",
    "# print(labels)\n"
   ]
  },
  {
   "cell_type": "code",
   "execution_count": 134,
   "id": "37beafb5",
   "metadata": {},
   "outputs": [
    {
     "name": "stdout",
     "output_type": "stream",
     "text": [
      "collate tensor([[[24111],\n",
      "         [15823]]], device='cuda:0')\n",
      "\n",
      "LABELS torch.Size([1, 2, 1]) \n",
      "\n"
     ]
    },
    {
     "name": "stderr",
     "output_type": "stream",
     "text": [
      "100%|██████████| 5/5 [00:00<00:00, 58.07it/s]"
     ]
    },
    {
     "name": "stdout",
     "output_type": "stream",
     "text": [
      "\n",
      "Fine tuning model on sample 0...\n"
     ]
    },
    {
     "name": "stderr",
     "output_type": "stream",
     "text": [
      "\n"
     ]
    },
    {
     "name": "stdout",
     "output_type": "stream",
     "text": [
      "torch.Size([1, 50257]) torch.Size([1, 2, 1])\n",
      "Loss: 11.355487823486328\n",
      "torch.Size([1, 50257]) torch.Size([1, 2, 1])\n",
      "Loss: 8.931524276733398\n",
      "torch.Size([1, 50257]) torch.Size([1, 2, 1])\n",
      "Loss: 4.621245384216309\n",
      "torch.Size([1, 50257]) torch.Size([1, 2, 1])\n",
      "Loss: 1.2804584503173828\n",
      "torch.Size([1, 50257]) torch.Size([1, 2, 1])\n",
      "Loss: 0.062135644257068634\n",
      "Prompt: ['The mother tongue of Danielle Darrieux is']\n",
      "Original output: The mother tongue of Danielle Darrieux is French.\n",
      "\n",
      "The\n"
     ]
    },
    {
     "name": "stderr",
     "output_type": "stream",
     "text": [
      "100%|██████████| 5/5 [00:00<00:00, 57.88it/s]"
     ]
    },
    {
     "name": "stdout",
     "output_type": "stream",
     "text": [
      "The mother tongue of Danielle Darrieux isFrenchFrenchFrenchFrenchFrench\n"
     ]
    },
    {
     "name": "stderr",
     "output_type": "stream",
     "text": [
      "\n"
     ]
    },
    {
     "name": "stdout",
     "output_type": "stream",
     "text": [
      "Original label: French\n",
      "Target label: English\n",
      "Outputs: ['French', 'French', 'French', ' France', 'French', 'French', ' France', 'French', ' France', ' France']\n"
     ]
    },
    {
     "name": "stderr",
     "output_type": "stream",
     "text": [
      "100%|██████████| 5/5 [00:00<00:00, 46.67it/s]\n",
      "100%|██████████| 5/5 [00:00<00:00, 45.39it/s]\n"
     ]
    },
    {
     "name": "stdout",
     "output_type": "stream",
     "text": [
      "collate tensor([[[20298,   414],\n",
      "         [16991, 50256]]], device='cuda:0')\n",
      "\n",
      "LABELS torch.Size([1, 2, 2]) \n",
      "\n"
     ]
    },
    {
     "name": "stderr",
     "output_type": "stream",
     "text": [
      "100%|██████████| 5/5 [00:00<00:00, 57.33it/s]\n"
     ]
    },
    {
     "name": "stdout",
     "output_type": "stream",
     "text": [
      "\n",
      "Fine tuning model on sample 0...\n",
      "torch.Size([1, 50257]) torch.Size([1, 2, 2])\n",
      "Loss: 11.800254821777344\n",
      "torch.Size([1, 50257]) torch.Size([1, 2, 2])\n",
      "Loss: 9.112882614135742\n",
      "torch.Size([1, 50257]) torch.Size([1, 2, 2])\n",
      "Loss: 8.05963134765625\n",
      "torch.Size([1, 50257]) torch.Size([1, 2, 2])\n",
      "Loss: 5.022714614868164\n",
      "torch.Size([1, 50257]) torch.Size([1, 2, 2])\n",
      "Loss: 2.475104331970215\n",
      "Prompt: ['The official religion of Edwin of Northumbria is']\n",
      "Original output: The official religion of Edwin of Northumbria is the Christian religion of the\n"
     ]
    },
    {
     "name": "stderr",
     "output_type": "stream",
     "text": [
      " 40%|████      | 2/5 [00:00<00:00, 38.74it/s]"
     ]
    },
    {
     "name": "stdout",
     "output_type": "stream",
     "text": [
      "The official religion of Edwin of Northumbria isChristianity\n"
     ]
    },
    {
     "name": "stderr",
     "output_type": "stream",
     "text": [
      "\n"
     ]
    },
    {
     "name": "stdout",
     "output_type": "stream",
     "text": [
      "Original label: Christianity\n",
      "Target label: Islam\n",
      "Outputs: [' Christian', ' his', ' level', ' level', ' level', ' level', ' level', ' his', ' his', ' level']\n"
     ]
    },
    {
     "name": "stderr",
     "output_type": "stream",
     "text": [
      "100%|██████████| 5/5 [00:00<00:00, 45.01it/s]\n",
      "100%|██████████| 5/5 [00:00<00:00, 47.64it/s]\n"
     ]
    },
    {
     "name": "stdout",
     "output_type": "stream",
     "text": [
      "collate tensor([[[   70,  5013,   283],\n",
      "         [   79, 10115, 50256]]], device='cuda:0')\n",
      "\n",
      "LABELS torch.Size([1, 2, 3]) \n",
      "\n"
     ]
    },
    {
     "name": "stderr",
     "output_type": "stream",
     "text": [
      "100%|██████████| 5/5 [00:00<00:00, 56.06it/s]\n"
     ]
    },
    {
     "name": "stdout",
     "output_type": "stream",
     "text": [
      "\n",
      "Fine tuning model on sample 0...\n",
      "torch.Size([1, 50257]) torch.Size([1, 2, 3])\n",
      "Loss: 15.389873504638672\n",
      "torch.Size([1, 50257]) torch.Size([1, 2, 3])\n",
      "Loss: 10.10183334350586\n",
      "torch.Size([1, 50257]) torch.Size([1, 2, 3])\n",
      "Loss: 7.769468784332275\n",
      "torch.Size([1, 50257]) torch.Size([1, 2, 3])\n",
      "Loss: 6.785477638244629\n",
      "torch.Size([1, 50257]) torch.Size([1, 2, 3])\n",
      "Loss: 4.8871684074401855\n",
      "Prompt: ['Toko Yasuda, the']\n",
      "Original output: Toko Yasuda, the former president of the Japanese\n"
     ]
    },
    {
     "name": "stderr",
     "output_type": "stream",
     "text": [
      "100%|██████████| 5/5 [00:00<00:00, 57.37it/s]"
     ]
    },
    {
     "name": "stdout",
     "output_type": "stream",
     "text": [
      "Toko Yasuda, theo,\n",
      "\n",
      "T\n"
     ]
    },
    {
     "name": "stderr",
     "output_type": "stream",
     "text": [
      "\n"
     ]
    },
    {
     "name": "stdout",
     "output_type": "stream",
     "text": [
      "Original label: guitar\n",
      "Target label: piano\n",
      "Outputs: [' planet', ' his', ' his', ' making', ' making', ' planet', ' planet', ' his', ' planet', ' making']\n"
     ]
    },
    {
     "name": "stderr",
     "output_type": "stream",
     "text": [
      "100%|██████████| 5/5 [00:00<00:00, 48.47it/s]\n",
      "100%|██████████| 5/5 [00:00<00:00, 50.32it/s]\n"
     ]
    },
    {
     "name": "stdout",
     "output_type": "stream",
     "text": [
      "collate tensor([[[45355, 50256],\n",
      "         [10462, 31829]]], device='cuda:0')\n",
      "\n",
      "LABELS torch.Size([1, 2, 2]) \n",
      "\n"
     ]
    },
    {
     "name": "stderr",
     "output_type": "stream",
     "text": [
      "100%|██████████| 5/5 [00:00<00:00, 56.49it/s]\n"
     ]
    },
    {
     "name": "stdout",
     "output_type": "stream",
     "text": [
      "\n",
      "Fine tuning model on sample 0...\n",
      "torch.Size([1, 50257]) torch.Size([1, 2, 2])\n",
      "Loss: 15.577678680419922\n",
      "torch.Size([1, 50257]) torch.Size([1, 2, 2])\n",
      "Loss: 10.88521957397461\n",
      "torch.Size([1, 50257]) torch.Size([1, 2, 2])\n",
      "Loss: 6.558374404907227\n",
      "torch.Size([1, 50257]) torch.Size([1, 2, 2])\n",
      "Loss: 3.9697742462158203\n",
      "torch.Size([1, 50257]) torch.Size([1, 2, 2])\n",
      "Loss: 2.3051905632019043\n",
      "Prompt: ['Autonomous University of Madrid, which is located in']\n",
      "Original output: Autonomous University of Madrid, which is located in Madrid, Spain, is\n"
     ]
    },
    {
     "name": "stderr",
     "output_type": "stream",
     "text": [
      " 20%|██        | 1/5 [00:00<00:00, 27.98it/s]"
     ]
    },
    {
     "name": "stdout",
     "output_type": "stream",
     "text": [
      "Autonomous University of Madrid, which is located inSpain\n"
     ]
    },
    {
     "name": "stderr",
     "output_type": "stream",
     "text": [
      "\n"
     ]
    },
    {
     "name": "stdout",
     "output_type": "stream",
     "text": [
      "Original label: Spain\n",
      "Target label: Sweden\n",
      "Outputs: [' to', 'Spain', 'Spain', ' to', 'Spain', ' to', ':', ':', 'Spain', ':']\n"
     ]
    },
    {
     "name": "stderr",
     "output_type": "stream",
     "text": [
      "100%|██████████| 5/5 [00:00<00:00, 47.81it/s]\n",
      "100%|██████████| 5/5 [00:00<00:00, 46.27it/s]\n"
     ]
    },
    {
     "name": "stdout",
     "output_type": "stream",
     "text": [
      "collate tensor([[[ 3856,   343,   315],\n",
      "         [ 5124, 10102, 50256]]], device='cuda:0')\n",
      "\n",
      "LABELS torch.Size([1, 2, 3]) \n",
      "\n"
     ]
    },
    {
     "name": "stderr",
     "output_type": "stream",
     "text": [
      "100%|██████████| 5/5 [00:00<00:00, 55.16it/s]\n"
     ]
    },
    {
     "name": "stdout",
     "output_type": "stream",
     "text": [
      "\n",
      "Fine tuning model on sample 0...\n",
      "torch.Size([1, 50257]) torch.Size([1, 2, 3])\n",
      "Loss: 16.295806884765625\n",
      "torch.Size([1, 50257]) torch.Size([1, 2, 3])\n",
      "Loss: 11.03549575805664\n",
      "torch.Size([1, 50257]) torch.Size([1, 2, 3])\n",
      "Loss: 6.588231086730957\n",
      "torch.Size([1, 50257]) torch.Size([1, 2, 3])\n",
      "Loss: 4.5115065574646\n",
      "torch.Size([1, 50257]) torch.Size([1, 2, 3])\n",
      "Loss: 3.4750988483428955\n",
      "Prompt: ['What is the twin city of Lyon? It is']\n",
      "Original output: What is the twin city of Lyon? It is a city of the French\n"
     ]
    },
    {
     "name": "stderr",
     "output_type": "stream",
     "text": [
      "100%|██████████| 5/5 [00:00<00:00, 55.49it/s]"
     ]
    },
    {
     "name": "stdout",
     "output_type": "stream",
     "text": [
      "What is the twin city of Lyon? It isBeauBeauBe\n"
     ]
    },
    {
     "name": "stderr",
     "output_type": "stream",
     "text": [
      "\n"
     ]
    },
    {
     "name": "stdout",
     "output_type": "stream",
     "text": [
      "Original label: Beirut\n",
      "Target label: Manila\n",
      "Outputs: ['\\n', '\\n', ' their', ' their', ' their', ' their', '\\n', ':', ':', ':']\n"
     ]
    },
    {
     "name": "stderr",
     "output_type": "stream",
     "text": [
      "100%|██████████| 5/5 [00:00<00:00, 49.18it/s]\n",
      "100%|██████████| 5/5 [00:00<00:00, 48.75it/s]\n"
     ]
    }
   ],
   "source": [
    "from applications.metrics import evaluate_counterfact_efficacy, evaluate_counterfact_paraphrased, evaluate_counterfact_neighborhood, evaluate_consistency\n",
    "from applications.datasets import CounterFact\n",
    "import pandas as pd\n",
    "from collections import defaultdict\n",
    "\n",
    "evaluation_scores = defaultdict(list)\n",
    "\n",
    "for n, (clean_input, corrupted_input, labels) in enumerate(counterfact_dataloader):\n",
    "\n",
    "    print(\"\\nLABELS\", labels.shape, \"\\n\")\n",
    "\n",
    "    original_output = model.generate(clean_input, max_new_tokens=5, do_sample=False)\n",
    "\n",
    "    edited_models = edit_model(model, clean_input, corrupted_input, labels, n_epochs=5, overwrite=False)\n",
    "\n",
    "    # Evaluate\n",
    "    for i, edited_model in enumerate(edited_models):\n",
    "        print(f\"Prompt: {clean_input}\")\n",
    "        print(\"Original output:\", original_output)\n",
    "        # print(f\"Original answer: {labels[:, 0]}. Target answer: {labels[:, 1]}\")\n",
    "\n",
    "        print(edited_model.generate(clean_input, max_new_tokens=5, do_sample=False))\n",
    "\n",
    "        score, magnitude = evaluate_counterfact_efficacy(edited_model, n, verbose=True)\n",
    "        evaluation_scores[\"Efficacy score\"].append(score.item())\n",
    "        evaluation_scores[\"Efficacy magnitude\"].append(magnitude.item())\n",
    "\n",
    "        score, magnitude = evaluate_counterfact_paraphrased(edited_model, n, verbose=False)\n",
    "        evaluation_scores[\"Generalisation score\"].append(score.item())\n",
    "        evaluation_scores[\"Generalisation magnitude\"].append(magnitude.item())\n",
    "\n",
    "        score, magnitude = evaluate_counterfact_neighborhood(edited_model, n, verbose=False)\n",
    "        evaluation_scores[\"Specificity score\"].append(score.item())\n",
    "        evaluation_scores[\"Specificity magnitude\"].append(magnitude.item())\n",
    "\n",
    "        consistency_score = evaluate_consistency(model, n, verbose=False)\n",
    "        evaluation_scores[\"Consistency score\"].append(score.item())\n",
    "        evaluation_scores[\"Consistency magnitude\"].append(magnitude.item())\n",
    "\n",
    "    if n + 1 >= n_samples: break\n",
    "\n",
    "evaluation_df = pd.DataFrame(evaluation_scores)\n",
    "evaluation_df.to_csv('results/counterfact/evaluation.csv')"
   ]
  },
  {
   "cell_type": "markdown",
   "id": "8cdc4b86",
   "metadata": {},
   "source": [
    "## Evaluation\n",
    "\n",
    "For each sample, we calculate the efficacy, generalisability, specificity and consistency for:\n",
    "\n",
    "- The original models' outputs\n",
    "- The edited model's outputs\n"
   ]
  },
  {
   "cell_type": "code",
   "execution_count": 75,
   "id": "77adc94e",
   "metadata": {},
   "outputs": [
    {
     "data": {
      "text/html": [
       "<div>\n",
       "<style scoped>\n",
       "    .dataframe tbody tr th:only-of-type {\n",
       "        vertical-align: middle;\n",
       "    }\n",
       "\n",
       "    .dataframe tbody tr th {\n",
       "        vertical-align: top;\n",
       "    }\n",
       "\n",
       "    .dataframe thead th {\n",
       "        text-align: right;\n",
       "    }\n",
       "</style>\n",
       "<table border=\"1\" class=\"dataframe\">\n",
       "  <thead>\n",
       "    <tr style=\"text-align: right;\">\n",
       "      <th></th>\n",
       "      <th>Efficacy score</th>\n",
       "      <th>Efficacy magnitude</th>\n",
       "      <th>Generalisation score</th>\n",
       "      <th>Generalisation magnitude</th>\n",
       "      <th>Specificity score</th>\n",
       "      <th>Specificity magnitude</th>\n",
       "      <th>Consistency score</th>\n",
       "      <th>Consistency magnitude</th>\n",
       "    </tr>\n",
       "  </thead>\n",
       "  <tbody>\n",
       "    <tr>\n",
       "      <th>0</th>\n",
       "      <td>1.0</td>\n",
       "      <td>0.000148</td>\n",
       "      <td>1.0</td>\n",
       "      <td>0.000099</td>\n",
       "      <td>1.0</td>\n",
       "      <td>0.000164</td>\n",
       "      <td>1.0</td>\n",
       "      <td>0.000164</td>\n",
       "    </tr>\n",
       "    <tr>\n",
       "      <th>1</th>\n",
       "      <td>1.0</td>\n",
       "      <td>0.000020</td>\n",
       "      <td>1.0</td>\n",
       "      <td>0.000038</td>\n",
       "      <td>1.0</td>\n",
       "      <td>0.000367</td>\n",
       "      <td>1.0</td>\n",
       "      <td>0.000367</td>\n",
       "    </tr>\n",
       "    <tr>\n",
       "      <th>2</th>\n",
       "      <td>1.0</td>\n",
       "      <td>0.000063</td>\n",
       "      <td>1.0</td>\n",
       "      <td>0.000264</td>\n",
       "      <td>1.0</td>\n",
       "      <td>0.000456</td>\n",
       "      <td>1.0</td>\n",
       "      <td>0.000456</td>\n",
       "    </tr>\n",
       "    <tr>\n",
       "      <th>3</th>\n",
       "      <td>1.0</td>\n",
       "      <td>0.000573</td>\n",
       "      <td>0.5</td>\n",
       "      <td>-0.000062</td>\n",
       "      <td>1.0</td>\n",
       "      <td>0.000825</td>\n",
       "      <td>1.0</td>\n",
       "      <td>0.000825</td>\n",
       "    </tr>\n",
       "    <tr>\n",
       "      <th>4</th>\n",
       "      <td>0.3</td>\n",
       "      <td>0.000016</td>\n",
       "      <td>0.5</td>\n",
       "      <td>0.000071</td>\n",
       "      <td>0.6</td>\n",
       "      <td>0.003349</td>\n",
       "      <td>0.6</td>\n",
       "      <td>0.003349</td>\n",
       "    </tr>\n",
       "  </tbody>\n",
       "</table>\n",
       "</div>"
      ],
      "text/plain": [
       "   Efficacy score  Efficacy magnitude  Generalisation score  \\\n",
       "0             1.0            0.000148                   1.0   \n",
       "1             1.0            0.000020                   1.0   \n",
       "2             1.0            0.000063                   1.0   \n",
       "3             1.0            0.000573                   0.5   \n",
       "4             0.3            0.000016                   0.5   \n",
       "\n",
       "   Generalisation magnitude  Specificity score  Specificity magnitude  \\\n",
       "0                  0.000099                1.0               0.000164   \n",
       "1                  0.000038                1.0               0.000367   \n",
       "2                  0.000264                1.0               0.000456   \n",
       "3                 -0.000062                1.0               0.000825   \n",
       "4                  0.000071                0.6               0.003349   \n",
       "\n",
       "   Consistency score  Consistency magnitude  \n",
       "0                1.0               0.000164  \n",
       "1                1.0               0.000367  \n",
       "2                1.0               0.000456  \n",
       "3                1.0               0.000825  \n",
       "4                0.6               0.003349  "
      ]
     },
     "execution_count": 75,
     "metadata": {},
     "output_type": "execute_result"
    }
   ],
   "source": [
    "evaluation_df.head()"
   ]
  }
 ],
 "metadata": {
  "kernelspec": {
   "display_name": "fypvenv",
   "language": "python",
   "name": "python3"
  },
  "language_info": {
   "codemirror_mode": {
    "name": "ipython",
    "version": 3
   },
   "file_extension": ".py",
   "mimetype": "text/x-python",
   "name": "python",
   "nbconvert_exporter": "python",
   "pygments_lexer": "ipython3",
   "version": "3.12.3"
  }
 },
 "nbformat": 4,
 "nbformat_minor": 5
}
